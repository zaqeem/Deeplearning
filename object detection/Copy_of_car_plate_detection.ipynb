{
  "metadata": {
    "kernelspec": {
      "display_name": "Python 3",
      "name": "python3"
    },
    "language_info": {
      "name": "python",
      "version": "3.10.12",
      "mimetype": "text/x-python",
      "codemirror_mode": {
        "name": "ipython",
        "version": 3
      },
      "pygments_lexer": "ipython3",
      "nbconvert_exporter": "python",
      "file_extension": ".py"
    },
    "kaggle": {
      "accelerator": "nvidiaTeslaT4",
      "dataSources": [
        {
          "sourceId": 1203932,
          "sourceType": "datasetVersion",
          "datasetId": 686454
        }
      ],
      "dockerImageVersionId": 30887,
      "isInternetEnabled": true,
      "language": "python",
      "sourceType": "notebook",
      "isGpuEnabled": true
    },
    "colab": {
      "provenance": [],
      "gpuType": "T4"
    },
    "accelerator": "GPU"
  },
  "nbformat_minor": 0,
  "nbformat": 4,
  "cells": [
    {
      "source": [
        "!kaggle datasets download -d andrewmvd/car-plate-detection\n"
      ],
      "metadata": {
        "colab": {
          "base_uri": "https://localhost:8080/"
        },
        "id": "HdJg25OwlKAH",
        "outputId": "9a9e92f4-abea-49b2-df7b-097425967c80"
      },
      "cell_type": "code",
      "outputs": [
        {
          "output_type": "stream",
          "name": "stdout",
          "text": [
            "Dataset URL: https://www.kaggle.com/datasets/andrewmvd/car-plate-detection\n",
            "License(s): CC0-1.0\n",
            "Downloading car-plate-detection.zip to /content\n",
            " 99% 202M/203M [00:09<00:00, 24.0MB/s]\n",
            "100% 203M/203M [00:09<00:00, 21.4MB/s]\n"
          ]
        }
      ],
      "execution_count": null
    },
    {
      "cell_type": "code",
      "source": [
        "!unzip -q car-plate-detection.zip -d /content/car_plate_dataset\n"
      ],
      "metadata": {
        "_uuid": "8f2839f25d086af736a60e9eeb907d3b93b6e0e5",
        "_cell_guid": "b1076dfc-b9ad-4769-8c92-a6c4dae69d19",
        "trusted": true,
        "execution": {
          "iopub.status.busy": "2025-02-09T05:22:03.799145Z",
          "iopub.execute_input": "2025-02-09T05:22:03.799412Z",
          "iopub.status.idle": "2025-02-09T05:22:06.620855Z",
          "shell.execute_reply.started": "2025-02-09T05:22:03.799357Z",
          "shell.execute_reply": "2025-02-09T05:22:06.619791Z"
        },
        "id": "8BD1_b1ClKAK"
      },
      "outputs": [],
      "execution_count": null
    },
    {
      "cell_type": "code",
      "source": [
        "import os\n",
        "import cv2\n",
        "import shutil\n",
        "import numpy as np\n",
        "import pandas as pd\n",
        "from glob import glob\n",
        "import matplotlib.pyplot as plt\n",
        "import xml.etree.ElementTree as xet\n",
        "from sklearn.model_selection import train_test_split\n",
        "import torch\n",
        "print(f'{torch.cuda.is_available() =  }')\n",
        "print(f'{torch.cuda.device_count() =}')"
      ],
      "metadata": {
        "trusted": true,
        "execution": {
          "iopub.status.busy": "2025-02-09T05:28:40.389556Z",
          "iopub.execute_input": "2025-02-09T05:28:40.389887Z",
          "iopub.status.idle": "2025-02-09T05:28:40.430467Z",
          "shell.execute_reply.started": "2025-02-09T05:28:40.389862Z",
          "shell.execute_reply": "2025-02-09T05:28:40.429637Z"
        },
        "colab": {
          "base_uri": "https://localhost:8080/"
        },
        "id": "srG5nIWWlKAM",
        "outputId": "479553f9-ca76-4c22-8d1c-0ab87900b965"
      },
      "outputs": [
        {
          "output_type": "stream",
          "name": "stdout",
          "text": [
            "torch.cuda.is_available() =  True\n",
            "torch.cuda.device_count() =1\n"
          ]
        }
      ],
      "execution_count": null
    },
    {
      "cell_type": "code",
      "source": [
        "! pip install ultralytics"
      ],
      "metadata": {
        "trusted": true,
        "execution": {
          "iopub.status.busy": "2025-02-09T05:30:04.984493Z",
          "iopub.execute_input": "2025-02-09T05:30:04.984822Z",
          "iopub.status.idle": "2025-02-09T05:30:10.922785Z",
          "shell.execute_reply.started": "2025-02-09T05:30:04.984794Z",
          "shell.execute_reply": "2025-02-09T05:30:10.921781Z"
        },
        "colab": {
          "base_uri": "https://localhost:8080/"
        },
        "id": "3hoL3JgSlKAN",
        "outputId": "29ebb895-b0ff-402a-fd57-308907569172"
      },
      "outputs": [
        {
          "output_type": "stream",
          "name": "stdout",
          "text": [
            "Collecting ultralytics\n",
            "  Downloading ultralytics-8.3.73-py3-none-any.whl.metadata (35 kB)\n",
            "Requirement already satisfied: numpy<=2.1.1,>=1.23.0 in /usr/local/lib/python3.11/dist-packages (from ultralytics) (1.26.4)\n",
            "Requirement already satisfied: matplotlib>=3.3.0 in /usr/local/lib/python3.11/dist-packages (from ultralytics) (3.10.0)\n",
            "Requirement already satisfied: opencv-python>=4.6.0 in /usr/local/lib/python3.11/dist-packages (from ultralytics) (4.11.0.86)\n",
            "Requirement already satisfied: pillow>=7.1.2 in /usr/local/lib/python3.11/dist-packages (from ultralytics) (11.1.0)\n",
            "Requirement already satisfied: pyyaml>=5.3.1 in /usr/local/lib/python3.11/dist-packages (from ultralytics) (6.0.2)\n",
            "Requirement already satisfied: requests>=2.23.0 in /usr/local/lib/python3.11/dist-packages (from ultralytics) (2.32.3)\n",
            "Requirement already satisfied: scipy>=1.4.1 in /usr/local/lib/python3.11/dist-packages (from ultralytics) (1.13.1)\n",
            "Requirement already satisfied: torch>=1.8.0 in /usr/local/lib/python3.11/dist-packages (from ultralytics) (2.5.1+cu124)\n",
            "Requirement already satisfied: torchvision>=0.9.0 in /usr/local/lib/python3.11/dist-packages (from ultralytics) (0.20.1+cu124)\n",
            "Requirement already satisfied: tqdm>=4.64.0 in /usr/local/lib/python3.11/dist-packages (from ultralytics) (4.67.1)\n",
            "Requirement already satisfied: psutil in /usr/local/lib/python3.11/dist-packages (from ultralytics) (5.9.5)\n",
            "Requirement already satisfied: py-cpuinfo in /usr/local/lib/python3.11/dist-packages (from ultralytics) (9.0.0)\n",
            "Requirement already satisfied: pandas>=1.1.4 in /usr/local/lib/python3.11/dist-packages (from ultralytics) (2.2.2)\n",
            "Requirement already satisfied: seaborn>=0.11.0 in /usr/local/lib/python3.11/dist-packages (from ultralytics) (0.13.2)\n",
            "Collecting ultralytics-thop>=2.0.0 (from ultralytics)\n",
            "  Downloading ultralytics_thop-2.0.14-py3-none-any.whl.metadata (9.4 kB)\n",
            "Requirement already satisfied: contourpy>=1.0.1 in /usr/local/lib/python3.11/dist-packages (from matplotlib>=3.3.0->ultralytics) (1.3.1)\n",
            "Requirement already satisfied: cycler>=0.10 in /usr/local/lib/python3.11/dist-packages (from matplotlib>=3.3.0->ultralytics) (0.12.1)\n",
            "Requirement already satisfied: fonttools>=4.22.0 in /usr/local/lib/python3.11/dist-packages (from matplotlib>=3.3.0->ultralytics) (4.55.8)\n",
            "Requirement already satisfied: kiwisolver>=1.3.1 in /usr/local/lib/python3.11/dist-packages (from matplotlib>=3.3.0->ultralytics) (1.4.8)\n",
            "Requirement already satisfied: packaging>=20.0 in /usr/local/lib/python3.11/dist-packages (from matplotlib>=3.3.0->ultralytics) (24.2)\n",
            "Requirement already satisfied: pyparsing>=2.3.1 in /usr/local/lib/python3.11/dist-packages (from matplotlib>=3.3.0->ultralytics) (3.2.1)\n",
            "Requirement already satisfied: python-dateutil>=2.7 in /usr/local/lib/python3.11/dist-packages (from matplotlib>=3.3.0->ultralytics) (2.8.2)\n",
            "Requirement already satisfied: pytz>=2020.1 in /usr/local/lib/python3.11/dist-packages (from pandas>=1.1.4->ultralytics) (2025.1)\n",
            "Requirement already satisfied: tzdata>=2022.7 in /usr/local/lib/python3.11/dist-packages (from pandas>=1.1.4->ultralytics) (2025.1)\n",
            "Requirement already satisfied: charset-normalizer<4,>=2 in /usr/local/lib/python3.11/dist-packages (from requests>=2.23.0->ultralytics) (3.4.1)\n",
            "Requirement already satisfied: idna<4,>=2.5 in /usr/local/lib/python3.11/dist-packages (from requests>=2.23.0->ultralytics) (3.10)\n",
            "Requirement already satisfied: urllib3<3,>=1.21.1 in /usr/local/lib/python3.11/dist-packages (from requests>=2.23.0->ultralytics) (2.3.0)\n",
            "Requirement already satisfied: certifi>=2017.4.17 in /usr/local/lib/python3.11/dist-packages (from requests>=2.23.0->ultralytics) (2025.1.31)\n",
            "Requirement already satisfied: filelock in /usr/local/lib/python3.11/dist-packages (from torch>=1.8.0->ultralytics) (3.17.0)\n",
            "Requirement already satisfied: typing-extensions>=4.8.0 in /usr/local/lib/python3.11/dist-packages (from torch>=1.8.0->ultralytics) (4.12.2)\n",
            "Requirement already satisfied: networkx in /usr/local/lib/python3.11/dist-packages (from torch>=1.8.0->ultralytics) (3.4.2)\n",
            "Requirement already satisfied: jinja2 in /usr/local/lib/python3.11/dist-packages (from torch>=1.8.0->ultralytics) (3.1.5)\n",
            "Requirement already satisfied: fsspec in /usr/local/lib/python3.11/dist-packages (from torch>=1.8.0->ultralytics) (2024.10.0)\n",
            "Collecting nvidia-cuda-nvrtc-cu12==12.4.127 (from torch>=1.8.0->ultralytics)\n",
            "  Downloading nvidia_cuda_nvrtc_cu12-12.4.127-py3-none-manylinux2014_x86_64.whl.metadata (1.5 kB)\n",
            "Collecting nvidia-cuda-runtime-cu12==12.4.127 (from torch>=1.8.0->ultralytics)\n",
            "  Downloading nvidia_cuda_runtime_cu12-12.4.127-py3-none-manylinux2014_x86_64.whl.metadata (1.5 kB)\n",
            "Collecting nvidia-cuda-cupti-cu12==12.4.127 (from torch>=1.8.0->ultralytics)\n",
            "  Downloading nvidia_cuda_cupti_cu12-12.4.127-py3-none-manylinux2014_x86_64.whl.metadata (1.6 kB)\n",
            "Collecting nvidia-cudnn-cu12==9.1.0.70 (from torch>=1.8.0->ultralytics)\n",
            "  Downloading nvidia_cudnn_cu12-9.1.0.70-py3-none-manylinux2014_x86_64.whl.metadata (1.6 kB)\n",
            "Collecting nvidia-cublas-cu12==12.4.5.8 (from torch>=1.8.0->ultralytics)\n",
            "  Downloading nvidia_cublas_cu12-12.4.5.8-py3-none-manylinux2014_x86_64.whl.metadata (1.5 kB)\n",
            "Collecting nvidia-cufft-cu12==11.2.1.3 (from torch>=1.8.0->ultralytics)\n",
            "  Downloading nvidia_cufft_cu12-11.2.1.3-py3-none-manylinux2014_x86_64.whl.metadata (1.5 kB)\n",
            "Collecting nvidia-curand-cu12==10.3.5.147 (from torch>=1.8.0->ultralytics)\n",
            "  Downloading nvidia_curand_cu12-10.3.5.147-py3-none-manylinux2014_x86_64.whl.metadata (1.5 kB)\n",
            "Collecting nvidia-cusolver-cu12==11.6.1.9 (from torch>=1.8.0->ultralytics)\n",
            "  Downloading nvidia_cusolver_cu12-11.6.1.9-py3-none-manylinux2014_x86_64.whl.metadata (1.6 kB)\n",
            "Collecting nvidia-cusparse-cu12==12.3.1.170 (from torch>=1.8.0->ultralytics)\n",
            "  Downloading nvidia_cusparse_cu12-12.3.1.170-py3-none-manylinux2014_x86_64.whl.metadata (1.6 kB)\n",
            "Requirement already satisfied: nvidia-nccl-cu12==2.21.5 in /usr/local/lib/python3.11/dist-packages (from torch>=1.8.0->ultralytics) (2.21.5)\n",
            "Requirement already satisfied: nvidia-nvtx-cu12==12.4.127 in /usr/local/lib/python3.11/dist-packages (from torch>=1.8.0->ultralytics) (12.4.127)\n",
            "Collecting nvidia-nvjitlink-cu12==12.4.127 (from torch>=1.8.0->ultralytics)\n",
            "  Downloading nvidia_nvjitlink_cu12-12.4.127-py3-none-manylinux2014_x86_64.whl.metadata (1.5 kB)\n",
            "Requirement already satisfied: triton==3.1.0 in /usr/local/lib/python3.11/dist-packages (from torch>=1.8.0->ultralytics) (3.1.0)\n",
            "Requirement already satisfied: sympy==1.13.1 in /usr/local/lib/python3.11/dist-packages (from torch>=1.8.0->ultralytics) (1.13.1)\n",
            "Requirement already satisfied: mpmath<1.4,>=1.1.0 in /usr/local/lib/python3.11/dist-packages (from sympy==1.13.1->torch>=1.8.0->ultralytics) (1.3.0)\n",
            "Requirement already satisfied: six>=1.5 in /usr/local/lib/python3.11/dist-packages (from python-dateutil>=2.7->matplotlib>=3.3.0->ultralytics) (1.17.0)\n",
            "Requirement already satisfied: MarkupSafe>=2.0 in /usr/local/lib/python3.11/dist-packages (from jinja2->torch>=1.8.0->ultralytics) (3.0.2)\n",
            "Downloading ultralytics-8.3.73-py3-none-any.whl (914 kB)\n",
            "\u001b[2K   \u001b[90m━━━━━━━━━━━━━━━━━━━━━━━━━━━━━━━━━━━━━━━━\u001b[0m \u001b[32m914.6/914.6 kB\u001b[0m \u001b[31m41.2 MB/s\u001b[0m eta \u001b[36m0:00:00\u001b[0m\n",
            "\u001b[?25hDownloading nvidia_cublas_cu12-12.4.5.8-py3-none-manylinux2014_x86_64.whl (363.4 MB)\n",
            "\u001b[2K   \u001b[90m━━━━━━━━━━━━━━━━━━━━━━━━━━━━━━━━━━━━━━━━\u001b[0m \u001b[32m363.4/363.4 MB\u001b[0m \u001b[31m3.9 MB/s\u001b[0m eta \u001b[36m0:00:00\u001b[0m\n",
            "\u001b[?25hDownloading nvidia_cuda_cupti_cu12-12.4.127-py3-none-manylinux2014_x86_64.whl (13.8 MB)\n",
            "\u001b[2K   \u001b[90m━━━━━━━━━━━━━━━━━━━━━━━━━━━━━━━━━━━━━━━━\u001b[0m \u001b[32m13.8/13.8 MB\u001b[0m \u001b[31m72.6 MB/s\u001b[0m eta \u001b[36m0:00:00\u001b[0m\n",
            "\u001b[?25hDownloading nvidia_cuda_nvrtc_cu12-12.4.127-py3-none-manylinux2014_x86_64.whl (24.6 MB)\n",
            "\u001b[2K   \u001b[90m━━━━━━━━━━━━━━━━━━━━━━━━━━━━━━━━━━━━━━━━\u001b[0m \u001b[32m24.6/24.6 MB\u001b[0m \u001b[31m63.4 MB/s\u001b[0m eta \u001b[36m0:00:00\u001b[0m\n",
            "\u001b[?25hDownloading nvidia_cuda_runtime_cu12-12.4.127-py3-none-manylinux2014_x86_64.whl (883 kB)\n",
            "\u001b[2K   \u001b[90m━━━━━━━━━━━━━━━━━━━━━━━━━━━━━━━━━━━━━━━━\u001b[0m \u001b[32m883.7/883.7 kB\u001b[0m \u001b[31m49.3 MB/s\u001b[0m eta \u001b[36m0:00:00\u001b[0m\n",
            "\u001b[?25hDownloading nvidia_cudnn_cu12-9.1.0.70-py3-none-manylinux2014_x86_64.whl (664.8 MB)\n",
            "\u001b[2K   \u001b[90m━━━━━━━━━━━━━━━━━━━━━━━━━━━━━━━━━━━━━━━━\u001b[0m \u001b[32m664.8/664.8 MB\u001b[0m \u001b[31m877.3 kB/s\u001b[0m eta \u001b[36m0:00:00\u001b[0m\n",
            "\u001b[?25hDownloading nvidia_cufft_cu12-11.2.1.3-py3-none-manylinux2014_x86_64.whl (211.5 MB)\n",
            "\u001b[2K   \u001b[90m━━━━━━━━━━━━━━━━━━━━━━━━━━━━━━━━━━━━━━━━\u001b[0m \u001b[32m211.5/211.5 MB\u001b[0m \u001b[31m6.1 MB/s\u001b[0m eta \u001b[36m0:00:00\u001b[0m\n",
            "\u001b[?25hDownloading nvidia_curand_cu12-10.3.5.147-py3-none-manylinux2014_x86_64.whl (56.3 MB)\n",
            "\u001b[2K   \u001b[90m━━━━━━━━━━━━━━━━━━━━━━━━━━━━━━━━━━━━━━━━\u001b[0m \u001b[32m56.3/56.3 MB\u001b[0m \u001b[31m14.9 MB/s\u001b[0m eta \u001b[36m0:00:00\u001b[0m\n",
            "\u001b[?25hDownloading nvidia_cusolver_cu12-11.6.1.9-py3-none-manylinux2014_x86_64.whl (127.9 MB)\n",
            "\u001b[2K   \u001b[90m━━━━━━━━━━━━━━━━━━━━━━━━━━━━━━━━━━━━━━━━\u001b[0m \u001b[32m127.9/127.9 MB\u001b[0m \u001b[31m7.6 MB/s\u001b[0m eta \u001b[36m0:00:00\u001b[0m\n",
            "\u001b[?25hDownloading nvidia_cusparse_cu12-12.3.1.170-py3-none-manylinux2014_x86_64.whl (207.5 MB)\n",
            "\u001b[2K   \u001b[90m━━━━━━━━━━━━━━━━━━━━━━━━━━━━━━━━━━━━━━━━\u001b[0m \u001b[32m207.5/207.5 MB\u001b[0m \u001b[31m6.1 MB/s\u001b[0m eta \u001b[36m0:00:00\u001b[0m\n",
            "\u001b[?25hDownloading nvidia_nvjitlink_cu12-12.4.127-py3-none-manylinux2014_x86_64.whl (21.1 MB)\n",
            "\u001b[2K   \u001b[90m━━━━━━━━━━━━━━━━━━━━━━━━━━━━━━━━━━━━━━━━\u001b[0m \u001b[32m21.1/21.1 MB\u001b[0m \u001b[31m82.5 MB/s\u001b[0m eta \u001b[36m0:00:00\u001b[0m\n",
            "\u001b[?25hDownloading ultralytics_thop-2.0.14-py3-none-any.whl (26 kB)\n",
            "Installing collected packages: nvidia-nvjitlink-cu12, nvidia-curand-cu12, nvidia-cufft-cu12, nvidia-cuda-runtime-cu12, nvidia-cuda-nvrtc-cu12, nvidia-cuda-cupti-cu12, nvidia-cublas-cu12, nvidia-cusparse-cu12, nvidia-cudnn-cu12, nvidia-cusolver-cu12, ultralytics-thop, ultralytics\n",
            "  Attempting uninstall: nvidia-nvjitlink-cu12\n",
            "    Found existing installation: nvidia-nvjitlink-cu12 12.5.82\n",
            "    Uninstalling nvidia-nvjitlink-cu12-12.5.82:\n",
            "      Successfully uninstalled nvidia-nvjitlink-cu12-12.5.82\n",
            "  Attempting uninstall: nvidia-curand-cu12\n",
            "    Found existing installation: nvidia-curand-cu12 10.3.6.82\n",
            "    Uninstalling nvidia-curand-cu12-10.3.6.82:\n",
            "      Successfully uninstalled nvidia-curand-cu12-10.3.6.82\n",
            "  Attempting uninstall: nvidia-cufft-cu12\n",
            "    Found existing installation: nvidia-cufft-cu12 11.2.3.61\n",
            "    Uninstalling nvidia-cufft-cu12-11.2.3.61:\n",
            "      Successfully uninstalled nvidia-cufft-cu12-11.2.3.61\n",
            "  Attempting uninstall: nvidia-cuda-runtime-cu12\n",
            "    Found existing installation: nvidia-cuda-runtime-cu12 12.5.82\n",
            "    Uninstalling nvidia-cuda-runtime-cu12-12.5.82:\n",
            "      Successfully uninstalled nvidia-cuda-runtime-cu12-12.5.82\n",
            "  Attempting uninstall: nvidia-cuda-nvrtc-cu12\n",
            "    Found existing installation: nvidia-cuda-nvrtc-cu12 12.5.82\n",
            "    Uninstalling nvidia-cuda-nvrtc-cu12-12.5.82:\n",
            "      Successfully uninstalled nvidia-cuda-nvrtc-cu12-12.5.82\n",
            "  Attempting uninstall: nvidia-cuda-cupti-cu12\n",
            "    Found existing installation: nvidia-cuda-cupti-cu12 12.5.82\n",
            "    Uninstalling nvidia-cuda-cupti-cu12-12.5.82:\n",
            "      Successfully uninstalled nvidia-cuda-cupti-cu12-12.5.82\n",
            "  Attempting uninstall: nvidia-cublas-cu12\n",
            "    Found existing installation: nvidia-cublas-cu12 12.5.3.2\n",
            "    Uninstalling nvidia-cublas-cu12-12.5.3.2:\n",
            "      Successfully uninstalled nvidia-cublas-cu12-12.5.3.2\n",
            "  Attempting uninstall: nvidia-cusparse-cu12\n",
            "    Found existing installation: nvidia-cusparse-cu12 12.5.1.3\n",
            "    Uninstalling nvidia-cusparse-cu12-12.5.1.3:\n",
            "      Successfully uninstalled nvidia-cusparse-cu12-12.5.1.3\n",
            "  Attempting uninstall: nvidia-cudnn-cu12\n",
            "    Found existing installation: nvidia-cudnn-cu12 9.3.0.75\n",
            "    Uninstalling nvidia-cudnn-cu12-9.3.0.75:\n",
            "      Successfully uninstalled nvidia-cudnn-cu12-9.3.0.75\n",
            "  Attempting uninstall: nvidia-cusolver-cu12\n",
            "    Found existing installation: nvidia-cusolver-cu12 11.6.3.83\n",
            "    Uninstalling nvidia-cusolver-cu12-11.6.3.83:\n",
            "      Successfully uninstalled nvidia-cusolver-cu12-11.6.3.83\n",
            "Successfully installed nvidia-cublas-cu12-12.4.5.8 nvidia-cuda-cupti-cu12-12.4.127 nvidia-cuda-nvrtc-cu12-12.4.127 nvidia-cuda-runtime-cu12-12.4.127 nvidia-cudnn-cu12-9.1.0.70 nvidia-cufft-cu12-11.2.1.3 nvidia-curand-cu12-10.3.5.147 nvidia-cusolver-cu12-11.6.1.9 nvidia-cusparse-cu12-12.3.1.170 nvidia-nvjitlink-cu12-12.4.127 ultralytics-8.3.73 ultralytics-thop-2.0.14\n"
          ]
        }
      ],
      "execution_count": null
    },
    {
      "cell_type": "code",
      "source": [
        "!pip install -U ipywidgets"
      ],
      "metadata": {
        "trusted": true,
        "execution": {
          "iopub.status.busy": "2025-02-09T05:31:19.798896Z",
          "iopub.execute_input": "2025-02-09T05:31:19.799231Z",
          "iopub.status.idle": "2025-02-09T05:31:23.773981Z",
          "shell.execute_reply.started": "2025-02-09T05:31:19.799199Z",
          "shell.execute_reply": "2025-02-09T05:31:23.772744Z"
        },
        "colab": {
          "base_uri": "https://localhost:8080/"
        },
        "id": "7kjxBT45lKAN",
        "outputId": "39f0d9c3-c134-48e2-856d-907200e2e5b3"
      },
      "outputs": [
        {
          "output_type": "stream",
          "name": "stdout",
          "text": [
            "Requirement already satisfied: ipywidgets in /usr/local/lib/python3.11/dist-packages (7.7.1)\n",
            "Collecting ipywidgets\n",
            "  Downloading ipywidgets-8.1.5-py3-none-any.whl.metadata (2.3 kB)\n",
            "Collecting comm>=0.1.3 (from ipywidgets)\n",
            "  Downloading comm-0.2.2-py3-none-any.whl.metadata (3.7 kB)\n",
            "Requirement already satisfied: ipython>=6.1.0 in /usr/local/lib/python3.11/dist-packages (from ipywidgets) (7.34.0)\n",
            "Requirement already satisfied: traitlets>=4.3.1 in /usr/local/lib/python3.11/dist-packages (from ipywidgets) (5.7.1)\n",
            "Collecting widgetsnbextension~=4.0.12 (from ipywidgets)\n",
            "  Downloading widgetsnbextension-4.0.13-py3-none-any.whl.metadata (1.6 kB)\n",
            "Requirement already satisfied: jupyterlab-widgets~=3.0.12 in /usr/local/lib/python3.11/dist-packages (from ipywidgets) (3.0.13)\n",
            "Requirement already satisfied: setuptools>=18.5 in /usr/local/lib/python3.11/dist-packages (from ipython>=6.1.0->ipywidgets) (75.1.0)\n",
            "Collecting jedi>=0.16 (from ipython>=6.1.0->ipywidgets)\n",
            "  Downloading jedi-0.19.2-py2.py3-none-any.whl.metadata (22 kB)\n",
            "Requirement already satisfied: decorator in /usr/local/lib/python3.11/dist-packages (from ipython>=6.1.0->ipywidgets) (4.4.2)\n",
            "Requirement already satisfied: pickleshare in /usr/local/lib/python3.11/dist-packages (from ipython>=6.1.0->ipywidgets) (0.7.5)\n",
            "Requirement already satisfied: prompt-toolkit!=3.0.0,!=3.0.1,<3.1.0,>=2.0.0 in /usr/local/lib/python3.11/dist-packages (from ipython>=6.1.0->ipywidgets) (3.0.50)\n",
            "Requirement already satisfied: pygments in /usr/local/lib/python3.11/dist-packages (from ipython>=6.1.0->ipywidgets) (2.18.0)\n",
            "Requirement already satisfied: backcall in /usr/local/lib/python3.11/dist-packages (from ipython>=6.1.0->ipywidgets) (0.2.0)\n",
            "Requirement already satisfied: matplotlib-inline in /usr/local/lib/python3.11/dist-packages (from ipython>=6.1.0->ipywidgets) (0.1.7)\n",
            "Requirement already satisfied: pexpect>4.3 in /usr/local/lib/python3.11/dist-packages (from ipython>=6.1.0->ipywidgets) (4.9.0)\n",
            "Requirement already satisfied: parso<0.9.0,>=0.8.4 in /usr/local/lib/python3.11/dist-packages (from jedi>=0.16->ipython>=6.1.0->ipywidgets) (0.8.4)\n",
            "Requirement already satisfied: ptyprocess>=0.5 in /usr/local/lib/python3.11/dist-packages (from pexpect>4.3->ipython>=6.1.0->ipywidgets) (0.7.0)\n",
            "Requirement already satisfied: wcwidth in /usr/local/lib/python3.11/dist-packages (from prompt-toolkit!=3.0.0,!=3.0.1,<3.1.0,>=2.0.0->ipython>=6.1.0->ipywidgets) (0.2.13)\n",
            "Downloading ipywidgets-8.1.5-py3-none-any.whl (139 kB)\n",
            "\u001b[2K   \u001b[90m━━━━━━━━━━━━━━━━━━━━━━━━━━━━━━━━━━━━━━━━\u001b[0m \u001b[32m139.8/139.8 kB\u001b[0m \u001b[31m13.3 MB/s\u001b[0m eta \u001b[36m0:00:00\u001b[0m\n",
            "\u001b[?25hDownloading comm-0.2.2-py3-none-any.whl (7.2 kB)\n",
            "Downloading widgetsnbextension-4.0.13-py3-none-any.whl (2.3 MB)\n",
            "\u001b[2K   \u001b[90m━━━━━━━━━━━━━━━━━━━━━━━━━━━━━━━━━━━━━━━━\u001b[0m \u001b[32m2.3/2.3 MB\u001b[0m \u001b[31m64.3 MB/s\u001b[0m eta \u001b[36m0:00:00\u001b[0m\n",
            "\u001b[?25hDownloading jedi-0.19.2-py2.py3-none-any.whl (1.6 MB)\n",
            "\u001b[2K   \u001b[90m━━━━━━━━━━━━━━━━━━━━━━━━━━━━━━━━━━━━━━━━\u001b[0m \u001b[32m1.6/1.6 MB\u001b[0m \u001b[31m61.4 MB/s\u001b[0m eta \u001b[36m0:00:00\u001b[0m\n",
            "\u001b[?25hInstalling collected packages: widgetsnbextension, jedi, comm, ipywidgets\n",
            "  Attempting uninstall: widgetsnbextension\n",
            "    Found existing installation: widgetsnbextension 3.6.10\n",
            "    Uninstalling widgetsnbextension-3.6.10:\n",
            "      Successfully uninstalled widgetsnbextension-3.6.10\n",
            "  Attempting uninstall: ipywidgets\n",
            "    Found existing installation: ipywidgets 7.7.1\n",
            "    Uninstalling ipywidgets-7.7.1:\n",
            "      Successfully uninstalled ipywidgets-7.7.1\n",
            "Successfully installed comm-0.2.2 ipywidgets-8.1.5 jedi-0.19.2 widgetsnbextension-4.0.13\n"
          ]
        }
      ],
      "execution_count": null
    },
    {
      "cell_type": "code",
      "source": [
        "dataset_path='/content/car_plate_dataset'"
      ],
      "metadata": {
        "trusted": true,
        "execution": {
          "iopub.status.busy": "2025-02-09T05:32:02.355191Z",
          "iopub.execute_input": "2025-02-09T05:32:02.355579Z",
          "iopub.status.idle": "2025-02-09T05:32:02.360299Z",
          "shell.execute_reply.started": "2025-02-09T05:32:02.355543Z",
          "shell.execute_reply": "2025-02-09T05:32:02.35931Z"
        },
        "id": "Ef_frsUTlKAO"
      },
      "outputs": [],
      "execution_count": null
    },
    {
      "cell_type": "code",
      "source": [
        "import re\n",
        "\n",
        "def the_number_in_the_string(filename):\n",
        "    match=re.search(r'(\\d+)',filename)\n",
        "    if match:\n",
        "        return int(match.group(0))\n",
        "    else:\n",
        "        return 0"
      ],
      "metadata": {
        "trusted": true,
        "execution": {
          "iopub.status.busy": "2025-02-09T05:36:26.749321Z",
          "iopub.execute_input": "2025-02-09T05:36:26.749713Z",
          "iopub.status.idle": "2025-02-09T05:36:26.754388Z",
          "shell.execute_reply.started": "2025-02-09T05:36:26.749688Z",
          "shell.execute_reply": "2025-02-09T05:36:26.753254Z"
        },
        "id": "aekEG7HtlKAO"
      },
      "outputs": [],
      "execution_count": null
    },
    {
      "cell_type": "code",
      "source": [
        "print(the_number_in_the_string('file123.txt'))"
      ],
      "metadata": {
        "trusted": true,
        "execution": {
          "iopub.status.busy": "2025-02-09T05:36:54.564844Z",
          "iopub.execute_input": "2025-02-09T05:36:54.56517Z",
          "iopub.status.idle": "2025-02-09T05:36:54.569778Z",
          "shell.execute_reply.started": "2025-02-09T05:36:54.565142Z",
          "shell.execute_reply": "2025-02-09T05:36:54.568809Z"
        },
        "colab": {
          "base_uri": "https://localhost:8080/"
        },
        "id": "GCHpKt6BlKAP",
        "outputId": "afb7d59e-a42e-42e3-cd66-b38669098152"
      },
      "outputs": [
        {
          "output_type": "stream",
          "name": "stdout",
          "text": [
            "123\n"
          ]
        }
      ],
      "execution_count": null
    },
    {
      "cell_type": "code",
      "source": [
        "labels_dict=dict(\n",
        "    img_path=[],\n",
        "    xmin=[],\n",
        "    xmax=[],\n",
        "    ymin=[],\n",
        "    ymax=[],\n",
        "    img_w=[],\n",
        "    img_h=[]\n",
        ")"
      ],
      "metadata": {
        "trusted": true,
        "execution": {
          "iopub.status.busy": "2025-02-09T06:05:34.785229Z",
          "iopub.execute_input": "2025-02-09T06:05:34.785609Z",
          "iopub.status.idle": "2025-02-09T06:05:34.790049Z",
          "shell.execute_reply.started": "2025-02-09T06:05:34.785576Z",
          "shell.execute_reply": "2025-02-09T06:05:34.789072Z"
        },
        "id": "4Ozd63TulKAP"
      },
      "outputs": [],
      "execution_count": null
    },
    {
      "cell_type": "code",
      "source": [
        "labels_dict"
      ],
      "metadata": {
        "trusted": true,
        "execution": {
          "iopub.status.busy": "2025-02-09T06:05:35.223174Z",
          "iopub.execute_input": "2025-02-09T06:05:35.223481Z",
          "iopub.status.idle": "2025-02-09T06:05:35.229136Z",
          "shell.execute_reply.started": "2025-02-09T06:05:35.223457Z",
          "shell.execute_reply": "2025-02-09T06:05:35.22831Z"
        },
        "colab": {
          "base_uri": "https://localhost:8080/"
        },
        "id": "aDJEci1zlKAP",
        "outputId": "577cfd37-02a2-4a39-cdbb-1e112bdcfaf7"
      },
      "outputs": [
        {
          "output_type": "execute_result",
          "data": {
            "text/plain": [
              "{'img_path': [],\n",
              " 'xmin': [],\n",
              " 'xmax': [],\n",
              " 'ymin': [],\n",
              " 'ymax': [],\n",
              " 'img_w': [],\n",
              " 'img_h': []}"
            ]
          },
          "metadata": {},
          "execution_count": 29
        }
      ],
      "execution_count": null
    },
    {
      "cell_type": "code",
      "source": [
        "xml_files=glob(f'{dataset_path}/annotations/*.xml')\n",
        "xml_files"
      ],
      "metadata": {
        "trusted": true,
        "execution": {
          "iopub.status.busy": "2025-02-09T06:05:35.794265Z",
          "iopub.execute_input": "2025-02-09T06:05:35.794608Z",
          "iopub.status.idle": "2025-02-09T06:05:35.815017Z",
          "shell.execute_reply.started": "2025-02-09T06:05:35.794578Z",
          "shell.execute_reply": "2025-02-09T06:05:35.814236Z"
        },
        "colab": {
          "base_uri": "https://localhost:8080/"
        },
        "id": "mwgYbzHNlKAQ",
        "outputId": "fd9aa811-04fe-47a9-e724-14571159d308"
      },
      "outputs": [
        {
          "output_type": "execute_result",
          "data": {
            "text/plain": [
              "['/content/car_plate_dataset/annotations/Cars217.xml',\n",
              " '/content/car_plate_dataset/annotations/Cars336.xml',\n",
              " '/content/car_plate_dataset/annotations/Cars233.xml',\n",
              " '/content/car_plate_dataset/annotations/Cars106.xml',\n",
              " '/content/car_plate_dataset/annotations/Cars420.xml',\n",
              " '/content/car_plate_dataset/annotations/Cars75.xml',\n",
              " '/content/car_plate_dataset/annotations/Cars159.xml',\n",
              " '/content/car_plate_dataset/annotations/Cars129.xml',\n",
              " '/content/car_plate_dataset/annotations/Cars20.xml',\n",
              " '/content/car_plate_dataset/annotations/Cars147.xml',\n",
              " '/content/car_plate_dataset/annotations/Cars273.xml',\n",
              " '/content/car_plate_dataset/annotations/Cars169.xml',\n",
              " '/content/car_plate_dataset/annotations/Cars353.xml',\n",
              " '/content/car_plate_dataset/annotations/Cars384.xml',\n",
              " '/content/car_plate_dataset/annotations/Cars261.xml',\n",
              " '/content/car_plate_dataset/annotations/Cars418.xml',\n",
              " '/content/car_plate_dataset/annotations/Cars392.xml',\n",
              " '/content/car_plate_dataset/annotations/Cars314.xml',\n",
              " '/content/car_plate_dataset/annotations/Cars62.xml',\n",
              " '/content/car_plate_dataset/annotations/Cars200.xml',\n",
              " '/content/car_plate_dataset/annotations/Cars415.xml',\n",
              " '/content/car_plate_dataset/annotations/Cars227.xml',\n",
              " '/content/car_plate_dataset/annotations/Cars44.xml',\n",
              " '/content/car_plate_dataset/annotations/Cars338.xml',\n",
              " '/content/car_plate_dataset/annotations/Cars182.xml',\n",
              " '/content/car_plate_dataset/annotations/Cars199.xml',\n",
              " '/content/car_plate_dataset/annotations/Cars414.xml',\n",
              " '/content/car_plate_dataset/annotations/Cars64.xml',\n",
              " '/content/car_plate_dataset/annotations/Cars299.xml',\n",
              " '/content/car_plate_dataset/annotations/Cars298.xml',\n",
              " '/content/car_plate_dataset/annotations/Cars259.xml',\n",
              " '/content/car_plate_dataset/annotations/Cars220.xml',\n",
              " '/content/car_plate_dataset/annotations/Cars42.xml',\n",
              " '/content/car_plate_dataset/annotations/Cars31.xml',\n",
              " '/content/car_plate_dataset/annotations/Cars83.xml',\n",
              " '/content/car_plate_dataset/annotations/Cars180.xml',\n",
              " '/content/car_plate_dataset/annotations/Cars326.xml',\n",
              " '/content/car_plate_dataset/annotations/Cars113.xml',\n",
              " '/content/car_plate_dataset/annotations/Cars173.xml',\n",
              " '/content/car_plate_dataset/annotations/Cars90.xml',\n",
              " '/content/car_plate_dataset/annotations/Cars163.xml',\n",
              " '/content/car_plate_dataset/annotations/Cars318.xml',\n",
              " '/content/car_plate_dataset/annotations/Cars101.xml',\n",
              " '/content/car_plate_dataset/annotations/Cars84.xml',\n",
              " '/content/car_plate_dataset/annotations/Cars46.xml',\n",
              " '/content/car_plate_dataset/annotations/Cars102.xml',\n",
              " '/content/car_plate_dataset/annotations/Cars126.xml',\n",
              " '/content/car_plate_dataset/annotations/Cars96.xml',\n",
              " '/content/car_plate_dataset/annotations/Cars161.xml',\n",
              " '/content/car_plate_dataset/annotations/Cars310.xml',\n",
              " '/content/car_plate_dataset/annotations/Cars89.xml',\n",
              " '/content/car_plate_dataset/annotations/Cars297.xml',\n",
              " '/content/car_plate_dataset/annotations/Cars50.xml',\n",
              " '/content/car_plate_dataset/annotations/Cars294.xml',\n",
              " '/content/car_plate_dataset/annotations/Cars412.xml',\n",
              " '/content/car_plate_dataset/annotations/Cars401.xml',\n",
              " '/content/car_plate_dataset/annotations/Cars332.xml',\n",
              " '/content/car_plate_dataset/annotations/Cars164.xml',\n",
              " '/content/car_plate_dataset/annotations/Cars381.xml',\n",
              " '/content/car_plate_dataset/annotations/Cars27.xml',\n",
              " '/content/car_plate_dataset/annotations/Cars187.xml',\n",
              " '/content/car_plate_dataset/annotations/Cars52.xml',\n",
              " '/content/car_plate_dataset/annotations/Cars347.xml',\n",
              " '/content/car_plate_dataset/annotations/Cars399.xml',\n",
              " '/content/car_plate_dataset/annotations/Cars38.xml',\n",
              " '/content/car_plate_dataset/annotations/Cars281.xml',\n",
              " '/content/car_plate_dataset/annotations/Cars424.xml',\n",
              " '/content/car_plate_dataset/annotations/Cars162.xml',\n",
              " '/content/car_plate_dataset/annotations/Cars409.xml',\n",
              " '/content/car_plate_dataset/annotations/Cars133.xml',\n",
              " '/content/car_plate_dataset/annotations/Cars425.xml',\n",
              " '/content/car_plate_dataset/annotations/Cars40.xml',\n",
              " '/content/car_plate_dataset/annotations/Cars111.xml',\n",
              " '/content/car_plate_dataset/annotations/Cars24.xml',\n",
              " '/content/car_plate_dataset/annotations/Cars121.xml',\n",
              " '/content/car_plate_dataset/annotations/Cars184.xml',\n",
              " '/content/car_plate_dataset/annotations/Cars317.xml',\n",
              " '/content/car_plate_dataset/annotations/Cars70.xml',\n",
              " '/content/car_plate_dataset/annotations/Cars257.xml',\n",
              " '/content/car_plate_dataset/annotations/Cars130.xml',\n",
              " '/content/car_plate_dataset/annotations/Cars26.xml',\n",
              " '/content/car_plate_dataset/annotations/Cars390.xml',\n",
              " '/content/car_plate_dataset/annotations/Cars211.xml',\n",
              " '/content/car_plate_dataset/annotations/Cars205.xml',\n",
              " '/content/car_plate_dataset/annotations/Cars34.xml',\n",
              " '/content/car_plate_dataset/annotations/Cars13.xml',\n",
              " '/content/car_plate_dataset/annotations/Cars371.xml',\n",
              " '/content/car_plate_dataset/annotations/Cars79.xml',\n",
              " '/content/car_plate_dataset/annotations/Cars16.xml',\n",
              " '/content/car_plate_dataset/annotations/Cars360.xml',\n",
              " '/content/car_plate_dataset/annotations/Cars189.xml',\n",
              " '/content/car_plate_dataset/annotations/Cars54.xml',\n",
              " '/content/car_plate_dataset/annotations/Cars275.xml',\n",
              " '/content/car_plate_dataset/annotations/Cars395.xml',\n",
              " '/content/car_plate_dataset/annotations/Cars166.xml',\n",
              " '/content/car_plate_dataset/annotations/Cars107.xml',\n",
              " '/content/car_plate_dataset/annotations/Cars362.xml',\n",
              " '/content/car_plate_dataset/annotations/Cars143.xml',\n",
              " '/content/car_plate_dataset/annotations/Cars313.xml',\n",
              " '/content/car_plate_dataset/annotations/Cars109.xml',\n",
              " '/content/car_plate_dataset/annotations/Cars231.xml',\n",
              " '/content/car_plate_dataset/annotations/Cars203.xml',\n",
              " '/content/car_plate_dataset/annotations/Cars65.xml',\n",
              " '/content/car_plate_dataset/annotations/Cars49.xml',\n",
              " '/content/car_plate_dataset/annotations/Cars58.xml',\n",
              " '/content/car_plate_dataset/annotations/Cars158.xml',\n",
              " '/content/car_plate_dataset/annotations/Cars3.xml',\n",
              " '/content/car_plate_dataset/annotations/Cars245.xml',\n",
              " '/content/car_plate_dataset/annotations/Cars328.xml',\n",
              " '/content/car_plate_dataset/annotations/Cars206.xml',\n",
              " '/content/car_plate_dataset/annotations/Cars398.xml',\n",
              " '/content/car_plate_dataset/annotations/Cars271.xml',\n",
              " '/content/car_plate_dataset/annotations/Cars323.xml',\n",
              " '/content/car_plate_dataset/annotations/Cars165.xml',\n",
              " '/content/car_plate_dataset/annotations/Cars356.xml',\n",
              " '/content/car_plate_dataset/annotations/Cars153.xml',\n",
              " '/content/car_plate_dataset/annotations/Cars110.xml',\n",
              " '/content/car_plate_dataset/annotations/Cars114.xml',\n",
              " '/content/car_plate_dataset/annotations/Cars47.xml',\n",
              " '/content/car_plate_dataset/annotations/Cars99.xml',\n",
              " '/content/car_plate_dataset/annotations/Cars214.xml',\n",
              " '/content/car_plate_dataset/annotations/Cars279.xml',\n",
              " '/content/car_plate_dataset/annotations/Cars330.xml',\n",
              " '/content/car_plate_dataset/annotations/Cars179.xml',\n",
              " '/content/car_plate_dataset/annotations/Cars212.xml',\n",
              " '/content/car_plate_dataset/annotations/Cars155.xml',\n",
              " '/content/car_plate_dataset/annotations/Cars149.xml',\n",
              " '/content/car_plate_dataset/annotations/Cars98.xml',\n",
              " '/content/car_plate_dataset/annotations/Cars358.xml',\n",
              " '/content/car_plate_dataset/annotations/Cars240.xml',\n",
              " '/content/car_plate_dataset/annotations/Cars421.xml',\n",
              " '/content/car_plate_dataset/annotations/Cars407.xml',\n",
              " '/content/car_plate_dataset/annotations/Cars315.xml',\n",
              " '/content/car_plate_dataset/annotations/Cars234.xml',\n",
              " '/content/car_plate_dataset/annotations/Cars428.xml',\n",
              " '/content/car_plate_dataset/annotations/Cars19.xml',\n",
              " '/content/car_plate_dataset/annotations/Cars66.xml',\n",
              " '/content/car_plate_dataset/annotations/Cars226.xml',\n",
              " '/content/car_plate_dataset/annotations/Cars97.xml',\n",
              " '/content/car_plate_dataset/annotations/Cars72.xml',\n",
              " '/content/car_plate_dataset/annotations/Cars115.xml',\n",
              " '/content/car_plate_dataset/annotations/Cars215.xml',\n",
              " '/content/car_plate_dataset/annotations/Cars372.xml',\n",
              " '/content/car_plate_dataset/annotations/Cars244.xml',\n",
              " '/content/car_plate_dataset/annotations/Cars117.xml',\n",
              " '/content/car_plate_dataset/annotations/Cars112.xml',\n",
              " '/content/car_plate_dataset/annotations/Cars373.xml',\n",
              " '/content/car_plate_dataset/annotations/Cars177.xml',\n",
              " '/content/car_plate_dataset/annotations/Cars116.xml',\n",
              " '/content/car_plate_dataset/annotations/Cars100.xml',\n",
              " '/content/car_plate_dataset/annotations/Cars250.xml',\n",
              " '/content/car_plate_dataset/annotations/Cars309.xml',\n",
              " '/content/car_plate_dataset/annotations/Cars386.xml',\n",
              " '/content/car_plate_dataset/annotations/Cars385.xml',\n",
              " '/content/car_plate_dataset/annotations/Cars228.xml',\n",
              " '/content/car_plate_dataset/annotations/Cars181.xml',\n",
              " '/content/car_plate_dataset/annotations/Cars191.xml',\n",
              " '/content/car_plate_dataset/annotations/Cars396.xml',\n",
              " '/content/car_plate_dataset/annotations/Cars431.xml',\n",
              " '/content/car_plate_dataset/annotations/Cars422.xml',\n",
              " '/content/car_plate_dataset/annotations/Cars432.xml',\n",
              " '/content/car_plate_dataset/annotations/Cars394.xml',\n",
              " '/content/car_plate_dataset/annotations/Cars131.xml',\n",
              " '/content/car_plate_dataset/annotations/Cars190.xml',\n",
              " '/content/car_plate_dataset/annotations/Cars37.xml',\n",
              " '/content/car_plate_dataset/annotations/Cars213.xml',\n",
              " '/content/car_plate_dataset/annotations/Cars122.xml',\n",
              " '/content/car_plate_dataset/annotations/Cars60.xml',\n",
              " '/content/car_plate_dataset/annotations/Cars175.xml',\n",
              " '/content/car_plate_dataset/annotations/Cars198.xml',\n",
              " '/content/car_plate_dataset/annotations/Cars268.xml',\n",
              " '/content/car_plate_dataset/annotations/Cars402.xml',\n",
              " '/content/car_plate_dataset/annotations/Cars419.xml',\n",
              " '/content/car_plate_dataset/annotations/Cars201.xml',\n",
              " '/content/car_plate_dataset/annotations/Cars144.xml',\n",
              " '/content/car_plate_dataset/annotations/Cars176.xml',\n",
              " '/content/car_plate_dataset/annotations/Cars264.xml',\n",
              " '/content/car_plate_dataset/annotations/Cars5.xml',\n",
              " '/content/car_plate_dataset/annotations/Cars118.xml',\n",
              " '/content/car_plate_dataset/annotations/Cars156.xml',\n",
              " '/content/car_plate_dataset/annotations/Cars35.xml',\n",
              " '/content/car_plate_dataset/annotations/Cars68.xml',\n",
              " '/content/car_plate_dataset/annotations/Cars237.xml',\n",
              " '/content/car_plate_dataset/annotations/Cars322.xml',\n",
              " '/content/car_plate_dataset/annotations/Cars61.xml',\n",
              " '/content/car_plate_dataset/annotations/Cars14.xml',\n",
              " '/content/car_plate_dataset/annotations/Cars276.xml',\n",
              " '/content/car_plate_dataset/annotations/Cars223.xml',\n",
              " '/content/car_plate_dataset/annotations/Cars306.xml',\n",
              " '/content/car_plate_dataset/annotations/Cars359.xml',\n",
              " '/content/car_plate_dataset/annotations/Cars142.xml',\n",
              " '/content/car_plate_dataset/annotations/Cars2.xml',\n",
              " '/content/car_plate_dataset/annotations/Cars193.xml',\n",
              " '/content/car_plate_dataset/annotations/Cars9.xml',\n",
              " '/content/car_plate_dataset/annotations/Cars320.xml',\n",
              " '/content/car_plate_dataset/annotations/Cars119.xml',\n",
              " '/content/car_plate_dataset/annotations/Cars324.xml',\n",
              " '/content/car_plate_dataset/annotations/Cars260.xml',\n",
              " '/content/car_plate_dataset/annotations/Cars284.xml',\n",
              " '/content/car_plate_dataset/annotations/Cars255.xml',\n",
              " '/content/car_plate_dataset/annotations/Cars417.xml',\n",
              " '/content/car_plate_dataset/annotations/Cars139.xml',\n",
              " '/content/car_plate_dataset/annotations/Cars145.xml',\n",
              " '/content/car_plate_dataset/annotations/Cars22.xml',\n",
              " '/content/car_plate_dataset/annotations/Cars348.xml',\n",
              " '/content/car_plate_dataset/annotations/Cars253.xml',\n",
              " '/content/car_plate_dataset/annotations/Cars81.xml',\n",
              " '/content/car_plate_dataset/annotations/Cars55.xml',\n",
              " '/content/car_plate_dataset/annotations/Cars78.xml',\n",
              " '/content/car_plate_dataset/annotations/Cars272.xml',\n",
              " '/content/car_plate_dataset/annotations/Cars219.xml',\n",
              " '/content/car_plate_dataset/annotations/Cars266.xml',\n",
              " '/content/car_plate_dataset/annotations/Cars307.xml',\n",
              " '/content/car_plate_dataset/annotations/Cars148.xml',\n",
              " '/content/car_plate_dataset/annotations/Cars67.xml',\n",
              " '/content/car_plate_dataset/annotations/Cars300.xml',\n",
              " '/content/car_plate_dataset/annotations/Cars311.xml',\n",
              " '/content/car_plate_dataset/annotations/Cars383.xml',\n",
              " '/content/car_plate_dataset/annotations/Cars400.xml',\n",
              " '/content/car_plate_dataset/annotations/Cars186.xml',\n",
              " '/content/car_plate_dataset/annotations/Cars251.xml',\n",
              " '/content/car_plate_dataset/annotations/Cars194.xml',\n",
              " '/content/car_plate_dataset/annotations/Cars286.xml',\n",
              " '/content/car_plate_dataset/annotations/Cars209.xml',\n",
              " '/content/car_plate_dataset/annotations/Cars41.xml',\n",
              " '/content/car_plate_dataset/annotations/Cars319.xml',\n",
              " '/content/car_plate_dataset/annotations/Cars185.xml',\n",
              " '/content/car_plate_dataset/annotations/Cars172.xml',\n",
              " '/content/car_plate_dataset/annotations/Cars103.xml',\n",
              " '/content/car_plate_dataset/annotations/Cars57.xml',\n",
              " '/content/car_plate_dataset/annotations/Cars157.xml',\n",
              " '/content/car_plate_dataset/annotations/Cars178.xml',\n",
              " '/content/car_plate_dataset/annotations/Cars11.xml',\n",
              " '/content/car_plate_dataset/annotations/Cars391.xml',\n",
              " '/content/car_plate_dataset/annotations/Cars341.xml',\n",
              " '/content/car_plate_dataset/annotations/Cars423.xml',\n",
              " '/content/car_plate_dataset/annotations/Cars267.xml',\n",
              " '/content/car_plate_dataset/annotations/Cars141.xml',\n",
              " '/content/car_plate_dataset/annotations/Cars77.xml',\n",
              " '/content/car_plate_dataset/annotations/Cars45.xml',\n",
              " '/content/car_plate_dataset/annotations/Cars30.xml',\n",
              " '/content/car_plate_dataset/annotations/Cars285.xml',\n",
              " '/content/car_plate_dataset/annotations/Cars247.xml',\n",
              " '/content/car_plate_dataset/annotations/Cars221.xml',\n",
              " '/content/car_plate_dataset/annotations/Cars312.xml',\n",
              " '/content/car_plate_dataset/annotations/Cars43.xml',\n",
              " '/content/car_plate_dataset/annotations/Cars146.xml',\n",
              " '/content/car_plate_dataset/annotations/Cars246.xml',\n",
              " '/content/car_plate_dataset/annotations/Cars85.xml',\n",
              " '/content/car_plate_dataset/annotations/Cars350.xml',\n",
              " '/content/car_plate_dataset/annotations/Cars416.xml',\n",
              " '/content/car_plate_dataset/annotations/Cars254.xml',\n",
              " '/content/car_plate_dataset/annotations/Cars192.xml',\n",
              " '/content/car_plate_dataset/annotations/Cars378.xml',\n",
              " '/content/car_plate_dataset/annotations/Cars86.xml',\n",
              " '/content/car_plate_dataset/annotations/Cars295.xml',\n",
              " '/content/car_plate_dataset/annotations/Cars410.xml',\n",
              " '/content/car_plate_dataset/annotations/Cars160.xml',\n",
              " '/content/car_plate_dataset/annotations/Cars204.xml',\n",
              " '/content/car_plate_dataset/annotations/Cars123.xml',\n",
              " '/content/car_plate_dataset/annotations/Cars361.xml',\n",
              " '/content/car_plate_dataset/annotations/Cars183.xml',\n",
              " '/content/car_plate_dataset/annotations/Cars389.xml',\n",
              " '/content/car_plate_dataset/annotations/Cars197.xml',\n",
              " '/content/car_plate_dataset/annotations/Cars23.xml',\n",
              " '/content/car_plate_dataset/annotations/Cars229.xml',\n",
              " '/content/car_plate_dataset/annotations/Cars124.xml',\n",
              " '/content/car_plate_dataset/annotations/Cars93.xml',\n",
              " '/content/car_plate_dataset/annotations/Cars365.xml',\n",
              " '/content/car_plate_dataset/annotations/Cars374.xml',\n",
              " '/content/car_plate_dataset/annotations/Cars406.xml',\n",
              " '/content/car_plate_dataset/annotations/Cars202.xml',\n",
              " '/content/car_plate_dataset/annotations/Cars36.xml',\n",
              " '/content/car_plate_dataset/annotations/Cars1.xml',\n",
              " '/content/car_plate_dataset/annotations/Cars151.xml',\n",
              " '/content/car_plate_dataset/annotations/Cars94.xml',\n",
              " '/content/car_plate_dataset/annotations/Cars87.xml',\n",
              " '/content/car_plate_dataset/annotations/Cars405.xml',\n",
              " '/content/car_plate_dataset/annotations/Cars92.xml',\n",
              " '/content/car_plate_dataset/annotations/Cars88.xml',\n",
              " '/content/car_plate_dataset/annotations/Cars331.xml',\n",
              " '/content/car_plate_dataset/annotations/Cars349.xml',\n",
              " '/content/car_plate_dataset/annotations/Cars282.xml',\n",
              " '/content/car_plate_dataset/annotations/Cars277.xml',\n",
              " '/content/car_plate_dataset/annotations/Cars256.xml',\n",
              " '/content/car_plate_dataset/annotations/Cars0.xml',\n",
              " '/content/car_plate_dataset/annotations/Cars413.xml',\n",
              " '/content/car_plate_dataset/annotations/Cars127.xml',\n",
              " '/content/car_plate_dataset/annotations/Cars48.xml',\n",
              " '/content/car_plate_dataset/annotations/Cars222.xml',\n",
              " '/content/car_plate_dataset/annotations/Cars74.xml',\n",
              " '/content/car_plate_dataset/annotations/Cars403.xml',\n",
              " '/content/car_plate_dataset/annotations/Cars342.xml',\n",
              " '/content/car_plate_dataset/annotations/Cars140.xml',\n",
              " '/content/car_plate_dataset/annotations/Cars135.xml',\n",
              " '/content/car_plate_dataset/annotations/Cars263.xml',\n",
              " '/content/car_plate_dataset/annotations/Cars15.xml',\n",
              " '/content/car_plate_dataset/annotations/Cars301.xml',\n",
              " '/content/car_plate_dataset/annotations/Cars53.xml',\n",
              " '/content/car_plate_dataset/annotations/Cars171.xml',\n",
              " '/content/car_plate_dataset/annotations/Cars134.xml',\n",
              " '/content/car_plate_dataset/annotations/Cars339.xml',\n",
              " '/content/car_plate_dataset/annotations/Cars302.xml',\n",
              " '/content/car_plate_dataset/annotations/Cars274.xml',\n",
              " '/content/car_plate_dataset/annotations/Cars292.xml',\n",
              " '/content/car_plate_dataset/annotations/Cars288.xml',\n",
              " '/content/car_plate_dataset/annotations/Cars303.xml',\n",
              " '/content/car_plate_dataset/annotations/Cars387.xml',\n",
              " '/content/car_plate_dataset/annotations/Cars168.xml',\n",
              " '/content/car_plate_dataset/annotations/Cars73.xml',\n",
              " '/content/car_plate_dataset/annotations/Cars51.xml',\n",
              " '/content/car_plate_dataset/annotations/Cars397.xml',\n",
              " '/content/car_plate_dataset/annotations/Cars105.xml',\n",
              " '/content/car_plate_dataset/annotations/Cars345.xml',\n",
              " '/content/car_plate_dataset/annotations/Cars363.xml',\n",
              " '/content/car_plate_dataset/annotations/Cars366.xml',\n",
              " '/content/car_plate_dataset/annotations/Cars56.xml',\n",
              " '/content/car_plate_dataset/annotations/Cars195.xml',\n",
              " '/content/car_plate_dataset/annotations/Cars376.xml',\n",
              " '/content/car_plate_dataset/annotations/Cars377.xml',\n",
              " '/content/car_plate_dataset/annotations/Cars167.xml',\n",
              " '/content/car_plate_dataset/annotations/Cars370.xml',\n",
              " '/content/car_plate_dataset/annotations/Cars17.xml',\n",
              " '/content/car_plate_dataset/annotations/Cars283.xml',\n",
              " '/content/car_plate_dataset/annotations/Cars304.xml',\n",
              " '/content/car_plate_dataset/annotations/Cars382.xml',\n",
              " '/content/car_plate_dataset/annotations/Cars218.xml',\n",
              " '/content/car_plate_dataset/annotations/Cars308.xml',\n",
              " '/content/car_plate_dataset/annotations/Cars152.xml',\n",
              " '/content/car_plate_dataset/annotations/Cars196.xml',\n",
              " '/content/car_plate_dataset/annotations/Cars354.xml',\n",
              " '/content/car_plate_dataset/annotations/Cars393.xml',\n",
              " '/content/car_plate_dataset/annotations/Cars430.xml',\n",
              " '/content/car_plate_dataset/annotations/Cars293.xml',\n",
              " '/content/car_plate_dataset/annotations/Cars344.xml',\n",
              " '/content/car_plate_dataset/annotations/Cars80.xml',\n",
              " '/content/car_plate_dataset/annotations/Cars8.xml',\n",
              " '/content/car_plate_dataset/annotations/Cars243.xml',\n",
              " '/content/car_plate_dataset/annotations/Cars28.xml',\n",
              " '/content/car_plate_dataset/annotations/Cars368.xml',\n",
              " '/content/car_plate_dataset/annotations/Cars154.xml',\n",
              " '/content/car_plate_dataset/annotations/Cars7.xml',\n",
              " '/content/car_plate_dataset/annotations/Cars329.xml',\n",
              " '/content/car_plate_dataset/annotations/Cars225.xml',\n",
              " '/content/car_plate_dataset/annotations/Cars305.xml',\n",
              " '/content/car_plate_dataset/annotations/Cars427.xml',\n",
              " '/content/car_plate_dataset/annotations/Cars265.xml',\n",
              " '/content/car_plate_dataset/annotations/Cars25.xml',\n",
              " '/content/car_plate_dataset/annotations/Cars216.xml',\n",
              " '/content/car_plate_dataset/annotations/Cars355.xml',\n",
              " '/content/car_plate_dataset/annotations/Cars12.xml',\n",
              " '/content/car_plate_dataset/annotations/Cars10.xml',\n",
              " '/content/car_plate_dataset/annotations/Cars235.xml',\n",
              " '/content/car_plate_dataset/annotations/Cars296.xml',\n",
              " '/content/car_plate_dataset/annotations/Cars262.xml',\n",
              " '/content/car_plate_dataset/annotations/Cars380.xml',\n",
              " '/content/car_plate_dataset/annotations/Cars426.xml',\n",
              " '/content/car_plate_dataset/annotations/Cars239.xml',\n",
              " '/content/car_plate_dataset/annotations/Cars63.xml',\n",
              " '/content/car_plate_dataset/annotations/Cars333.xml',\n",
              " '/content/car_plate_dataset/annotations/Cars408.xml',\n",
              " '/content/car_plate_dataset/annotations/Cars411.xml',\n",
              " '/content/car_plate_dataset/annotations/Cars82.xml',\n",
              " '/content/car_plate_dataset/annotations/Cars242.xml',\n",
              " '/content/car_plate_dataset/annotations/Cars125.xml',\n",
              " '/content/car_plate_dataset/annotations/Cars321.xml',\n",
              " '/content/car_plate_dataset/annotations/Cars120.xml',\n",
              " '/content/car_plate_dataset/annotations/Cars290.xml',\n",
              " '/content/car_plate_dataset/annotations/Cars343.xml',\n",
              " '/content/car_plate_dataset/annotations/Cars404.xml',\n",
              " '/content/car_plate_dataset/annotations/Cars346.xml',\n",
              " '/content/car_plate_dataset/annotations/Cars236.xml',\n",
              " '/content/car_plate_dataset/annotations/Cars18.xml',\n",
              " '/content/car_plate_dataset/annotations/Cars232.xml',\n",
              " '/content/car_plate_dataset/annotations/Cars287.xml',\n",
              " '/content/car_plate_dataset/annotations/Cars69.xml',\n",
              " '/content/car_plate_dataset/annotations/Cars337.xml',\n",
              " '/content/car_plate_dataset/annotations/Cars210.xml',\n",
              " '/content/car_plate_dataset/annotations/Cars188.xml',\n",
              " '/content/car_plate_dataset/annotations/Cars258.xml',\n",
              " '/content/car_plate_dataset/annotations/Cars128.xml',\n",
              " '/content/car_plate_dataset/annotations/Cars335.xml',\n",
              " '/content/car_plate_dataset/annotations/Cars4.xml',\n",
              " '/content/car_plate_dataset/annotations/Cars291.xml',\n",
              " '/content/car_plate_dataset/annotations/Cars174.xml',\n",
              " '/content/car_plate_dataset/annotations/Cars137.xml',\n",
              " '/content/car_plate_dataset/annotations/Cars208.xml',\n",
              " '/content/car_plate_dataset/annotations/Cars334.xml',\n",
              " '/content/car_plate_dataset/annotations/Cars364.xml',\n",
              " '/content/car_plate_dataset/annotations/Cars33.xml',\n",
              " '/content/car_plate_dataset/annotations/Cars108.xml',\n",
              " '/content/car_plate_dataset/annotations/Cars207.xml',\n",
              " '/content/car_plate_dataset/annotations/Cars249.xml',\n",
              " '/content/car_plate_dataset/annotations/Cars21.xml',\n",
              " '/content/car_plate_dataset/annotations/Cars71.xml',\n",
              " '/content/car_plate_dataset/annotations/Cars29.xml',\n",
              " '/content/car_plate_dataset/annotations/Cars104.xml',\n",
              " '/content/car_plate_dataset/annotations/Cars248.xml',\n",
              " '/content/car_plate_dataset/annotations/Cars6.xml',\n",
              " '/content/car_plate_dataset/annotations/Cars289.xml',\n",
              " '/content/car_plate_dataset/annotations/Cars91.xml',\n",
              " '/content/car_plate_dataset/annotations/Cars429.xml',\n",
              " '/content/car_plate_dataset/annotations/Cars340.xml',\n",
              " '/content/car_plate_dataset/annotations/Cars230.xml',\n",
              " '/content/car_plate_dataset/annotations/Cars351.xml',\n",
              " '/content/car_plate_dataset/annotations/Cars269.xml',\n",
              " '/content/car_plate_dataset/annotations/Cars136.xml',\n",
              " '/content/car_plate_dataset/annotations/Cars327.xml',\n",
              " '/content/car_plate_dataset/annotations/Cars224.xml',\n",
              " '/content/car_plate_dataset/annotations/Cars238.xml',\n",
              " '/content/car_plate_dataset/annotations/Cars59.xml',\n",
              " '/content/car_plate_dataset/annotations/Cars95.xml',\n",
              " '/content/car_plate_dataset/annotations/Cars369.xml',\n",
              " '/content/car_plate_dataset/annotations/Cars150.xml',\n",
              " '/content/car_plate_dataset/annotations/Cars357.xml',\n",
              " '/content/car_plate_dataset/annotations/Cars278.xml',\n",
              " '/content/car_plate_dataset/annotations/Cars252.xml',\n",
              " '/content/car_plate_dataset/annotations/Cars375.xml',\n",
              " '/content/car_plate_dataset/annotations/Cars39.xml',\n",
              " '/content/car_plate_dataset/annotations/Cars76.xml',\n",
              " '/content/car_plate_dataset/annotations/Cars367.xml',\n",
              " '/content/car_plate_dataset/annotations/Cars32.xml',\n",
              " '/content/car_plate_dataset/annotations/Cars352.xml',\n",
              " '/content/car_plate_dataset/annotations/Cars379.xml',\n",
              " '/content/car_plate_dataset/annotations/Cars170.xml',\n",
              " '/content/car_plate_dataset/annotations/Cars325.xml',\n",
              " '/content/car_plate_dataset/annotations/Cars270.xml',\n",
              " '/content/car_plate_dataset/annotations/Cars241.xml',\n",
              " '/content/car_plate_dataset/annotations/Cars132.xml',\n",
              " '/content/car_plate_dataset/annotations/Cars316.xml',\n",
              " '/content/car_plate_dataset/annotations/Cars280.xml',\n",
              " '/content/car_plate_dataset/annotations/Cars388.xml',\n",
              " '/content/car_plate_dataset/annotations/Cars138.xml']"
            ]
          },
          "metadata": {},
          "execution_count": 30
        }
      ],
      "execution_count": null
    },
    {
      "cell_type": "code",
      "source": [
        "for filename in sorted(xml_files,key=the_number_in_the_string):\n",
        "    info=xet.parse(filename)\n",
        "    root=info.getroot()\n",
        "\n",
        "    member_object=root.find('object')\n",
        "    labels_info=member_object.find('bndbox')\n",
        "\n",
        "    xmin=int(labels_info.find('xmin').text)\n",
        "    xmax=int(labels_info.find('xmax').text)\n",
        "    ymin=int(labels_info.find('ymin').text)\n",
        "    ymax=int(labels_info.find('ymax').text)\n",
        "\n",
        "    img_name=root.find('filename').text\n",
        "    img_path=os.path.join(dataset_path,'images',img_name)\n",
        "\n",
        "    height,width,_=cv2.imread(img_path).shape\n",
        "\n",
        "    labels_dict['img_path'].append(img_path)\n",
        "    labels_dict['xmin'].append(xmin)\n",
        "    labels_dict['xmax'].append(xmax)\n",
        "    labels_dict['ymin'].append(ymin)\n",
        "    labels_dict['ymax'].append(ymax)\n",
        "    labels_dict['img_w'].append(width)\n",
        "    labels_dict['img_h'].append(height)\n",
        "\n"
      ],
      "metadata": {
        "trusted": true,
        "execution": {
          "iopub.status.busy": "2025-02-09T06:05:36.5038Z",
          "iopub.execute_input": "2025-02-09T06:05:36.504156Z",
          "iopub.status.idle": "2025-02-09T06:05:42.834126Z",
          "shell.execute_reply.started": "2025-02-09T06:05:36.504125Z",
          "shell.execute_reply": "2025-02-09T06:05:42.833385Z"
        },
        "id": "8s0MQRoYlKAR"
      },
      "outputs": [],
      "execution_count": null
    },
    {
      "cell_type": "code",
      "source": [
        " alldata=pd.DataFrame(labels_dict)\n",
        "alldata"
      ],
      "metadata": {
        "trusted": true,
        "execution": {
          "iopub.status.busy": "2025-02-09T06:05:42.835151Z",
          "iopub.execute_input": "2025-02-09T06:05:42.835394Z",
          "iopub.status.idle": "2025-02-09T06:05:42.868491Z",
          "shell.execute_reply.started": "2025-02-09T06:05:42.83535Z",
          "shell.execute_reply": "2025-02-09T06:05:42.867552Z"
        },
        "colab": {
          "base_uri": "https://localhost:8080/",
          "height": 423
        },
        "id": "TYFrCdm4lKAR",
        "outputId": "84abd8d4-f002-4096-8c63-c9becd7f39a1"
      },
      "outputs": [
        {
          "output_type": "execute_result",
          "data": {
            "text/plain": [
              "                                          img_path  xmin  xmax  ymin  ymax  \\\n",
              "0      /content/car_plate_dataset/images/Cars0.png   226   419   125   173   \n",
              "1      /content/car_plate_dataset/images/Cars1.png   134   262   128   160   \n",
              "2      /content/car_plate_dataset/images/Cars2.png   229   270   176   193   \n",
              "3      /content/car_plate_dataset/images/Cars3.png   142   261   128   157   \n",
              "4      /content/car_plate_dataset/images/Cars4.png   156   503    82   253   \n",
              "..                                             ...   ...   ...   ...   ...   \n",
              "428  /content/car_plate_dataset/images/Cars428.png   142   258   128   157   \n",
              "429  /content/car_plate_dataset/images/Cars429.png    86   208   166   195   \n",
              "430  /content/car_plate_dataset/images/Cars430.png    38   116   159   197   \n",
              "431  /content/car_plate_dataset/images/Cars431.png    55   343    82   147   \n",
              "432  /content/car_plate_dataset/images/Cars432.png    95   196   258   284   \n",
              "\n",
              "     img_w  img_h  \n",
              "0      500    268  \n",
              "1      400    248  \n",
              "2      400    400  \n",
              "3      400    225  \n",
              "4      590    350  \n",
              "..     ...    ...  \n",
              "428    400    225  \n",
              "429    301    400  \n",
              "430    400    225  \n",
              "431    400    192  \n",
              "432    467    300  \n",
              "\n",
              "[433 rows x 7 columns]"
            ],
            "text/html": [
              "\n",
              "  <div id=\"df-6c741029-946d-405e-b8c0-761561eaed31\" class=\"colab-df-container\">\n",
              "    <div>\n",
              "<style scoped>\n",
              "    .dataframe tbody tr th:only-of-type {\n",
              "        vertical-align: middle;\n",
              "    }\n",
              "\n",
              "    .dataframe tbody tr th {\n",
              "        vertical-align: top;\n",
              "    }\n",
              "\n",
              "    .dataframe thead th {\n",
              "        text-align: right;\n",
              "    }\n",
              "</style>\n",
              "<table border=\"1\" class=\"dataframe\">\n",
              "  <thead>\n",
              "    <tr style=\"text-align: right;\">\n",
              "      <th></th>\n",
              "      <th>img_path</th>\n",
              "      <th>xmin</th>\n",
              "      <th>xmax</th>\n",
              "      <th>ymin</th>\n",
              "      <th>ymax</th>\n",
              "      <th>img_w</th>\n",
              "      <th>img_h</th>\n",
              "    </tr>\n",
              "  </thead>\n",
              "  <tbody>\n",
              "    <tr>\n",
              "      <th>0</th>\n",
              "      <td>/content/car_plate_dataset/images/Cars0.png</td>\n",
              "      <td>226</td>\n",
              "      <td>419</td>\n",
              "      <td>125</td>\n",
              "      <td>173</td>\n",
              "      <td>500</td>\n",
              "      <td>268</td>\n",
              "    </tr>\n",
              "    <tr>\n",
              "      <th>1</th>\n",
              "      <td>/content/car_plate_dataset/images/Cars1.png</td>\n",
              "      <td>134</td>\n",
              "      <td>262</td>\n",
              "      <td>128</td>\n",
              "      <td>160</td>\n",
              "      <td>400</td>\n",
              "      <td>248</td>\n",
              "    </tr>\n",
              "    <tr>\n",
              "      <th>2</th>\n",
              "      <td>/content/car_plate_dataset/images/Cars2.png</td>\n",
              "      <td>229</td>\n",
              "      <td>270</td>\n",
              "      <td>176</td>\n",
              "      <td>193</td>\n",
              "      <td>400</td>\n",
              "      <td>400</td>\n",
              "    </tr>\n",
              "    <tr>\n",
              "      <th>3</th>\n",
              "      <td>/content/car_plate_dataset/images/Cars3.png</td>\n",
              "      <td>142</td>\n",
              "      <td>261</td>\n",
              "      <td>128</td>\n",
              "      <td>157</td>\n",
              "      <td>400</td>\n",
              "      <td>225</td>\n",
              "    </tr>\n",
              "    <tr>\n",
              "      <th>4</th>\n",
              "      <td>/content/car_plate_dataset/images/Cars4.png</td>\n",
              "      <td>156</td>\n",
              "      <td>503</td>\n",
              "      <td>82</td>\n",
              "      <td>253</td>\n",
              "      <td>590</td>\n",
              "      <td>350</td>\n",
              "    </tr>\n",
              "    <tr>\n",
              "      <th>...</th>\n",
              "      <td>...</td>\n",
              "      <td>...</td>\n",
              "      <td>...</td>\n",
              "      <td>...</td>\n",
              "      <td>...</td>\n",
              "      <td>...</td>\n",
              "      <td>...</td>\n",
              "    </tr>\n",
              "    <tr>\n",
              "      <th>428</th>\n",
              "      <td>/content/car_plate_dataset/images/Cars428.png</td>\n",
              "      <td>142</td>\n",
              "      <td>258</td>\n",
              "      <td>128</td>\n",
              "      <td>157</td>\n",
              "      <td>400</td>\n",
              "      <td>225</td>\n",
              "    </tr>\n",
              "    <tr>\n",
              "      <th>429</th>\n",
              "      <td>/content/car_plate_dataset/images/Cars429.png</td>\n",
              "      <td>86</td>\n",
              "      <td>208</td>\n",
              "      <td>166</td>\n",
              "      <td>195</td>\n",
              "      <td>301</td>\n",
              "      <td>400</td>\n",
              "    </tr>\n",
              "    <tr>\n",
              "      <th>430</th>\n",
              "      <td>/content/car_plate_dataset/images/Cars430.png</td>\n",
              "      <td>38</td>\n",
              "      <td>116</td>\n",
              "      <td>159</td>\n",
              "      <td>197</td>\n",
              "      <td>400</td>\n",
              "      <td>225</td>\n",
              "    </tr>\n",
              "    <tr>\n",
              "      <th>431</th>\n",
              "      <td>/content/car_plate_dataset/images/Cars431.png</td>\n",
              "      <td>55</td>\n",
              "      <td>343</td>\n",
              "      <td>82</td>\n",
              "      <td>147</td>\n",
              "      <td>400</td>\n",
              "      <td>192</td>\n",
              "    </tr>\n",
              "    <tr>\n",
              "      <th>432</th>\n",
              "      <td>/content/car_plate_dataset/images/Cars432.png</td>\n",
              "      <td>95</td>\n",
              "      <td>196</td>\n",
              "      <td>258</td>\n",
              "      <td>284</td>\n",
              "      <td>467</td>\n",
              "      <td>300</td>\n",
              "    </tr>\n",
              "  </tbody>\n",
              "</table>\n",
              "<p>433 rows × 7 columns</p>\n",
              "</div>\n",
              "    <div class=\"colab-df-buttons\">\n",
              "\n",
              "  <div class=\"colab-df-container\">\n",
              "    <button class=\"colab-df-convert\" onclick=\"convertToInteractive('df-6c741029-946d-405e-b8c0-761561eaed31')\"\n",
              "            title=\"Convert this dataframe to an interactive table.\"\n",
              "            style=\"display:none;\">\n",
              "\n",
              "  <svg xmlns=\"http://www.w3.org/2000/svg\" height=\"24px\" viewBox=\"0 -960 960 960\">\n",
              "    <path d=\"M120-120v-720h720v720H120Zm60-500h600v-160H180v160Zm220 220h160v-160H400v160Zm0 220h160v-160H400v160ZM180-400h160v-160H180v160Zm440 0h160v-160H620v160ZM180-180h160v-160H180v160Zm440 0h160v-160H620v160Z\"/>\n",
              "  </svg>\n",
              "    </button>\n",
              "\n",
              "  <style>\n",
              "    .colab-df-container {\n",
              "      display:flex;\n",
              "      gap: 12px;\n",
              "    }\n",
              "\n",
              "    .colab-df-convert {\n",
              "      background-color: #E8F0FE;\n",
              "      border: none;\n",
              "      border-radius: 50%;\n",
              "      cursor: pointer;\n",
              "      display: none;\n",
              "      fill: #1967D2;\n",
              "      height: 32px;\n",
              "      padding: 0 0 0 0;\n",
              "      width: 32px;\n",
              "    }\n",
              "\n",
              "    .colab-df-convert:hover {\n",
              "      background-color: #E2EBFA;\n",
              "      box-shadow: 0px 1px 2px rgba(60, 64, 67, 0.3), 0px 1px 3px 1px rgba(60, 64, 67, 0.15);\n",
              "      fill: #174EA6;\n",
              "    }\n",
              "\n",
              "    .colab-df-buttons div {\n",
              "      margin-bottom: 4px;\n",
              "    }\n",
              "\n",
              "    [theme=dark] .colab-df-convert {\n",
              "      background-color: #3B4455;\n",
              "      fill: #D2E3FC;\n",
              "    }\n",
              "\n",
              "    [theme=dark] .colab-df-convert:hover {\n",
              "      background-color: #434B5C;\n",
              "      box-shadow: 0px 1px 3px 1px rgba(0, 0, 0, 0.15);\n",
              "      filter: drop-shadow(0px 1px 2px rgba(0, 0, 0, 0.3));\n",
              "      fill: #FFFFFF;\n",
              "    }\n",
              "  </style>\n",
              "\n",
              "    <script>\n",
              "      const buttonEl =\n",
              "        document.querySelector('#df-6c741029-946d-405e-b8c0-761561eaed31 button.colab-df-convert');\n",
              "      buttonEl.style.display =\n",
              "        google.colab.kernel.accessAllowed ? 'block' : 'none';\n",
              "\n",
              "      async function convertToInteractive(key) {\n",
              "        const element = document.querySelector('#df-6c741029-946d-405e-b8c0-761561eaed31');\n",
              "        const dataTable =\n",
              "          await google.colab.kernel.invokeFunction('convertToInteractive',\n",
              "                                                    [key], {});\n",
              "        if (!dataTable) return;\n",
              "\n",
              "        const docLinkHtml = 'Like what you see? Visit the ' +\n",
              "          '<a target=\"_blank\" href=https://colab.research.google.com/notebooks/data_table.ipynb>data table notebook</a>'\n",
              "          + ' to learn more about interactive tables.';\n",
              "        element.innerHTML = '';\n",
              "        dataTable['output_type'] = 'display_data';\n",
              "        await google.colab.output.renderOutput(dataTable, element);\n",
              "        const docLink = document.createElement('div');\n",
              "        docLink.innerHTML = docLinkHtml;\n",
              "        element.appendChild(docLink);\n",
              "      }\n",
              "    </script>\n",
              "  </div>\n",
              "\n",
              "\n",
              "<div id=\"df-5ae1cb34-58ba-4079-b689-c8dd9b059558\">\n",
              "  <button class=\"colab-df-quickchart\" onclick=\"quickchart('df-5ae1cb34-58ba-4079-b689-c8dd9b059558')\"\n",
              "            title=\"Suggest charts\"\n",
              "            style=\"display:none;\">\n",
              "\n",
              "<svg xmlns=\"http://www.w3.org/2000/svg\" height=\"24px\"viewBox=\"0 0 24 24\"\n",
              "     width=\"24px\">\n",
              "    <g>\n",
              "        <path d=\"M19 3H5c-1.1 0-2 .9-2 2v14c0 1.1.9 2 2 2h14c1.1 0 2-.9 2-2V5c0-1.1-.9-2-2-2zM9 17H7v-7h2v7zm4 0h-2V7h2v10zm4 0h-2v-4h2v4z\"/>\n",
              "    </g>\n",
              "</svg>\n",
              "  </button>\n",
              "\n",
              "<style>\n",
              "  .colab-df-quickchart {\n",
              "      --bg-color: #E8F0FE;\n",
              "      --fill-color: #1967D2;\n",
              "      --hover-bg-color: #E2EBFA;\n",
              "      --hover-fill-color: #174EA6;\n",
              "      --disabled-fill-color: #AAA;\n",
              "      --disabled-bg-color: #DDD;\n",
              "  }\n",
              "\n",
              "  [theme=dark] .colab-df-quickchart {\n",
              "      --bg-color: #3B4455;\n",
              "      --fill-color: #D2E3FC;\n",
              "      --hover-bg-color: #434B5C;\n",
              "      --hover-fill-color: #FFFFFF;\n",
              "      --disabled-bg-color: #3B4455;\n",
              "      --disabled-fill-color: #666;\n",
              "  }\n",
              "\n",
              "  .colab-df-quickchart {\n",
              "    background-color: var(--bg-color);\n",
              "    border: none;\n",
              "    border-radius: 50%;\n",
              "    cursor: pointer;\n",
              "    display: none;\n",
              "    fill: var(--fill-color);\n",
              "    height: 32px;\n",
              "    padding: 0;\n",
              "    width: 32px;\n",
              "  }\n",
              "\n",
              "  .colab-df-quickchart:hover {\n",
              "    background-color: var(--hover-bg-color);\n",
              "    box-shadow: 0 1px 2px rgba(60, 64, 67, 0.3), 0 1px 3px 1px rgba(60, 64, 67, 0.15);\n",
              "    fill: var(--button-hover-fill-color);\n",
              "  }\n",
              "\n",
              "  .colab-df-quickchart-complete:disabled,\n",
              "  .colab-df-quickchart-complete:disabled:hover {\n",
              "    background-color: var(--disabled-bg-color);\n",
              "    fill: var(--disabled-fill-color);\n",
              "    box-shadow: none;\n",
              "  }\n",
              "\n",
              "  .colab-df-spinner {\n",
              "    border: 2px solid var(--fill-color);\n",
              "    border-color: transparent;\n",
              "    border-bottom-color: var(--fill-color);\n",
              "    animation:\n",
              "      spin 1s steps(1) infinite;\n",
              "  }\n",
              "\n",
              "  @keyframes spin {\n",
              "    0% {\n",
              "      border-color: transparent;\n",
              "      border-bottom-color: var(--fill-color);\n",
              "      border-left-color: var(--fill-color);\n",
              "    }\n",
              "    20% {\n",
              "      border-color: transparent;\n",
              "      border-left-color: var(--fill-color);\n",
              "      border-top-color: var(--fill-color);\n",
              "    }\n",
              "    30% {\n",
              "      border-color: transparent;\n",
              "      border-left-color: var(--fill-color);\n",
              "      border-top-color: var(--fill-color);\n",
              "      border-right-color: var(--fill-color);\n",
              "    }\n",
              "    40% {\n",
              "      border-color: transparent;\n",
              "      border-right-color: var(--fill-color);\n",
              "      border-top-color: var(--fill-color);\n",
              "    }\n",
              "    60% {\n",
              "      border-color: transparent;\n",
              "      border-right-color: var(--fill-color);\n",
              "    }\n",
              "    80% {\n",
              "      border-color: transparent;\n",
              "      border-right-color: var(--fill-color);\n",
              "      border-bottom-color: var(--fill-color);\n",
              "    }\n",
              "    90% {\n",
              "      border-color: transparent;\n",
              "      border-bottom-color: var(--fill-color);\n",
              "    }\n",
              "  }\n",
              "</style>\n",
              "\n",
              "  <script>\n",
              "    async function quickchart(key) {\n",
              "      const quickchartButtonEl =\n",
              "        document.querySelector('#' + key + ' button');\n",
              "      quickchartButtonEl.disabled = true;  // To prevent multiple clicks.\n",
              "      quickchartButtonEl.classList.add('colab-df-spinner');\n",
              "      try {\n",
              "        const charts = await google.colab.kernel.invokeFunction(\n",
              "            'suggestCharts', [key], {});\n",
              "      } catch (error) {\n",
              "        console.error('Error during call to suggestCharts:', error);\n",
              "      }\n",
              "      quickchartButtonEl.classList.remove('colab-df-spinner');\n",
              "      quickchartButtonEl.classList.add('colab-df-quickchart-complete');\n",
              "    }\n",
              "    (() => {\n",
              "      let quickchartButtonEl =\n",
              "        document.querySelector('#df-5ae1cb34-58ba-4079-b689-c8dd9b059558 button');\n",
              "      quickchartButtonEl.style.display =\n",
              "        google.colab.kernel.accessAllowed ? 'block' : 'none';\n",
              "    })();\n",
              "  </script>\n",
              "</div>\n",
              "\n",
              "  <div id=\"id_e90f0a32-d434-4fee-8331-dd09c02e68a7\">\n",
              "    <style>\n",
              "      .colab-df-generate {\n",
              "        background-color: #E8F0FE;\n",
              "        border: none;\n",
              "        border-radius: 50%;\n",
              "        cursor: pointer;\n",
              "        display: none;\n",
              "        fill: #1967D2;\n",
              "        height: 32px;\n",
              "        padding: 0 0 0 0;\n",
              "        width: 32px;\n",
              "      }\n",
              "\n",
              "      .colab-df-generate:hover {\n",
              "        background-color: #E2EBFA;\n",
              "        box-shadow: 0px 1px 2px rgba(60, 64, 67, 0.3), 0px 1px 3px 1px rgba(60, 64, 67, 0.15);\n",
              "        fill: #174EA6;\n",
              "      }\n",
              "\n",
              "      [theme=dark] .colab-df-generate {\n",
              "        background-color: #3B4455;\n",
              "        fill: #D2E3FC;\n",
              "      }\n",
              "\n",
              "      [theme=dark] .colab-df-generate:hover {\n",
              "        background-color: #434B5C;\n",
              "        box-shadow: 0px 1px 3px 1px rgba(0, 0, 0, 0.15);\n",
              "        filter: drop-shadow(0px 1px 2px rgba(0, 0, 0, 0.3));\n",
              "        fill: #FFFFFF;\n",
              "      }\n",
              "    </style>\n",
              "    <button class=\"colab-df-generate\" onclick=\"generateWithVariable('alldata')\"\n",
              "            title=\"Generate code using this dataframe.\"\n",
              "            style=\"display:none;\">\n",
              "\n",
              "  <svg xmlns=\"http://www.w3.org/2000/svg\" height=\"24px\"viewBox=\"0 0 24 24\"\n",
              "       width=\"24px\">\n",
              "    <path d=\"M7,19H8.4L18.45,9,17,7.55,7,17.6ZM5,21V16.75L18.45,3.32a2,2,0,0,1,2.83,0l1.4,1.43a1.91,1.91,0,0,1,.58,1.4,1.91,1.91,0,0,1-.58,1.4L9.25,21ZM18.45,9,17,7.55Zm-12,3A5.31,5.31,0,0,0,4.9,8.1,5.31,5.31,0,0,0,1,6.5,5.31,5.31,0,0,0,4.9,4.9,5.31,5.31,0,0,0,6.5,1,5.31,5.31,0,0,0,8.1,4.9,5.31,5.31,0,0,0,12,6.5,5.46,5.46,0,0,0,6.5,12Z\"/>\n",
              "  </svg>\n",
              "    </button>\n",
              "    <script>\n",
              "      (() => {\n",
              "      const buttonEl =\n",
              "        document.querySelector('#id_e90f0a32-d434-4fee-8331-dd09c02e68a7 button.colab-df-generate');\n",
              "      buttonEl.style.display =\n",
              "        google.colab.kernel.accessAllowed ? 'block' : 'none';\n",
              "\n",
              "      buttonEl.onclick = () => {\n",
              "        google.colab.notebook.generateWithVariable('alldata');\n",
              "      }\n",
              "      })();\n",
              "    </script>\n",
              "  </div>\n",
              "\n",
              "    </div>\n",
              "  </div>\n"
            ],
            "application/vnd.google.colaboratory.intrinsic+json": {
              "type": "dataframe",
              "variable_name": "alldata",
              "summary": "{\n  \"name\": \"alldata\",\n  \"rows\": 433,\n  \"fields\": [\n    {\n      \"column\": \"img_path\",\n      \"properties\": {\n        \"dtype\": \"string\",\n        \"num_unique_values\": 433,\n        \"samples\": [\n          \"/content/car_plate_dataset/images/Cars425.png\",\n          \"/content/car_plate_dataset/images/Cars75.png\",\n          \"/content/car_plate_dataset/images/Cars181.png\"\n        ],\n        \"semantic_type\": \"\",\n        \"description\": \"\"\n      }\n    },\n    {\n      \"column\": \"xmin\",\n      \"properties\": {\n        \"dtype\": \"number\",\n        \"std\": 82,\n        \"min\": 0,\n        \"max\": 541,\n        \"num_unique_values\": 218,\n        \"samples\": [\n          247,\n          211,\n          59\n        ],\n        \"semantic_type\": \"\",\n        \"description\": \"\"\n      }\n    },\n    {\n      \"column\": \"xmax\",\n      \"properties\": {\n        \"dtype\": \"number\",\n        \"std\": 92,\n        \"min\": 27,\n        \"max\": 598,\n        \"num_unique_values\": 235,\n        \"samples\": [\n          326,\n          107,\n          253\n        ],\n        \"semantic_type\": \"\",\n        \"description\": \"\"\n      }\n    },\n    {\n      \"column\": \"ymin\",\n      \"properties\": {\n        \"dtype\": \"number\",\n        \"std\": 54,\n        \"min\": 5,\n        \"max\": 405,\n        \"num_unique_values\": 180,\n        \"samples\": [\n          165,\n          117,\n          282\n        ],\n        \"semantic_type\": \"\",\n        \"description\": \"\"\n      }\n    },\n    {\n      \"column\": \"ymax\",\n      \"properties\": {\n        \"dtype\": \"number\",\n        \"std\": 51,\n        \"min\": 65,\n        \"max\": 439,\n        \"num_unique_values\": 169,\n        \"samples\": [\n          76,\n          167,\n          123\n        ],\n        \"semantic_type\": \"\",\n        \"description\": \"\"\n      }\n    },\n    {\n      \"column\": \"img_w\",\n      \"properties\": {\n        \"dtype\": \"number\",\n        \"std\": 68,\n        \"min\": 225,\n        \"max\": 600,\n        \"num_unique_values\": 40,\n        \"samples\": [\n          530,\n          375,\n          370\n        ],\n        \"semantic_type\": \"\",\n        \"description\": \"\"\n      }\n    },\n    {\n      \"column\": \"img_h\",\n      \"properties\": {\n        \"dtype\": \"number\",\n        \"std\": 66,\n        \"min\": 141,\n        \"max\": 531,\n        \"num_unique_values\": 103,\n        \"samples\": [\n          242,\n          478,\n          223\n        ],\n        \"semantic_type\": \"\",\n        \"description\": \"\"\n      }\n    }\n  ]\n}"
            }
          },
          "metadata": {},
          "execution_count": 32
        }
      ],
      "execution_count": null
    },
    {
      "cell_type": "code",
      "source": [
        "train,test=train_test_split(alldata,test_size=1/10,random_state=42)\n",
        "train,val=train_test_split(train,train_size=8/9,random_state=42)\n",
        "print(f'''\n",
        "len(train)={len(train)}\n",
        "len(val)={len(val)}\n",
        "len(test)={len(test)}''')"
      ],
      "metadata": {
        "trusted": true,
        "execution": {
          "iopub.status.busy": "2025-02-09T06:10:52.788393Z",
          "iopub.execute_input": "2025-02-09T06:10:52.788815Z",
          "iopub.status.idle": "2025-02-09T06:10:52.79967Z",
          "shell.execute_reply.started": "2025-02-09T06:10:52.788781Z",
          "shell.execute_reply": "2025-02-09T06:10:52.798603Z"
        },
        "colab": {
          "base_uri": "https://localhost:8080/"
        },
        "id": "lVTmRsLolKAS",
        "outputId": "f97e9685-4379-4584-b7d2-9c77b5cc6308"
      },
      "outputs": [
        {
          "output_type": "stream",
          "name": "stdout",
          "text": [
            "\n",
            "len(train)=345\n",
            "len(val)=44\n",
            "len(test)=44\n"
          ]
        }
      ],
      "execution_count": null
    },
    {
      "cell_type": "code",
      "source": [
        "def make_split_folder_in_yolo_format(split_name, split_df):\n",
        "    labels_path = os.path.join('datasets', 'cars_license_plate_new', split_name, 'labels')\n",
        "    images_path = os.path.join('datasets', 'cars_license_plate_new', split_name, 'images')\n",
        "\n",
        "    os.makedirs(labels_path, exist_ok=True)\n",
        "    os.makedirs(images_path, exist_ok=True)\n",
        "\n",
        "    for _, row in split_df.iterrows():\n",
        "        img_name, img_extension = os.path.splitext(os.path.basename(row['img_path']))\n",
        "\n",
        "        # Ensure bounding box is valid\n",
        "        xmin, xmax = min(row['xmin'], row['xmax']), max(row['xmin'], row['xmax'])\n",
        "        ymin, ymax = min(row['ymin'], row['ymax']), max(row['ymin'], row['ymax'])\n",
        "\n",
        "        # Compute YOLO format values\n",
        "        x_center = (xmin + xmax) / 2 / row['img_w']\n",
        "        y_center = (ymin + ymax) / 2 / row['img_h']\n",
        "        width = (xmax - xmin) / row['img_w']\n",
        "        height = (ymax - ymin) / row['img_h']\n",
        "\n",
        "        # Ensure values are within the valid range [0, 1]\n",
        "        x_center = max(0, min(1, x_center))\n",
        "        y_center = max(0, min(1, y_center))\n",
        "        width = max(0, min(1, width))\n",
        "        height = max(0, min(1, height))\n",
        "\n",
        "        # Skip if bounding box is too small\n",
        "        if width <= 0 or height <= 0:\n",
        "            print(f\"Skipping {img_name}: Invalid width/height\")\n",
        "            continue\n",
        "\n",
        "        label_path = os.path.join(labels_path, f'{img_name}.txt')\n",
        "        with open(label_path, 'w') as file:\n",
        "            file.write(f\"0 {x_center:.4f} {y_center:.4f} {width:.4f} {height:.4f}\\n\")\n",
        "\n",
        "        shutil.copy(row['img_path'], os.path.join(images_path, img_name + img_extension))\n",
        "\n",
        "    print(f\"Created '{images_path}' and '{labels_path}'\")"
      ],
      "metadata": {
        "trusted": true,
        "execution": {
          "iopub.status.busy": "2025-02-09T06:38:07.252721Z",
          "iopub.execute_input": "2025-02-09T06:38:07.253056Z",
          "iopub.status.idle": "2025-02-09T06:38:07.259483Z",
          "shell.execute_reply.started": "2025-02-09T06:38:07.253027Z",
          "shell.execute_reply": "2025-02-09T06:38:07.258639Z"
        },
        "id": "AVYEfMGvlKAS"
      },
      "outputs": [],
      "execution_count": null
    },
    {
      "cell_type": "code",
      "source": [
        "make_split_folder_in_yolo_format('train', train)\n",
        "make_split_folder_in_yolo_format('val', val)\n",
        "make_split_folder_in_yolo_format('test', test)"
      ],
      "metadata": {
        "trusted": true,
        "execution": {
          "iopub.status.busy": "2025-02-09T06:38:07.958423Z",
          "iopub.execute_input": "2025-02-09T06:38:07.958723Z",
          "iopub.status.idle": "2025-02-09T06:38:09.125736Z",
          "shell.execute_reply.started": "2025-02-09T06:38:07.9587Z",
          "shell.execute_reply": "2025-02-09T06:38:09.124972Z"
        },
        "colab": {
          "base_uri": "https://localhost:8080/"
        },
        "id": "wPFef_6MlKAS",
        "outputId": "096bc010-3b0f-4581-bdcd-9f9288fda29f"
      },
      "outputs": [
        {
          "output_type": "stream",
          "name": "stdout",
          "text": [
            "Created 'datasets/cars_license_plate_new/train/images' and 'datasets/cars_license_plate_new/train/labels'\n",
            "Created 'datasets/cars_license_plate_new/val/images' and 'datasets/cars_license_plate_new/val/labels'\n",
            "Created 'datasets/cars_license_plate_new/test/images' and 'datasets/cars_license_plate_new/test/labels'\n"
          ]
        }
      ],
      "execution_count": null
    },
    {
      "cell_type": "code",
      "source": [
        "datasets_yaml = \"\"\"\n",
        "path: cars_license_plate_new\n",
        "train: train/images\n",
        "val: val/images\n",
        "test: test/images\n",
        "\n",
        "nc: 1\n",
        "names: [\"license_plate\"]\n",
        "\"\"\"\n",
        "\n",
        "with open(\"datasets.yaml\", \"w\") as file:\n",
        "    file.write(datasets_yaml)\n"
      ],
      "metadata": {
        "trusted": true,
        "execution": {
          "iopub.status.busy": "2025-02-09T06:58:20.922636Z",
          "iopub.execute_input": "2025-02-09T06:58:20.922955Z",
          "iopub.status.idle": "2025-02-09T06:58:20.92751Z",
          "shell.execute_reply.started": "2025-02-09T06:58:20.92293Z",
          "shell.execute_reply": "2025-02-09T06:58:20.926593Z"
        },
        "id": "8mLKAjNglKAT"
      },
      "outputs": [],
      "execution_count": null
    },
    {
      "cell_type": "code",
      "source": [
        "from ultralytics import YOLO\n"
      ],
      "metadata": {
        "trusted": true,
        "execution": {
          "iopub.status.busy": "2025-02-09T06:58:38.141683Z",
          "iopub.execute_input": "2025-02-09T06:58:38.141987Z",
          "iopub.status.idle": "2025-02-09T06:58:38.145807Z",
          "shell.execute_reply.started": "2025-02-09T06:58:38.141963Z",
          "shell.execute_reply": "2025-02-09T06:58:38.144981Z"
        },
        "id": "ULUWgmI6lKAT"
      },
      "outputs": [],
      "execution_count": null
    },
    {
      "cell_type": "code",
      "source": [
        "model=YOLO('yolov8n.pt')"
      ],
      "metadata": {
        "trusted": true,
        "execution": {
          "iopub.status.busy": "2025-02-09T06:58:38.902975Z",
          "iopub.execute_input": "2025-02-09T06:58:38.903352Z",
          "iopub.status.idle": "2025-02-09T06:58:38.948666Z",
          "shell.execute_reply.started": "2025-02-09T06:58:38.903312Z",
          "shell.execute_reply": "2025-02-09T06:58:38.947998Z"
        },
        "id": "yEwIA3tElKAT"
      },
      "outputs": [],
      "execution_count": null
    },
    {
      "cell_type": "code",
      "source": [
        "model.train(\n",
        "    data='datasets.yaml',\n",
        "    epochs=100,\n",
        "    batch=16,\n",
        "    device='cuda',\n",
        "    imgsz=320,\n",
        "    cache=True\n",
        "\n",
        ")"
      ],
      "metadata": {
        "trusted": true,
        "execution": {
          "iopub.status.busy": "2025-02-09T06:58:39.521882Z",
          "iopub.execute_input": "2025-02-09T06:58:39.522246Z",
          "iopub.status.idle": "2025-02-09T06:59:00.541342Z",
          "shell.execute_reply.started": "2025-02-09T06:58:39.522217Z",
          "shell.execute_reply": "2025-02-09T06:59:00.54017Z"
        },
        "colab": {
          "base_uri": "https://localhost:8080/"
        },
        "id": "7lJldYsIlKAT",
        "outputId": "4d41fa80-eabc-4a40-a5dc-ccafbf85fb2a"
      },
      "outputs": [
        {
          "output_type": "stream",
          "name": "stdout",
          "text": [
            "Ultralytics 8.3.73 🚀 Python-3.11.11 torch-2.5.1+cu124 CUDA:0 (Tesla T4, 15095MiB)\n",
            "\u001b[34m\u001b[1mengine/trainer: \u001b[0mtask=detect, mode=train, model=yolov8n.pt, data=datasets.yaml, epochs=100, time=None, patience=100, batch=16, imgsz=320, save=True, save_period=-1, cache=True, device=cuda, workers=8, project=None, name=train2, exist_ok=False, pretrained=True, optimizer=auto, verbose=True, seed=0, deterministic=True, single_cls=False, rect=False, cos_lr=False, close_mosaic=10, resume=False, amp=True, fraction=1.0, profile=False, freeze=None, multi_scale=False, overlap_mask=True, mask_ratio=4, dropout=0.0, val=True, split=val, save_json=False, save_hybrid=False, conf=None, iou=0.7, max_det=300, half=False, dnn=False, plots=True, source=None, vid_stride=1, stream_buffer=False, visualize=False, augment=False, agnostic_nms=False, classes=None, retina_masks=False, embed=None, show=False, save_frames=False, save_txt=False, save_conf=False, save_crop=False, show_labels=True, show_conf=True, show_boxes=True, line_width=None, format=torchscript, keras=False, optimize=False, int8=False, dynamic=False, simplify=True, opset=None, workspace=None, nms=False, lr0=0.01, lrf=0.01, momentum=0.937, weight_decay=0.0005, warmup_epochs=3.0, warmup_momentum=0.8, warmup_bias_lr=0.1, box=7.5, cls=0.5, dfl=1.5, pose=12.0, kobj=1.0, nbs=64, hsv_h=0.015, hsv_s=0.7, hsv_v=0.4, degrees=0.0, translate=0.1, scale=0.5, shear=0.0, perspective=0.0, flipud=0.0, fliplr=0.5, bgr=0.0, mosaic=1.0, mixup=0.0, copy_paste=0.0, copy_paste_mode=flip, auto_augment=randaugment, erasing=0.4, crop_fraction=1.0, cfg=None, tracker=botsort.yaml, save_dir=runs/detect/train2\n",
            "Overriding model.yaml nc=80 with nc=1\n",
            "\n",
            "                   from  n    params  module                                       arguments                     \n",
            "  0                  -1  1       464  ultralytics.nn.modules.conv.Conv             [3, 16, 3, 2]                 \n",
            "  1                  -1  1      4672  ultralytics.nn.modules.conv.Conv             [16, 32, 3, 2]                \n",
            "  2                  -1  1      7360  ultralytics.nn.modules.block.C2f             [32, 32, 1, True]             \n",
            "  3                  -1  1     18560  ultralytics.nn.modules.conv.Conv             [32, 64, 3, 2]                \n",
            "  4                  -1  2     49664  ultralytics.nn.modules.block.C2f             [64, 64, 2, True]             \n",
            "  5                  -1  1     73984  ultralytics.nn.modules.conv.Conv             [64, 128, 3, 2]               \n",
            "  6                  -1  2    197632  ultralytics.nn.modules.block.C2f             [128, 128, 2, True]           \n",
            "  7                  -1  1    295424  ultralytics.nn.modules.conv.Conv             [128, 256, 3, 2]              \n",
            "  8                  -1  1    460288  ultralytics.nn.modules.block.C2f             [256, 256, 1, True]           \n",
            "  9                  -1  1    164608  ultralytics.nn.modules.block.SPPF            [256, 256, 5]                 \n",
            " 10                  -1  1         0  torch.nn.modules.upsampling.Upsample         [None, 2, 'nearest']          \n",
            " 11             [-1, 6]  1         0  ultralytics.nn.modules.conv.Concat           [1]                           \n",
            " 12                  -1  1    148224  ultralytics.nn.modules.block.C2f             [384, 128, 1]                 \n",
            " 13                  -1  1         0  torch.nn.modules.upsampling.Upsample         [None, 2, 'nearest']          \n",
            " 14             [-1, 4]  1         0  ultralytics.nn.modules.conv.Concat           [1]                           \n",
            " 15                  -1  1     37248  ultralytics.nn.modules.block.C2f             [192, 64, 1]                  \n",
            " 16                  -1  1     36992  ultralytics.nn.modules.conv.Conv             [64, 64, 3, 2]                \n",
            " 17            [-1, 12]  1         0  ultralytics.nn.modules.conv.Concat           [1]                           \n",
            " 18                  -1  1    123648  ultralytics.nn.modules.block.C2f             [192, 128, 1]                 \n",
            " 19                  -1  1    147712  ultralytics.nn.modules.conv.Conv             [128, 128, 3, 2]              \n",
            " 20             [-1, 9]  1         0  ultralytics.nn.modules.conv.Concat           [1]                           \n",
            " 21                  -1  1    493056  ultralytics.nn.modules.block.C2f             [384, 256, 1]                 \n",
            " 22        [15, 18, 21]  1    751507  ultralytics.nn.modules.head.Detect           [1, [64, 128, 256]]           \n",
            "Model summary: 225 layers, 3,011,043 parameters, 3,011,027 gradients, 8.2 GFLOPs\n",
            "\n",
            "Transferred 319/355 items from pretrained weights\n",
            "\u001b[34m\u001b[1mTensorBoard: \u001b[0mStart with 'tensorboard --logdir runs/detect/train2', view at http://localhost:6006/\n",
            "Freezing layer 'model.22.dfl.conv.weight'\n",
            "\u001b[34m\u001b[1mAMP: \u001b[0mrunning Automatic Mixed Precision (AMP) checks...\n",
            "\u001b[34m\u001b[1mAMP: \u001b[0mchecks passed ✅\n"
          ]
        },
        {
          "output_type": "stream",
          "name": "stderr",
          "text": [
            "\u001b[34m\u001b[1mtrain: \u001b[0mScanning /content/datasets/cars_license_plate_new/train/labels... 345 images, 0 backgrounds, 0 corrupt: 100%|██████████| 345/345 [00:00<00:00, 523.10it/s]"
          ]
        },
        {
          "output_type": "stream",
          "name": "stdout",
          "text": [
            "\u001b[34m\u001b[1mtrain: \u001b[0mNew cache created: /content/datasets/cars_license_plate_new/train/labels.cache\n"
          ]
        },
        {
          "output_type": "stream",
          "name": "stderr",
          "text": [
            "\n"
          ]
        },
        {
          "output_type": "stream",
          "name": "stdout",
          "text": [
            "WARNING ⚠️ cache='ram' may produce non-deterministic training results. Consider cache='disk' as a deterministic alternative if your disk space allows.\n"
          ]
        },
        {
          "output_type": "stream",
          "name": "stderr",
          "text": [
            "\u001b[34m\u001b[1mtrain: \u001b[0mCaching images (0.1GB RAM): 100%|██████████| 345/345 [00:04<00:00, 71.16it/s]\n"
          ]
        },
        {
          "output_type": "stream",
          "name": "stdout",
          "text": [
            "\u001b[34m\u001b[1malbumentations: \u001b[0mBlur(p=0.01, blur_limit=(3, 7)), MedianBlur(p=0.01, blur_limit=(3, 7)), ToGray(p=0.01, num_output_channels=3, method='weighted_average'), CLAHE(p=0.01, clip_limit=(1.0, 4.0), tile_grid_size=(8, 8))\n"
          ]
        },
        {
          "output_type": "stream",
          "name": "stderr",
          "text": [
            "\u001b[34m\u001b[1mval: \u001b[0mScanning /content/datasets/cars_license_plate_new/val/labels... 44 images, 0 backgrounds, 0 corrupt: 100%|██████████| 44/44 [00:00<00:00, 826.04it/s]"
          ]
        },
        {
          "output_type": "stream",
          "name": "stdout",
          "text": [
            "\u001b[34m\u001b[1mval: \u001b[0mNew cache created: /content/datasets/cars_license_plate_new/val/labels.cache\n"
          ]
        },
        {
          "output_type": "stream",
          "name": "stderr",
          "text": [
            "\n"
          ]
        },
        {
          "output_type": "stream",
          "name": "stdout",
          "text": [
            "WARNING ⚠️ cache='ram' may produce non-deterministic training results. Consider cache='disk' as a deterministic alternative if your disk space allows.\n"
          ]
        },
        {
          "output_type": "stream",
          "name": "stderr",
          "text": [
            "\u001b[34m\u001b[1mval: \u001b[0mCaching images (0.0GB RAM): 100%|██████████| 44/44 [00:00<00:00, 84.28it/s]\n"
          ]
        },
        {
          "output_type": "stream",
          "name": "stdout",
          "text": [
            "Plotting labels to runs/detect/train2/labels.jpg... \n",
            "\u001b[34m\u001b[1moptimizer:\u001b[0m 'optimizer=auto' found, ignoring 'lr0=0.01' and 'momentum=0.937' and determining best 'optimizer', 'lr0' and 'momentum' automatically... \n",
            "\u001b[34m\u001b[1moptimizer:\u001b[0m AdamW(lr=0.002, momentum=0.9) with parameter groups 57 weight(decay=0.0), 64 weight(decay=0.0005), 63 bias(decay=0.0)\n",
            "\u001b[34m\u001b[1mTensorBoard: \u001b[0mmodel graph visualization added ✅\n",
            "Image sizes 320 train, 320 val\n",
            "Using 2 dataloader workers\n",
            "Logging results to \u001b[1mruns/detect/train2\u001b[0m\n",
            "Starting training for 100 epochs...\n",
            "\n",
            "      Epoch    GPU_mem   box_loss   cls_loss   dfl_loss  Instances       Size\n"
          ]
        },
        {
          "output_type": "stream",
          "name": "stderr",
          "text": [
            "      1/100     0.646G      1.757      3.012      1.365         21        320: 100%|██████████| 22/22 [00:04<00:00,  5.17it/s]\n",
            "                 Class     Images  Instances      Box(P          R      mAP50  mAP50-95): 100%|██████████| 2/2 [00:01<00:00,  1.30it/s]"
          ]
        },
        {
          "output_type": "stream",
          "name": "stdout",
          "text": [
            "                   all         44         44    0.00394      0.932      0.249      0.142\n"
          ]
        },
        {
          "output_type": "stream",
          "name": "stderr",
          "text": [
            "\n"
          ]
        },
        {
          "output_type": "stream",
          "name": "stdout",
          "text": [
            "\n",
            "      Epoch    GPU_mem   box_loss   cls_loss   dfl_loss  Instances       Size\n"
          ]
        },
        {
          "output_type": "stream",
          "name": "stderr",
          "text": [
            "      2/100     0.614G      1.477      1.442      1.149         16        320: 100%|██████████| 22/22 [00:03<00:00,  7.11it/s]\n",
            "                 Class     Images  Instances      Box(P          R      mAP50  mAP50-95): 100%|██████████| 2/2 [00:00<00:00,  7.55it/s]"
          ]
        },
        {
          "output_type": "stream",
          "name": "stdout",
          "text": [
            "                   all         44         44      0.485      0.172      0.225      0.115\n"
          ]
        },
        {
          "output_type": "stream",
          "name": "stderr",
          "text": [
            "\n"
          ]
        },
        {
          "output_type": "stream",
          "name": "stdout",
          "text": [
            "\n",
            "      Epoch    GPU_mem   box_loss   cls_loss   dfl_loss  Instances       Size\n"
          ]
        },
        {
          "output_type": "stream",
          "name": "stderr",
          "text": [
            "      3/100     0.623G       1.56       1.47      1.225         17        320: 100%|██████████| 22/22 [00:05<00:00,  4.30it/s]\n",
            "                 Class     Images  Instances      Box(P          R      mAP50  mAP50-95): 100%|██████████| 2/2 [00:00<00:00,  6.44it/s]"
          ]
        },
        {
          "output_type": "stream",
          "name": "stdout",
          "text": [
            "                   all         44         44          1      0.151      0.764      0.348\n"
          ]
        },
        {
          "output_type": "stream",
          "name": "stderr",
          "text": [
            "\n"
          ]
        },
        {
          "output_type": "stream",
          "name": "stdout",
          "text": [
            "\n",
            "      Epoch    GPU_mem   box_loss   cls_loss   dfl_loss  Instances       Size\n"
          ]
        },
        {
          "output_type": "stream",
          "name": "stderr",
          "text": [
            "      4/100     0.617G      1.559      1.317      1.226         25        320: 100%|██████████| 22/22 [00:03<00:00,  5.96it/s]\n",
            "                 Class     Images  Instances      Box(P          R      mAP50  mAP50-95): 100%|██████████| 2/2 [00:00<00:00, 10.41it/s]\n"
          ]
        },
        {
          "output_type": "stream",
          "name": "stdout",
          "text": [
            "                   all         44         44      0.827      0.435      0.637      0.307\n",
            "\n",
            "      Epoch    GPU_mem   box_loss   cls_loss   dfl_loss  Instances       Size\n"
          ]
        },
        {
          "output_type": "stream",
          "name": "stderr",
          "text": [
            "      5/100     0.617G      1.518      1.313      1.198         12        320: 100%|██████████| 22/22 [00:02<00:00,  8.83it/s]\n",
            "                 Class     Images  Instances      Box(P          R      mAP50  mAP50-95): 100%|██████████| 2/2 [00:00<00:00,  9.84it/s]"
          ]
        },
        {
          "output_type": "stream",
          "name": "stdout",
          "text": [
            "                   all         44         44      0.601      0.455      0.547      0.271\n"
          ]
        },
        {
          "output_type": "stream",
          "name": "stderr",
          "text": [
            "\n"
          ]
        },
        {
          "output_type": "stream",
          "name": "stdout",
          "text": [
            "\n",
            "      Epoch    GPU_mem   box_loss   cls_loss   dfl_loss  Instances       Size\n"
          ]
        },
        {
          "output_type": "stream",
          "name": "stderr",
          "text": [
            "      6/100     0.617G      1.452      1.221      1.159         19        320: 100%|██████████| 22/22 [00:08<00:00,  2.73it/s]\n",
            "                 Class     Images  Instances      Box(P          R      mAP50  mAP50-95): 100%|██████████| 2/2 [00:00<00:00,  3.08it/s]"
          ]
        },
        {
          "output_type": "stream",
          "name": "stdout",
          "text": [
            "                   all         44         44      0.533      0.341      0.431      0.221\n"
          ]
        },
        {
          "output_type": "stream",
          "name": "stderr",
          "text": [
            "\n"
          ]
        },
        {
          "output_type": "stream",
          "name": "stdout",
          "text": [
            "\n",
            "      Epoch    GPU_mem   box_loss   cls_loss   dfl_loss  Instances       Size\n"
          ]
        },
        {
          "output_type": "stream",
          "name": "stderr",
          "text": [
            "      7/100     0.617G      1.468      1.152      1.176         15        320: 100%|██████████| 22/22 [00:02<00:00,  8.58it/s]\n",
            "                 Class     Images  Instances      Box(P          R      mAP50  mAP50-95): 100%|██████████| 2/2 [00:00<00:00,  9.05it/s]"
          ]
        },
        {
          "output_type": "stream",
          "name": "stdout",
          "text": [
            "                   all         44         44      0.578       0.75       0.71      0.307\n"
          ]
        },
        {
          "output_type": "stream",
          "name": "stderr",
          "text": [
            "\n"
          ]
        },
        {
          "output_type": "stream",
          "name": "stdout",
          "text": [
            "\n",
            "      Epoch    GPU_mem   box_loss   cls_loss   dfl_loss  Instances       Size\n"
          ]
        },
        {
          "output_type": "stream",
          "name": "stderr",
          "text": [
            "      8/100     0.617G      1.384      1.092      1.163         17        320: 100%|██████████| 22/22 [00:02<00:00,  8.52it/s]\n",
            "                 Class     Images  Instances      Box(P          R      mAP50  mAP50-95): 100%|██████████| 2/2 [00:00<00:00, 10.11it/s]\n"
          ]
        },
        {
          "output_type": "stream",
          "name": "stdout",
          "text": [
            "                   all         44         44      0.787      0.673       0.75      0.383\n",
            "\n",
            "      Epoch    GPU_mem   box_loss   cls_loss   dfl_loss  Instances       Size\n"
          ]
        },
        {
          "output_type": "stream",
          "name": "stderr",
          "text": [
            "      9/100     0.617G      1.405      1.027      1.148         15        320: 100%|██████████| 22/22 [00:02<00:00,  8.73it/s]\n",
            "                 Class     Images  Instances      Box(P          R      mAP50  mAP50-95): 100%|██████████| 2/2 [00:00<00:00,  9.31it/s]"
          ]
        },
        {
          "output_type": "stream",
          "name": "stdout",
          "text": [
            "                   all         44         44      0.834       0.75      0.798       0.37\n"
          ]
        },
        {
          "output_type": "stream",
          "name": "stderr",
          "text": [
            "\n"
          ]
        },
        {
          "output_type": "stream",
          "name": "stdout",
          "text": [
            "\n",
            "      Epoch    GPU_mem   box_loss   cls_loss   dfl_loss  Instances       Size\n"
          ]
        },
        {
          "output_type": "stream",
          "name": "stderr",
          "text": [
            "     10/100     0.617G      1.407      1.004      1.146         18        320: 100%|██████████| 22/22 [00:04<00:00,  4.97it/s]\n",
            "                 Class     Images  Instances      Box(P          R      mAP50  mAP50-95): 100%|██████████| 2/2 [00:00<00:00,  6.60it/s]"
          ]
        },
        {
          "output_type": "stream",
          "name": "stdout",
          "text": [
            "                   all         44         44      0.741      0.456      0.612      0.309\n"
          ]
        },
        {
          "output_type": "stream",
          "name": "stderr",
          "text": [
            "\n"
          ]
        },
        {
          "output_type": "stream",
          "name": "stdout",
          "text": [
            "\n",
            "      Epoch    GPU_mem   box_loss   cls_loss   dfl_loss  Instances       Size\n"
          ]
        },
        {
          "output_type": "stream",
          "name": "stderr",
          "text": [
            "     11/100     0.617G      1.384      1.003      1.118         19        320: 100%|██████████| 22/22 [00:02<00:00,  8.86it/s]\n",
            "                 Class     Images  Instances      Box(P          R      mAP50  mAP50-95): 100%|██████████| 2/2 [00:00<00:00, 10.39it/s]\n"
          ]
        },
        {
          "output_type": "stream",
          "name": "stdout",
          "text": [
            "                   all         44         44      0.583      0.636      0.626      0.318\n",
            "\n",
            "      Epoch    GPU_mem   box_loss   cls_loss   dfl_loss  Instances       Size\n"
          ]
        },
        {
          "output_type": "stream",
          "name": "stderr",
          "text": [
            "     12/100     0.617G      1.384     0.9578       1.14         16        320: 100%|██████████| 22/22 [00:02<00:00,  8.73it/s]\n",
            "                 Class     Images  Instances      Box(P          R      mAP50  mAP50-95): 100%|██████████| 2/2 [00:00<00:00,  9.36it/s]"
          ]
        },
        {
          "output_type": "stream",
          "name": "stdout",
          "text": [
            "                   all         44         44       0.79      0.818      0.785      0.422\n"
          ]
        },
        {
          "output_type": "stream",
          "name": "stderr",
          "text": [
            "\n"
          ]
        },
        {
          "output_type": "stream",
          "name": "stdout",
          "text": [
            "\n",
            "      Epoch    GPU_mem   box_loss   cls_loss   dfl_loss  Instances       Size\n"
          ]
        },
        {
          "output_type": "stream",
          "name": "stderr",
          "text": [
            "     13/100     0.617G      1.416     0.9647      1.153         25        320: 100%|██████████| 22/22 [00:02<00:00,  8.50it/s]\n",
            "                 Class     Images  Instances      Box(P          R      mAP50  mAP50-95): 100%|██████████| 2/2 [00:00<00:00, 10.55it/s]"
          ]
        },
        {
          "output_type": "stream",
          "name": "stdout",
          "text": [
            "                   all         44         44      0.824      0.795      0.848       0.44\n"
          ]
        },
        {
          "output_type": "stream",
          "name": "stderr",
          "text": [
            "\n"
          ]
        },
        {
          "output_type": "stream",
          "name": "stdout",
          "text": [
            "\n",
            "      Epoch    GPU_mem   box_loss   cls_loss   dfl_loss  Instances       Size\n"
          ]
        },
        {
          "output_type": "stream",
          "name": "stderr",
          "text": [
            "     14/100     0.617G       1.36     0.9383      1.124         18        320: 100%|██████████| 22/22 [00:04<00:00,  5.22it/s]\n",
            "                 Class     Images  Instances      Box(P          R      mAP50  mAP50-95): 100%|██████████| 2/2 [00:00<00:00,  6.56it/s]"
          ]
        },
        {
          "output_type": "stream",
          "name": "stdout",
          "text": [
            "                   all         44         44       0.86      0.818      0.787      0.427\n"
          ]
        },
        {
          "output_type": "stream",
          "name": "stderr",
          "text": [
            "\n"
          ]
        },
        {
          "output_type": "stream",
          "name": "stdout",
          "text": [
            "\n",
            "      Epoch    GPU_mem   box_loss   cls_loss   dfl_loss  Instances       Size\n"
          ]
        },
        {
          "output_type": "stream",
          "name": "stderr",
          "text": [
            "     15/100     0.614G       1.31     0.9072      1.104         16        320: 100%|██████████| 22/22 [00:02<00:00,  7.74it/s]\n",
            "                 Class     Images  Instances      Box(P          R      mAP50  mAP50-95): 100%|██████████| 2/2 [00:00<00:00, 10.91it/s]\n"
          ]
        },
        {
          "output_type": "stream",
          "name": "stdout",
          "text": [
            "                   all         44         44       0.78      0.773      0.779      0.439\n",
            "\n",
            "      Epoch    GPU_mem   box_loss   cls_loss   dfl_loss  Instances       Size\n"
          ]
        },
        {
          "output_type": "stream",
          "name": "stderr",
          "text": [
            "     16/100     0.617G      1.304     0.8944      1.132         14        320: 100%|██████████| 22/22 [00:04<00:00,  4.95it/s]\n",
            "                 Class     Images  Instances      Box(P          R      mAP50  mAP50-95): 100%|██████████| 2/2 [00:00<00:00,  4.91it/s]"
          ]
        },
        {
          "output_type": "stream",
          "name": "stdout",
          "text": [
            "                   all         44         44      0.826      0.864      0.851      0.416\n"
          ]
        },
        {
          "output_type": "stream",
          "name": "stderr",
          "text": [
            "\n"
          ]
        },
        {
          "output_type": "stream",
          "name": "stdout",
          "text": [
            "\n",
            "      Epoch    GPU_mem   box_loss   cls_loss   dfl_loss  Instances       Size\n"
          ]
        },
        {
          "output_type": "stream",
          "name": "stderr",
          "text": [
            "     17/100     0.617G       1.27     0.8935      1.123         12        320: 100%|██████████| 22/22 [00:05<00:00,  3.68it/s]\n",
            "                 Class     Images  Instances      Box(P          R      mAP50  mAP50-95): 100%|██████████| 2/2 [00:00<00:00,  6.77it/s]"
          ]
        },
        {
          "output_type": "stream",
          "name": "stdout",
          "text": [
            "                   all         44         44      0.752      0.827      0.811      0.431\n"
          ]
        },
        {
          "output_type": "stream",
          "name": "stderr",
          "text": [
            "\n"
          ]
        },
        {
          "output_type": "stream",
          "name": "stdout",
          "text": [
            "\n",
            "      Epoch    GPU_mem   box_loss   cls_loss   dfl_loss  Instances       Size\n"
          ]
        },
        {
          "output_type": "stream",
          "name": "stderr",
          "text": [
            "     18/100     0.614G      1.358     0.9148      1.142         16        320: 100%|██████████| 22/22 [00:04<00:00,  4.98it/s]\n",
            "                 Class     Images  Instances      Box(P          R      mAP50  mAP50-95): 100%|██████████| 2/2 [00:00<00:00, 10.32it/s]"
          ]
        },
        {
          "output_type": "stream",
          "name": "stdout",
          "text": [
            "                   all         44         44      0.902      0.841      0.868      0.436\n"
          ]
        },
        {
          "output_type": "stream",
          "name": "stderr",
          "text": [
            "\n"
          ]
        },
        {
          "output_type": "stream",
          "name": "stdout",
          "text": [
            "\n",
            "      Epoch    GPU_mem   box_loss   cls_loss   dfl_loss  Instances       Size\n"
          ]
        },
        {
          "output_type": "stream",
          "name": "stderr",
          "text": [
            "     19/100     0.617G      1.307     0.8715      1.104         21        320: 100%|██████████| 22/22 [00:04<00:00,  4.55it/s]\n",
            "                 Class     Images  Instances      Box(P          R      mAP50  mAP50-95): 100%|██████████| 2/2 [00:00<00:00,  6.53it/s]"
          ]
        },
        {
          "output_type": "stream",
          "name": "stdout",
          "text": [
            "                   all         44         44      0.908      0.818      0.871       0.43\n"
          ]
        },
        {
          "output_type": "stream",
          "name": "stderr",
          "text": [
            "\n"
          ]
        },
        {
          "output_type": "stream",
          "name": "stdout",
          "text": [
            "\n",
            "      Epoch    GPU_mem   box_loss   cls_loss   dfl_loss  Instances       Size\n"
          ]
        },
        {
          "output_type": "stream",
          "name": "stderr",
          "text": [
            "     20/100     0.617G      1.303     0.8516      1.103         19        320: 100%|██████████| 22/22 [00:05<00:00,  3.76it/s]\n",
            "                 Class     Images  Instances      Box(P          R      mAP50  mAP50-95): 100%|██████████| 2/2 [00:00<00:00,  6.59it/s]"
          ]
        },
        {
          "output_type": "stream",
          "name": "stdout",
          "text": [
            "                   all         44         44       0.88      0.836      0.885      0.479\n"
          ]
        },
        {
          "output_type": "stream",
          "name": "stderr",
          "text": [
            "\n"
          ]
        },
        {
          "output_type": "stream",
          "name": "stdout",
          "text": [
            "\n",
            "      Epoch    GPU_mem   box_loss   cls_loss   dfl_loss  Instances       Size\n"
          ]
        },
        {
          "output_type": "stream",
          "name": "stderr",
          "text": [
            "     21/100     0.617G      1.289     0.8087      1.064         23        320: 100%|██████████| 22/22 [00:03<00:00,  7.01it/s]\n",
            "                 Class     Images  Instances      Box(P          R      mAP50  mAP50-95): 100%|██████████| 2/2 [00:00<00:00, 10.65it/s]"
          ]
        },
        {
          "output_type": "stream",
          "name": "stdout",
          "text": [
            "                   all         44         44      0.881      0.864       0.86      0.483\n"
          ]
        },
        {
          "output_type": "stream",
          "name": "stderr",
          "text": [
            "\n"
          ]
        },
        {
          "output_type": "stream",
          "name": "stdout",
          "text": [
            "\n",
            "      Epoch    GPU_mem   box_loss   cls_loss   dfl_loss  Instances       Size\n"
          ]
        },
        {
          "output_type": "stream",
          "name": "stderr",
          "text": [
            "     22/100     0.617G       1.25      0.826      1.067         15        320: 100%|██████████| 22/22 [00:02<00:00,  7.60it/s]\n",
            "                 Class     Images  Instances      Box(P          R      mAP50  mAP50-95): 100%|██████████| 2/2 [00:00<00:00,  9.88it/s]"
          ]
        },
        {
          "output_type": "stream",
          "name": "stdout",
          "text": [
            "                   all         44         44      0.919      0.909      0.924      0.472\n"
          ]
        },
        {
          "output_type": "stream",
          "name": "stderr",
          "text": [
            "\n"
          ]
        },
        {
          "output_type": "stream",
          "name": "stdout",
          "text": [
            "\n",
            "      Epoch    GPU_mem   box_loss   cls_loss   dfl_loss  Instances       Size\n"
          ]
        },
        {
          "output_type": "stream",
          "name": "stderr",
          "text": [
            "     23/100     0.617G      1.246     0.7822      1.095         18        320: 100%|██████████| 22/22 [00:02<00:00,  8.04it/s]\n",
            "                 Class     Images  Instances      Box(P          R      mAP50  mAP50-95): 100%|██████████| 2/2 [00:00<00:00,  6.63it/s]"
          ]
        },
        {
          "output_type": "stream",
          "name": "stdout",
          "text": [
            "                   all         44         44       0.86      0.886      0.888      0.459\n"
          ]
        },
        {
          "output_type": "stream",
          "name": "stderr",
          "text": [
            "\n"
          ]
        },
        {
          "output_type": "stream",
          "name": "stdout",
          "text": [
            "\n",
            "      Epoch    GPU_mem   box_loss   cls_loss   dfl_loss  Instances       Size\n"
          ]
        },
        {
          "output_type": "stream",
          "name": "stderr",
          "text": [
            "     24/100     0.617G      1.199     0.7855      1.066         19        320: 100%|██████████| 22/22 [00:04<00:00,  5.13it/s]\n",
            "                 Class     Images  Instances      Box(P          R      mAP50  mAP50-95): 100%|██████████| 2/2 [00:00<00:00,  6.25it/s]"
          ]
        },
        {
          "output_type": "stream",
          "name": "stdout",
          "text": [
            "                   all         44         44      0.869      0.864      0.869       0.46\n"
          ]
        },
        {
          "output_type": "stream",
          "name": "stderr",
          "text": [
            "\n"
          ]
        },
        {
          "output_type": "stream",
          "name": "stdout",
          "text": [
            "\n",
            "      Epoch    GPU_mem   box_loss   cls_loss   dfl_loss  Instances       Size\n"
          ]
        },
        {
          "output_type": "stream",
          "name": "stderr",
          "text": [
            "     25/100     0.617G      1.255     0.7632       1.07         17        320: 100%|██████████| 22/22 [00:02<00:00,  7.48it/s]\n",
            "                 Class     Images  Instances      Box(P          R      mAP50  mAP50-95): 100%|██████████| 2/2 [00:00<00:00, 10.25it/s]"
          ]
        },
        {
          "output_type": "stream",
          "name": "stdout",
          "text": [
            "                   all         44         44      0.865      0.795      0.798      0.404\n"
          ]
        },
        {
          "output_type": "stream",
          "name": "stderr",
          "text": [
            "\n"
          ]
        },
        {
          "output_type": "stream",
          "name": "stdout",
          "text": [
            "\n",
            "      Epoch    GPU_mem   box_loss   cls_loss   dfl_loss  Instances       Size\n"
          ]
        },
        {
          "output_type": "stream",
          "name": "stderr",
          "text": [
            "     26/100     0.617G       1.26     0.7657      1.073         19        320: 100%|██████████| 22/22 [00:02<00:00,  7.84it/s]\n",
            "                 Class     Images  Instances      Box(P          R      mAP50  mAP50-95): 100%|██████████| 2/2 [00:00<00:00,  3.68it/s]"
          ]
        },
        {
          "output_type": "stream",
          "name": "stdout",
          "text": [
            "                   all         44         44      0.863      0.773       0.82      0.444\n"
          ]
        },
        {
          "output_type": "stream",
          "name": "stderr",
          "text": [
            "\n"
          ]
        },
        {
          "output_type": "stream",
          "name": "stdout",
          "text": [
            "\n",
            "      Epoch    GPU_mem   box_loss   cls_loss   dfl_loss  Instances       Size\n"
          ]
        },
        {
          "output_type": "stream",
          "name": "stderr",
          "text": [
            "     27/100     0.617G      1.197     0.7514      1.031         17        320: 100%|██████████| 22/22 [00:02<00:00,  8.04it/s]\n",
            "                 Class     Images  Instances      Box(P          R      mAP50  mAP50-95): 100%|██████████| 2/2 [00:00<00:00,  6.23it/s]"
          ]
        },
        {
          "output_type": "stream",
          "name": "stdout",
          "text": [
            "                   all         44         44      0.838      0.841      0.836      0.478\n"
          ]
        },
        {
          "output_type": "stream",
          "name": "stderr",
          "text": [
            "\n"
          ]
        },
        {
          "output_type": "stream",
          "name": "stdout",
          "text": [
            "\n",
            "      Epoch    GPU_mem   box_loss   cls_loss   dfl_loss  Instances       Size\n"
          ]
        },
        {
          "output_type": "stream",
          "name": "stderr",
          "text": [
            "     28/100     0.617G      1.169     0.7462      1.054         15        320: 100%|██████████| 22/22 [00:06<00:00,  3.59it/s]\n",
            "                 Class     Images  Instances      Box(P          R      mAP50  mAP50-95): 100%|██████████| 2/2 [00:00<00:00,  5.90it/s]"
          ]
        },
        {
          "output_type": "stream",
          "name": "stdout",
          "text": [
            "                   all         44         44      0.929      0.895      0.908      0.503\n"
          ]
        },
        {
          "output_type": "stream",
          "name": "stderr",
          "text": [
            "\n"
          ]
        },
        {
          "output_type": "stream",
          "name": "stdout",
          "text": [
            "\n",
            "      Epoch    GPU_mem   box_loss   cls_loss   dfl_loss  Instances       Size\n"
          ]
        },
        {
          "output_type": "stream",
          "name": "stderr",
          "text": [
            "     29/100     0.617G      1.155     0.7365      1.041         19        320: 100%|██████████| 22/22 [00:02<00:00,  7.73it/s]\n",
            "                 Class     Images  Instances      Box(P          R      mAP50  mAP50-95): 100%|██████████| 2/2 [00:00<00:00, 10.77it/s]\n"
          ]
        },
        {
          "output_type": "stream",
          "name": "stdout",
          "text": [
            "                   all         44         44      0.921      0.864      0.907      0.518\n",
            "\n",
            "      Epoch    GPU_mem   box_loss   cls_loss   dfl_loss  Instances       Size\n"
          ]
        },
        {
          "output_type": "stream",
          "name": "stderr",
          "text": [
            "     30/100     0.617G      1.114     0.6865      1.049         14        320: 100%|██████████| 22/22 [00:02<00:00,  8.67it/s]\n",
            "                 Class     Images  Instances      Box(P          R      mAP50  mAP50-95): 100%|██████████| 2/2 [00:00<00:00, 10.07it/s]"
          ]
        },
        {
          "output_type": "stream",
          "name": "stdout",
          "text": [
            "                   all         44         44      0.866       0.88      0.866      0.463\n"
          ]
        },
        {
          "output_type": "stream",
          "name": "stderr",
          "text": [
            "\n"
          ]
        },
        {
          "output_type": "stream",
          "name": "stdout",
          "text": [
            "\n",
            "      Epoch    GPU_mem   box_loss   cls_loss   dfl_loss  Instances       Size\n"
          ]
        },
        {
          "output_type": "stream",
          "name": "stderr",
          "text": [
            "     31/100     0.617G      1.134     0.7061      1.041         16        320: 100%|██████████| 22/22 [00:02<00:00,  7.63it/s]\n",
            "                 Class     Images  Instances      Box(P          R      mAP50  mAP50-95): 100%|██████████| 2/2 [00:00<00:00,  7.84it/s]"
          ]
        },
        {
          "output_type": "stream",
          "name": "stdout",
          "text": [
            "                   all         44         44      0.871      0.841      0.854      0.479\n"
          ]
        },
        {
          "output_type": "stream",
          "name": "stderr",
          "text": [
            "\n"
          ]
        },
        {
          "output_type": "stream",
          "name": "stdout",
          "text": [
            "\n",
            "      Epoch    GPU_mem   box_loss   cls_loss   dfl_loss  Instances       Size\n"
          ]
        },
        {
          "output_type": "stream",
          "name": "stderr",
          "text": [
            "     32/100     0.617G       1.15      0.723      1.044         14        320: 100%|██████████| 22/22 [00:04<00:00,  4.98it/s]\n",
            "                 Class     Images  Instances      Box(P          R      mAP50  mAP50-95): 100%|██████████| 2/2 [00:00<00:00,  6.15it/s]"
          ]
        },
        {
          "output_type": "stream",
          "name": "stdout",
          "text": [
            "                   all         44         44      0.857      0.886      0.929       0.52\n"
          ]
        },
        {
          "output_type": "stream",
          "name": "stderr",
          "text": [
            "\n"
          ]
        },
        {
          "output_type": "stream",
          "name": "stdout",
          "text": [
            "\n",
            "      Epoch    GPU_mem   box_loss   cls_loss   dfl_loss  Instances       Size\n"
          ]
        },
        {
          "output_type": "stream",
          "name": "stderr",
          "text": [
            "     33/100     0.614G      1.123      0.702      1.035         12        320: 100%|██████████| 22/22 [00:02<00:00,  8.75it/s]\n",
            "                 Class     Images  Instances      Box(P          R      mAP50  mAP50-95): 100%|██████████| 2/2 [00:00<00:00, 10.16it/s]\n"
          ]
        },
        {
          "output_type": "stream",
          "name": "stdout",
          "text": [
            "                   all         44         44      0.852      0.783      0.862      0.459\n",
            "\n",
            "      Epoch    GPU_mem   box_loss   cls_loss   dfl_loss  Instances       Size\n"
          ]
        },
        {
          "output_type": "stream",
          "name": "stderr",
          "text": [
            "     34/100     0.617G      1.088     0.6906      1.026         22        320: 100%|██████████| 22/22 [00:02<00:00,  7.47it/s]\n",
            "                 Class     Images  Instances      Box(P          R      mAP50  mAP50-95): 100%|██████████| 2/2 [00:00<00:00,  5.70it/s]"
          ]
        },
        {
          "output_type": "stream",
          "name": "stdout",
          "text": [
            "                   all         44         44      0.864      0.866      0.909      0.501\n"
          ]
        },
        {
          "output_type": "stream",
          "name": "stderr",
          "text": [
            "\n"
          ]
        },
        {
          "output_type": "stream",
          "name": "stdout",
          "text": [
            "\n",
            "      Epoch    GPU_mem   box_loss   cls_loss   dfl_loss  Instances       Size\n"
          ]
        },
        {
          "output_type": "stream",
          "name": "stderr",
          "text": [
            "     35/100     0.617G      1.135     0.7173      1.025         21        320: 100%|██████████| 22/22 [00:03<00:00,  7.18it/s]\n",
            "                 Class     Images  Instances      Box(P          R      mAP50  mAP50-95): 100%|██████████| 2/2 [00:00<00:00,  5.90it/s]"
          ]
        },
        {
          "output_type": "stream",
          "name": "stdout",
          "text": [
            "                   all         44         44      0.925      0.839      0.898      0.517\n"
          ]
        },
        {
          "output_type": "stream",
          "name": "stderr",
          "text": [
            "\n"
          ]
        },
        {
          "output_type": "stream",
          "name": "stdout",
          "text": [
            "\n",
            "      Epoch    GPU_mem   box_loss   cls_loss   dfl_loss  Instances       Size\n"
          ]
        },
        {
          "output_type": "stream",
          "name": "stderr",
          "text": [
            "     36/100     0.617G      1.088     0.6707      1.019         16        320: 100%|██████████| 22/22 [00:06<00:00,  3.41it/s]\n",
            "                 Class     Images  Instances      Box(P          R      mAP50  mAP50-95): 100%|██████████| 2/2 [00:00<00:00,  6.22it/s]"
          ]
        },
        {
          "output_type": "stream",
          "name": "stdout",
          "text": [
            "                   all         44         44      0.899      0.805      0.899      0.511\n"
          ]
        },
        {
          "output_type": "stream",
          "name": "stderr",
          "text": [
            "\n"
          ]
        },
        {
          "output_type": "stream",
          "name": "stdout",
          "text": [
            "\n",
            "      Epoch    GPU_mem   box_loss   cls_loss   dfl_loss  Instances       Size\n"
          ]
        },
        {
          "output_type": "stream",
          "name": "stderr",
          "text": [
            "     37/100     0.617G      1.076     0.6508      1.013         20        320: 100%|██████████| 22/22 [00:03<00:00,  6.78it/s]\n",
            "                 Class     Images  Instances      Box(P          R      mAP50  mAP50-95): 100%|██████████| 2/2 [00:00<00:00, 10.02it/s]"
          ]
        },
        {
          "output_type": "stream",
          "name": "stdout",
          "text": [
            "                   all         44         44      0.918      0.795      0.866      0.461\n"
          ]
        },
        {
          "output_type": "stream",
          "name": "stderr",
          "text": [
            "\n"
          ]
        },
        {
          "output_type": "stream",
          "name": "stdout",
          "text": [
            "\n",
            "      Epoch    GPU_mem   box_loss   cls_loss   dfl_loss  Instances       Size\n"
          ]
        },
        {
          "output_type": "stream",
          "name": "stderr",
          "text": [
            "     38/100     0.617G      1.064     0.6633      1.002         18        320: 100%|██████████| 22/22 [00:02<00:00,  7.84it/s]\n",
            "                 Class     Images  Instances      Box(P          R      mAP50  mAP50-95): 100%|██████████| 2/2 [00:00<00:00, 10.64it/s]"
          ]
        },
        {
          "output_type": "stream",
          "name": "stdout",
          "text": [
            "                   all         44         44       0.86      0.837      0.863      0.492\n"
          ]
        },
        {
          "output_type": "stream",
          "name": "stderr",
          "text": [
            "\n"
          ]
        },
        {
          "output_type": "stream",
          "name": "stdout",
          "text": [
            "\n",
            "      Epoch    GPU_mem   box_loss   cls_loss   dfl_loss  Instances       Size\n"
          ]
        },
        {
          "output_type": "stream",
          "name": "stderr",
          "text": [
            "     39/100     0.617G      1.106     0.6711       1.03         17        320: 100%|██████████| 22/22 [00:07<00:00,  3.01it/s]\n",
            "                 Class     Images  Instances      Box(P          R      mAP50  mAP50-95): 100%|██████████| 2/2 [00:01<00:00,  1.34it/s]"
          ]
        },
        {
          "output_type": "stream",
          "name": "stdout",
          "text": [
            "                   all         44         44      0.882      0.886      0.903      0.482\n"
          ]
        },
        {
          "output_type": "stream",
          "name": "stderr",
          "text": [
            "\n"
          ]
        },
        {
          "output_type": "stream",
          "name": "stdout",
          "text": [
            "\n",
            "      Epoch    GPU_mem   box_loss   cls_loss   dfl_loss  Instances       Size\n"
          ]
        },
        {
          "output_type": "stream",
          "name": "stderr",
          "text": [
            "     40/100     0.617G      1.046     0.6456      1.003         16        320: 100%|██████████| 22/22 [00:05<00:00,  4.27it/s]\n",
            "                 Class     Images  Instances      Box(P          R      mAP50  mAP50-95): 100%|██████████| 2/2 [00:00<00:00,  4.42it/s]"
          ]
        },
        {
          "output_type": "stream",
          "name": "stdout",
          "text": [
            "                   all         44         44       0.86      0.838      0.865      0.497\n"
          ]
        },
        {
          "output_type": "stream",
          "name": "stderr",
          "text": [
            "\n"
          ]
        },
        {
          "output_type": "stream",
          "name": "stdout",
          "text": [
            "\n",
            "      Epoch    GPU_mem   box_loss   cls_loss   dfl_loss  Instances       Size\n"
          ]
        },
        {
          "output_type": "stream",
          "name": "stderr",
          "text": [
            "     41/100     0.617G      1.022     0.6311      1.001         10        320: 100%|██████████| 22/22 [00:02<00:00,  8.61it/s]\n",
            "                 Class     Images  Instances      Box(P          R      mAP50  mAP50-95): 100%|██████████| 2/2 [00:00<00:00,  6.60it/s]"
          ]
        },
        {
          "output_type": "stream",
          "name": "stdout",
          "text": [
            "                   all         44         44      0.924      0.824      0.881      0.514\n"
          ]
        },
        {
          "output_type": "stream",
          "name": "stderr",
          "text": [
            "\n"
          ]
        },
        {
          "output_type": "stream",
          "name": "stdout",
          "text": [
            "\n",
            "      Epoch    GPU_mem   box_loss   cls_loss   dfl_loss  Instances       Size\n"
          ]
        },
        {
          "output_type": "stream",
          "name": "stderr",
          "text": [
            "     42/100     0.617G      1.017     0.6571     0.9902         17        320: 100%|██████████| 22/22 [00:06<00:00,  3.45it/s]\n",
            "                 Class     Images  Instances      Box(P          R      mAP50  mAP50-95): 100%|██████████| 2/2 [00:00<00:00,  5.58it/s]"
          ]
        },
        {
          "output_type": "stream",
          "name": "stdout",
          "text": [
            "                   all         44         44      0.958      0.818      0.889      0.512\n"
          ]
        },
        {
          "output_type": "stream",
          "name": "stderr",
          "text": [
            "\n"
          ]
        },
        {
          "output_type": "stream",
          "name": "stdout",
          "text": [
            "\n",
            "      Epoch    GPU_mem   box_loss   cls_loss   dfl_loss  Instances       Size\n"
          ]
        },
        {
          "output_type": "stream",
          "name": "stderr",
          "text": [
            "     43/100     0.617G      1.104     0.6544      1.028         18        320: 100%|██████████| 22/22 [00:02<00:00,  8.11it/s]\n",
            "                 Class     Images  Instances      Box(P          R      mAP50  mAP50-95): 100%|██████████| 2/2 [00:00<00:00,  4.32it/s]"
          ]
        },
        {
          "output_type": "stream",
          "name": "stdout",
          "text": [
            "                   all         44         44      0.829      0.882      0.875      0.494\n"
          ]
        },
        {
          "output_type": "stream",
          "name": "stderr",
          "text": [
            "\n"
          ]
        },
        {
          "output_type": "stream",
          "name": "stdout",
          "text": [
            "\n",
            "      Epoch    GPU_mem   box_loss   cls_loss   dfl_loss  Instances       Size\n"
          ]
        },
        {
          "output_type": "stream",
          "name": "stderr",
          "text": [
            "     44/100     0.617G      1.023     0.6218      1.006         18        320: 100%|██████████| 22/22 [00:03<00:00,  6.19it/s]\n",
            "                 Class     Images  Instances      Box(P          R      mAP50  mAP50-95): 100%|██████████| 2/2 [00:00<00:00,  5.50it/s]"
          ]
        },
        {
          "output_type": "stream",
          "name": "stdout",
          "text": [
            "                   all         44         44      0.927      0.886      0.923      0.481\n"
          ]
        },
        {
          "output_type": "stream",
          "name": "stderr",
          "text": [
            "\n"
          ]
        },
        {
          "output_type": "stream",
          "name": "stdout",
          "text": [
            "\n",
            "      Epoch    GPU_mem   box_loss   cls_loss   dfl_loss  Instances       Size\n"
          ]
        },
        {
          "output_type": "stream",
          "name": "stderr",
          "text": [
            "     45/100     0.617G      1.068     0.6573      1.004         25        320: 100%|██████████| 22/22 [00:06<00:00,  3.24it/s]\n",
            "                 Class     Images  Instances      Box(P          R      mAP50  mAP50-95): 100%|██████████| 2/2 [00:00<00:00,  6.71it/s]"
          ]
        },
        {
          "output_type": "stream",
          "name": "stdout",
          "text": [
            "                   all         44         44      0.958      0.818      0.884      0.518\n"
          ]
        },
        {
          "output_type": "stream",
          "name": "stderr",
          "text": [
            "\n"
          ]
        },
        {
          "output_type": "stream",
          "name": "stdout",
          "text": [
            "\n",
            "      Epoch    GPU_mem   box_loss   cls_loss   dfl_loss  Instances       Size\n"
          ]
        },
        {
          "output_type": "stream",
          "name": "stderr",
          "text": [
            "     46/100     0.617G      1.017     0.6157      1.007         21        320: 100%|██████████| 22/22 [00:02<00:00,  7.81it/s]\n",
            "                 Class     Images  Instances      Box(P          R      mAP50  mAP50-95): 100%|██████████| 2/2 [00:00<00:00,  6.52it/s]"
          ]
        },
        {
          "output_type": "stream",
          "name": "stdout",
          "text": [
            "                   all         44         44      0.921      0.794      0.868      0.512\n"
          ]
        },
        {
          "output_type": "stream",
          "name": "stderr",
          "text": [
            "\n"
          ]
        },
        {
          "output_type": "stream",
          "name": "stdout",
          "text": [
            "\n",
            "      Epoch    GPU_mem   box_loss   cls_loss   dfl_loss  Instances       Size\n"
          ]
        },
        {
          "output_type": "stream",
          "name": "stderr",
          "text": [
            "     47/100     0.614G     0.9992      0.599     0.9736         13        320: 100%|██████████| 22/22 [00:03<00:00,  6.21it/s]\n",
            "                 Class     Images  Instances      Box(P          R      mAP50  mAP50-95): 100%|██████████| 2/2 [00:00<00:00,  6.51it/s]"
          ]
        },
        {
          "output_type": "stream",
          "name": "stdout",
          "text": [
            "                   all         44         44      0.939      0.795      0.863      0.511\n"
          ]
        },
        {
          "output_type": "stream",
          "name": "stderr",
          "text": [
            "\n"
          ]
        },
        {
          "output_type": "stream",
          "name": "stdout",
          "text": [
            "\n",
            "      Epoch    GPU_mem   box_loss   cls_loss   dfl_loss  Instances       Size\n"
          ]
        },
        {
          "output_type": "stream",
          "name": "stderr",
          "text": [
            "     48/100     0.617G      1.035      0.613     0.9936         17        320: 100%|██████████| 22/22 [00:03<00:00,  6.40it/s]\n",
            "                 Class     Images  Instances      Box(P          R      mAP50  mAP50-95): 100%|██████████| 2/2 [00:00<00:00,  3.75it/s]"
          ]
        },
        {
          "output_type": "stream",
          "name": "stdout",
          "text": [
            "                   all         44         44      0.907      0.885        0.9      0.519\n"
          ]
        },
        {
          "output_type": "stream",
          "name": "stderr",
          "text": [
            "\n"
          ]
        },
        {
          "output_type": "stream",
          "name": "stdout",
          "text": [
            "\n",
            "      Epoch    GPU_mem   box_loss   cls_loss   dfl_loss  Instances       Size\n"
          ]
        },
        {
          "output_type": "stream",
          "name": "stderr",
          "text": [
            "     49/100     0.617G     0.9695     0.5821     0.9798         15        320: 100%|██████████| 22/22 [00:03<00:00,  5.55it/s]\n",
            "                 Class     Images  Instances      Box(P          R      mAP50  mAP50-95): 100%|██████████| 2/2 [00:00<00:00,  8.51it/s]"
          ]
        },
        {
          "output_type": "stream",
          "name": "stdout",
          "text": [
            "                   all         44         44      0.904      0.864      0.905       0.51\n"
          ]
        },
        {
          "output_type": "stream",
          "name": "stderr",
          "text": [
            "\n"
          ]
        },
        {
          "output_type": "stream",
          "name": "stdout",
          "text": [
            "\n",
            "      Epoch    GPU_mem   box_loss   cls_loss   dfl_loss  Instances       Size\n"
          ]
        },
        {
          "output_type": "stream",
          "name": "stderr",
          "text": [
            "     50/100     0.617G     0.9714     0.6119     0.9813         18        320: 100%|██████████| 22/22 [00:03<00:00,  5.75it/s]\n",
            "                 Class     Images  Instances      Box(P          R      mAP50  mAP50-95): 100%|██████████| 2/2 [00:00<00:00,  7.01it/s]"
          ]
        },
        {
          "output_type": "stream",
          "name": "stdout",
          "text": [
            "                   all         44         44      0.904      0.864      0.906      0.506\n"
          ]
        },
        {
          "output_type": "stream",
          "name": "stderr",
          "text": [
            "\n"
          ]
        },
        {
          "output_type": "stream",
          "name": "stdout",
          "text": [
            "\n",
            "      Epoch    GPU_mem   box_loss   cls_loss   dfl_loss  Instances       Size\n"
          ]
        },
        {
          "output_type": "stream",
          "name": "stderr",
          "text": [
            "     51/100     0.617G     0.9918     0.5983     0.9829         21        320: 100%|██████████| 22/22 [00:02<00:00,  8.46it/s]\n",
            "                 Class     Images  Instances      Box(P          R      mAP50  mAP50-95): 100%|██████████| 2/2 [00:00<00:00,  7.42it/s]"
          ]
        },
        {
          "output_type": "stream",
          "name": "stdout",
          "text": [
            "                   all         44         44      0.966      0.818      0.903      0.502\n"
          ]
        },
        {
          "output_type": "stream",
          "name": "stderr",
          "text": [
            "\n"
          ]
        },
        {
          "output_type": "stream",
          "name": "stdout",
          "text": [
            "\n",
            "      Epoch    GPU_mem   box_loss   cls_loss   dfl_loss  Instances       Size\n"
          ]
        },
        {
          "output_type": "stream",
          "name": "stderr",
          "text": [
            "     52/100     0.617G     0.9801     0.5874     0.9728         22        320: 100%|██████████| 22/22 [00:04<00:00,  5.33it/s]\n",
            "                 Class     Images  Instances      Box(P          R      mAP50  mAP50-95): 100%|██████████| 2/2 [00:00<00:00,  7.51it/s]"
          ]
        },
        {
          "output_type": "stream",
          "name": "stdout",
          "text": [
            "                   all         44         44       0.94      0.818      0.879      0.526\n"
          ]
        },
        {
          "output_type": "stream",
          "name": "stderr",
          "text": [
            "\n"
          ]
        },
        {
          "output_type": "stream",
          "name": "stdout",
          "text": [
            "\n",
            "      Epoch    GPU_mem   box_loss   cls_loss   dfl_loss  Instances       Size\n"
          ]
        },
        {
          "output_type": "stream",
          "name": "stderr",
          "text": [
            "     53/100     0.614G     0.9582     0.5775      0.979         13        320: 100%|██████████| 22/22 [00:02<00:00,  7.80it/s]\n",
            "                 Class     Images  Instances      Box(P          R      mAP50  mAP50-95): 100%|██████████| 2/2 [00:00<00:00, 10.04it/s]"
          ]
        },
        {
          "output_type": "stream",
          "name": "stdout",
          "text": [
            "                   all         44         44      0.965      0.841      0.894      0.546\n"
          ]
        },
        {
          "output_type": "stream",
          "name": "stderr",
          "text": [
            "\n"
          ]
        },
        {
          "output_type": "stream",
          "name": "stdout",
          "text": [
            "\n",
            "      Epoch    GPU_mem   box_loss   cls_loss   dfl_loss  Instances       Size\n"
          ]
        },
        {
          "output_type": "stream",
          "name": "stderr",
          "text": [
            "     54/100     0.614G     0.9468     0.5595     0.9486         16        320: 100%|██████████| 22/22 [00:04<00:00,  5.00it/s]\n",
            "                 Class     Images  Instances      Box(P          R      mAP50  mAP50-95): 100%|██████████| 2/2 [00:00<00:00,  3.88it/s]"
          ]
        },
        {
          "output_type": "stream",
          "name": "stdout",
          "text": [
            "                   all         44         44      0.876      0.841      0.851      0.512\n"
          ]
        },
        {
          "output_type": "stream",
          "name": "stderr",
          "text": [
            "\n"
          ]
        },
        {
          "output_type": "stream",
          "name": "stdout",
          "text": [
            "\n",
            "      Epoch    GPU_mem   box_loss   cls_loss   dfl_loss  Instances       Size\n"
          ]
        },
        {
          "output_type": "stream",
          "name": "stderr",
          "text": [
            "     55/100     0.614G     0.9414      0.562     0.9756         17        320: 100%|██████████| 22/22 [00:06<00:00,  3.59it/s]\n",
            "                 Class     Images  Instances      Box(P          R      mAP50  mAP50-95): 100%|██████████| 2/2 [00:00<00:00,  6.38it/s]"
          ]
        },
        {
          "output_type": "stream",
          "name": "stdout",
          "text": [
            "                   all         44         44      0.912      0.795      0.874      0.504\n"
          ]
        },
        {
          "output_type": "stream",
          "name": "stderr",
          "text": [
            "\n"
          ]
        },
        {
          "output_type": "stream",
          "name": "stdout",
          "text": [
            "\n",
            "      Epoch    GPU_mem   box_loss   cls_loss   dfl_loss  Instances       Size\n"
          ]
        },
        {
          "output_type": "stream",
          "name": "stderr",
          "text": [
            "     56/100     0.617G     0.9785     0.5891     0.9857         18        320: 100%|██████████| 22/22 [00:02<00:00,  7.61it/s]\n",
            "                 Class     Images  Instances      Box(P          R      mAP50  mAP50-95): 100%|██████████| 2/2 [00:00<00:00, 11.01it/s]\n"
          ]
        },
        {
          "output_type": "stream",
          "name": "stdout",
          "text": [
            "                   all         44         44      0.923      0.813      0.881      0.515\n",
            "\n",
            "      Epoch    GPU_mem   box_loss   cls_loss   dfl_loss  Instances       Size\n"
          ]
        },
        {
          "output_type": "stream",
          "name": "stderr",
          "text": [
            "     57/100     0.614G     0.9355     0.5597     0.9601         14        320: 100%|██████████| 22/22 [00:03<00:00,  7.23it/s]\n",
            "                 Class     Images  Instances      Box(P          R      mAP50  mAP50-95): 100%|██████████| 2/2 [00:00<00:00, 10.54it/s]"
          ]
        },
        {
          "output_type": "stream",
          "name": "stdout",
          "text": [
            "                   all         44         44       0.84      0.886      0.887      0.512\n"
          ]
        },
        {
          "output_type": "stream",
          "name": "stderr",
          "text": [
            "\n"
          ]
        },
        {
          "output_type": "stream",
          "name": "stdout",
          "text": [
            "\n",
            "      Epoch    GPU_mem   box_loss   cls_loss   dfl_loss  Instances       Size\n"
          ]
        },
        {
          "output_type": "stream",
          "name": "stderr",
          "text": [
            "     58/100     0.614G     0.9506     0.5682     0.9602         17        320: 100%|██████████| 22/22 [00:02<00:00,  7.55it/s]\n",
            "                 Class     Images  Instances      Box(P          R      mAP50  mAP50-95): 100%|██████████| 2/2 [00:00<00:00, 10.53it/s]"
          ]
        },
        {
          "output_type": "stream",
          "name": "stdout",
          "text": [
            "                   all         44         44      0.852      0.864      0.884       0.51\n"
          ]
        },
        {
          "output_type": "stream",
          "name": "stderr",
          "text": [
            "\n"
          ]
        },
        {
          "output_type": "stream",
          "name": "stdout",
          "text": [
            "\n",
            "      Epoch    GPU_mem   box_loss   cls_loss   dfl_loss  Instances       Size\n"
          ]
        },
        {
          "output_type": "stream",
          "name": "stderr",
          "text": [
            "     59/100     0.614G      0.932     0.5712     0.9616         12        320: 100%|██████████| 22/22 [00:04<00:00,  5.09it/s]\n",
            "                 Class     Images  Instances      Box(P          R      mAP50  mAP50-95): 100%|██████████| 2/2 [00:00<00:00,  6.30it/s]"
          ]
        },
        {
          "output_type": "stream",
          "name": "stdout",
          "text": [
            "                   all         44         44      0.865      0.886      0.899      0.501\n"
          ]
        },
        {
          "output_type": "stream",
          "name": "stderr",
          "text": [
            "\n"
          ]
        },
        {
          "output_type": "stream",
          "name": "stdout",
          "text": [
            "\n",
            "      Epoch    GPU_mem   box_loss   cls_loss   dfl_loss  Instances       Size\n"
          ]
        },
        {
          "output_type": "stream",
          "name": "stderr",
          "text": [
            "     60/100     0.617G     0.9422      0.559     0.9674         19        320: 100%|██████████| 22/22 [00:03<00:00,  6.99it/s]\n",
            "                 Class     Images  Instances      Box(P          R      mAP50  mAP50-95): 100%|██████████| 2/2 [00:00<00:00, 10.63it/s]"
          ]
        },
        {
          "output_type": "stream",
          "name": "stdout",
          "text": [
            "                   all         44         44      0.875      0.951      0.933      0.538\n"
          ]
        },
        {
          "output_type": "stream",
          "name": "stderr",
          "text": [
            "\n"
          ]
        },
        {
          "output_type": "stream",
          "name": "stdout",
          "text": [
            "\n",
            "      Epoch    GPU_mem   box_loss   cls_loss   dfl_loss  Instances       Size\n"
          ]
        },
        {
          "output_type": "stream",
          "name": "stderr",
          "text": [
            "     61/100     0.617G     0.8963      0.548     0.9634         20        320: 100%|██████████| 22/22 [00:02<00:00,  8.67it/s]\n",
            "                 Class     Images  Instances      Box(P          R      mAP50  mAP50-95): 100%|██████████| 2/2 [00:00<00:00, 10.66it/s]"
          ]
        },
        {
          "output_type": "stream",
          "name": "stdout",
          "text": [
            "                   all         44         44      0.872      0.928       0.94      0.552\n"
          ]
        },
        {
          "output_type": "stream",
          "name": "stderr",
          "text": [
            "\n"
          ]
        },
        {
          "output_type": "stream",
          "name": "stdout",
          "text": [
            "\n",
            "      Epoch    GPU_mem   box_loss   cls_loss   dfl_loss  Instances       Size\n"
          ]
        },
        {
          "output_type": "stream",
          "name": "stderr",
          "text": [
            "     62/100     0.617G      0.948     0.5528     0.9749         15        320: 100%|██████████| 22/22 [00:02<00:00,  8.83it/s]\n",
            "                 Class     Images  Instances      Box(P          R      mAP50  mAP50-95): 100%|██████████| 2/2 [00:00<00:00, 10.22it/s]\n"
          ]
        },
        {
          "output_type": "stream",
          "name": "stdout",
          "text": [
            "                   all         44         44        0.9      0.821      0.895      0.532\n",
            "\n",
            "      Epoch    GPU_mem   box_loss   cls_loss   dfl_loss  Instances       Size\n"
          ]
        },
        {
          "output_type": "stream",
          "name": "stderr",
          "text": [
            "     63/100     0.617G     0.9108     0.5506     0.9574         21        320: 100%|██████████| 22/22 [00:03<00:00,  6.50it/s]\n",
            "                 Class     Images  Instances      Box(P          R      mAP50  mAP50-95): 100%|██████████| 2/2 [00:00<00:00,  6.73it/s]"
          ]
        },
        {
          "output_type": "stream",
          "name": "stdout",
          "text": [
            "                   all         44         44      0.826      0.886      0.884      0.523\n"
          ]
        },
        {
          "output_type": "stream",
          "name": "stderr",
          "text": [
            "\n"
          ]
        },
        {
          "output_type": "stream",
          "name": "stdout",
          "text": [
            "\n",
            "      Epoch    GPU_mem   box_loss   cls_loss   dfl_loss  Instances       Size\n"
          ]
        },
        {
          "output_type": "stream",
          "name": "stderr",
          "text": [
            "     64/100     0.614G     0.8784     0.5513      0.951         13        320: 100%|██████████| 22/22 [00:04<00:00,  5.29it/s]\n",
            "                 Class     Images  Instances      Box(P          R      mAP50  mAP50-95): 100%|██████████| 2/2 [00:00<00:00, 10.64it/s]"
          ]
        },
        {
          "output_type": "stream",
          "name": "stdout",
          "text": [
            "                   all         44         44      0.849      0.932      0.933      0.535\n"
          ]
        },
        {
          "output_type": "stream",
          "name": "stderr",
          "text": [
            "\n"
          ]
        },
        {
          "output_type": "stream",
          "name": "stdout",
          "text": [
            "\n",
            "      Epoch    GPU_mem   box_loss   cls_loss   dfl_loss  Instances       Size\n"
          ]
        },
        {
          "output_type": "stream",
          "name": "stderr",
          "text": [
            "     65/100     0.617G     0.9131      0.548     0.9845         16        320: 100%|██████████| 22/22 [00:02<00:00,  8.80it/s]\n",
            "                 Class     Images  Instances      Box(P          R      mAP50  mAP50-95): 100%|██████████| 2/2 [00:00<00:00, 10.57it/s]"
          ]
        },
        {
          "output_type": "stream",
          "name": "stdout",
          "text": [
            "                   all         44         44      0.831      0.909      0.908      0.538\n"
          ]
        },
        {
          "output_type": "stream",
          "name": "stderr",
          "text": [
            "\n"
          ]
        },
        {
          "output_type": "stream",
          "name": "stdout",
          "text": [
            "\n",
            "      Epoch    GPU_mem   box_loss   cls_loss   dfl_loss  Instances       Size\n"
          ]
        },
        {
          "output_type": "stream",
          "name": "stderr",
          "text": [
            "     66/100     0.617G     0.8949     0.5523     0.9529         15        320: 100%|██████████| 22/22 [00:02<00:00,  8.71it/s]\n",
            "                 Class     Images  Instances      Box(P          R      mAP50  mAP50-95): 100%|██████████| 2/2 [00:00<00:00, 10.48it/s]"
          ]
        },
        {
          "output_type": "stream",
          "name": "stdout",
          "text": [
            "                   all         44         44      0.857      0.819      0.863      0.489\n"
          ]
        },
        {
          "output_type": "stream",
          "name": "stderr",
          "text": [
            "\n"
          ]
        },
        {
          "output_type": "stream",
          "name": "stdout",
          "text": [
            "\n",
            "      Epoch    GPU_mem   box_loss   cls_loss   dfl_loss  Instances       Size\n"
          ]
        },
        {
          "output_type": "stream",
          "name": "stderr",
          "text": [
            "     67/100     0.617G     0.8669     0.5309     0.9347         14        320: 100%|██████████| 22/22 [00:02<00:00,  8.15it/s]\n",
            "                 Class     Images  Instances      Box(P          R      mAP50  mAP50-95): 100%|██████████| 2/2 [00:00<00:00,  6.69it/s]"
          ]
        },
        {
          "output_type": "stream",
          "name": "stdout",
          "text": [
            "                   all         44         44      0.849      0.886      0.877      0.492\n"
          ]
        },
        {
          "output_type": "stream",
          "name": "stderr",
          "text": [
            "\n"
          ]
        },
        {
          "output_type": "stream",
          "name": "stdout",
          "text": [
            "\n",
            "      Epoch    GPU_mem   box_loss   cls_loss   dfl_loss  Instances       Size\n"
          ]
        },
        {
          "output_type": "stream",
          "name": "stderr",
          "text": [
            "     68/100     0.617G     0.8676     0.5274     0.9625         19        320: 100%|██████████| 22/22 [00:04<00:00,  4.96it/s]\n",
            "                 Class     Images  Instances      Box(P          R      mAP50  mAP50-95): 100%|██████████| 2/2 [00:00<00:00,  6.29it/s]"
          ]
        },
        {
          "output_type": "stream",
          "name": "stdout",
          "text": [
            "                   all         44         44      0.812      0.886      0.871      0.507\n"
          ]
        },
        {
          "output_type": "stream",
          "name": "stderr",
          "text": [
            "\n"
          ]
        },
        {
          "output_type": "stream",
          "name": "stdout",
          "text": [
            "\n",
            "      Epoch    GPU_mem   box_loss   cls_loss   dfl_loss  Instances       Size\n"
          ]
        },
        {
          "output_type": "stream",
          "name": "stderr",
          "text": [
            "     69/100     0.614G     0.8415     0.5287     0.9459         15        320: 100%|██████████| 22/22 [00:03<00:00,  7.22it/s]\n",
            "                 Class     Images  Instances      Box(P          R      mAP50  mAP50-95): 100%|██████████| 2/2 [00:00<00:00, 11.05it/s]\n"
          ]
        },
        {
          "output_type": "stream",
          "name": "stdout",
          "text": [
            "                   all         44         44      0.826      0.886      0.876      0.506\n",
            "\n",
            "      Epoch    GPU_mem   box_loss   cls_loss   dfl_loss  Instances       Size\n"
          ]
        },
        {
          "output_type": "stream",
          "name": "stderr",
          "text": [
            "     70/100     0.617G     0.8362     0.5179     0.9354         20        320: 100%|██████████| 22/22 [00:02<00:00,  7.45it/s]\n",
            "                 Class     Images  Instances      Box(P          R      mAP50  mAP50-95): 100%|██████████| 2/2 [00:00<00:00,  7.72it/s]"
          ]
        },
        {
          "output_type": "stream",
          "name": "stdout",
          "text": [
            "                   all         44         44       0.88      0.886      0.924      0.517\n"
          ]
        },
        {
          "output_type": "stream",
          "name": "stderr",
          "text": [
            "\n"
          ]
        },
        {
          "output_type": "stream",
          "name": "stdout",
          "text": [
            "\n",
            "      Epoch    GPU_mem   box_loss   cls_loss   dfl_loss  Instances       Size\n"
          ]
        },
        {
          "output_type": "stream",
          "name": "stderr",
          "text": [
            "     71/100     0.617G     0.8525     0.5177     0.9382         20        320: 100%|██████████| 22/22 [00:02<00:00,  8.54it/s]\n",
            "                 Class     Images  Instances      Box(P          R      mAP50  mAP50-95): 100%|██████████| 2/2 [00:00<00:00,  6.94it/s]"
          ]
        },
        {
          "output_type": "stream",
          "name": "stdout",
          "text": [
            "                   all         44         44       0.89      0.923       0.93      0.527\n"
          ]
        },
        {
          "output_type": "stream",
          "name": "stderr",
          "text": [
            "\n"
          ]
        },
        {
          "output_type": "stream",
          "name": "stdout",
          "text": [
            "\n",
            "      Epoch    GPU_mem   box_loss   cls_loss   dfl_loss  Instances       Size\n"
          ]
        },
        {
          "output_type": "stream",
          "name": "stderr",
          "text": [
            "     72/100     0.617G     0.8681     0.5116     0.9543         17        320: 100%|██████████| 22/22 [00:04<00:00,  4.71it/s]\n",
            "                 Class     Images  Instances      Box(P          R      mAP50  mAP50-95): 100%|██████████| 2/2 [00:00<00:00,  6.34it/s]"
          ]
        },
        {
          "output_type": "stream",
          "name": "stdout",
          "text": [
            "                   all         44         44      0.907      0.886      0.919      0.529\n"
          ]
        },
        {
          "output_type": "stream",
          "name": "stderr",
          "text": [
            "\n"
          ]
        },
        {
          "output_type": "stream",
          "name": "stdout",
          "text": [
            "\n",
            "      Epoch    GPU_mem   box_loss   cls_loss   dfl_loss  Instances       Size\n"
          ]
        },
        {
          "output_type": "stream",
          "name": "stderr",
          "text": [
            "     73/100     0.617G     0.8276     0.4922     0.9389         20        320: 100%|██████████| 22/22 [00:03<00:00,  6.63it/s]\n",
            "                 Class     Images  Instances      Box(P          R      mAP50  mAP50-95): 100%|██████████| 2/2 [00:00<00:00, 10.03it/s]"
          ]
        },
        {
          "output_type": "stream",
          "name": "stdout",
          "text": [
            "                   all         44         44      0.928      0.877      0.924      0.542\n"
          ]
        },
        {
          "output_type": "stream",
          "name": "stderr",
          "text": [
            "\n"
          ]
        },
        {
          "output_type": "stream",
          "name": "stdout",
          "text": [
            "\n",
            "      Epoch    GPU_mem   box_loss   cls_loss   dfl_loss  Instances       Size\n"
          ]
        },
        {
          "output_type": "stream",
          "name": "stderr",
          "text": [
            "     74/100     0.614G     0.8375     0.4938     0.9255         14        320: 100%|██████████| 22/22 [00:03<00:00,  6.99it/s]\n",
            "                 Class     Images  Instances      Box(P          R      mAP50  mAP50-95): 100%|██████████| 2/2 [00:00<00:00, 10.84it/s]"
          ]
        },
        {
          "output_type": "stream",
          "name": "stdout",
          "text": [
            "                   all         44         44      0.894      0.886      0.925      0.528\n"
          ]
        },
        {
          "output_type": "stream",
          "name": "stderr",
          "text": [
            "\n"
          ]
        },
        {
          "output_type": "stream",
          "name": "stdout",
          "text": [
            "\n",
            "      Epoch    GPU_mem   box_loss   cls_loss   dfl_loss  Instances       Size\n"
          ]
        },
        {
          "output_type": "stream",
          "name": "stderr",
          "text": [
            "     75/100     0.614G      0.857     0.5038     0.9401         13        320: 100%|██████████| 22/22 [00:03<00:00,  5.78it/s]\n",
            "                 Class     Images  Instances      Box(P          R      mAP50  mAP50-95): 100%|██████████| 2/2 [00:00<00:00,  6.69it/s]"
          ]
        },
        {
          "output_type": "stream",
          "name": "stdout",
          "text": [
            "                   all         44         44       0.92      0.909      0.929      0.563\n"
          ]
        },
        {
          "output_type": "stream",
          "name": "stderr",
          "text": [
            "\n"
          ]
        },
        {
          "output_type": "stream",
          "name": "stdout",
          "text": [
            "\n",
            "      Epoch    GPU_mem   box_loss   cls_loss   dfl_loss  Instances       Size\n"
          ]
        },
        {
          "output_type": "stream",
          "name": "stderr",
          "text": [
            "     76/100     0.617G     0.8308     0.5005     0.9313         13        320: 100%|██████████| 22/22 [00:04<00:00,  5.32it/s]\n",
            "                 Class     Images  Instances      Box(P          R      mAP50  mAP50-95): 100%|██████████| 2/2 [00:00<00:00, 10.82it/s]\n"
          ]
        },
        {
          "output_type": "stream",
          "name": "stdout",
          "text": [
            "                   all         44         44       0.95      0.857      0.904      0.539\n",
            "\n",
            "      Epoch    GPU_mem   box_loss   cls_loss   dfl_loss  Instances       Size\n"
          ]
        },
        {
          "output_type": "stream",
          "name": "stderr",
          "text": [
            "     77/100     0.617G     0.8327     0.5124     0.9438         14        320: 100%|██████████| 22/22 [00:02<00:00,  8.63it/s]\n",
            "                 Class     Images  Instances      Box(P          R      mAP50  mAP50-95): 100%|██████████| 2/2 [00:00<00:00,  9.82it/s]"
          ]
        },
        {
          "output_type": "stream",
          "name": "stdout",
          "text": [
            "                   all         44         44      0.937      0.841      0.911      0.544\n"
          ]
        },
        {
          "output_type": "stream",
          "name": "stderr",
          "text": [
            "\n"
          ]
        },
        {
          "output_type": "stream",
          "name": "stdout",
          "text": [
            "\n",
            "      Epoch    GPU_mem   box_loss   cls_loss   dfl_loss  Instances       Size\n"
          ]
        },
        {
          "output_type": "stream",
          "name": "stderr",
          "text": [
            "     78/100     0.617G      0.782     0.4719     0.9272         18        320: 100%|██████████| 22/22 [00:02<00:00,  7.40it/s]\n",
            "                 Class     Images  Instances      Box(P          R      mAP50  mAP50-95): 100%|██████████| 2/2 [00:00<00:00,  9.81it/s]"
          ]
        },
        {
          "output_type": "stream",
          "name": "stdout",
          "text": [
            "                   all         44         44      0.948      0.841       0.94      0.539\n"
          ]
        },
        {
          "output_type": "stream",
          "name": "stderr",
          "text": [
            "\n"
          ]
        },
        {
          "output_type": "stream",
          "name": "stdout",
          "text": [
            "\n",
            "      Epoch    GPU_mem   box_loss   cls_loss   dfl_loss  Instances       Size\n"
          ]
        },
        {
          "output_type": "stream",
          "name": "stderr",
          "text": [
            "     79/100     0.617G     0.8434     0.4938     0.9344         21        320: 100%|██████████| 22/22 [00:03<00:00,  6.15it/s]\n",
            "                 Class     Images  Instances      Box(P          R      mAP50  mAP50-95): 100%|██████████| 2/2 [00:00<00:00,  6.88it/s]"
          ]
        },
        {
          "output_type": "stream",
          "name": "stdout",
          "text": [
            "                   all         44         44      0.927      0.886      0.931       0.55\n"
          ]
        },
        {
          "output_type": "stream",
          "name": "stderr",
          "text": [
            "\n"
          ]
        },
        {
          "output_type": "stream",
          "name": "stdout",
          "text": [
            "\n",
            "      Epoch    GPU_mem   box_loss   cls_loss   dfl_loss  Instances       Size\n"
          ]
        },
        {
          "output_type": "stream",
          "name": "stderr",
          "text": [
            "     80/100     0.617G     0.8263     0.4967     0.9304         18        320: 100%|██████████| 22/22 [00:04<00:00,  5.47it/s]\n",
            "                 Class     Images  Instances      Box(P          R      mAP50  mAP50-95): 100%|██████████| 2/2 [00:00<00:00, 10.29it/s]\n"
          ]
        },
        {
          "output_type": "stream",
          "name": "stdout",
          "text": [
            "                   all         44         44      0.961      0.818      0.926      0.537\n",
            "\n",
            "      Epoch    GPU_mem   box_loss   cls_loss   dfl_loss  Instances       Size\n"
          ]
        },
        {
          "output_type": "stream",
          "name": "stderr",
          "text": [
            "     81/100     0.617G     0.7794     0.4786     0.9188         18        320: 100%|██████████| 22/22 [00:02<00:00,  8.58it/s]\n",
            "                 Class     Images  Instances      Box(P          R      mAP50  mAP50-95): 100%|██████████| 2/2 [00:00<00:00, 10.41it/s]"
          ]
        },
        {
          "output_type": "stream",
          "name": "stdout",
          "text": [
            "                   all         44         44      0.959      0.818      0.925      0.559\n"
          ]
        },
        {
          "output_type": "stream",
          "name": "stderr",
          "text": [
            "\n"
          ]
        },
        {
          "output_type": "stream",
          "name": "stdout",
          "text": [
            "\n",
            "      Epoch    GPU_mem   box_loss   cls_loss   dfl_loss  Instances       Size\n"
          ]
        },
        {
          "output_type": "stream",
          "name": "stderr",
          "text": [
            "     82/100     0.617G     0.7766     0.4598     0.9187         11        320: 100%|██████████| 22/22 [00:02<00:00,  8.53it/s]\n",
            "                 Class     Images  Instances      Box(P          R      mAP50  mAP50-95): 100%|██████████| 2/2 [00:00<00:00, 10.26it/s]\n"
          ]
        },
        {
          "output_type": "stream",
          "name": "stdout",
          "text": [
            "                   all         44         44      0.869      0.841      0.894      0.539\n",
            "\n",
            "      Epoch    GPU_mem   box_loss   cls_loss   dfl_loss  Instances       Size\n"
          ]
        },
        {
          "output_type": "stream",
          "name": "stderr",
          "text": [
            "     83/100     0.617G     0.8006     0.4877     0.9253         21        320: 100%|██████████| 22/22 [00:02<00:00,  7.39it/s]\n",
            "                 Class     Images  Instances      Box(P          R      mAP50  mAP50-95): 100%|██████████| 2/2 [00:00<00:00,  6.47it/s]"
          ]
        },
        {
          "output_type": "stream",
          "name": "stdout",
          "text": [
            "                   all         44         44      0.911      0.818      0.894      0.542\n"
          ]
        },
        {
          "output_type": "stream",
          "name": "stderr",
          "text": [
            "\n"
          ]
        },
        {
          "output_type": "stream",
          "name": "stdout",
          "text": [
            "\n",
            "      Epoch    GPU_mem   box_loss   cls_loss   dfl_loss  Instances       Size\n"
          ]
        },
        {
          "output_type": "stream",
          "name": "stderr",
          "text": [
            "     84/100     0.617G     0.7858     0.4638     0.9093         18        320: 100%|██████████| 22/22 [00:04<00:00,  5.14it/s]\n",
            "                 Class     Images  Instances      Box(P          R      mAP50  mAP50-95): 100%|██████████| 2/2 [00:00<00:00, 10.28it/s]"
          ]
        },
        {
          "output_type": "stream",
          "name": "stdout",
          "text": [
            "                   all         44         44      0.939      0.818      0.894      0.539\n"
          ]
        },
        {
          "output_type": "stream",
          "name": "stderr",
          "text": [
            "\n"
          ]
        },
        {
          "output_type": "stream",
          "name": "stdout",
          "text": [
            "\n",
            "      Epoch    GPU_mem   box_loss   cls_loss   dfl_loss  Instances       Size\n"
          ]
        },
        {
          "output_type": "stream",
          "name": "stderr",
          "text": [
            "     85/100     0.617G      0.805     0.4767     0.9201         19        320: 100%|██████████| 22/22 [00:02<00:00,  8.45it/s]\n",
            "                 Class     Images  Instances      Box(P          R      mAP50  mAP50-95): 100%|██████████| 2/2 [00:00<00:00,  9.99it/s]"
          ]
        },
        {
          "output_type": "stream",
          "name": "stdout",
          "text": [
            "                   all         44         44      0.948      0.832      0.925      0.539\n"
          ]
        },
        {
          "output_type": "stream",
          "name": "stderr",
          "text": [
            "\n"
          ]
        },
        {
          "output_type": "stream",
          "name": "stdout",
          "text": [
            "\n",
            "      Epoch    GPU_mem   box_loss   cls_loss   dfl_loss  Instances       Size\n"
          ]
        },
        {
          "output_type": "stream",
          "name": "stderr",
          "text": [
            "     86/100     0.617G     0.8122     0.4737     0.9241         18        320: 100%|██████████| 22/22 [00:02<00:00,  8.34it/s]\n",
            "                 Class     Images  Instances      Box(P          R      mAP50  mAP50-95): 100%|██████████| 2/2 [00:00<00:00, 10.02it/s]"
          ]
        },
        {
          "output_type": "stream",
          "name": "stdout",
          "text": [
            "                   all         44         44      0.964      0.818      0.903      0.527\n"
          ]
        },
        {
          "output_type": "stream",
          "name": "stderr",
          "text": [
            "\n"
          ]
        },
        {
          "output_type": "stream",
          "name": "stdout",
          "text": [
            "\n",
            "      Epoch    GPU_mem   box_loss   cls_loss   dfl_loss  Instances       Size\n"
          ]
        },
        {
          "output_type": "stream",
          "name": "stderr",
          "text": [
            "     87/100     0.617G     0.7952     0.4606       0.92         21        320: 100%|██████████| 22/22 [00:04<00:00,  5.00it/s]\n",
            "                 Class     Images  Instances      Box(P          R      mAP50  mAP50-95): 100%|██████████| 2/2 [00:00<00:00,  6.14it/s]"
          ]
        },
        {
          "output_type": "stream",
          "name": "stdout",
          "text": [
            "                   all         44         44      0.958      0.818      0.903      0.529\n"
          ]
        },
        {
          "output_type": "stream",
          "name": "stderr",
          "text": [
            "\n"
          ]
        },
        {
          "output_type": "stream",
          "name": "stdout",
          "text": [
            "\n",
            "      Epoch    GPU_mem   box_loss   cls_loss   dfl_loss  Instances       Size\n"
          ]
        },
        {
          "output_type": "stream",
          "name": "stderr",
          "text": [
            "     88/100     0.617G     0.7469     0.4475     0.9165         21        320: 100%|██████████| 22/22 [00:06<00:00,  3.22it/s]\n",
            "                 Class     Images  Instances      Box(P          R      mAP50  mAP50-95): 100%|██████████| 2/2 [00:00<00:00,  2.09it/s]"
          ]
        },
        {
          "output_type": "stream",
          "name": "stdout",
          "text": [
            "                   all         44         44      0.924      0.826      0.931      0.543\n"
          ]
        },
        {
          "output_type": "stream",
          "name": "stderr",
          "text": [
            "\n"
          ]
        },
        {
          "output_type": "stream",
          "name": "stdout",
          "text": [
            "\n",
            "      Epoch    GPU_mem   box_loss   cls_loss   dfl_loss  Instances       Size\n"
          ]
        },
        {
          "output_type": "stream",
          "name": "stderr",
          "text": [
            "     89/100     0.617G     0.7329     0.4526     0.9089         24        320: 100%|██████████| 22/22 [00:04<00:00,  5.48it/s]\n",
            "                 Class     Images  Instances      Box(P          R      mAP50  mAP50-95): 100%|██████████| 2/2 [00:00<00:00, 10.19it/s]\n"
          ]
        },
        {
          "output_type": "stream",
          "name": "stdout",
          "text": [
            "                   all         44         44       0.94      0.818      0.929      0.545\n",
            "\n",
            "      Epoch    GPU_mem   box_loss   cls_loss   dfl_loss  Instances       Size\n"
          ]
        },
        {
          "output_type": "stream",
          "name": "stderr",
          "text": [
            "     90/100     0.617G     0.7413     0.4361     0.9139         12        320: 100%|██████████| 22/22 [00:04<00:00,  5.06it/s]\n",
            "                 Class     Images  Instances      Box(P          R      mAP50  mAP50-95): 100%|██████████| 2/2 [00:00<00:00,  6.17it/s]"
          ]
        },
        {
          "output_type": "stream",
          "name": "stdout",
          "text": [
            "                   all         44         44      0.937      0.818      0.917       0.53\n"
          ]
        },
        {
          "output_type": "stream",
          "name": "stderr",
          "text": [
            "\n"
          ]
        },
        {
          "output_type": "stream",
          "name": "stdout",
          "text": [
            "Closing dataloader mosaic\n",
            "\u001b[34m\u001b[1malbumentations: \u001b[0mBlur(p=0.01, blur_limit=(3, 7)), MedianBlur(p=0.01, blur_limit=(3, 7)), ToGray(p=0.01, num_output_channels=3, method='weighted_average'), CLAHE(p=0.01, clip_limit=(1.0, 4.0), tile_grid_size=(8, 8))\n",
            "\n",
            "      Epoch    GPU_mem   box_loss   cls_loss   dfl_loss  Instances       Size\n"
          ]
        },
        {
          "output_type": "stream",
          "name": "stderr",
          "text": [
            "     91/100     0.614G     0.9843     0.5451      1.033          9        320: 100%|██████████| 22/22 [00:04<00:00,  4.99it/s]\n",
            "                 Class     Images  Instances      Box(P          R      mAP50  mAP50-95): 100%|██████████| 2/2 [00:00<00:00,  9.92it/s]"
          ]
        },
        {
          "output_type": "stream",
          "name": "stdout",
          "text": [
            "                   all         44         44      0.939      0.818      0.913      0.523\n"
          ]
        },
        {
          "output_type": "stream",
          "name": "stderr",
          "text": [
            "\n"
          ]
        },
        {
          "output_type": "stream",
          "name": "stdout",
          "text": [
            "\n",
            "      Epoch    GPU_mem   box_loss   cls_loss   dfl_loss  Instances       Size\n"
          ]
        },
        {
          "output_type": "stream",
          "name": "stderr",
          "text": [
            "     92/100     0.617G     0.9635     0.5203      1.009          9        320: 100%|██████████| 22/22 [00:02<00:00,  8.76it/s]\n",
            "                 Class     Images  Instances      Box(P          R      mAP50  mAP50-95): 100%|██████████| 2/2 [00:00<00:00, 10.92it/s]\n"
          ]
        },
        {
          "output_type": "stream",
          "name": "stdout",
          "text": [
            "                   all         44         44      0.945      0.841      0.919      0.529\n",
            "\n",
            "      Epoch    GPU_mem   box_loss   cls_loss   dfl_loss  Instances       Size\n"
          ]
        },
        {
          "output_type": "stream",
          "name": "stderr",
          "text": [
            "     93/100     0.614G     0.9581     0.5211      1.013          9        320: 100%|██████████| 22/22 [00:04<00:00,  4.91it/s]\n",
            "                 Class     Images  Instances      Box(P          R      mAP50  mAP50-95): 100%|██████████| 2/2 [00:00<00:00,  5.43it/s]"
          ]
        },
        {
          "output_type": "stream",
          "name": "stdout",
          "text": [
            "                   all         44         44      0.966      0.841      0.918      0.551\n"
          ]
        },
        {
          "output_type": "stream",
          "name": "stderr",
          "text": [
            "\n"
          ]
        },
        {
          "output_type": "stream",
          "name": "stdout",
          "text": [
            "\n",
            "      Epoch    GPU_mem   box_loss   cls_loss   dfl_loss  Instances       Size\n"
          ]
        },
        {
          "output_type": "stream",
          "name": "stderr",
          "text": [
            "     94/100     0.614G      0.932     0.5085      0.993          9        320: 100%|██████████| 22/22 [00:06<00:00,  3.22it/s]\n",
            "                 Class     Images  Instances      Box(P          R      mAP50  mAP50-95): 100%|██████████| 2/2 [00:00<00:00,  9.64it/s]"
          ]
        },
        {
          "output_type": "stream",
          "name": "stdout",
          "text": [
            "                   all         44         44      0.931      0.795      0.887      0.536\n"
          ]
        },
        {
          "output_type": "stream",
          "name": "stderr",
          "text": [
            "\n"
          ]
        },
        {
          "output_type": "stream",
          "name": "stdout",
          "text": [
            "\n",
            "      Epoch    GPU_mem   box_loss   cls_loss   dfl_loss  Instances       Size\n"
          ]
        },
        {
          "output_type": "stream",
          "name": "stderr",
          "text": [
            "     95/100     0.614G     0.9495     0.4912      1.014          9        320: 100%|██████████| 22/22 [00:02<00:00,  8.85it/s]\n",
            "                 Class     Images  Instances      Box(P          R      mAP50  mAP50-95): 100%|██████████| 2/2 [00:00<00:00,  9.56it/s]"
          ]
        },
        {
          "output_type": "stream",
          "name": "stdout",
          "text": [
            "                   all         44         44      0.923      0.818      0.893      0.545\n"
          ]
        },
        {
          "output_type": "stream",
          "name": "stderr",
          "text": [
            "\n"
          ]
        },
        {
          "output_type": "stream",
          "name": "stdout",
          "text": [
            "\n",
            "      Epoch    GPU_mem   box_loss   cls_loss   dfl_loss  Instances       Size\n"
          ]
        },
        {
          "output_type": "stream",
          "name": "stderr",
          "text": [
            "     96/100     0.614G     0.9324     0.4971     0.9944          9        320: 100%|██████████| 22/22 [00:02<00:00,  8.81it/s]\n",
            "                 Class     Images  Instances      Box(P          R      mAP50  mAP50-95): 100%|██████████| 2/2 [00:00<00:00, 10.75it/s]"
          ]
        },
        {
          "output_type": "stream",
          "name": "stdout",
          "text": [
            "                   all         44         44      0.922      0.818      0.891      0.546\n"
          ]
        },
        {
          "output_type": "stream",
          "name": "stderr",
          "text": [
            "\n"
          ]
        },
        {
          "output_type": "stream",
          "name": "stdout",
          "text": [
            "\n",
            "      Epoch    GPU_mem   box_loss   cls_loss   dfl_loss  Instances       Size\n"
          ]
        },
        {
          "output_type": "stream",
          "name": "stderr",
          "text": [
            "     97/100     0.614G     0.9251     0.4828     0.9784          9        320: 100%|██████████| 22/22 [00:02<00:00,  7.39it/s]\n",
            "                 Class     Images  Instances      Box(P          R      mAP50  mAP50-95): 100%|██████████| 2/2 [00:00<00:00,  6.15it/s]"
          ]
        },
        {
          "output_type": "stream",
          "name": "stdout",
          "text": [
            "                   all         44         44      0.939      0.841      0.917      0.556\n"
          ]
        },
        {
          "output_type": "stream",
          "name": "stderr",
          "text": [
            "\n"
          ]
        },
        {
          "output_type": "stream",
          "name": "stdout",
          "text": [
            "\n",
            "      Epoch    GPU_mem   box_loss   cls_loss   dfl_loss  Instances       Size\n"
          ]
        },
        {
          "output_type": "stream",
          "name": "stderr",
          "text": [
            "     98/100     0.617G     0.9526     0.5015     0.9936          9        320: 100%|██████████| 22/22 [00:04<00:00,  4.95it/s]\n",
            "                 Class     Images  Instances      Box(P          R      mAP50  mAP50-95): 100%|██████████| 2/2 [00:00<00:00,  6.31it/s]"
          ]
        },
        {
          "output_type": "stream",
          "name": "stdout",
          "text": [
            "                   all         44         44      0.918      0.818      0.896      0.541\n"
          ]
        },
        {
          "output_type": "stream",
          "name": "stderr",
          "text": [
            "\n"
          ]
        },
        {
          "output_type": "stream",
          "name": "stdout",
          "text": [
            "\n",
            "      Epoch    GPU_mem   box_loss   cls_loss   dfl_loss  Instances       Size\n"
          ]
        },
        {
          "output_type": "stream",
          "name": "stderr",
          "text": [
            "     99/100     0.614G     0.9337     0.4777     0.9886          9        320: 100%|██████████| 22/22 [00:02<00:00,  7.56it/s]\n",
            "                 Class     Images  Instances      Box(P          R      mAP50  mAP50-95): 100%|██████████| 2/2 [00:00<00:00, 10.36it/s]\n"
          ]
        },
        {
          "output_type": "stream",
          "name": "stdout",
          "text": [
            "                   all         44         44      0.939      0.841      0.923      0.549\n",
            "\n",
            "      Epoch    GPU_mem   box_loss   cls_loss   dfl_loss  Instances       Size\n"
          ]
        },
        {
          "output_type": "stream",
          "name": "stderr",
          "text": [
            "    100/100     0.614G     0.8648     0.4656     0.9856          9        320: 100%|██████████| 22/22 [00:02<00:00,  8.73it/s]\n",
            "                 Class     Images  Instances      Box(P          R      mAP50  mAP50-95): 100%|██████████| 2/2 [00:00<00:00,  9.47it/s]"
          ]
        },
        {
          "output_type": "stream",
          "name": "stdout",
          "text": [
            "                   all         44         44      0.929      0.818      0.896      0.545\n"
          ]
        },
        {
          "output_type": "stream",
          "name": "stderr",
          "text": [
            "\n"
          ]
        },
        {
          "output_type": "stream",
          "name": "stdout",
          "text": [
            "\n",
            "100 epochs completed in 0.133 hours.\n",
            "Optimizer stripped from runs/detect/train2/weights/last.pt, 6.2MB\n",
            "Optimizer stripped from runs/detect/train2/weights/best.pt, 6.2MB\n",
            "\n",
            "Validating runs/detect/train2/weights/best.pt...\n",
            "Ultralytics 8.3.73 🚀 Python-3.11.11 torch-2.5.1+cu124 CUDA:0 (Tesla T4, 15095MiB)\n",
            "Model summary (fused): 168 layers, 3,005,843 parameters, 0 gradients, 8.1 GFLOPs\n"
          ]
        },
        {
          "output_type": "stream",
          "name": "stderr",
          "text": [
            "                 Class     Images  Instances      Box(P          R      mAP50  mAP50-95): 100%|██████████| 2/2 [00:00<00:00,  5.27it/s]\n"
          ]
        },
        {
          "output_type": "stream",
          "name": "stdout",
          "text": [
            "                   all         44         44      0.918      0.909      0.929      0.567\n",
            "Speed: 0.1ms preprocess, 1.3ms inference, 0.0ms loss, 1.8ms postprocess per image\n",
            "Results saved to \u001b[1mruns/detect/train2\u001b[0m\n"
          ]
        },
        {
          "output_type": "execute_result",
          "data": {
            "text/plain": [
              "ultralytics.utils.metrics.DetMetrics object with attributes:\n",
              "\n",
              "ap_class_index: array([0])\n",
              "box: ultralytics.utils.metrics.Metric object\n",
              "confusion_matrix: <ultralytics.utils.metrics.ConfusionMatrix object at 0x7b1605191310>\n",
              "curves: ['Precision-Recall(B)', 'F1-Confidence(B)', 'Precision-Confidence(B)', 'Recall-Confidence(B)']\n",
              "curves_results: [[array([          0,    0.001001,    0.002002,    0.003003,    0.004004,    0.005005,    0.006006,    0.007007,    0.008008,    0.009009,     0.01001,    0.011011,    0.012012,    0.013013,    0.014014,    0.015015,    0.016016,    0.017017,    0.018018,    0.019019,     0.02002,    0.021021,    0.022022,    0.023023,\n",
              "          0.024024,    0.025025,    0.026026,    0.027027,    0.028028,    0.029029,     0.03003,    0.031031,    0.032032,    0.033033,    0.034034,    0.035035,    0.036036,    0.037037,    0.038038,    0.039039,     0.04004,    0.041041,    0.042042,    0.043043,    0.044044,    0.045045,    0.046046,    0.047047,\n",
              "          0.048048,    0.049049,     0.05005,    0.051051,    0.052052,    0.053053,    0.054054,    0.055055,    0.056056,    0.057057,    0.058058,    0.059059,     0.06006,    0.061061,    0.062062,    0.063063,    0.064064,    0.065065,    0.066066,    0.067067,    0.068068,    0.069069,     0.07007,    0.071071,\n",
              "          0.072072,    0.073073,    0.074074,    0.075075,    0.076076,    0.077077,    0.078078,    0.079079,     0.08008,    0.081081,    0.082082,    0.083083,    0.084084,    0.085085,    0.086086,    0.087087,    0.088088,    0.089089,     0.09009,    0.091091,    0.092092,    0.093093,    0.094094,    0.095095,\n",
              "          0.096096,    0.097097,    0.098098,    0.099099,      0.1001,      0.1011,      0.1021,      0.1031,      0.1041,     0.10511,     0.10611,     0.10711,     0.10811,     0.10911,     0.11011,     0.11111,     0.11211,     0.11311,     0.11411,     0.11512,     0.11612,     0.11712,     0.11812,     0.11912,\n",
              "           0.12012,     0.12112,     0.12212,     0.12312,     0.12412,     0.12513,     0.12613,     0.12713,     0.12813,     0.12913,     0.13013,     0.13113,     0.13213,     0.13313,     0.13413,     0.13514,     0.13614,     0.13714,     0.13814,     0.13914,     0.14014,     0.14114,     0.14214,     0.14314,\n",
              "           0.14414,     0.14515,     0.14615,     0.14715,     0.14815,     0.14915,     0.15015,     0.15115,     0.15215,     0.15315,     0.15415,     0.15516,     0.15616,     0.15716,     0.15816,     0.15916,     0.16016,     0.16116,     0.16216,     0.16316,     0.16416,     0.16517,     0.16617,     0.16717,\n",
              "           0.16817,     0.16917,     0.17017,     0.17117,     0.17217,     0.17317,     0.17417,     0.17518,     0.17618,     0.17718,     0.17818,     0.17918,     0.18018,     0.18118,     0.18218,     0.18318,     0.18418,     0.18519,     0.18619,     0.18719,     0.18819,     0.18919,     0.19019,     0.19119,\n",
              "           0.19219,     0.19319,     0.19419,      0.1952,      0.1962,      0.1972,      0.1982,      0.1992,      0.2002,      0.2012,      0.2022,      0.2032,      0.2042,     0.20521,     0.20621,     0.20721,     0.20821,     0.20921,     0.21021,     0.21121,     0.21221,     0.21321,     0.21421,     0.21522,\n",
              "           0.21622,     0.21722,     0.21822,     0.21922,     0.22022,     0.22122,     0.22222,     0.22322,     0.22422,     0.22523,     0.22623,     0.22723,     0.22823,     0.22923,     0.23023,     0.23123,     0.23223,     0.23323,     0.23423,     0.23524,     0.23624,     0.23724,     0.23824,     0.23924,\n",
              "           0.24024,     0.24124,     0.24224,     0.24324,     0.24424,     0.24525,     0.24625,     0.24725,     0.24825,     0.24925,     0.25025,     0.25125,     0.25225,     0.25325,     0.25425,     0.25526,     0.25626,     0.25726,     0.25826,     0.25926,     0.26026,     0.26126,     0.26226,     0.26326,\n",
              "           0.26426,     0.26527,     0.26627,     0.26727,     0.26827,     0.26927,     0.27027,     0.27127,     0.27227,     0.27327,     0.27427,     0.27528,     0.27628,     0.27728,     0.27828,     0.27928,     0.28028,     0.28128,     0.28228,     0.28328,     0.28428,     0.28529,     0.28629,     0.28729,\n",
              "           0.28829,     0.28929,     0.29029,     0.29129,     0.29229,     0.29329,     0.29429,      0.2953,      0.2963,      0.2973,      0.2983,      0.2993,      0.3003,      0.3013,      0.3023,      0.3033,      0.3043,     0.30531,     0.30631,     0.30731,     0.30831,     0.30931,     0.31031,     0.31131,\n",
              "           0.31231,     0.31331,     0.31431,     0.31532,     0.31632,     0.31732,     0.31832,     0.31932,     0.32032,     0.32132,     0.32232,     0.32332,     0.32432,     0.32533,     0.32633,     0.32733,     0.32833,     0.32933,     0.33033,     0.33133,     0.33233,     0.33333,     0.33433,     0.33534,\n",
              "           0.33634,     0.33734,     0.33834,     0.33934,     0.34034,     0.34134,     0.34234,     0.34334,     0.34434,     0.34535,     0.34635,     0.34735,     0.34835,     0.34935,     0.35035,     0.35135,     0.35235,     0.35335,     0.35435,     0.35536,     0.35636,     0.35736,     0.35836,     0.35936,\n",
              "           0.36036,     0.36136,     0.36236,     0.36336,     0.36436,     0.36537,     0.36637,     0.36737,     0.36837,     0.36937,     0.37037,     0.37137,     0.37237,     0.37337,     0.37437,     0.37538,     0.37638,     0.37738,     0.37838,     0.37938,     0.38038,     0.38138,     0.38238,     0.38338,\n",
              "           0.38438,     0.38539,     0.38639,     0.38739,     0.38839,     0.38939,     0.39039,     0.39139,     0.39239,     0.39339,     0.39439,      0.3954,      0.3964,      0.3974,      0.3984,      0.3994,      0.4004,      0.4014,      0.4024,      0.4034,      0.4044,     0.40541,     0.40641,     0.40741,\n",
              "           0.40841,     0.40941,     0.41041,     0.41141,     0.41241,     0.41341,     0.41441,     0.41542,     0.41642,     0.41742,     0.41842,     0.41942,     0.42042,     0.42142,     0.42242,     0.42342,     0.42442,     0.42543,     0.42643,     0.42743,     0.42843,     0.42943,     0.43043,     0.43143,\n",
              "           0.43243,     0.43343,     0.43443,     0.43544,     0.43644,     0.43744,     0.43844,     0.43944,     0.44044,     0.44144,     0.44244,     0.44344,     0.44444,     0.44545,     0.44645,     0.44745,     0.44845,     0.44945,     0.45045,     0.45145,     0.45245,     0.45345,     0.45445,     0.45546,\n",
              "           0.45646,     0.45746,     0.45846,     0.45946,     0.46046,     0.46146,     0.46246,     0.46346,     0.46446,     0.46547,     0.46647,     0.46747,     0.46847,     0.46947,     0.47047,     0.47147,     0.47247,     0.47347,     0.47447,     0.47548,     0.47648,     0.47748,     0.47848,     0.47948,\n",
              "           0.48048,     0.48148,     0.48248,     0.48348,     0.48448,     0.48549,     0.48649,     0.48749,     0.48849,     0.48949,     0.49049,     0.49149,     0.49249,     0.49349,     0.49449,      0.4955,      0.4965,      0.4975,      0.4985,      0.4995,      0.5005,      0.5015,      0.5025,      0.5035,\n",
              "            0.5045,     0.50551,     0.50651,     0.50751,     0.50851,     0.50951,     0.51051,     0.51151,     0.51251,     0.51351,     0.51451,     0.51552,     0.51652,     0.51752,     0.51852,     0.51952,     0.52052,     0.52152,     0.52252,     0.52352,     0.52452,     0.52553,     0.52653,     0.52753,\n",
              "           0.52853,     0.52953,     0.53053,     0.53153,     0.53253,     0.53353,     0.53453,     0.53554,     0.53654,     0.53754,     0.53854,     0.53954,     0.54054,     0.54154,     0.54254,     0.54354,     0.54454,     0.54555,     0.54655,     0.54755,     0.54855,     0.54955,     0.55055,     0.55155,\n",
              "           0.55255,     0.55355,     0.55455,     0.55556,     0.55656,     0.55756,     0.55856,     0.55956,     0.56056,     0.56156,     0.56256,     0.56356,     0.56456,     0.56557,     0.56657,     0.56757,     0.56857,     0.56957,     0.57057,     0.57157,     0.57257,     0.57357,     0.57457,     0.57558,\n",
              "           0.57658,     0.57758,     0.57858,     0.57958,     0.58058,     0.58158,     0.58258,     0.58358,     0.58458,     0.58559,     0.58659,     0.58759,     0.58859,     0.58959,     0.59059,     0.59159,     0.59259,     0.59359,     0.59459,      0.5956,      0.5966,      0.5976,      0.5986,      0.5996,\n",
              "            0.6006,      0.6016,      0.6026,      0.6036,      0.6046,     0.60561,     0.60661,     0.60761,     0.60861,     0.60961,     0.61061,     0.61161,     0.61261,     0.61361,     0.61461,     0.61562,     0.61662,     0.61762,     0.61862,     0.61962,     0.62062,     0.62162,     0.62262,     0.62362,\n",
              "           0.62462,     0.62563,     0.62663,     0.62763,     0.62863,     0.62963,     0.63063,     0.63163,     0.63263,     0.63363,     0.63463,     0.63564,     0.63664,     0.63764,     0.63864,     0.63964,     0.64064,     0.64164,     0.64264,     0.64364,     0.64464,     0.64565,     0.64665,     0.64765,\n",
              "           0.64865,     0.64965,     0.65065,     0.65165,     0.65265,     0.65365,     0.65465,     0.65566,     0.65666,     0.65766,     0.65866,     0.65966,     0.66066,     0.66166,     0.66266,     0.66366,     0.66466,     0.66567,     0.66667,     0.66767,     0.66867,     0.66967,     0.67067,     0.67167,\n",
              "           0.67267,     0.67367,     0.67467,     0.67568,     0.67668,     0.67768,     0.67868,     0.67968,     0.68068,     0.68168,     0.68268,     0.68368,     0.68468,     0.68569,     0.68669,     0.68769,     0.68869,     0.68969,     0.69069,     0.69169,     0.69269,     0.69369,     0.69469,      0.6957,\n",
              "            0.6967,      0.6977,      0.6987,      0.6997,      0.7007,      0.7017,      0.7027,      0.7037,      0.7047,     0.70571,     0.70671,     0.70771,     0.70871,     0.70971,     0.71071,     0.71171,     0.71271,     0.71371,     0.71471,     0.71572,     0.71672,     0.71772,     0.71872,     0.71972,\n",
              "           0.72072,     0.72172,     0.72272,     0.72372,     0.72472,     0.72573,     0.72673,     0.72773,     0.72873,     0.72973,     0.73073,     0.73173,     0.73273,     0.73373,     0.73473,     0.73574,     0.73674,     0.73774,     0.73874,     0.73974,     0.74074,     0.74174,     0.74274,     0.74374,\n",
              "           0.74474,     0.74575,     0.74675,     0.74775,     0.74875,     0.74975,     0.75075,     0.75175,     0.75275,     0.75375,     0.75475,     0.75576,     0.75676,     0.75776,     0.75876,     0.75976,     0.76076,     0.76176,     0.76276,     0.76376,     0.76476,     0.76577,     0.76677,     0.76777,\n",
              "           0.76877,     0.76977,     0.77077,     0.77177,     0.77277,     0.77377,     0.77477,     0.77578,     0.77678,     0.77778,     0.77878,     0.77978,     0.78078,     0.78178,     0.78278,     0.78378,     0.78478,     0.78579,     0.78679,     0.78779,     0.78879,     0.78979,     0.79079,     0.79179,\n",
              "           0.79279,     0.79379,     0.79479,      0.7958,      0.7968,      0.7978,      0.7988,      0.7998,      0.8008,      0.8018,      0.8028,      0.8038,      0.8048,     0.80581,     0.80681,     0.80781,     0.80881,     0.80981,     0.81081,     0.81181,     0.81281,     0.81381,     0.81481,     0.81582,\n",
              "           0.81682,     0.81782,     0.81882,     0.81982,     0.82082,     0.82182,     0.82282,     0.82382,     0.82482,     0.82583,     0.82683,     0.82783,     0.82883,     0.82983,     0.83083,     0.83183,     0.83283,     0.83383,     0.83483,     0.83584,     0.83684,     0.83784,     0.83884,     0.83984,\n",
              "           0.84084,     0.84184,     0.84284,     0.84384,     0.84484,     0.84585,     0.84685,     0.84785,     0.84885,     0.84985,     0.85085,     0.85185,     0.85285,     0.85385,     0.85485,     0.85586,     0.85686,     0.85786,     0.85886,     0.85986,     0.86086,     0.86186,     0.86286,     0.86386,\n",
              "           0.86486,     0.86587,     0.86687,     0.86787,     0.86887,     0.86987,     0.87087,     0.87187,     0.87287,     0.87387,     0.87487,     0.87588,     0.87688,     0.87788,     0.87888,     0.87988,     0.88088,     0.88188,     0.88288,     0.88388,     0.88488,     0.88589,     0.88689,     0.88789,\n",
              "           0.88889,     0.88989,     0.89089,     0.89189,     0.89289,     0.89389,     0.89489,      0.8959,      0.8969,      0.8979,      0.8989,      0.8999,      0.9009,      0.9019,      0.9029,      0.9039,      0.9049,     0.90591,     0.90691,     0.90791,     0.90891,     0.90991,     0.91091,     0.91191,\n",
              "           0.91291,     0.91391,     0.91491,     0.91592,     0.91692,     0.91792,     0.91892,     0.91992,     0.92092,     0.92192,     0.92292,     0.92392,     0.92492,     0.92593,     0.92693,     0.92793,     0.92893,     0.92993,     0.93093,     0.93193,     0.93293,     0.93393,     0.93493,     0.93594,\n",
              "           0.93694,     0.93794,     0.93894,     0.93994,     0.94094,     0.94194,     0.94294,     0.94394,     0.94494,     0.94595,     0.94695,     0.94795,     0.94895,     0.94995,     0.95095,     0.95195,     0.95295,     0.95395,     0.95495,     0.95596,     0.95696,     0.95796,     0.95896,     0.95996,\n",
              "           0.96096,     0.96196,     0.96296,     0.96396,     0.96496,     0.96597,     0.96697,     0.96797,     0.96897,     0.96997,     0.97097,     0.97197,     0.97297,     0.97397,     0.97497,     0.97598,     0.97698,     0.97798,     0.97898,     0.97998,     0.98098,     0.98198,     0.98298,     0.98398,\n",
              "           0.98498,     0.98599,     0.98699,     0.98799,     0.98899,     0.98999,     0.99099,     0.99199,     0.99299,     0.99399,     0.99499,       0.996,       0.997,       0.998,       0.999,           1]), array([[          1,           1,           1,           1,           1,           1,           1,           1,           1,           1,           1,           1,           1,           1,           1,           1,           1,           1,           1,           1,           1,           1,           1,\n",
              "                  1,           1,           1,           1,           1,           1,           1,           1,           1,           1,           1,           1,           1,           1,           1,           1,           1,           1,           1,           1,           1,           1,           1,\n",
              "                  1,           1,           1,           1,           1,           1,           1,           1,           1,           1,           1,           1,           1,           1,           1,           1,           1,           1,           1,           1,           1,           1,           1,\n",
              "                  1,           1,           1,           1,           1,           1,           1,           1,           1,           1,           1,           1,           1,           1,           1,           1,           1,           1,           1,           1,           1,           1,           1,\n",
              "                  1,           1,           1,           1,           1,           1,           1,           1,           1,           1,           1,           1,           1,           1,           1,           1,           1,           1,           1,           1,           1,           1,           1,\n",
              "                  1,           1,           1,           1,           1,           1,           1,           1,           1,           1,           1,           1,           1,           1,           1,           1,           1,           1,           1,           1,           1,           1,           1,\n",
              "                  1,           1,           1,           1,           1,           1,           1,           1,           1,           1,           1,           1,           1,           1,           1,           1,           1,           1,           1,           1,           1,           1,           1,\n",
              "                  1,           1,           1,           1,           1,           1,           1,           1,           1,           1,           1,           1,           1,           1,           1,           1,           1,           1,           1,           1,           1,           1,           1,\n",
              "                  1,           1,           1,           1,           1,           1,           1,           1,           1,           1,           1,           1,           1,           1,           1,           1,           1,           1,           1,           1,           1,           1,           1,\n",
              "                  1,           1,           1,           1,           1,           1,           1,           1,           1,           1,           1,           1,           1,           1,           1,           1,           1,           1,           1,           1,           1,           1,           1,\n",
              "                  1,           1,           1,           1,           1,           1,           1,           1,           1,           1,           1,           1,           1,           1,           1,           1,           1,           1,           1,           1,           1,           1,           1,\n",
              "                  1,           1,           1,           1,           1,           1,           1,           1,           1,           1,           1,           1,           1,           1,           1,           1,           1,           1,           1,           1,           1,           1,           1,\n",
              "                  1,           1,           1,           1,           1,           1,           1,           1,           1,           1,           1,           1,           1,           1,           1,           1,           1,           1,           1,           1,           1,           1,           1,\n",
              "                  1,           1,           1,           1,           1,           1,           1,           1,           1,           1,           1,           1,           1,           1,           1,           1,           1,           1,           1,           1,           1,           1,           1,\n",
              "                  1,           1,           1,           1,           1,           1,           1,           1,           1,           1,           1,           1,           1,           1,           1,           1,           1,           1,           1,           1,           1,           1,           1,\n",
              "                  1,           1,           1,           1,           1,           1,           1,           1,           1,           1,           1,           1,           1,           1,           1,           1,           1,           1,           1,           1,           1,           1,           1,\n",
              "                  1,           1,           1,           1,           1,           1,           1,           1,           1,           1,           1,           1,           1,           1,           1,           1,           1,           1,           1,           1,           1,           1,           1,\n",
              "                  1,           1,           1,           1,           1,           1,           1,           1,           1,           1,           1,           1,           1,           1,           1,           1,           1,           1,           1,           1,           1,           1,           1,\n",
              "                  1,           1,           1,           1,           1,           1,           1,           1,           1,           1,           1,           1,           1,           1,           1,           1,           1,           1,           1,           1,           1,           1,           1,\n",
              "                  1,           1,           1,           1,           1,           1,           1,           1,           1,           1,           1,           1,           1,           1,           1,           1,           1,           1,           1,           1,           1,           1,           1,\n",
              "                  1,           1,           1,           1,           1,           1,           1,           1,           1,           1,           1,           1,           1,           1,           1,           1,           1,           1,           1,           1,           1,           1,           1,\n",
              "                  1,           1,           1,           1,           1,           1,           1,           1,           1,           1,           1,           1,           1,           1,           1,           1,           1,           1,           1,           1,           1,           1,           1,\n",
              "                  1,           1,           1,           1,           1,           1,           1,           1,           1,           1,           1,           1,           1,           1,           1,           1,           1,           1,           1,           1,           1,           1,           1,\n",
              "                  1,           1,           1,           1,           1,           1,           1,           1,           1,           1,           1,           1,           1,           1,           1,           1,           1,           1,           1,           1,           1,           1,           1,\n",
              "                  1,           1,           1,           1,           1,           1,           1,           1,           1,           1,           1,           1,           1,           1,           1,           1,           1,           1,           1,           1,           1,           1,           1,\n",
              "                  1,           1,           1,           1,           1,           1,           1,           1,           1,           1,           1,           1,           1,           1,           1,           1,           1,           1,           1,           1,           1,           1,           1,\n",
              "                  1,           1,           1,           1,           1,           1,           1,           1,           1,           1,           1,           1,           1,           1,           1,           1,           1,           1,           1,           1,           1,           1,           1,\n",
              "                  1,           1,           1,           1,           1,           1,           1,           1,           1,           1,           1,           1,           1,           1,           1,           1,           1,           1,           1,           1,           1,           1,           1,\n",
              "                  1,           1,           1,           1,           1,           1,           1,           1,           1,           1,           1,           1,           1,           1,           1,           1,           1,           1,           1,           1,           1,           1,           1,\n",
              "                  1,           1,           1,           1,           1,           1,           1,           1,           1,           1,           1,           1,           1,           1,           1,           1,           1,           1,           1,           1,           1,           1,           1,\n",
              "                  1,           1,           1,           1,           1,           1,           1,           1,           1,           1,           1,           1,           1,           1,           1,           1,           1,           1,           1,           1,           1,           1,           1,\n",
              "                  1,           1,           1,           1,           1,           1,           1,           1,           1,           1,           1,           1,           1,           1,     0.97222,     0.97222,     0.97222,     0.97222,     0.97222,     0.97222,     0.97222,     0.97222,     0.97222,\n",
              "            0.97222,     0.97222,     0.97222,     0.97222,     0.97222,     0.97222,     0.97222,     0.97222,     0.97222,     0.97222,     0.97222,     0.97222,     0.97222,     0.97222,     0.97222,     0.97222,     0.97222,     0.97222,     0.97222,     0.97222,     0.97222,     0.97222,     0.97222,\n",
              "            0.97222,     0.97222,     0.97222,     0.97222,     0.97222,     0.97222,     0.97222,     0.97222,     0.97222,     0.97222,     0.97222,     0.97222,     0.97222,     0.97222,     0.97222,     0.97222,     0.97222,     0.97222,     0.97222,     0.97222,     0.97222,     0.97222,     0.97222,\n",
              "            0.97222,     0.97222,     0.97222,     0.97222,     0.97222,     0.97222,     0.97222,     0.97222,     0.97222,     0.97222,     0.97222,     0.97222,     0.97222,     0.95238,     0.95238,     0.95238,     0.95238,     0.95238,     0.95238,     0.95238,     0.95238,     0.95238,     0.95238,\n",
              "            0.95238,     0.95238,     0.95238,     0.95238,     0.95238,     0.95238,     0.95238,     0.95238,     0.95238,     0.95238,     0.95238,     0.95238,     0.95238,     0.95238,     0.95238,     0.95238,     0.95238,     0.95238,     0.95238,     0.95238,     0.95238,     0.95238,     0.95238,\n",
              "            0.95238,     0.95238,     0.95238,     0.95238,     0.95238,     0.95238,     0.95238,     0.95238,     0.95238,     0.95238,     0.95238,     0.95238,     0.95238,     0.95238,     0.95238,     0.95238,     0.95238,     0.95238,     0.95238,     0.95238,     0.95238,     0.95238,     0.95238,\n",
              "            0.95238,     0.95238,     0.95238,     0.95238,     0.95238,     0.95238,     0.95238,     0.95238,     0.95238,     0.95238,     0.95238,     0.95238,     0.95238,     0.95238,     0.95238,     0.95238,     0.95238,     0.95238,     0.95238,     0.95238,     0.95238,     0.95238,     0.95238,\n",
              "            0.95238,     0.95238,     0.95238,     0.95238,     0.95238,     0.95238,     0.95238,     0.95238,     0.95238,     0.95238,     0.95238,     0.95238,     0.95238,     0.95238,     0.95238,     0.95238,     0.95238,     0.95238,     0.95238,     0.95238,     0.95238,     0.95238,     0.95238,\n",
              "            0.95238,     0.95238,     0.95238,     0.95238,     0.95238,     0.95238,     0.95238,     0.95238,     0.95238,     0.95238,     0.95238,     0.95238,        0.82,        0.82,        0.82,        0.82,        0.82,        0.82,        0.82,        0.82,        0.82,        0.82,        0.82,\n",
              "               0.82,        0.82,        0.82,        0.82,        0.82,        0.82,        0.82,        0.82,        0.82,        0.82,        0.82,     0.21208,     0.20896,     0.20584,     0.20272,     0.19961,     0.19649,     0.19337,     0.19025,     0.18713,     0.18401,     0.18089,     0.17777,\n",
              "            0.17465,     0.17154,     0.16842,      0.1653,     0.16218,     0.15906,     0.15594,     0.15282,      0.1497,     0.14659,     0.14347,     0.14035,     0.13723,     0.13411,     0.13099,     0.12787,     0.12475,     0.12163,     0.11852,      0.1154,     0.11228,     0.10916,     0.10604,\n",
              "            0.10292,    0.099803,    0.096684,    0.093565,    0.090446,    0.087327,    0.084209,     0.08109,    0.077971,    0.074852,    0.071733,    0.068614,    0.065496,    0.062377,    0.059258,    0.056139,     0.05302,    0.049901,    0.046783,    0.043664,    0.040545,    0.037426,    0.034307,\n",
              "           0.031188,     0.02807,    0.024951,    0.021832,    0.018713,    0.015594,    0.012475,   0.0093565,   0.0062377,   0.0031188,           0]]), 'Recall', 'Precision'], [array([          0,    0.001001,    0.002002,    0.003003,    0.004004,    0.005005,    0.006006,    0.007007,    0.008008,    0.009009,     0.01001,    0.011011,    0.012012,    0.013013,    0.014014,    0.015015,    0.016016,    0.017017,    0.018018,    0.019019,     0.02002,    0.021021,    0.022022,    0.023023,\n",
              "          0.024024,    0.025025,    0.026026,    0.027027,    0.028028,    0.029029,     0.03003,    0.031031,    0.032032,    0.033033,    0.034034,    0.035035,    0.036036,    0.037037,    0.038038,    0.039039,     0.04004,    0.041041,    0.042042,    0.043043,    0.044044,    0.045045,    0.046046,    0.047047,\n",
              "          0.048048,    0.049049,     0.05005,    0.051051,    0.052052,    0.053053,    0.054054,    0.055055,    0.056056,    0.057057,    0.058058,    0.059059,     0.06006,    0.061061,    0.062062,    0.063063,    0.064064,    0.065065,    0.066066,    0.067067,    0.068068,    0.069069,     0.07007,    0.071071,\n",
              "          0.072072,    0.073073,    0.074074,    0.075075,    0.076076,    0.077077,    0.078078,    0.079079,     0.08008,    0.081081,    0.082082,    0.083083,    0.084084,    0.085085,    0.086086,    0.087087,    0.088088,    0.089089,     0.09009,    0.091091,    0.092092,    0.093093,    0.094094,    0.095095,\n",
              "          0.096096,    0.097097,    0.098098,    0.099099,      0.1001,      0.1011,      0.1021,      0.1031,      0.1041,     0.10511,     0.10611,     0.10711,     0.10811,     0.10911,     0.11011,     0.11111,     0.11211,     0.11311,     0.11411,     0.11512,     0.11612,     0.11712,     0.11812,     0.11912,\n",
              "           0.12012,     0.12112,     0.12212,     0.12312,     0.12412,     0.12513,     0.12613,     0.12713,     0.12813,     0.12913,     0.13013,     0.13113,     0.13213,     0.13313,     0.13413,     0.13514,     0.13614,     0.13714,     0.13814,     0.13914,     0.14014,     0.14114,     0.14214,     0.14314,\n",
              "           0.14414,     0.14515,     0.14615,     0.14715,     0.14815,     0.14915,     0.15015,     0.15115,     0.15215,     0.15315,     0.15415,     0.15516,     0.15616,     0.15716,     0.15816,     0.15916,     0.16016,     0.16116,     0.16216,     0.16316,     0.16416,     0.16517,     0.16617,     0.16717,\n",
              "           0.16817,     0.16917,     0.17017,     0.17117,     0.17217,     0.17317,     0.17417,     0.17518,     0.17618,     0.17718,     0.17818,     0.17918,     0.18018,     0.18118,     0.18218,     0.18318,     0.18418,     0.18519,     0.18619,     0.18719,     0.18819,     0.18919,     0.19019,     0.19119,\n",
              "           0.19219,     0.19319,     0.19419,      0.1952,      0.1962,      0.1972,      0.1982,      0.1992,      0.2002,      0.2012,      0.2022,      0.2032,      0.2042,     0.20521,     0.20621,     0.20721,     0.20821,     0.20921,     0.21021,     0.21121,     0.21221,     0.21321,     0.21421,     0.21522,\n",
              "           0.21622,     0.21722,     0.21822,     0.21922,     0.22022,     0.22122,     0.22222,     0.22322,     0.22422,     0.22523,     0.22623,     0.22723,     0.22823,     0.22923,     0.23023,     0.23123,     0.23223,     0.23323,     0.23423,     0.23524,     0.23624,     0.23724,     0.23824,     0.23924,\n",
              "           0.24024,     0.24124,     0.24224,     0.24324,     0.24424,     0.24525,     0.24625,     0.24725,     0.24825,     0.24925,     0.25025,     0.25125,     0.25225,     0.25325,     0.25425,     0.25526,     0.25626,     0.25726,     0.25826,     0.25926,     0.26026,     0.26126,     0.26226,     0.26326,\n",
              "           0.26426,     0.26527,     0.26627,     0.26727,     0.26827,     0.26927,     0.27027,     0.27127,     0.27227,     0.27327,     0.27427,     0.27528,     0.27628,     0.27728,     0.27828,     0.27928,     0.28028,     0.28128,     0.28228,     0.28328,     0.28428,     0.28529,     0.28629,     0.28729,\n",
              "           0.28829,     0.28929,     0.29029,     0.29129,     0.29229,     0.29329,     0.29429,      0.2953,      0.2963,      0.2973,      0.2983,      0.2993,      0.3003,      0.3013,      0.3023,      0.3033,      0.3043,     0.30531,     0.30631,     0.30731,     0.30831,     0.30931,     0.31031,     0.31131,\n",
              "           0.31231,     0.31331,     0.31431,     0.31532,     0.31632,     0.31732,     0.31832,     0.31932,     0.32032,     0.32132,     0.32232,     0.32332,     0.32432,     0.32533,     0.32633,     0.32733,     0.32833,     0.32933,     0.33033,     0.33133,     0.33233,     0.33333,     0.33433,     0.33534,\n",
              "           0.33634,     0.33734,     0.33834,     0.33934,     0.34034,     0.34134,     0.34234,     0.34334,     0.34434,     0.34535,     0.34635,     0.34735,     0.34835,     0.34935,     0.35035,     0.35135,     0.35235,     0.35335,     0.35435,     0.35536,     0.35636,     0.35736,     0.35836,     0.35936,\n",
              "           0.36036,     0.36136,     0.36236,     0.36336,     0.36436,     0.36537,     0.36637,     0.36737,     0.36837,     0.36937,     0.37037,     0.37137,     0.37237,     0.37337,     0.37437,     0.37538,     0.37638,     0.37738,     0.37838,     0.37938,     0.38038,     0.38138,     0.38238,     0.38338,\n",
              "           0.38438,     0.38539,     0.38639,     0.38739,     0.38839,     0.38939,     0.39039,     0.39139,     0.39239,     0.39339,     0.39439,      0.3954,      0.3964,      0.3974,      0.3984,      0.3994,      0.4004,      0.4014,      0.4024,      0.4034,      0.4044,     0.40541,     0.40641,     0.40741,\n",
              "           0.40841,     0.40941,     0.41041,     0.41141,     0.41241,     0.41341,     0.41441,     0.41542,     0.41642,     0.41742,     0.41842,     0.41942,     0.42042,     0.42142,     0.42242,     0.42342,     0.42442,     0.42543,     0.42643,     0.42743,     0.42843,     0.42943,     0.43043,     0.43143,\n",
              "           0.43243,     0.43343,     0.43443,     0.43544,     0.43644,     0.43744,     0.43844,     0.43944,     0.44044,     0.44144,     0.44244,     0.44344,     0.44444,     0.44545,     0.44645,     0.44745,     0.44845,     0.44945,     0.45045,     0.45145,     0.45245,     0.45345,     0.45445,     0.45546,\n",
              "           0.45646,     0.45746,     0.45846,     0.45946,     0.46046,     0.46146,     0.46246,     0.46346,     0.46446,     0.46547,     0.46647,     0.46747,     0.46847,     0.46947,     0.47047,     0.47147,     0.47247,     0.47347,     0.47447,     0.47548,     0.47648,     0.47748,     0.47848,     0.47948,\n",
              "           0.48048,     0.48148,     0.48248,     0.48348,     0.48448,     0.48549,     0.48649,     0.48749,     0.48849,     0.48949,     0.49049,     0.49149,     0.49249,     0.49349,     0.49449,      0.4955,      0.4965,      0.4975,      0.4985,      0.4995,      0.5005,      0.5015,      0.5025,      0.5035,\n",
              "            0.5045,     0.50551,     0.50651,     0.50751,     0.50851,     0.50951,     0.51051,     0.51151,     0.51251,     0.51351,     0.51451,     0.51552,     0.51652,     0.51752,     0.51852,     0.51952,     0.52052,     0.52152,     0.52252,     0.52352,     0.52452,     0.52553,     0.52653,     0.52753,\n",
              "           0.52853,     0.52953,     0.53053,     0.53153,     0.53253,     0.53353,     0.53453,     0.53554,     0.53654,     0.53754,     0.53854,     0.53954,     0.54054,     0.54154,     0.54254,     0.54354,     0.54454,     0.54555,     0.54655,     0.54755,     0.54855,     0.54955,     0.55055,     0.55155,\n",
              "           0.55255,     0.55355,     0.55455,     0.55556,     0.55656,     0.55756,     0.55856,     0.55956,     0.56056,     0.56156,     0.56256,     0.56356,     0.56456,     0.56557,     0.56657,     0.56757,     0.56857,     0.56957,     0.57057,     0.57157,     0.57257,     0.57357,     0.57457,     0.57558,\n",
              "           0.57658,     0.57758,     0.57858,     0.57958,     0.58058,     0.58158,     0.58258,     0.58358,     0.58458,     0.58559,     0.58659,     0.58759,     0.58859,     0.58959,     0.59059,     0.59159,     0.59259,     0.59359,     0.59459,      0.5956,      0.5966,      0.5976,      0.5986,      0.5996,\n",
              "            0.6006,      0.6016,      0.6026,      0.6036,      0.6046,     0.60561,     0.60661,     0.60761,     0.60861,     0.60961,     0.61061,     0.61161,     0.61261,     0.61361,     0.61461,     0.61562,     0.61662,     0.61762,     0.61862,     0.61962,     0.62062,     0.62162,     0.62262,     0.62362,\n",
              "           0.62462,     0.62563,     0.62663,     0.62763,     0.62863,     0.62963,     0.63063,     0.63163,     0.63263,     0.63363,     0.63463,     0.63564,     0.63664,     0.63764,     0.63864,     0.63964,     0.64064,     0.64164,     0.64264,     0.64364,     0.64464,     0.64565,     0.64665,     0.64765,\n",
              "           0.64865,     0.64965,     0.65065,     0.65165,     0.65265,     0.65365,     0.65465,     0.65566,     0.65666,     0.65766,     0.65866,     0.65966,     0.66066,     0.66166,     0.66266,     0.66366,     0.66466,     0.66567,     0.66667,     0.66767,     0.66867,     0.66967,     0.67067,     0.67167,\n",
              "           0.67267,     0.67367,     0.67467,     0.67568,     0.67668,     0.67768,     0.67868,     0.67968,     0.68068,     0.68168,     0.68268,     0.68368,     0.68468,     0.68569,     0.68669,     0.68769,     0.68869,     0.68969,     0.69069,     0.69169,     0.69269,     0.69369,     0.69469,      0.6957,\n",
              "            0.6967,      0.6977,      0.6987,      0.6997,      0.7007,      0.7017,      0.7027,      0.7037,      0.7047,     0.70571,     0.70671,     0.70771,     0.70871,     0.70971,     0.71071,     0.71171,     0.71271,     0.71371,     0.71471,     0.71572,     0.71672,     0.71772,     0.71872,     0.71972,\n",
              "           0.72072,     0.72172,     0.72272,     0.72372,     0.72472,     0.72573,     0.72673,     0.72773,     0.72873,     0.72973,     0.73073,     0.73173,     0.73273,     0.73373,     0.73473,     0.73574,     0.73674,     0.73774,     0.73874,     0.73974,     0.74074,     0.74174,     0.74274,     0.74374,\n",
              "           0.74474,     0.74575,     0.74675,     0.74775,     0.74875,     0.74975,     0.75075,     0.75175,     0.75275,     0.75375,     0.75475,     0.75576,     0.75676,     0.75776,     0.75876,     0.75976,     0.76076,     0.76176,     0.76276,     0.76376,     0.76476,     0.76577,     0.76677,     0.76777,\n",
              "           0.76877,     0.76977,     0.77077,     0.77177,     0.77277,     0.77377,     0.77477,     0.77578,     0.77678,     0.77778,     0.77878,     0.77978,     0.78078,     0.78178,     0.78278,     0.78378,     0.78478,     0.78579,     0.78679,     0.78779,     0.78879,     0.78979,     0.79079,     0.79179,\n",
              "           0.79279,     0.79379,     0.79479,      0.7958,      0.7968,      0.7978,      0.7988,      0.7998,      0.8008,      0.8018,      0.8028,      0.8038,      0.8048,     0.80581,     0.80681,     0.80781,     0.80881,     0.80981,     0.81081,     0.81181,     0.81281,     0.81381,     0.81481,     0.81582,\n",
              "           0.81682,     0.81782,     0.81882,     0.81982,     0.82082,     0.82182,     0.82282,     0.82382,     0.82482,     0.82583,     0.82683,     0.82783,     0.82883,     0.82983,     0.83083,     0.83183,     0.83283,     0.83383,     0.83483,     0.83584,     0.83684,     0.83784,     0.83884,     0.83984,\n",
              "           0.84084,     0.84184,     0.84284,     0.84384,     0.84484,     0.84585,     0.84685,     0.84785,     0.84885,     0.84985,     0.85085,     0.85185,     0.85285,     0.85385,     0.85485,     0.85586,     0.85686,     0.85786,     0.85886,     0.85986,     0.86086,     0.86186,     0.86286,     0.86386,\n",
              "           0.86486,     0.86587,     0.86687,     0.86787,     0.86887,     0.86987,     0.87087,     0.87187,     0.87287,     0.87387,     0.87487,     0.87588,     0.87688,     0.87788,     0.87888,     0.87988,     0.88088,     0.88188,     0.88288,     0.88388,     0.88488,     0.88589,     0.88689,     0.88789,\n",
              "           0.88889,     0.88989,     0.89089,     0.89189,     0.89289,     0.89389,     0.89489,      0.8959,      0.8969,      0.8979,      0.8989,      0.8999,      0.9009,      0.9019,      0.9029,      0.9039,      0.9049,     0.90591,     0.90691,     0.90791,     0.90891,     0.90991,     0.91091,     0.91191,\n",
              "           0.91291,     0.91391,     0.91491,     0.91592,     0.91692,     0.91792,     0.91892,     0.91992,     0.92092,     0.92192,     0.92292,     0.92392,     0.92492,     0.92593,     0.92693,     0.92793,     0.92893,     0.92993,     0.93093,     0.93193,     0.93293,     0.93393,     0.93493,     0.93594,\n",
              "           0.93694,     0.93794,     0.93894,     0.93994,     0.94094,     0.94194,     0.94294,     0.94394,     0.94494,     0.94595,     0.94695,     0.94795,     0.94895,     0.94995,     0.95095,     0.95195,     0.95295,     0.95395,     0.95495,     0.95596,     0.95696,     0.95796,     0.95896,     0.95996,\n",
              "           0.96096,     0.96196,     0.96296,     0.96396,     0.96496,     0.96597,     0.96697,     0.96797,     0.96897,     0.96997,     0.97097,     0.97197,     0.97297,     0.97397,     0.97497,     0.97598,     0.97698,     0.97798,     0.97898,     0.97998,     0.98098,     0.98198,     0.98298,     0.98398,\n",
              "           0.98498,     0.98599,     0.98699,     0.98799,     0.98899,     0.98999,     0.99099,     0.99199,     0.99299,     0.99399,     0.99499,       0.996,       0.997,       0.998,       0.999,           1]), array([[    0.34599,     0.34599,     0.45131,      0.5033,     0.54098,     0.57241,     0.60179,     0.62349,     0.64011,     0.64926,     0.66166,     0.66914,     0.67857,     0.68384,     0.68592,     0.68799,     0.69093,     0.69481,     0.69822,     0.70161,     0.70503,     0.72016,     0.72502,\n",
              "             0.7355,     0.73934,     0.74229,     0.74522,     0.75962,     0.76126,      0.7629,     0.76454,     0.76617,     0.76696,     0.76764,     0.76832,       0.769,     0.76967,     0.77035,     0.77103,      0.7717,     0.77238,     0.77305,     0.77368,     0.77415,     0.77461,     0.77508,\n",
              "            0.77555,     0.77601,     0.77648,     0.77694,     0.77741,     0.77787,     0.77834,      0.7788,     0.77926,     0.77973,     0.78019,     0.78065,      0.7815,     0.78305,      0.7846,     0.78615,     0.78769,     0.78918,     0.79061,     0.79204,     0.79347,     0.79489,     0.79618,\n",
              "            0.79662,     0.79706,      0.7975,     0.79795,     0.79839,     0.79883,     0.79927,     0.79971,     0.80015,     0.80059,     0.80103,     0.80147,     0.80191,     0.80234,     0.80278,     0.80322,     0.80366,     0.80425,     0.80508,     0.80591,     0.80674,     0.80757,     0.80839,\n",
              "            0.80922,     0.81004,     0.81086,     0.81168,       0.812,     0.81216,     0.81232,     0.81248,     0.81264,      0.8128,     0.81296,     0.81312,     0.81328,     0.81344,      0.8136,     0.81376,     0.81392,     0.81407,     0.81423,     0.81439,     0.81455,     0.81471,     0.81487,\n",
              "            0.81503,     0.81519,     0.81535,      0.8155,     0.81566,     0.81582,     0.81598,     0.81614,      0.8163,     0.81646,     0.81661,     0.81677,     0.81693,     0.81709,     0.81725,      0.8174,     0.81756,     0.81772,     0.81788,     0.81804,     0.81819,     0.81835,     0.81851,\n",
              "            0.81867,     0.81883,     0.81898,     0.81914,      0.8193,     0.81946,     0.81961,     0.81977,     0.81993,     0.82041,     0.82116,     0.82191,     0.82266,      0.8234,     0.82415,      0.8249,     0.82564,     0.82639,     0.82713,     0.82787,     0.82833,     0.82845,     0.82856,\n",
              "            0.82868,      0.8288,     0.82891,     0.82903,     0.82914,     0.82926,     0.82937,     0.82949,      0.8296,     0.82972,     0.82983,     0.82995,     0.83006,     0.83018,     0.83029,     0.83041,     0.83052,     0.83064,     0.83075,     0.83087,     0.83098,      0.8311,     0.83121,\n",
              "            0.83133,     0.83144,     0.83156,     0.83167,     0.83179,      0.8319,     0.83202,     0.83213,     0.83225,     0.83236,     0.83247,     0.83259,      0.8327,     0.83282,     0.83293,     0.83305,     0.83316,     0.83328,     0.83339,     0.83351,     0.83362,     0.83373,     0.83385,\n",
              "            0.83396,     0.83408,     0.83419,      0.8343,     0.83442,     0.83453,     0.83465,     0.83476,     0.83488,     0.83499,      0.8351,     0.83522,     0.83533,     0.83545,     0.83556,     0.83567,     0.83579,      0.8359,     0.83601,     0.83613,     0.83624,     0.83636,     0.83647,\n",
              "            0.83658,      0.8367,     0.83699,     0.83738,     0.83777,     0.83816,     0.83855,     0.83894,     0.83933,     0.83971,      0.8401,     0.84049,     0.84087,     0.84126,     0.84165,     0.84203,     0.84242,      0.8428,     0.84319,     0.84357,     0.84396,     0.84434,     0.84473,\n",
              "            0.84511,     0.84539,     0.84546,     0.84553,      0.8456,     0.84568,     0.84575,     0.84582,     0.84589,     0.84596,     0.84604,     0.84611,     0.84618,     0.84625,     0.84633,      0.8464,     0.84647,     0.84654,     0.84662,     0.84669,     0.84676,     0.84683,      0.8469,\n",
              "            0.84698,     0.84705,     0.84712,     0.84719,     0.84726,     0.84734,     0.84741,     0.84748,     0.84755,     0.84763,      0.8477,     0.84777,     0.84784,     0.84791,     0.84799,     0.84806,     0.84813,      0.8482,     0.84827,     0.84835,     0.84842,     0.84849,     0.84856,\n",
              "            0.84863,     0.84871,     0.84878,     0.84885,     0.84892,     0.84899,     0.84907,     0.84914,     0.84921,     0.84928,     0.84935,     0.84942,      0.8495,     0.84957,     0.84964,     0.84971,     0.84978,     0.84986,     0.84993,        0.85,     0.85007,     0.85014,     0.85021,\n",
              "            0.85029,     0.85036,     0.85043,      0.8505,     0.85057,     0.85064,     0.85072,     0.85079,     0.85086,     0.85093,       0.851,     0.85107,     0.85115,     0.85122,     0.85129,     0.85136,     0.85143,      0.8515,     0.85157,     0.85165,     0.85172,     0.85179,     0.85186,\n",
              "            0.85193,       0.852,     0.85208,     0.85215,     0.85222,     0.85229,     0.85236,     0.85243,      0.8525,     0.85258,     0.85265,     0.85272,     0.85279,     0.85286,     0.85293,       0.853,     0.85307,     0.85315,     0.85322,     0.85329,     0.85336,     0.85343,      0.8535,\n",
              "            0.85357,     0.85364,     0.85372,     0.85379,     0.85386,     0.85393,       0.854,     0.85407,     0.85414,     0.85425,     0.85437,     0.85449,     0.85461,     0.85473,     0.85485,     0.85497,     0.85509,     0.85521,     0.85533,     0.85545,     0.85556,     0.85568,      0.8558,\n",
              "            0.85592,     0.85604,     0.85616,     0.85628,      0.8564,     0.85652,     0.85664,     0.85676,     0.85688,       0.857,     0.85712,     0.85724,     0.85736,     0.85748,     0.85759,     0.85771,     0.85783,     0.85795,     0.85807,     0.85819,     0.85831,     0.85843,     0.85855,\n",
              "            0.85867,     0.85879,      0.8589,     0.85902,     0.85914,     0.85926,     0.85938,      0.8595,     0.85962,     0.85974,     0.85985,     0.85997,     0.86009,     0.86021,     0.86033,     0.86045,     0.86057,     0.86068,      0.8608,     0.86092,     0.86104,     0.86116,     0.86128,\n",
              "            0.86139,     0.86151,     0.86163,     0.86175,     0.86187,     0.86198,      0.8621,     0.86222,     0.86234,     0.86246,     0.86258,     0.86269,     0.86281,     0.86293,     0.86305,     0.86373,     0.87219,     0.87036,     0.86852,     0.86668,     0.86484,     0.86299,     0.86114,\n",
              "            0.86028,      0.8604,     0.86052,     0.86064,     0.86076,     0.86088,       0.861,     0.86112,     0.86124,     0.86136,     0.86148,      0.8616,     0.86172,     0.86185,     0.86197,     0.86209,     0.86221,     0.86233,     0.86245,     0.86257,     0.86269,     0.86281,     0.86293,\n",
              "            0.86305,     0.86317,     0.86329,     0.86341,     0.86353,     0.86365,     0.86377,     0.86389,     0.86401,     0.86413,     0.86425,     0.86437,     0.86449,     0.86461,     0.86473,     0.86485,     0.86497,     0.86509,     0.86521,     0.86533,     0.86545,     0.86557,     0.86569,\n",
              "            0.86581,     0.86593,     0.86605,     0.86617,     0.86629,     0.86641,     0.86652,     0.86664,     0.86676,     0.86688,       0.867,     0.86712,     0.86724,     0.86736,     0.86748,      0.8676,     0.86772,     0.86784,     0.86796,     0.86807,     0.86819,     0.86831,     0.86843,\n",
              "            0.86855,     0.86867,     0.86879,     0.86891,     0.86903,     0.86914,     0.86926,     0.86938,      0.8695,     0.87402,     0.87925,     0.87953,     0.87981,     0.88008,     0.88036,     0.88064,     0.88091,     0.88119,     0.88146,     0.88174,     0.88202,     0.88229,     0.88257,\n",
              "            0.88284,     0.88312,     0.88339,     0.88367,     0.88394,     0.88421,     0.88449,     0.88476,     0.88504,     0.88531,     0.88558,     0.88586,     0.88613,      0.8864,     0.88668,     0.88695,     0.88722,     0.88749,     0.88777,     0.88804,     0.88831,     0.88858,     0.88885,\n",
              "            0.88919,     0.88953,     0.88988,     0.89022,     0.89056,     0.89091,     0.89125,     0.89159,     0.89194,     0.89228,     0.89262,     0.89296,     0.89331,     0.89365,     0.89399,     0.89433,     0.89467,     0.89501,     0.89535,     0.89569,     0.89603,     0.89637,     0.89671,\n",
              "            0.89705,     0.89739,     0.89773,     0.89807,      0.8984,     0.89874,       0.899,      0.8992,      0.8994,      0.8996,     0.89979,     0.89999,     0.90019,     0.90039,     0.90059,     0.90079,     0.90099,     0.90119,     0.90139,     0.90159,     0.90178,     0.90198,     0.90218,\n",
              "            0.90238,     0.90258,     0.90278,     0.90297,     0.90317,     0.90337,     0.90357,     0.90376,     0.90396,     0.90416,     0.90436,     0.90455,     0.90475,     0.90495,     0.90515,     0.90534,     0.90554,     0.90574,     0.90593,     0.90613,     0.90633,     0.90652,     0.90672,\n",
              "            0.90692,     0.90711,     0.90731,      0.9075,      0.9077,      0.9079,     0.90809,     0.90829,     0.90848,     0.90868,     0.90887,     0.90907,     0.91124,     0.91363,     0.91601,     0.91837,     0.92024,     0.92162,       0.923,     0.92437,     0.92574,     0.92711,     0.92847,\n",
              "            0.92983,     0.92967,     0.92888,     0.92808,     0.92727,     0.92647,     0.92567,     0.92486,     0.92406,     0.92325,     0.92244,     0.92163,     0.92082,     0.92001,      0.9192,     0.91839,     0.91757,      0.9167,     0.91582,     0.91495,     0.91407,      0.9132,     0.91232,\n",
              "            0.91144,     0.91056,     0.90968,     0.90879,     0.90791,     0.90702,     0.90613,     0.90525,     0.90452,     0.90398,     0.90345,     0.90291,     0.90237,     0.90183,      0.9013,     0.90076,     0.90022,     0.89968,     0.89914,      0.8986,     0.89806,     0.89752,     0.89698,\n",
              "            0.89643,     0.89589,     0.89535,      0.8948,     0.89426,     0.89371,     0.89317,     0.89262,     0.89208,     0.89154,     0.89109,     0.89065,     0.89021,     0.88977,     0.88932,     0.88888,     0.88843,     0.88799,     0.88755,      0.8871,     0.88665,     0.88621,     0.88576,\n",
              "            0.88532,     0.88487,     0.88442,     0.88397,     0.88353,     0.88308,     0.88263,     0.88218,     0.88173,     0.88128,     0.88083,     0.88038,     0.87993,     0.87948,     0.87903,     0.87858,     0.87813,     0.87669,     0.87503,     0.87337,      0.8717,     0.87003,     0.86835,\n",
              "            0.86667,     0.86499,      0.8649,     0.86622,     0.86753,     0.86884,     0.87014,     0.87144,     0.87273,     0.87402,     0.87466,     0.87321,     0.87176,     0.87031,     0.86886,      0.8674,     0.86593,     0.86447,       0.863,     0.86152,     0.85974,     0.85762,     0.85549,\n",
              "            0.85336,     0.85121,     0.84906,      0.8469,     0.84417,     0.84112,     0.83805,     0.83497,     0.83187,     0.83227,     0.83369,      0.8351,     0.83651,     0.83791,      0.8393,     0.84068,     0.84206,     0.83907,     0.83592,     0.83275,     0.82957,      0.8265,     0.82472,\n",
              "            0.82293,     0.82113,     0.81933,     0.81752,     0.81571,     0.81389,     0.81207,     0.79364,     0.79081,     0.78796,      0.7851,     0.78223,     0.77934,     0.77549,     0.77048,     0.76543,     0.75977,     0.74249,     0.73721,     0.73188,     0.72651,     0.71212,     0.68353,\n",
              "            0.67903,      0.6745,     0.66993,     0.64439,     0.63825,     0.63205,     0.62579,     0.59317,     0.58155,     0.57443,     0.56764,     0.56077,     0.52049,     0.50154,     0.48835,     0.48068,     0.47708,     0.47347,     0.46984,      0.4662,     0.46254,     0.45886,     0.45555,\n",
              "            0.45333,     0.45109,     0.44886,     0.44661,     0.44436,      0.4421,     0.43983,     0.43756,     0.43529,       0.433,     0.43071,     0.39968,     0.39508,     0.39045,     0.38579,     0.38111,      0.3764,     0.37166,     0.35902,     0.34319,     0.31428,     0.28967,      0.2698,\n",
              "            0.25574,     0.24145,     0.22912,     0.21686,     0.20442,     0.20164,     0.19913,     0.19661,     0.19408,     0.19154,       0.189,     0.18645,     0.18389,     0.18132,     0.17875,     0.17617,     0.17359,     0.17099,     0.16839,     0.16575,     0.16304,     0.16033,     0.15761,\n",
              "            0.15488,     0.15214,     0.14939,     0.14664,     0.14387,      0.1411,     0.13832,     0.13553,     0.13273,     0.12993,     0.12708,     0.12404,       0.121,     0.11795,     0.11489,     0.11182,     0.10874,     0.10565,     0.10255,    0.099434,    0.096313,    0.093181,    0.090038,\n",
              "           0.086744,    0.077221,    0.067604,     0.05789,    0.048077,           0,           0,           0,           0,           0,           0,           0,           0,           0,           0,           0,           0,           0,           0,           0,           0,           0,           0,\n",
              "                  0,           0,           0,           0,           0,           0,           0,           0,           0,           0,           0,           0,           0,           0,           0,           0,           0,           0,           0,           0,           0,           0,           0,\n",
              "                  0,           0,           0,           0,           0,           0,           0,           0,           0,           0,           0,           0,           0,           0,           0,           0,           0,           0,           0,           0,           0,           0,           0,\n",
              "                  0,           0,           0,           0,           0,           0,           0,           0,           0,           0,           0]]), 'Confidence', 'F1'], [array([          0,    0.001001,    0.002002,    0.003003,    0.004004,    0.005005,    0.006006,    0.007007,    0.008008,    0.009009,     0.01001,    0.011011,    0.012012,    0.013013,    0.014014,    0.015015,    0.016016,    0.017017,    0.018018,    0.019019,     0.02002,    0.021021,    0.022022,    0.023023,\n",
              "          0.024024,    0.025025,    0.026026,    0.027027,    0.028028,    0.029029,     0.03003,    0.031031,    0.032032,    0.033033,    0.034034,    0.035035,    0.036036,    0.037037,    0.038038,    0.039039,     0.04004,    0.041041,    0.042042,    0.043043,    0.044044,    0.045045,    0.046046,    0.047047,\n",
              "          0.048048,    0.049049,     0.05005,    0.051051,    0.052052,    0.053053,    0.054054,    0.055055,    0.056056,    0.057057,    0.058058,    0.059059,     0.06006,    0.061061,    0.062062,    0.063063,    0.064064,    0.065065,    0.066066,    0.067067,    0.068068,    0.069069,     0.07007,    0.071071,\n",
              "          0.072072,    0.073073,    0.074074,    0.075075,    0.076076,    0.077077,    0.078078,    0.079079,     0.08008,    0.081081,    0.082082,    0.083083,    0.084084,    0.085085,    0.086086,    0.087087,    0.088088,    0.089089,     0.09009,    0.091091,    0.092092,    0.093093,    0.094094,    0.095095,\n",
              "          0.096096,    0.097097,    0.098098,    0.099099,      0.1001,      0.1011,      0.1021,      0.1031,      0.1041,     0.10511,     0.10611,     0.10711,     0.10811,     0.10911,     0.11011,     0.11111,     0.11211,     0.11311,     0.11411,     0.11512,     0.11612,     0.11712,     0.11812,     0.11912,\n",
              "           0.12012,     0.12112,     0.12212,     0.12312,     0.12412,     0.12513,     0.12613,     0.12713,     0.12813,     0.12913,     0.13013,     0.13113,     0.13213,     0.13313,     0.13413,     0.13514,     0.13614,     0.13714,     0.13814,     0.13914,     0.14014,     0.14114,     0.14214,     0.14314,\n",
              "           0.14414,     0.14515,     0.14615,     0.14715,     0.14815,     0.14915,     0.15015,     0.15115,     0.15215,     0.15315,     0.15415,     0.15516,     0.15616,     0.15716,     0.15816,     0.15916,     0.16016,     0.16116,     0.16216,     0.16316,     0.16416,     0.16517,     0.16617,     0.16717,\n",
              "           0.16817,     0.16917,     0.17017,     0.17117,     0.17217,     0.17317,     0.17417,     0.17518,     0.17618,     0.17718,     0.17818,     0.17918,     0.18018,     0.18118,     0.18218,     0.18318,     0.18418,     0.18519,     0.18619,     0.18719,     0.18819,     0.18919,     0.19019,     0.19119,\n",
              "           0.19219,     0.19319,     0.19419,      0.1952,      0.1962,      0.1972,      0.1982,      0.1992,      0.2002,      0.2012,      0.2022,      0.2032,      0.2042,     0.20521,     0.20621,     0.20721,     0.20821,     0.20921,     0.21021,     0.21121,     0.21221,     0.21321,     0.21421,     0.21522,\n",
              "           0.21622,     0.21722,     0.21822,     0.21922,     0.22022,     0.22122,     0.22222,     0.22322,     0.22422,     0.22523,     0.22623,     0.22723,     0.22823,     0.22923,     0.23023,     0.23123,     0.23223,     0.23323,     0.23423,     0.23524,     0.23624,     0.23724,     0.23824,     0.23924,\n",
              "           0.24024,     0.24124,     0.24224,     0.24324,     0.24424,     0.24525,     0.24625,     0.24725,     0.24825,     0.24925,     0.25025,     0.25125,     0.25225,     0.25325,     0.25425,     0.25526,     0.25626,     0.25726,     0.25826,     0.25926,     0.26026,     0.26126,     0.26226,     0.26326,\n",
              "           0.26426,     0.26527,     0.26627,     0.26727,     0.26827,     0.26927,     0.27027,     0.27127,     0.27227,     0.27327,     0.27427,     0.27528,     0.27628,     0.27728,     0.27828,     0.27928,     0.28028,     0.28128,     0.28228,     0.28328,     0.28428,     0.28529,     0.28629,     0.28729,\n",
              "           0.28829,     0.28929,     0.29029,     0.29129,     0.29229,     0.29329,     0.29429,      0.2953,      0.2963,      0.2973,      0.2983,      0.2993,      0.3003,      0.3013,      0.3023,      0.3033,      0.3043,     0.30531,     0.30631,     0.30731,     0.30831,     0.30931,     0.31031,     0.31131,\n",
              "           0.31231,     0.31331,     0.31431,     0.31532,     0.31632,     0.31732,     0.31832,     0.31932,     0.32032,     0.32132,     0.32232,     0.32332,     0.32432,     0.32533,     0.32633,     0.32733,     0.32833,     0.32933,     0.33033,     0.33133,     0.33233,     0.33333,     0.33433,     0.33534,\n",
              "           0.33634,     0.33734,     0.33834,     0.33934,     0.34034,     0.34134,     0.34234,     0.34334,     0.34434,     0.34535,     0.34635,     0.34735,     0.34835,     0.34935,     0.35035,     0.35135,     0.35235,     0.35335,     0.35435,     0.35536,     0.35636,     0.35736,     0.35836,     0.35936,\n",
              "           0.36036,     0.36136,     0.36236,     0.36336,     0.36436,     0.36537,     0.36637,     0.36737,     0.36837,     0.36937,     0.37037,     0.37137,     0.37237,     0.37337,     0.37437,     0.37538,     0.37638,     0.37738,     0.37838,     0.37938,     0.38038,     0.38138,     0.38238,     0.38338,\n",
              "           0.38438,     0.38539,     0.38639,     0.38739,     0.38839,     0.38939,     0.39039,     0.39139,     0.39239,     0.39339,     0.39439,      0.3954,      0.3964,      0.3974,      0.3984,      0.3994,      0.4004,      0.4014,      0.4024,      0.4034,      0.4044,     0.40541,     0.40641,     0.40741,\n",
              "           0.40841,     0.40941,     0.41041,     0.41141,     0.41241,     0.41341,     0.41441,     0.41542,     0.41642,     0.41742,     0.41842,     0.41942,     0.42042,     0.42142,     0.42242,     0.42342,     0.42442,     0.42543,     0.42643,     0.42743,     0.42843,     0.42943,     0.43043,     0.43143,\n",
              "           0.43243,     0.43343,     0.43443,     0.43544,     0.43644,     0.43744,     0.43844,     0.43944,     0.44044,     0.44144,     0.44244,     0.44344,     0.44444,     0.44545,     0.44645,     0.44745,     0.44845,     0.44945,     0.45045,     0.45145,     0.45245,     0.45345,     0.45445,     0.45546,\n",
              "           0.45646,     0.45746,     0.45846,     0.45946,     0.46046,     0.46146,     0.46246,     0.46346,     0.46446,     0.46547,     0.46647,     0.46747,     0.46847,     0.46947,     0.47047,     0.47147,     0.47247,     0.47347,     0.47447,     0.47548,     0.47648,     0.47748,     0.47848,     0.47948,\n",
              "           0.48048,     0.48148,     0.48248,     0.48348,     0.48448,     0.48549,     0.48649,     0.48749,     0.48849,     0.48949,     0.49049,     0.49149,     0.49249,     0.49349,     0.49449,      0.4955,      0.4965,      0.4975,      0.4985,      0.4995,      0.5005,      0.5015,      0.5025,      0.5035,\n",
              "            0.5045,     0.50551,     0.50651,     0.50751,     0.50851,     0.50951,     0.51051,     0.51151,     0.51251,     0.51351,     0.51451,     0.51552,     0.51652,     0.51752,     0.51852,     0.51952,     0.52052,     0.52152,     0.52252,     0.52352,     0.52452,     0.52553,     0.52653,     0.52753,\n",
              "           0.52853,     0.52953,     0.53053,     0.53153,     0.53253,     0.53353,     0.53453,     0.53554,     0.53654,     0.53754,     0.53854,     0.53954,     0.54054,     0.54154,     0.54254,     0.54354,     0.54454,     0.54555,     0.54655,     0.54755,     0.54855,     0.54955,     0.55055,     0.55155,\n",
              "           0.55255,     0.55355,     0.55455,     0.55556,     0.55656,     0.55756,     0.55856,     0.55956,     0.56056,     0.56156,     0.56256,     0.56356,     0.56456,     0.56557,     0.56657,     0.56757,     0.56857,     0.56957,     0.57057,     0.57157,     0.57257,     0.57357,     0.57457,     0.57558,\n",
              "           0.57658,     0.57758,     0.57858,     0.57958,     0.58058,     0.58158,     0.58258,     0.58358,     0.58458,     0.58559,     0.58659,     0.58759,     0.58859,     0.58959,     0.59059,     0.59159,     0.59259,     0.59359,     0.59459,      0.5956,      0.5966,      0.5976,      0.5986,      0.5996,\n",
              "            0.6006,      0.6016,      0.6026,      0.6036,      0.6046,     0.60561,     0.60661,     0.60761,     0.60861,     0.60961,     0.61061,     0.61161,     0.61261,     0.61361,     0.61461,     0.61562,     0.61662,     0.61762,     0.61862,     0.61962,     0.62062,     0.62162,     0.62262,     0.62362,\n",
              "           0.62462,     0.62563,     0.62663,     0.62763,     0.62863,     0.62963,     0.63063,     0.63163,     0.63263,     0.63363,     0.63463,     0.63564,     0.63664,     0.63764,     0.63864,     0.63964,     0.64064,     0.64164,     0.64264,     0.64364,     0.64464,     0.64565,     0.64665,     0.64765,\n",
              "           0.64865,     0.64965,     0.65065,     0.65165,     0.65265,     0.65365,     0.65465,     0.65566,     0.65666,     0.65766,     0.65866,     0.65966,     0.66066,     0.66166,     0.66266,     0.66366,     0.66466,     0.66567,     0.66667,     0.66767,     0.66867,     0.66967,     0.67067,     0.67167,\n",
              "           0.67267,     0.67367,     0.67467,     0.67568,     0.67668,     0.67768,     0.67868,     0.67968,     0.68068,     0.68168,     0.68268,     0.68368,     0.68468,     0.68569,     0.68669,     0.68769,     0.68869,     0.68969,     0.69069,     0.69169,     0.69269,     0.69369,     0.69469,      0.6957,\n",
              "            0.6967,      0.6977,      0.6987,      0.6997,      0.7007,      0.7017,      0.7027,      0.7037,      0.7047,     0.70571,     0.70671,     0.70771,     0.70871,     0.70971,     0.71071,     0.71171,     0.71271,     0.71371,     0.71471,     0.71572,     0.71672,     0.71772,     0.71872,     0.71972,\n",
              "           0.72072,     0.72172,     0.72272,     0.72372,     0.72472,     0.72573,     0.72673,     0.72773,     0.72873,     0.72973,     0.73073,     0.73173,     0.73273,     0.73373,     0.73473,     0.73574,     0.73674,     0.73774,     0.73874,     0.73974,     0.74074,     0.74174,     0.74274,     0.74374,\n",
              "           0.74474,     0.74575,     0.74675,     0.74775,     0.74875,     0.74975,     0.75075,     0.75175,     0.75275,     0.75375,     0.75475,     0.75576,     0.75676,     0.75776,     0.75876,     0.75976,     0.76076,     0.76176,     0.76276,     0.76376,     0.76476,     0.76577,     0.76677,     0.76777,\n",
              "           0.76877,     0.76977,     0.77077,     0.77177,     0.77277,     0.77377,     0.77477,     0.77578,     0.77678,     0.77778,     0.77878,     0.77978,     0.78078,     0.78178,     0.78278,     0.78378,     0.78478,     0.78579,     0.78679,     0.78779,     0.78879,     0.78979,     0.79079,     0.79179,\n",
              "           0.79279,     0.79379,     0.79479,      0.7958,      0.7968,      0.7978,      0.7988,      0.7998,      0.8008,      0.8018,      0.8028,      0.8038,      0.8048,     0.80581,     0.80681,     0.80781,     0.80881,     0.80981,     0.81081,     0.81181,     0.81281,     0.81381,     0.81481,     0.81582,\n",
              "           0.81682,     0.81782,     0.81882,     0.81982,     0.82082,     0.82182,     0.82282,     0.82382,     0.82482,     0.82583,     0.82683,     0.82783,     0.82883,     0.82983,     0.83083,     0.83183,     0.83283,     0.83383,     0.83483,     0.83584,     0.83684,     0.83784,     0.83884,     0.83984,\n",
              "           0.84084,     0.84184,     0.84284,     0.84384,     0.84484,     0.84585,     0.84685,     0.84785,     0.84885,     0.84985,     0.85085,     0.85185,     0.85285,     0.85385,     0.85485,     0.85586,     0.85686,     0.85786,     0.85886,     0.85986,     0.86086,     0.86186,     0.86286,     0.86386,\n",
              "           0.86486,     0.86587,     0.86687,     0.86787,     0.86887,     0.86987,     0.87087,     0.87187,     0.87287,     0.87387,     0.87487,     0.87588,     0.87688,     0.87788,     0.87888,     0.87988,     0.88088,     0.88188,     0.88288,     0.88388,     0.88488,     0.88589,     0.88689,     0.88789,\n",
              "           0.88889,     0.88989,     0.89089,     0.89189,     0.89289,     0.89389,     0.89489,      0.8959,      0.8969,      0.8979,      0.8989,      0.8999,      0.9009,      0.9019,      0.9029,      0.9039,      0.9049,     0.90591,     0.90691,     0.90791,     0.90891,     0.90991,     0.91091,     0.91191,\n",
              "           0.91291,     0.91391,     0.91491,     0.91592,     0.91692,     0.91792,     0.91892,     0.91992,     0.92092,     0.92192,     0.92292,     0.92392,     0.92492,     0.92593,     0.92693,     0.92793,     0.92893,     0.92993,     0.93093,     0.93193,     0.93293,     0.93393,     0.93493,     0.93594,\n",
              "           0.93694,     0.93794,     0.93894,     0.93994,     0.94094,     0.94194,     0.94294,     0.94394,     0.94494,     0.94595,     0.94695,     0.94795,     0.94895,     0.94995,     0.95095,     0.95195,     0.95295,     0.95395,     0.95495,     0.95596,     0.95696,     0.95796,     0.95896,     0.95996,\n",
              "           0.96096,     0.96196,     0.96296,     0.96396,     0.96496,     0.96597,     0.96697,     0.96797,     0.96897,     0.96997,     0.97097,     0.97197,     0.97297,     0.97397,     0.97497,     0.97598,     0.97698,     0.97798,     0.97898,     0.97998,     0.98098,     0.98198,     0.98298,     0.98398,\n",
              "           0.98498,     0.98599,     0.98699,     0.98799,     0.98899,     0.98999,     0.99099,     0.99199,     0.99299,     0.99399,     0.99499,       0.996,       0.997,       0.998,       0.999,           1]), array([[    0.21244,     0.21244,     0.29776,     0.34476,     0.38113,     0.41308,      0.4444,     0.46847,      0.4875,     0.49819,     0.51295,     0.52199,     0.53356,      0.5401,      0.5427,      0.5453,       0.549,     0.55392,     0.55827,     0.56261,     0.56703,     0.58686,     0.59334,\n",
              "            0.60751,     0.61277,     0.61683,     0.62088,     0.64113,     0.64348,     0.64583,     0.64818,     0.65053,     0.65167,     0.65265,     0.65363,     0.65461,      0.6556,     0.65658,     0.65756,     0.65854,     0.65952,     0.66051,     0.66143,     0.66211,      0.6628,     0.66348,\n",
              "            0.66416,     0.66485,     0.66553,     0.66622,      0.6669,     0.66758,     0.66827,     0.66895,     0.66963,     0.67032,       0.671,     0.67169,     0.67294,     0.67525,     0.67756,     0.67987,     0.68218,     0.68442,     0.68657,     0.68873,     0.69089,     0.69305,     0.69501,\n",
              "            0.69568,     0.69636,     0.69703,     0.69771,     0.69838,     0.69906,     0.69973,     0.70041,     0.70108,     0.70176,     0.70243,     0.70311,     0.70379,     0.70446,     0.70514,     0.70581,     0.70649,      0.7074,     0.70869,     0.70998,     0.71126,     0.71255,     0.71384,\n",
              "            0.71513,     0.71641,      0.7177,     0.71899,     0.71949,     0.71974,     0.71999,     0.72024,     0.72049,     0.72074,     0.72099,     0.72124,     0.72149,     0.72175,       0.722,     0.72225,      0.7225,     0.72275,       0.723,     0.72325,      0.7235,     0.72375,       0.724,\n",
              "            0.72425,      0.7245,     0.72475,     0.72501,     0.72526,     0.72551,     0.72576,     0.72601,     0.72626,     0.72651,     0.72676,     0.72701,     0.72726,     0.72751,     0.72776,     0.72802,     0.72827,     0.72852,     0.72877,     0.72902,     0.72927,     0.72952,     0.72977,\n",
              "            0.73002,     0.73027,     0.73052,     0.73077,     0.73102,     0.73128,     0.73153,     0.73178,     0.73203,     0.73279,     0.73399,     0.73519,     0.73639,     0.73759,     0.73879,     0.73999,     0.74119,     0.74239,     0.74359,     0.74479,     0.74554,     0.74572,     0.74591,\n",
              "             0.7461,     0.74629,     0.74647,     0.74666,     0.74685,     0.74703,     0.74722,     0.74741,      0.7476,     0.74778,     0.74797,     0.74816,     0.74834,     0.74853,     0.74872,     0.74891,     0.74909,     0.74928,     0.74947,     0.74965,     0.74984,     0.75003,     0.75022,\n",
              "             0.7504,     0.75059,     0.75078,     0.75096,     0.75115,     0.75134,     0.75152,     0.75171,      0.7519,     0.75209,     0.75227,     0.75246,     0.75265,     0.75283,     0.75302,     0.75321,      0.7534,     0.75358,     0.75377,     0.75396,     0.75414,     0.75433,     0.75452,\n",
              "            0.75471,     0.75489,     0.75508,     0.75527,     0.75545,     0.75564,     0.75583,     0.75602,      0.7562,     0.75639,     0.75658,     0.75676,     0.75695,     0.75714,     0.75733,     0.75751,      0.7577,     0.75789,     0.75807,     0.75826,     0.75845,     0.75864,     0.75882,\n",
              "            0.75901,      0.7592,     0.75969,     0.76033,     0.76097,     0.76161,     0.76225,      0.7629,     0.76354,     0.76418,     0.76482,     0.76546,      0.7661,     0.76675,     0.76739,     0.76803,     0.76867,     0.76931,     0.76996,      0.7706,     0.77124,     0.77188,     0.77252,\n",
              "            0.77317,     0.77363,     0.77375,     0.77387,     0.77399,     0.77411,     0.77423,     0.77435,     0.77448,      0.7746,     0.77472,     0.77484,     0.77496,     0.77508,      0.7752,     0.77532,     0.77545,     0.77557,     0.77569,     0.77581,     0.77593,     0.77605,     0.77617,\n",
              "            0.77629,     0.77642,     0.77654,     0.77666,     0.77678,      0.7769,     0.77702,     0.77714,     0.77726,     0.77739,     0.77751,     0.77763,     0.77775,     0.77787,     0.77799,     0.77811,     0.77824,     0.77836,     0.77848,      0.7786,     0.77872,     0.77884,     0.77896,\n",
              "            0.77908,     0.77921,     0.77933,     0.77945,     0.77957,     0.77969,     0.77981,     0.77993,     0.78005,     0.78018,      0.7803,     0.78042,     0.78054,     0.78066,     0.78078,      0.7809,     0.78102,     0.78115,     0.78127,     0.78139,     0.78151,     0.78163,     0.78175,\n",
              "            0.78187,     0.78199,     0.78212,     0.78224,     0.78236,     0.78248,      0.7826,     0.78272,     0.78284,     0.78296,     0.78309,     0.78321,     0.78333,     0.78345,     0.78357,     0.78369,     0.78381,     0.78393,     0.78406,     0.78418,      0.7843,     0.78442,     0.78454,\n",
              "            0.78466,     0.78478,      0.7849,     0.78503,     0.78515,     0.78527,     0.78539,     0.78551,     0.78563,     0.78575,     0.78587,       0.786,     0.78612,     0.78624,     0.78636,     0.78648,      0.7866,     0.78672,     0.78684,     0.78697,     0.78709,     0.78721,     0.78733,\n",
              "            0.78745,     0.78757,     0.78769,     0.78781,     0.78794,     0.78806,     0.78818,      0.7883,     0.78842,      0.7886,      0.7888,     0.78901,     0.78921,     0.78942,     0.78962,     0.78982,     0.79003,     0.79023,     0.79044,     0.79064,     0.79085,     0.79105,     0.79126,\n",
              "            0.79146,     0.79167,     0.79187,     0.79207,     0.79228,     0.79248,     0.79269,     0.79289,      0.7931,      0.7933,     0.79351,     0.79371,     0.79391,     0.79412,     0.79432,     0.79453,     0.79473,     0.79494,     0.79514,     0.79535,     0.79555,     0.79575,     0.79596,\n",
              "            0.79616,     0.79637,     0.79657,     0.79678,     0.79698,     0.79719,     0.79739,      0.7976,      0.7978,       0.798,     0.79821,     0.79841,     0.79862,     0.79882,     0.79903,     0.79923,     0.79944,     0.79964,     0.79984,     0.80005,     0.80025,     0.80046,     0.80066,\n",
              "            0.80087,     0.80107,     0.80128,     0.80148,     0.80168,     0.80189,     0.80209,      0.8023,      0.8025,     0.80271,     0.80291,     0.80312,     0.80332,     0.80352,     0.80373,     0.80491,     0.81995,      0.8194,     0.81884,     0.81828,     0.81772,     0.81716,     0.81661,\n",
              "            0.81644,     0.81665,     0.81687,     0.81709,     0.81731,     0.81752,     0.81774,     0.81796,     0.81818,      0.8184,     0.81861,     0.81883,     0.81905,     0.81927,     0.81949,      0.8197,     0.81992,     0.82014,     0.82036,     0.82058,     0.82079,     0.82101,     0.82123,\n",
              "            0.82145,     0.82166,     0.82188,      0.8221,     0.82232,     0.82254,     0.82275,     0.82297,     0.82319,     0.82341,     0.82363,     0.82384,     0.82406,     0.82428,      0.8245,     0.82472,     0.82493,     0.82515,     0.82537,     0.82559,     0.82581,     0.82602,     0.82624,\n",
              "            0.82646,     0.82668,     0.82689,     0.82711,     0.82733,     0.82755,     0.82777,     0.82798,      0.8282,     0.82842,     0.82864,     0.82886,     0.82907,     0.82929,     0.82951,     0.82973,     0.82995,     0.83016,     0.83038,      0.8306,     0.83082,     0.83103,     0.83125,\n",
              "            0.83147,     0.83169,     0.83191,     0.83212,     0.83234,     0.83256,     0.83278,       0.833,     0.83321,     0.84155,     0.85131,     0.85183,     0.85235,     0.85287,     0.85339,     0.85391,     0.85443,     0.85495,     0.85547,     0.85599,     0.85651,     0.85703,     0.85755,\n",
              "            0.85807,     0.85859,     0.85911,     0.85962,     0.86014,     0.86066,     0.86118,      0.8617,     0.86222,     0.86274,     0.86326,     0.86378,      0.8643,     0.86482,     0.86534,     0.86586,     0.86638,      0.8669,     0.86742,     0.86794,     0.86846,     0.86898,      0.8695,\n",
              "            0.87014,      0.8708,     0.87146,     0.87212,     0.87278,     0.87344,      0.8741,     0.87476,     0.87542,     0.87608,     0.87674,      0.8774,     0.87806,     0.87872,     0.87938,     0.88004,      0.8807,     0.88136,     0.88202,     0.88268,     0.88334,       0.884,     0.88466,\n",
              "            0.88532,     0.88598,     0.88664,      0.8873,     0.88796,     0.88862,     0.88912,     0.88951,      0.8899,      0.8903,     0.89069,     0.89108,     0.89147,     0.89186,     0.89225,     0.89264,     0.89303,     0.89342,     0.89381,      0.8942,     0.89459,     0.89498,     0.89537,\n",
              "            0.89577,     0.89616,     0.89655,     0.89694,     0.89733,     0.89772,     0.89811,      0.8985,     0.89889,     0.89928,     0.89967,     0.90006,     0.90045,     0.90084,     0.90124,     0.90163,     0.90202,     0.90241,      0.9028,     0.90319,     0.90358,     0.90397,     0.90436,\n",
              "            0.90475,     0.90514,     0.90553,     0.90592,     0.90631,     0.90671,      0.9071,     0.90749,     0.90788,     0.90827,     0.90866,     0.90905,      0.9134,     0.91821,     0.92303,     0.92784,     0.93166,      0.9345,     0.93734,     0.94018,     0.94301,     0.94585,     0.94869,\n",
              "            0.95153,     0.95233,     0.95225,     0.95218,     0.95211,     0.95203,     0.95196,     0.95188,     0.95181,     0.95173,     0.95166,     0.95158,     0.95151,     0.95144,     0.95136,     0.95129,     0.95121,     0.95113,     0.95105,     0.95096,     0.95088,      0.9508,     0.95071,\n",
              "            0.95063,     0.95055,     0.95046,     0.95038,      0.9503,     0.95021,     0.95013,     0.95005,     0.94998,     0.94992,     0.94987,     0.94982,     0.94977,     0.94971,     0.94966,     0.94961,     0.94956,      0.9495,     0.94945,      0.9494,     0.94935,     0.94929,     0.94924,\n",
              "            0.94919,     0.94913,     0.94908,     0.94903,     0.94898,     0.94892,     0.94887,     0.94882,     0.94877,     0.94871,     0.94867,     0.94863,     0.94858,     0.94854,     0.94849,     0.94845,      0.9484,     0.94836,     0.94831,     0.94827,     0.94822,     0.94818,     0.94813,\n",
              "            0.94809,     0.94805,       0.948,     0.94796,     0.94791,     0.94787,     0.94782,     0.94778,     0.94773,     0.94769,     0.94764,      0.9476,     0.94755,     0.94751,     0.94747,     0.94742,     0.94738,     0.94723,     0.94706,     0.94688,     0.94671,     0.94654,     0.94637,\n",
              "             0.9462,     0.94603,     0.94763,      0.9508,     0.95397,     0.95713,      0.9603,     0.96347,     0.96664,     0.96981,      0.9722,     0.97212,     0.97204,     0.97196,     0.97188,      0.9718,     0.97171,     0.97163,     0.97155,     0.97147,     0.97137,     0.97125,     0.97112,\n",
              "              0.971,     0.97088,     0.97075,     0.97063,     0.97047,     0.97029,      0.9701,     0.96992,     0.96974,     0.97271,     0.97659,     0.98047,     0.98436,     0.98824,     0.99212,       0.996,     0.99989,           1,           1,           1,           1,           1,           1,\n",
              "                  1,           1,           1,           1,           1,           1,           1,           1,           1,           1,           1,           1,           1,           1,           1,           1,           1,           1,           1,           1,           1,           1,           1,\n",
              "                  1,           1,           1,           1,           1,           1,           1,           1,           1,           1,           1,           1,           1,           1,           1,           1,           1,           1,           1,           1,           1,           1,           1,\n",
              "                  1,           1,           1,           1,           1,           1,           1,           1,           1,           1,           1,           1,           1,           1,           1,           1,           1,           1,           1,           1,           1,           1,           1,\n",
              "                  1,           1,           1,           1,           1,           1,           1,           1,           1,           1,           1,           1,           1,           1,           1,           1,           1,           1,           1,           1,           1,           1,           1,\n",
              "                  1,           1,           1,           1,           1,           1,           1,           1,           1,           1,           1,           1,           1,           1,           1,           1,           1,           1,           1,           1,           1,           1,           1,\n",
              "                  1,           1,           1,           1,           1,           1,           1,           1,           1,           1,           1,           1,           1,           1,           1,           1,           1,           1,           1,           1,           1,           1,           1,\n",
              "                  1,           1,           1,           1,           1,           1,           1,           1,           1,           1,           1,           1,           1,           1,           1,           1,           1,           1,           1,           1,           1,           1,           1,\n",
              "                  1,           1,           1,           1,           1,           1,           1,           1,           1,           1,           1,           1,           1,           1,           1,           1,           1,           1,           1,           1,           1,           1,           1,\n",
              "                  1,           1,           1,           1,           1,           1,           1,           1,           1,           1,           1]]), 'Confidence', 'Precision'], [array([          0,    0.001001,    0.002002,    0.003003,    0.004004,    0.005005,    0.006006,    0.007007,    0.008008,    0.009009,     0.01001,    0.011011,    0.012012,    0.013013,    0.014014,    0.015015,    0.016016,    0.017017,    0.018018,    0.019019,     0.02002,    0.021021,    0.022022,    0.023023,\n",
              "          0.024024,    0.025025,    0.026026,    0.027027,    0.028028,    0.029029,     0.03003,    0.031031,    0.032032,    0.033033,    0.034034,    0.035035,    0.036036,    0.037037,    0.038038,    0.039039,     0.04004,    0.041041,    0.042042,    0.043043,    0.044044,    0.045045,    0.046046,    0.047047,\n",
              "          0.048048,    0.049049,     0.05005,    0.051051,    0.052052,    0.053053,    0.054054,    0.055055,    0.056056,    0.057057,    0.058058,    0.059059,     0.06006,    0.061061,    0.062062,    0.063063,    0.064064,    0.065065,    0.066066,    0.067067,    0.068068,    0.069069,     0.07007,    0.071071,\n",
              "          0.072072,    0.073073,    0.074074,    0.075075,    0.076076,    0.077077,    0.078078,    0.079079,     0.08008,    0.081081,    0.082082,    0.083083,    0.084084,    0.085085,    0.086086,    0.087087,    0.088088,    0.089089,     0.09009,    0.091091,    0.092092,    0.093093,    0.094094,    0.095095,\n",
              "          0.096096,    0.097097,    0.098098,    0.099099,      0.1001,      0.1011,      0.1021,      0.1031,      0.1041,     0.10511,     0.10611,     0.10711,     0.10811,     0.10911,     0.11011,     0.11111,     0.11211,     0.11311,     0.11411,     0.11512,     0.11612,     0.11712,     0.11812,     0.11912,\n",
              "           0.12012,     0.12112,     0.12212,     0.12312,     0.12412,     0.12513,     0.12613,     0.12713,     0.12813,     0.12913,     0.13013,     0.13113,     0.13213,     0.13313,     0.13413,     0.13514,     0.13614,     0.13714,     0.13814,     0.13914,     0.14014,     0.14114,     0.14214,     0.14314,\n",
              "           0.14414,     0.14515,     0.14615,     0.14715,     0.14815,     0.14915,     0.15015,     0.15115,     0.15215,     0.15315,     0.15415,     0.15516,     0.15616,     0.15716,     0.15816,     0.15916,     0.16016,     0.16116,     0.16216,     0.16316,     0.16416,     0.16517,     0.16617,     0.16717,\n",
              "           0.16817,     0.16917,     0.17017,     0.17117,     0.17217,     0.17317,     0.17417,     0.17518,     0.17618,     0.17718,     0.17818,     0.17918,     0.18018,     0.18118,     0.18218,     0.18318,     0.18418,     0.18519,     0.18619,     0.18719,     0.18819,     0.18919,     0.19019,     0.19119,\n",
              "           0.19219,     0.19319,     0.19419,      0.1952,      0.1962,      0.1972,      0.1982,      0.1992,      0.2002,      0.2012,      0.2022,      0.2032,      0.2042,     0.20521,     0.20621,     0.20721,     0.20821,     0.20921,     0.21021,     0.21121,     0.21221,     0.21321,     0.21421,     0.21522,\n",
              "           0.21622,     0.21722,     0.21822,     0.21922,     0.22022,     0.22122,     0.22222,     0.22322,     0.22422,     0.22523,     0.22623,     0.22723,     0.22823,     0.22923,     0.23023,     0.23123,     0.23223,     0.23323,     0.23423,     0.23524,     0.23624,     0.23724,     0.23824,     0.23924,\n",
              "           0.24024,     0.24124,     0.24224,     0.24324,     0.24424,     0.24525,     0.24625,     0.24725,     0.24825,     0.24925,     0.25025,     0.25125,     0.25225,     0.25325,     0.25425,     0.25526,     0.25626,     0.25726,     0.25826,     0.25926,     0.26026,     0.26126,     0.26226,     0.26326,\n",
              "           0.26426,     0.26527,     0.26627,     0.26727,     0.26827,     0.26927,     0.27027,     0.27127,     0.27227,     0.27327,     0.27427,     0.27528,     0.27628,     0.27728,     0.27828,     0.27928,     0.28028,     0.28128,     0.28228,     0.28328,     0.28428,     0.28529,     0.28629,     0.28729,\n",
              "           0.28829,     0.28929,     0.29029,     0.29129,     0.29229,     0.29329,     0.29429,      0.2953,      0.2963,      0.2973,      0.2983,      0.2993,      0.3003,      0.3013,      0.3023,      0.3033,      0.3043,     0.30531,     0.30631,     0.30731,     0.30831,     0.30931,     0.31031,     0.31131,\n",
              "           0.31231,     0.31331,     0.31431,     0.31532,     0.31632,     0.31732,     0.31832,     0.31932,     0.32032,     0.32132,     0.32232,     0.32332,     0.32432,     0.32533,     0.32633,     0.32733,     0.32833,     0.32933,     0.33033,     0.33133,     0.33233,     0.33333,     0.33433,     0.33534,\n",
              "           0.33634,     0.33734,     0.33834,     0.33934,     0.34034,     0.34134,     0.34234,     0.34334,     0.34434,     0.34535,     0.34635,     0.34735,     0.34835,     0.34935,     0.35035,     0.35135,     0.35235,     0.35335,     0.35435,     0.35536,     0.35636,     0.35736,     0.35836,     0.35936,\n",
              "           0.36036,     0.36136,     0.36236,     0.36336,     0.36436,     0.36537,     0.36637,     0.36737,     0.36837,     0.36937,     0.37037,     0.37137,     0.37237,     0.37337,     0.37437,     0.37538,     0.37638,     0.37738,     0.37838,     0.37938,     0.38038,     0.38138,     0.38238,     0.38338,\n",
              "           0.38438,     0.38539,     0.38639,     0.38739,     0.38839,     0.38939,     0.39039,     0.39139,     0.39239,     0.39339,     0.39439,      0.3954,      0.3964,      0.3974,      0.3984,      0.3994,      0.4004,      0.4014,      0.4024,      0.4034,      0.4044,     0.40541,     0.40641,     0.40741,\n",
              "           0.40841,     0.40941,     0.41041,     0.41141,     0.41241,     0.41341,     0.41441,     0.41542,     0.41642,     0.41742,     0.41842,     0.41942,     0.42042,     0.42142,     0.42242,     0.42342,     0.42442,     0.42543,     0.42643,     0.42743,     0.42843,     0.42943,     0.43043,     0.43143,\n",
              "           0.43243,     0.43343,     0.43443,     0.43544,     0.43644,     0.43744,     0.43844,     0.43944,     0.44044,     0.44144,     0.44244,     0.44344,     0.44444,     0.44545,     0.44645,     0.44745,     0.44845,     0.44945,     0.45045,     0.45145,     0.45245,     0.45345,     0.45445,     0.45546,\n",
              "           0.45646,     0.45746,     0.45846,     0.45946,     0.46046,     0.46146,     0.46246,     0.46346,     0.46446,     0.46547,     0.46647,     0.46747,     0.46847,     0.46947,     0.47047,     0.47147,     0.47247,     0.47347,     0.47447,     0.47548,     0.47648,     0.47748,     0.47848,     0.47948,\n",
              "           0.48048,     0.48148,     0.48248,     0.48348,     0.48448,     0.48549,     0.48649,     0.48749,     0.48849,     0.48949,     0.49049,     0.49149,     0.49249,     0.49349,     0.49449,      0.4955,      0.4965,      0.4975,      0.4985,      0.4995,      0.5005,      0.5015,      0.5025,      0.5035,\n",
              "            0.5045,     0.50551,     0.50651,     0.50751,     0.50851,     0.50951,     0.51051,     0.51151,     0.51251,     0.51351,     0.51451,     0.51552,     0.51652,     0.51752,     0.51852,     0.51952,     0.52052,     0.52152,     0.52252,     0.52352,     0.52452,     0.52553,     0.52653,     0.52753,\n",
              "           0.52853,     0.52953,     0.53053,     0.53153,     0.53253,     0.53353,     0.53453,     0.53554,     0.53654,     0.53754,     0.53854,     0.53954,     0.54054,     0.54154,     0.54254,     0.54354,     0.54454,     0.54555,     0.54655,     0.54755,     0.54855,     0.54955,     0.55055,     0.55155,\n",
              "           0.55255,     0.55355,     0.55455,     0.55556,     0.55656,     0.55756,     0.55856,     0.55956,     0.56056,     0.56156,     0.56256,     0.56356,     0.56456,     0.56557,     0.56657,     0.56757,     0.56857,     0.56957,     0.57057,     0.57157,     0.57257,     0.57357,     0.57457,     0.57558,\n",
              "           0.57658,     0.57758,     0.57858,     0.57958,     0.58058,     0.58158,     0.58258,     0.58358,     0.58458,     0.58559,     0.58659,     0.58759,     0.58859,     0.58959,     0.59059,     0.59159,     0.59259,     0.59359,     0.59459,      0.5956,      0.5966,      0.5976,      0.5986,      0.5996,\n",
              "            0.6006,      0.6016,      0.6026,      0.6036,      0.6046,     0.60561,     0.60661,     0.60761,     0.60861,     0.60961,     0.61061,     0.61161,     0.61261,     0.61361,     0.61461,     0.61562,     0.61662,     0.61762,     0.61862,     0.61962,     0.62062,     0.62162,     0.62262,     0.62362,\n",
              "           0.62462,     0.62563,     0.62663,     0.62763,     0.62863,     0.62963,     0.63063,     0.63163,     0.63263,     0.63363,     0.63463,     0.63564,     0.63664,     0.63764,     0.63864,     0.63964,     0.64064,     0.64164,     0.64264,     0.64364,     0.64464,     0.64565,     0.64665,     0.64765,\n",
              "           0.64865,     0.64965,     0.65065,     0.65165,     0.65265,     0.65365,     0.65465,     0.65566,     0.65666,     0.65766,     0.65866,     0.65966,     0.66066,     0.66166,     0.66266,     0.66366,     0.66466,     0.66567,     0.66667,     0.66767,     0.66867,     0.66967,     0.67067,     0.67167,\n",
              "           0.67267,     0.67367,     0.67467,     0.67568,     0.67668,     0.67768,     0.67868,     0.67968,     0.68068,     0.68168,     0.68268,     0.68368,     0.68468,     0.68569,     0.68669,     0.68769,     0.68869,     0.68969,     0.69069,     0.69169,     0.69269,     0.69369,     0.69469,      0.6957,\n",
              "            0.6967,      0.6977,      0.6987,      0.6997,      0.7007,      0.7017,      0.7027,      0.7037,      0.7047,     0.70571,     0.70671,     0.70771,     0.70871,     0.70971,     0.71071,     0.71171,     0.71271,     0.71371,     0.71471,     0.71572,     0.71672,     0.71772,     0.71872,     0.71972,\n",
              "           0.72072,     0.72172,     0.72272,     0.72372,     0.72472,     0.72573,     0.72673,     0.72773,     0.72873,     0.72973,     0.73073,     0.73173,     0.73273,     0.73373,     0.73473,     0.73574,     0.73674,     0.73774,     0.73874,     0.73974,     0.74074,     0.74174,     0.74274,     0.74374,\n",
              "           0.74474,     0.74575,     0.74675,     0.74775,     0.74875,     0.74975,     0.75075,     0.75175,     0.75275,     0.75375,     0.75475,     0.75576,     0.75676,     0.75776,     0.75876,     0.75976,     0.76076,     0.76176,     0.76276,     0.76376,     0.76476,     0.76577,     0.76677,     0.76777,\n",
              "           0.76877,     0.76977,     0.77077,     0.77177,     0.77277,     0.77377,     0.77477,     0.77578,     0.77678,     0.77778,     0.77878,     0.77978,     0.78078,     0.78178,     0.78278,     0.78378,     0.78478,     0.78579,     0.78679,     0.78779,     0.78879,     0.78979,     0.79079,     0.79179,\n",
              "           0.79279,     0.79379,     0.79479,      0.7958,      0.7968,      0.7978,      0.7988,      0.7998,      0.8008,      0.8018,      0.8028,      0.8038,      0.8048,     0.80581,     0.80681,     0.80781,     0.80881,     0.80981,     0.81081,     0.81181,     0.81281,     0.81381,     0.81481,     0.81582,\n",
              "           0.81682,     0.81782,     0.81882,     0.81982,     0.82082,     0.82182,     0.82282,     0.82382,     0.82482,     0.82583,     0.82683,     0.82783,     0.82883,     0.82983,     0.83083,     0.83183,     0.83283,     0.83383,     0.83483,     0.83584,     0.83684,     0.83784,     0.83884,     0.83984,\n",
              "           0.84084,     0.84184,     0.84284,     0.84384,     0.84484,     0.84585,     0.84685,     0.84785,     0.84885,     0.84985,     0.85085,     0.85185,     0.85285,     0.85385,     0.85485,     0.85586,     0.85686,     0.85786,     0.85886,     0.85986,     0.86086,     0.86186,     0.86286,     0.86386,\n",
              "           0.86486,     0.86587,     0.86687,     0.86787,     0.86887,     0.86987,     0.87087,     0.87187,     0.87287,     0.87387,     0.87487,     0.87588,     0.87688,     0.87788,     0.87888,     0.87988,     0.88088,     0.88188,     0.88288,     0.88388,     0.88488,     0.88589,     0.88689,     0.88789,\n",
              "           0.88889,     0.88989,     0.89089,     0.89189,     0.89289,     0.89389,     0.89489,      0.8959,      0.8969,      0.8979,      0.8989,      0.8999,      0.9009,      0.9019,      0.9029,      0.9039,      0.9049,     0.90591,     0.90691,     0.90791,     0.90891,     0.90991,     0.91091,     0.91191,\n",
              "           0.91291,     0.91391,     0.91491,     0.91592,     0.91692,     0.91792,     0.91892,     0.91992,     0.92092,     0.92192,     0.92292,     0.92392,     0.92492,     0.92593,     0.92693,     0.92793,     0.92893,     0.92993,     0.93093,     0.93193,     0.93293,     0.93393,     0.93493,     0.93594,\n",
              "           0.93694,     0.93794,     0.93894,     0.93994,     0.94094,     0.94194,     0.94294,     0.94394,     0.94494,     0.94595,     0.94695,     0.94795,     0.94895,     0.94995,     0.95095,     0.95195,     0.95295,     0.95395,     0.95495,     0.95596,     0.95696,     0.95796,     0.95896,     0.95996,\n",
              "           0.96096,     0.96196,     0.96296,     0.96396,     0.96496,     0.96597,     0.96697,     0.96797,     0.96897,     0.96997,     0.97097,     0.97197,     0.97297,     0.97397,     0.97497,     0.97598,     0.97698,     0.97798,     0.97898,     0.97998,     0.98098,     0.98198,     0.98298,     0.98398,\n",
              "           0.98498,     0.98599,     0.98699,     0.98799,     0.98899,     0.98999,     0.99099,     0.99199,     0.99299,     0.99399,     0.99499,       0.996,       0.997,       0.998,       0.999,           1]), array([[    0.93182,     0.93182,     0.93182,     0.93182,     0.93182,     0.93182,     0.93182,     0.93182,     0.93182,     0.93182,     0.93182,     0.93182,     0.93182,     0.93182,     0.93182,     0.93182,     0.93182,     0.93182,     0.93182,     0.93182,     0.93182,     0.93182,     0.93182,\n",
              "            0.93182,     0.93182,     0.93182,     0.93182,     0.93182,     0.93182,     0.93182,     0.93182,     0.93182,     0.93182,     0.93182,     0.93182,     0.93182,     0.93182,     0.93182,     0.93182,     0.93182,     0.93182,     0.93182,     0.93182,     0.93182,     0.93182,     0.93182,\n",
              "            0.93182,     0.93182,     0.93182,     0.93182,     0.93182,     0.93182,     0.93182,     0.93182,     0.93182,     0.93182,     0.93182,     0.93182,     0.93182,     0.93182,     0.93182,     0.93182,     0.93182,     0.93182,     0.93182,     0.93182,     0.93182,     0.93182,     0.93182,\n",
              "            0.93182,     0.93182,     0.93182,     0.93182,     0.93182,     0.93182,     0.93182,     0.93182,     0.93182,     0.93182,     0.93182,     0.93182,     0.93182,     0.93182,     0.93182,     0.93182,     0.93182,     0.93182,     0.93182,     0.93182,     0.93182,     0.93182,     0.93182,\n",
              "            0.93182,     0.93182,     0.93182,     0.93182,     0.93182,     0.93182,     0.93182,     0.93182,     0.93182,     0.93182,     0.93182,     0.93182,     0.93182,     0.93182,     0.93182,     0.93182,     0.93182,     0.93182,     0.93182,     0.93182,     0.93182,     0.93182,     0.93182,\n",
              "            0.93182,     0.93182,     0.93182,     0.93182,     0.93182,     0.93182,     0.93182,     0.93182,     0.93182,     0.93182,     0.93182,     0.93182,     0.93182,     0.93182,     0.93182,     0.93182,     0.93182,     0.93182,     0.93182,     0.93182,     0.93182,     0.93182,     0.93182,\n",
              "            0.93182,     0.93182,     0.93182,     0.93182,     0.93182,     0.93182,     0.93182,     0.93182,     0.93182,     0.93182,     0.93182,     0.93182,     0.93182,     0.93182,     0.93182,     0.93182,     0.93182,     0.93182,     0.93182,     0.93182,     0.93182,     0.93182,     0.93182,\n",
              "            0.93182,     0.93182,     0.93182,     0.93182,     0.93182,     0.93182,     0.93182,     0.93182,     0.93182,     0.93182,     0.93182,     0.93182,     0.93182,     0.93182,     0.93182,     0.93182,     0.93182,     0.93182,     0.93182,     0.93182,     0.93182,     0.93182,     0.93182,\n",
              "            0.93182,     0.93182,     0.93182,     0.93182,     0.93182,     0.93182,     0.93182,     0.93182,     0.93182,     0.93182,     0.93182,     0.93182,     0.93182,     0.93182,     0.93182,     0.93182,     0.93182,     0.93182,     0.93182,     0.93182,     0.93182,     0.93182,     0.93182,\n",
              "            0.93182,     0.93182,     0.93182,     0.93182,     0.93182,     0.93182,     0.93182,     0.93182,     0.93182,     0.93182,     0.93182,     0.93182,     0.93182,     0.93182,     0.93182,     0.93182,     0.93182,     0.93182,     0.93182,     0.93182,     0.93182,     0.93182,     0.93182,\n",
              "            0.93182,     0.93182,     0.93182,     0.93182,     0.93182,     0.93182,     0.93182,     0.93182,     0.93182,     0.93182,     0.93182,     0.93182,     0.93182,     0.93182,     0.93182,     0.93182,     0.93182,     0.93182,     0.93182,     0.93182,     0.93182,     0.93182,     0.93182,\n",
              "            0.93182,     0.93182,     0.93182,     0.93182,     0.93182,     0.93182,     0.93182,     0.93182,     0.93182,     0.93182,     0.93182,     0.93182,     0.93182,     0.93182,     0.93182,     0.93182,     0.93182,     0.93182,     0.93182,     0.93182,     0.93182,     0.93182,     0.93182,\n",
              "            0.93182,     0.93182,     0.93182,     0.93182,     0.93182,     0.93182,     0.93182,     0.93182,     0.93182,     0.93182,     0.93182,     0.93182,     0.93182,     0.93182,     0.93182,     0.93182,     0.93182,     0.93182,     0.93182,     0.93182,     0.93182,     0.93182,     0.93182,\n",
              "            0.93182,     0.93182,     0.93182,     0.93182,     0.93182,     0.93182,     0.93182,     0.93182,     0.93182,     0.93182,     0.93182,     0.93182,     0.93182,     0.93182,     0.93182,     0.93182,     0.93182,     0.93182,     0.93182,     0.93182,     0.93182,     0.93182,     0.93182,\n",
              "            0.93182,     0.93182,     0.93182,     0.93182,     0.93182,     0.93182,     0.93182,     0.93182,     0.93182,     0.93182,     0.93182,     0.93182,     0.93182,     0.93182,     0.93182,     0.93182,     0.93182,     0.93182,     0.93182,     0.93182,     0.93182,     0.93182,     0.93182,\n",
              "            0.93182,     0.93182,     0.93182,     0.93182,     0.93182,     0.93182,     0.93182,     0.93182,     0.93182,     0.93182,     0.93182,     0.93182,     0.93182,     0.93182,     0.93182,     0.93182,     0.93182,     0.93182,     0.93182,     0.93182,     0.93182,     0.93182,     0.93182,\n",
              "            0.93182,     0.93182,     0.93182,     0.93182,     0.93182,     0.93182,     0.93182,     0.93182,     0.93182,     0.93182,     0.93182,     0.93182,     0.93182,     0.93182,     0.93182,     0.93182,     0.93182,     0.93182,     0.93182,     0.93182,     0.93182,     0.93182,     0.93182,\n",
              "            0.93182,     0.93182,     0.93182,     0.93182,     0.93182,     0.93182,     0.93182,     0.93182,     0.93182,     0.93182,     0.93182,     0.93182,     0.93182,     0.93182,     0.93182,     0.93182,     0.93182,     0.93182,     0.93182,     0.93182,     0.93182,     0.93182,     0.93182,\n",
              "            0.93182,     0.93182,     0.93182,     0.93182,     0.93182,     0.93182,     0.93182,     0.93182,     0.93182,     0.93182,     0.93182,     0.93182,     0.93182,     0.93182,     0.93182,     0.93182,     0.93182,     0.93182,     0.93182,     0.93182,     0.93182,     0.93182,     0.93182,\n",
              "            0.93182,     0.93182,     0.93182,     0.93182,     0.93182,     0.93182,     0.93182,     0.93182,     0.93182,     0.93182,     0.93182,     0.93182,     0.93182,     0.93182,     0.93182,     0.93182,     0.93153,     0.92808,     0.92462,     0.92117,     0.91772,     0.91427,     0.91082,\n",
              "            0.90909,     0.90909,     0.90909,     0.90909,     0.90909,     0.90909,     0.90909,     0.90909,     0.90909,     0.90909,     0.90909,     0.90909,     0.90909,     0.90909,     0.90909,     0.90909,     0.90909,     0.90909,     0.90909,     0.90909,     0.90909,     0.90909,     0.90909,\n",
              "            0.90909,     0.90909,     0.90909,     0.90909,     0.90909,     0.90909,     0.90909,     0.90909,     0.90909,     0.90909,     0.90909,     0.90909,     0.90909,     0.90909,     0.90909,     0.90909,     0.90909,     0.90909,     0.90909,     0.90909,     0.90909,     0.90909,     0.90909,\n",
              "            0.90909,     0.90909,     0.90909,     0.90909,     0.90909,     0.90909,     0.90909,     0.90909,     0.90909,     0.90909,     0.90909,     0.90909,     0.90909,     0.90909,     0.90909,     0.90909,     0.90909,     0.90909,     0.90909,     0.90909,     0.90909,     0.90909,     0.90909,\n",
              "            0.90909,     0.90909,     0.90909,     0.90909,     0.90909,     0.90909,     0.90909,     0.90909,     0.90909,     0.90909,     0.90909,     0.90909,     0.90909,     0.90909,     0.90909,     0.90909,     0.90909,     0.90909,     0.90909,     0.90909,     0.90909,     0.90909,     0.90909,\n",
              "            0.90909,     0.90909,     0.90909,     0.90909,     0.90909,     0.90909,     0.90909,     0.90909,     0.90909,     0.90909,     0.90909,     0.90909,     0.90909,     0.90909,     0.90909,     0.90909,     0.90909,     0.90909,     0.90909,     0.90909,     0.90909,     0.90909,     0.90909,\n",
              "            0.90909,     0.90909,     0.90909,     0.90909,     0.90909,     0.90909,     0.90909,     0.90909,     0.90909,     0.90909,     0.90909,     0.90909,     0.90909,     0.90909,     0.90909,     0.90909,     0.90909,     0.90909,     0.90909,     0.90909,     0.90909,     0.90909,     0.90909,\n",
              "            0.90909,     0.90909,     0.90909,     0.90909,     0.90909,     0.90909,     0.90909,     0.90909,     0.90909,     0.90909,     0.90909,     0.90909,     0.90909,     0.90909,     0.90909,     0.90909,     0.90909,     0.90909,     0.90909,     0.90909,     0.90909,     0.90909,     0.90909,\n",
              "            0.90909,     0.90909,     0.90909,     0.90909,     0.90909,     0.90909,     0.90909,     0.90909,     0.90909,     0.90909,     0.90909,     0.90909,     0.90909,     0.90909,     0.90909,     0.90909,     0.90909,     0.90909,     0.90909,     0.90909,     0.90909,     0.90909,     0.90909,\n",
              "            0.90909,     0.90909,     0.90909,     0.90909,     0.90909,     0.90909,     0.90909,     0.90909,     0.90909,     0.90909,     0.90909,     0.90909,     0.90909,     0.90909,     0.90909,     0.90909,     0.90909,     0.90909,     0.90909,     0.90909,     0.90909,     0.90909,     0.90909,\n",
              "            0.90909,     0.90807,     0.90662,     0.90516,      0.9037,     0.90225,     0.90079,     0.89934,     0.89788,     0.89642,     0.89497,     0.89351,     0.89206,      0.8906,     0.88914,     0.88769,     0.88622,     0.88467,     0.88312,     0.88156,     0.88001,     0.87846,     0.87691,\n",
              "            0.87535,      0.8738,     0.87225,     0.87069,     0.86914,     0.86759,     0.86603,     0.86448,     0.86321,     0.86228,     0.86135,     0.86042,     0.85948,     0.85855,     0.85762,     0.85669,     0.85576,     0.85482,     0.85389,     0.85296,     0.85203,      0.8511,     0.85017,\n",
              "            0.84923,      0.8483,     0.84737,     0.84644,     0.84551,     0.84457,     0.84364,     0.84271,     0.84178,     0.84086,     0.84011,     0.83936,      0.8386,     0.83785,      0.8371,     0.83635,      0.8356,     0.83485,      0.8341,     0.83334,     0.83259,     0.83184,     0.83109,\n",
              "            0.83034,     0.82959,     0.82884,     0.82808,     0.82733,     0.82658,     0.82583,     0.82508,     0.82433,     0.82358,     0.82282,     0.82207,     0.82132,     0.82057,     0.81982,     0.81907,     0.81831,     0.81593,     0.81318,     0.81044,      0.8077,     0.80496,     0.80222,\n",
              "            0.79948,     0.79674,     0.79545,     0.79545,     0.79545,     0.79545,     0.79545,     0.79545,     0.79545,     0.79545,      0.7949,     0.79257,     0.79024,     0.78791,     0.78558,     0.78325,     0.78092,     0.77859,     0.77626,     0.77393,     0.77112,     0.76779,     0.76447,\n",
              "            0.76114,     0.75781,     0.75448,     0.75115,     0.74696,      0.7423,     0.73764,     0.73298,     0.72832,     0.72727,     0.72727,     0.72727,     0.72727,     0.72727,     0.72727,     0.72727,     0.72727,     0.72275,     0.71809,     0.71343,     0.70877,     0.70431,     0.70172,\n",
              "            0.69913,     0.69654,     0.69395,     0.69136,     0.68877,     0.68619,      0.6836,     0.65788,     0.65399,     0.65011,     0.64623,     0.64235,     0.63846,     0.63331,     0.62665,        0.62,      0.6126,     0.59045,     0.58379,     0.57714,     0.57048,     0.55294,     0.51921,\n",
              "            0.51404,     0.50886,     0.50368,     0.47535,      0.4687,     0.46204,     0.45538,     0.42164,     0.40999,     0.40295,     0.39629,     0.38964,     0.35179,      0.3347,     0.32306,     0.31638,     0.31327,     0.31016,     0.30706,     0.30395,     0.30084,     0.29774,     0.29496,\n",
              "             0.2931,     0.29123,     0.28937,     0.28751,     0.28564,     0.28378,     0.28192,     0.28005,     0.27819,     0.27632,     0.27446,     0.24975,     0.24617,     0.24258,       0.239,     0.23541,     0.23183,     0.22825,     0.21879,     0.20714,     0.18644,     0.16937,     0.15594,\n",
              "            0.14662,      0.1373,     0.12938,     0.12161,     0.11385,     0.11213,     0.11057,     0.10902,     0.10747,     0.10591,     0.10436,     0.10281,     0.10125,    0.099701,    0.098148,    0.096595,    0.095042,    0.093489,    0.091936,    0.090365,    0.088758,    0.087151,    0.085545,\n",
              "           0.083938,    0.082332,    0.080725,    0.079118,    0.077512,    0.075905,    0.074298,    0.072692,    0.071085,    0.069479,    0.067849,    0.066123,    0.064398,    0.062672,    0.060946,    0.059221,    0.057495,     0.05577,    0.054044,    0.052318,    0.050593,    0.048867,    0.047141,\n",
              "           0.045338,    0.040161,    0.034984,    0.029808,    0.024631,           0,           0,           0,           0,           0,           0,           0,           0,           0,           0,           0,           0,           0,           0,           0,           0,           0,           0,\n",
              "                  0,           0,           0,           0,           0,           0,           0,           0,           0,           0,           0,           0,           0,           0,           0,           0,           0,           0,           0,           0,           0,           0,           0,\n",
              "                  0,           0,           0,           0,           0,           0,           0,           0,           0,           0,           0,           0,           0,           0,           0,           0,           0,           0,           0,           0,           0,           0,           0,\n",
              "                  0,           0,           0,           0,           0,           0,           0,           0,           0,           0,           0]]), 'Confidence', 'Recall']]\n",
              "fitness: 0.603383454312606\n",
              "keys: ['metrics/precision(B)', 'metrics/recall(B)', 'metrics/mAP50(B)', 'metrics/mAP50-95(B)']\n",
              "maps: array([    0.56721])\n",
              "names: {0: 'license_plate'}\n",
              "plot: True\n",
              "results_dict: {'metrics/precision(B)': 0.9182120810027784, 'metrics/recall(B)': 0.9090909090909091, 'metrics/mAP50(B)': 0.9289604654988075, 'metrics/mAP50-95(B)': 0.5672082308474725, 'fitness': 0.603383454312606}\n",
              "save_dir: PosixPath('runs/detect/train2')\n",
              "speed: {'preprocess': 0.056759877638383346, 'inference': 1.2618411671031606, 'loss': 0.0005418604070490057, 'postprocess': 1.8343925476074219}\n",
              "task: 'detect'"
            ]
          },
          "metadata": {},
          "execution_count": 4
        }
      ],
      "execution_count": null
    },
    {
      "cell_type": "code",
      "source": [
        "import os\n",
        "from glob import glob  # Import the glob module\n",
        "\n",
        "log_dir = max(glob('runs/detect/train*'), key=the_number_in_the_string)\n",
        "print(log_dir)\n"
      ],
      "metadata": {
        "trusted": true,
        "colab": {
          "base_uri": "https://localhost:8080/"
        },
        "id": "gSAPpoWalKAT",
        "outputId": "79e5b9a0-055e-4325-8fd9-536914384c59"
      },
      "outputs": [
        {
          "output_type": "stream",
          "name": "stdout",
          "text": [
            "runs/detect/train2\n"
          ]
        }
      ],
      "execution_count": null
    },
    {
      "cell_type": "code",
      "source": [
        "results=pd.read_csv(os.path.join(log_dir,'results.csv'))\n",
        "results"
      ],
      "metadata": {
        "id": "ukHbzfVrdNpN",
        "outputId": "34abf074-d0b0-4345-d3e2-50fe55a95926",
        "colab": {
          "base_uri": "https://localhost:8080/",
          "height": 460
        }
      },
      "execution_count": null,
      "outputs": [
        {
          "output_type": "execute_result",
          "data": {
            "text/plain": [
              "    epoch      time  train/box_loss  train/cls_loss  train/dfl_loss  \\\n",
              "0       1   10.2218         1.75705         3.01153         1.36535   \n",
              "1       2   14.4314         1.47705         1.44231         1.14870   \n",
              "2       3   20.7868         1.55989         1.47003         1.22451   \n",
              "3       4   25.2662         1.55861         1.31739         1.22627   \n",
              "4       5   28.5687         1.51811         1.31300         1.19826   \n",
              "..    ...       ...             ...             ...             ...   \n",
              "95     96  461.7910         0.93244         0.49710         0.99437   \n",
              "96     97  465.6970         0.92510         0.48277         0.97843   \n",
              "97     98  471.2780         0.95262         0.50147         0.99358   \n",
              "98     99  475.1670         0.93371         0.47768         0.98855   \n",
              "99    100  478.4840         0.86477         0.46559         0.98565   \n",
              "\n",
              "    metrics/precision(B)  metrics/recall(B)  metrics/mAP50(B)  \\\n",
              "0                0.00394            0.93182           0.24864   \n",
              "1                0.48524            0.17176           0.22462   \n",
              "2                1.00000            0.15124           0.76393   \n",
              "3                0.82710            0.43499           0.63733   \n",
              "4                0.60129            0.45455           0.54707   \n",
              "..                   ...                ...               ...   \n",
              "95               0.92174            0.81818           0.89064   \n",
              "96               0.93947            0.84091           0.91747   \n",
              "97               0.91849            0.81818           0.89612   \n",
              "98               0.93932            0.84091           0.92291   \n",
              "99               0.92883            0.81818           0.89552   \n",
              "\n",
              "    metrics/mAP50-95(B)  val/box_loss  val/cls_loss  val/dfl_loss    lr/pg0  \\\n",
              "0               0.14178       1.42223       2.98659       1.08809  0.000420   \n",
              "1               0.11532       1.69170       2.81313       1.22793  0.000851   \n",
              "2               0.34829       1.74600       2.51282       1.51320  0.001274   \n",
              "3               0.30677       1.76844       2.10190       1.39772  0.001688   \n",
              "4               0.27137       1.71077       1.67669       1.34387  0.001921   \n",
              "..                  ...           ...           ...           ...       ...   \n",
              "95              0.54555       1.42378       0.64560       1.25546  0.000119   \n",
              "96              0.55592       1.41747       0.63597       1.25437  0.000099   \n",
              "97              0.54078       1.39863       0.61737       1.23560  0.000079   \n",
              "98              0.54868       1.40260       0.61796       1.22826  0.000060   \n",
              "99              0.54524       1.41515       0.61886       1.22528  0.000040   \n",
              "\n",
              "      lr/pg1    lr/pg2  \n",
              "0   0.000420  0.000420  \n",
              "1   0.000851  0.000851  \n",
              "2   0.001274  0.001274  \n",
              "3   0.001688  0.001688  \n",
              "4   0.001921  0.001921  \n",
              "..       ...       ...  \n",
              "95  0.000119  0.000119  \n",
              "96  0.000099  0.000099  \n",
              "97  0.000079  0.000079  \n",
              "98  0.000060  0.000060  \n",
              "99  0.000040  0.000040  \n",
              "\n",
              "[100 rows x 15 columns]"
            ],
            "text/html": [
              "\n",
              "  <div id=\"df-912347d8-ca96-4598-aa3f-04a564535134\" class=\"colab-df-container\">\n",
              "    <div>\n",
              "<style scoped>\n",
              "    .dataframe tbody tr th:only-of-type {\n",
              "        vertical-align: middle;\n",
              "    }\n",
              "\n",
              "    .dataframe tbody tr th {\n",
              "        vertical-align: top;\n",
              "    }\n",
              "\n",
              "    .dataframe thead th {\n",
              "        text-align: right;\n",
              "    }\n",
              "</style>\n",
              "<table border=\"1\" class=\"dataframe\">\n",
              "  <thead>\n",
              "    <tr style=\"text-align: right;\">\n",
              "      <th></th>\n",
              "      <th>epoch</th>\n",
              "      <th>time</th>\n",
              "      <th>train/box_loss</th>\n",
              "      <th>train/cls_loss</th>\n",
              "      <th>train/dfl_loss</th>\n",
              "      <th>metrics/precision(B)</th>\n",
              "      <th>metrics/recall(B)</th>\n",
              "      <th>metrics/mAP50(B)</th>\n",
              "      <th>metrics/mAP50-95(B)</th>\n",
              "      <th>val/box_loss</th>\n",
              "      <th>val/cls_loss</th>\n",
              "      <th>val/dfl_loss</th>\n",
              "      <th>lr/pg0</th>\n",
              "      <th>lr/pg1</th>\n",
              "      <th>lr/pg2</th>\n",
              "    </tr>\n",
              "  </thead>\n",
              "  <tbody>\n",
              "    <tr>\n",
              "      <th>0</th>\n",
              "      <td>1</td>\n",
              "      <td>10.2218</td>\n",
              "      <td>1.75705</td>\n",
              "      <td>3.01153</td>\n",
              "      <td>1.36535</td>\n",
              "      <td>0.00394</td>\n",
              "      <td>0.93182</td>\n",
              "      <td>0.24864</td>\n",
              "      <td>0.14178</td>\n",
              "      <td>1.42223</td>\n",
              "      <td>2.98659</td>\n",
              "      <td>1.08809</td>\n",
              "      <td>0.000420</td>\n",
              "      <td>0.000420</td>\n",
              "      <td>0.000420</td>\n",
              "    </tr>\n",
              "    <tr>\n",
              "      <th>1</th>\n",
              "      <td>2</td>\n",
              "      <td>14.4314</td>\n",
              "      <td>1.47705</td>\n",
              "      <td>1.44231</td>\n",
              "      <td>1.14870</td>\n",
              "      <td>0.48524</td>\n",
              "      <td>0.17176</td>\n",
              "      <td>0.22462</td>\n",
              "      <td>0.11532</td>\n",
              "      <td>1.69170</td>\n",
              "      <td>2.81313</td>\n",
              "      <td>1.22793</td>\n",
              "      <td>0.000851</td>\n",
              "      <td>0.000851</td>\n",
              "      <td>0.000851</td>\n",
              "    </tr>\n",
              "    <tr>\n",
              "      <th>2</th>\n",
              "      <td>3</td>\n",
              "      <td>20.7868</td>\n",
              "      <td>1.55989</td>\n",
              "      <td>1.47003</td>\n",
              "      <td>1.22451</td>\n",
              "      <td>1.00000</td>\n",
              "      <td>0.15124</td>\n",
              "      <td>0.76393</td>\n",
              "      <td>0.34829</td>\n",
              "      <td>1.74600</td>\n",
              "      <td>2.51282</td>\n",
              "      <td>1.51320</td>\n",
              "      <td>0.001274</td>\n",
              "      <td>0.001274</td>\n",
              "      <td>0.001274</td>\n",
              "    </tr>\n",
              "    <tr>\n",
              "      <th>3</th>\n",
              "      <td>4</td>\n",
              "      <td>25.2662</td>\n",
              "      <td>1.55861</td>\n",
              "      <td>1.31739</td>\n",
              "      <td>1.22627</td>\n",
              "      <td>0.82710</td>\n",
              "      <td>0.43499</td>\n",
              "      <td>0.63733</td>\n",
              "      <td>0.30677</td>\n",
              "      <td>1.76844</td>\n",
              "      <td>2.10190</td>\n",
              "      <td>1.39772</td>\n",
              "      <td>0.001688</td>\n",
              "      <td>0.001688</td>\n",
              "      <td>0.001688</td>\n",
              "    </tr>\n",
              "    <tr>\n",
              "      <th>4</th>\n",
              "      <td>5</td>\n",
              "      <td>28.5687</td>\n",
              "      <td>1.51811</td>\n",
              "      <td>1.31300</td>\n",
              "      <td>1.19826</td>\n",
              "      <td>0.60129</td>\n",
              "      <td>0.45455</td>\n",
              "      <td>0.54707</td>\n",
              "      <td>0.27137</td>\n",
              "      <td>1.71077</td>\n",
              "      <td>1.67669</td>\n",
              "      <td>1.34387</td>\n",
              "      <td>0.001921</td>\n",
              "      <td>0.001921</td>\n",
              "      <td>0.001921</td>\n",
              "    </tr>\n",
              "    <tr>\n",
              "      <th>...</th>\n",
              "      <td>...</td>\n",
              "      <td>...</td>\n",
              "      <td>...</td>\n",
              "      <td>...</td>\n",
              "      <td>...</td>\n",
              "      <td>...</td>\n",
              "      <td>...</td>\n",
              "      <td>...</td>\n",
              "      <td>...</td>\n",
              "      <td>...</td>\n",
              "      <td>...</td>\n",
              "      <td>...</td>\n",
              "      <td>...</td>\n",
              "      <td>...</td>\n",
              "      <td>...</td>\n",
              "    </tr>\n",
              "    <tr>\n",
              "      <th>95</th>\n",
              "      <td>96</td>\n",
              "      <td>461.7910</td>\n",
              "      <td>0.93244</td>\n",
              "      <td>0.49710</td>\n",
              "      <td>0.99437</td>\n",
              "      <td>0.92174</td>\n",
              "      <td>0.81818</td>\n",
              "      <td>0.89064</td>\n",
              "      <td>0.54555</td>\n",
              "      <td>1.42378</td>\n",
              "      <td>0.64560</td>\n",
              "      <td>1.25546</td>\n",
              "      <td>0.000119</td>\n",
              "      <td>0.000119</td>\n",
              "      <td>0.000119</td>\n",
              "    </tr>\n",
              "    <tr>\n",
              "      <th>96</th>\n",
              "      <td>97</td>\n",
              "      <td>465.6970</td>\n",
              "      <td>0.92510</td>\n",
              "      <td>0.48277</td>\n",
              "      <td>0.97843</td>\n",
              "      <td>0.93947</td>\n",
              "      <td>0.84091</td>\n",
              "      <td>0.91747</td>\n",
              "      <td>0.55592</td>\n",
              "      <td>1.41747</td>\n",
              "      <td>0.63597</td>\n",
              "      <td>1.25437</td>\n",
              "      <td>0.000099</td>\n",
              "      <td>0.000099</td>\n",
              "      <td>0.000099</td>\n",
              "    </tr>\n",
              "    <tr>\n",
              "      <th>97</th>\n",
              "      <td>98</td>\n",
              "      <td>471.2780</td>\n",
              "      <td>0.95262</td>\n",
              "      <td>0.50147</td>\n",
              "      <td>0.99358</td>\n",
              "      <td>0.91849</td>\n",
              "      <td>0.81818</td>\n",
              "      <td>0.89612</td>\n",
              "      <td>0.54078</td>\n",
              "      <td>1.39863</td>\n",
              "      <td>0.61737</td>\n",
              "      <td>1.23560</td>\n",
              "      <td>0.000079</td>\n",
              "      <td>0.000079</td>\n",
              "      <td>0.000079</td>\n",
              "    </tr>\n",
              "    <tr>\n",
              "      <th>98</th>\n",
              "      <td>99</td>\n",
              "      <td>475.1670</td>\n",
              "      <td>0.93371</td>\n",
              "      <td>0.47768</td>\n",
              "      <td>0.98855</td>\n",
              "      <td>0.93932</td>\n",
              "      <td>0.84091</td>\n",
              "      <td>0.92291</td>\n",
              "      <td>0.54868</td>\n",
              "      <td>1.40260</td>\n",
              "      <td>0.61796</td>\n",
              "      <td>1.22826</td>\n",
              "      <td>0.000060</td>\n",
              "      <td>0.000060</td>\n",
              "      <td>0.000060</td>\n",
              "    </tr>\n",
              "    <tr>\n",
              "      <th>99</th>\n",
              "      <td>100</td>\n",
              "      <td>478.4840</td>\n",
              "      <td>0.86477</td>\n",
              "      <td>0.46559</td>\n",
              "      <td>0.98565</td>\n",
              "      <td>0.92883</td>\n",
              "      <td>0.81818</td>\n",
              "      <td>0.89552</td>\n",
              "      <td>0.54524</td>\n",
              "      <td>1.41515</td>\n",
              "      <td>0.61886</td>\n",
              "      <td>1.22528</td>\n",
              "      <td>0.000040</td>\n",
              "      <td>0.000040</td>\n",
              "      <td>0.000040</td>\n",
              "    </tr>\n",
              "  </tbody>\n",
              "</table>\n",
              "<p>100 rows × 15 columns</p>\n",
              "</div>\n",
              "    <div class=\"colab-df-buttons\">\n",
              "\n",
              "  <div class=\"colab-df-container\">\n",
              "    <button class=\"colab-df-convert\" onclick=\"convertToInteractive('df-912347d8-ca96-4598-aa3f-04a564535134')\"\n",
              "            title=\"Convert this dataframe to an interactive table.\"\n",
              "            style=\"display:none;\">\n",
              "\n",
              "  <svg xmlns=\"http://www.w3.org/2000/svg\" height=\"24px\" viewBox=\"0 -960 960 960\">\n",
              "    <path d=\"M120-120v-720h720v720H120Zm60-500h600v-160H180v160Zm220 220h160v-160H400v160Zm0 220h160v-160H400v160ZM180-400h160v-160H180v160Zm440 0h160v-160H620v160ZM180-180h160v-160H180v160Zm440 0h160v-160H620v160Z\"/>\n",
              "  </svg>\n",
              "    </button>\n",
              "\n",
              "  <style>\n",
              "    .colab-df-container {\n",
              "      display:flex;\n",
              "      gap: 12px;\n",
              "    }\n",
              "\n",
              "    .colab-df-convert {\n",
              "      background-color: #E8F0FE;\n",
              "      border: none;\n",
              "      border-radius: 50%;\n",
              "      cursor: pointer;\n",
              "      display: none;\n",
              "      fill: #1967D2;\n",
              "      height: 32px;\n",
              "      padding: 0 0 0 0;\n",
              "      width: 32px;\n",
              "    }\n",
              "\n",
              "    .colab-df-convert:hover {\n",
              "      background-color: #E2EBFA;\n",
              "      box-shadow: 0px 1px 2px rgba(60, 64, 67, 0.3), 0px 1px 3px 1px rgba(60, 64, 67, 0.15);\n",
              "      fill: #174EA6;\n",
              "    }\n",
              "\n",
              "    .colab-df-buttons div {\n",
              "      margin-bottom: 4px;\n",
              "    }\n",
              "\n",
              "    [theme=dark] .colab-df-convert {\n",
              "      background-color: #3B4455;\n",
              "      fill: #D2E3FC;\n",
              "    }\n",
              "\n",
              "    [theme=dark] .colab-df-convert:hover {\n",
              "      background-color: #434B5C;\n",
              "      box-shadow: 0px 1px 3px 1px rgba(0, 0, 0, 0.15);\n",
              "      filter: drop-shadow(0px 1px 2px rgba(0, 0, 0, 0.3));\n",
              "      fill: #FFFFFF;\n",
              "    }\n",
              "  </style>\n",
              "\n",
              "    <script>\n",
              "      const buttonEl =\n",
              "        document.querySelector('#df-912347d8-ca96-4598-aa3f-04a564535134 button.colab-df-convert');\n",
              "      buttonEl.style.display =\n",
              "        google.colab.kernel.accessAllowed ? 'block' : 'none';\n",
              "\n",
              "      async function convertToInteractive(key) {\n",
              "        const element = document.querySelector('#df-912347d8-ca96-4598-aa3f-04a564535134');\n",
              "        const dataTable =\n",
              "          await google.colab.kernel.invokeFunction('convertToInteractive',\n",
              "                                                    [key], {});\n",
              "        if (!dataTable) return;\n",
              "\n",
              "        const docLinkHtml = 'Like what you see? Visit the ' +\n",
              "          '<a target=\"_blank\" href=https://colab.research.google.com/notebooks/data_table.ipynb>data table notebook</a>'\n",
              "          + ' to learn more about interactive tables.';\n",
              "        element.innerHTML = '';\n",
              "        dataTable['output_type'] = 'display_data';\n",
              "        await google.colab.output.renderOutput(dataTable, element);\n",
              "        const docLink = document.createElement('div');\n",
              "        docLink.innerHTML = docLinkHtml;\n",
              "        element.appendChild(docLink);\n",
              "      }\n",
              "    </script>\n",
              "  </div>\n",
              "\n",
              "\n",
              "<div id=\"df-dd2a7f7e-8d7a-494f-b871-d498d79afbdb\">\n",
              "  <button class=\"colab-df-quickchart\" onclick=\"quickchart('df-dd2a7f7e-8d7a-494f-b871-d498d79afbdb')\"\n",
              "            title=\"Suggest charts\"\n",
              "            style=\"display:none;\">\n",
              "\n",
              "<svg xmlns=\"http://www.w3.org/2000/svg\" height=\"24px\"viewBox=\"0 0 24 24\"\n",
              "     width=\"24px\">\n",
              "    <g>\n",
              "        <path d=\"M19 3H5c-1.1 0-2 .9-2 2v14c0 1.1.9 2 2 2h14c1.1 0 2-.9 2-2V5c0-1.1-.9-2-2-2zM9 17H7v-7h2v7zm4 0h-2V7h2v10zm4 0h-2v-4h2v4z\"/>\n",
              "    </g>\n",
              "</svg>\n",
              "  </button>\n",
              "\n",
              "<style>\n",
              "  .colab-df-quickchart {\n",
              "      --bg-color: #E8F0FE;\n",
              "      --fill-color: #1967D2;\n",
              "      --hover-bg-color: #E2EBFA;\n",
              "      --hover-fill-color: #174EA6;\n",
              "      --disabled-fill-color: #AAA;\n",
              "      --disabled-bg-color: #DDD;\n",
              "  }\n",
              "\n",
              "  [theme=dark] .colab-df-quickchart {\n",
              "      --bg-color: #3B4455;\n",
              "      --fill-color: #D2E3FC;\n",
              "      --hover-bg-color: #434B5C;\n",
              "      --hover-fill-color: #FFFFFF;\n",
              "      --disabled-bg-color: #3B4455;\n",
              "      --disabled-fill-color: #666;\n",
              "  }\n",
              "\n",
              "  .colab-df-quickchart {\n",
              "    background-color: var(--bg-color);\n",
              "    border: none;\n",
              "    border-radius: 50%;\n",
              "    cursor: pointer;\n",
              "    display: none;\n",
              "    fill: var(--fill-color);\n",
              "    height: 32px;\n",
              "    padding: 0;\n",
              "    width: 32px;\n",
              "  }\n",
              "\n",
              "  .colab-df-quickchart:hover {\n",
              "    background-color: var(--hover-bg-color);\n",
              "    box-shadow: 0 1px 2px rgba(60, 64, 67, 0.3), 0 1px 3px 1px rgba(60, 64, 67, 0.15);\n",
              "    fill: var(--button-hover-fill-color);\n",
              "  }\n",
              "\n",
              "  .colab-df-quickchart-complete:disabled,\n",
              "  .colab-df-quickchart-complete:disabled:hover {\n",
              "    background-color: var(--disabled-bg-color);\n",
              "    fill: var(--disabled-fill-color);\n",
              "    box-shadow: none;\n",
              "  }\n",
              "\n",
              "  .colab-df-spinner {\n",
              "    border: 2px solid var(--fill-color);\n",
              "    border-color: transparent;\n",
              "    border-bottom-color: var(--fill-color);\n",
              "    animation:\n",
              "      spin 1s steps(1) infinite;\n",
              "  }\n",
              "\n",
              "  @keyframes spin {\n",
              "    0% {\n",
              "      border-color: transparent;\n",
              "      border-bottom-color: var(--fill-color);\n",
              "      border-left-color: var(--fill-color);\n",
              "    }\n",
              "    20% {\n",
              "      border-color: transparent;\n",
              "      border-left-color: var(--fill-color);\n",
              "      border-top-color: var(--fill-color);\n",
              "    }\n",
              "    30% {\n",
              "      border-color: transparent;\n",
              "      border-left-color: var(--fill-color);\n",
              "      border-top-color: var(--fill-color);\n",
              "      border-right-color: var(--fill-color);\n",
              "    }\n",
              "    40% {\n",
              "      border-color: transparent;\n",
              "      border-right-color: var(--fill-color);\n",
              "      border-top-color: var(--fill-color);\n",
              "    }\n",
              "    60% {\n",
              "      border-color: transparent;\n",
              "      border-right-color: var(--fill-color);\n",
              "    }\n",
              "    80% {\n",
              "      border-color: transparent;\n",
              "      border-right-color: var(--fill-color);\n",
              "      border-bottom-color: var(--fill-color);\n",
              "    }\n",
              "    90% {\n",
              "      border-color: transparent;\n",
              "      border-bottom-color: var(--fill-color);\n",
              "    }\n",
              "  }\n",
              "</style>\n",
              "\n",
              "  <script>\n",
              "    async function quickchart(key) {\n",
              "      const quickchartButtonEl =\n",
              "        document.querySelector('#' + key + ' button');\n",
              "      quickchartButtonEl.disabled = true;  // To prevent multiple clicks.\n",
              "      quickchartButtonEl.classList.add('colab-df-spinner');\n",
              "      try {\n",
              "        const charts = await google.colab.kernel.invokeFunction(\n",
              "            'suggestCharts', [key], {});\n",
              "      } catch (error) {\n",
              "        console.error('Error during call to suggestCharts:', error);\n",
              "      }\n",
              "      quickchartButtonEl.classList.remove('colab-df-spinner');\n",
              "      quickchartButtonEl.classList.add('colab-df-quickchart-complete');\n",
              "    }\n",
              "    (() => {\n",
              "      let quickchartButtonEl =\n",
              "        document.querySelector('#df-dd2a7f7e-8d7a-494f-b871-d498d79afbdb button');\n",
              "      quickchartButtonEl.style.display =\n",
              "        google.colab.kernel.accessAllowed ? 'block' : 'none';\n",
              "    })();\n",
              "  </script>\n",
              "</div>\n",
              "\n",
              "  <div id=\"id_9d6952ff-fd9e-41c3-be59-af353a7ad551\">\n",
              "    <style>\n",
              "      .colab-df-generate {\n",
              "        background-color: #E8F0FE;\n",
              "        border: none;\n",
              "        border-radius: 50%;\n",
              "        cursor: pointer;\n",
              "        display: none;\n",
              "        fill: #1967D2;\n",
              "        height: 32px;\n",
              "        padding: 0 0 0 0;\n",
              "        width: 32px;\n",
              "      }\n",
              "\n",
              "      .colab-df-generate:hover {\n",
              "        background-color: #E2EBFA;\n",
              "        box-shadow: 0px 1px 2px rgba(60, 64, 67, 0.3), 0px 1px 3px 1px rgba(60, 64, 67, 0.15);\n",
              "        fill: #174EA6;\n",
              "      }\n",
              "\n",
              "      [theme=dark] .colab-df-generate {\n",
              "        background-color: #3B4455;\n",
              "        fill: #D2E3FC;\n",
              "      }\n",
              "\n",
              "      [theme=dark] .colab-df-generate:hover {\n",
              "        background-color: #434B5C;\n",
              "        box-shadow: 0px 1px 3px 1px rgba(0, 0, 0, 0.15);\n",
              "        filter: drop-shadow(0px 1px 2px rgba(0, 0, 0, 0.3));\n",
              "        fill: #FFFFFF;\n",
              "      }\n",
              "    </style>\n",
              "    <button class=\"colab-df-generate\" onclick=\"generateWithVariable('results')\"\n",
              "            title=\"Generate code using this dataframe.\"\n",
              "            style=\"display:none;\">\n",
              "\n",
              "  <svg xmlns=\"http://www.w3.org/2000/svg\" height=\"24px\"viewBox=\"0 0 24 24\"\n",
              "       width=\"24px\">\n",
              "    <path d=\"M7,19H8.4L18.45,9,17,7.55,7,17.6ZM5,21V16.75L18.45,3.32a2,2,0,0,1,2.83,0l1.4,1.43a1.91,1.91,0,0,1,.58,1.4,1.91,1.91,0,0,1-.58,1.4L9.25,21ZM18.45,9,17,7.55Zm-12,3A5.31,5.31,0,0,0,4.9,8.1,5.31,5.31,0,0,0,1,6.5,5.31,5.31,0,0,0,4.9,4.9,5.31,5.31,0,0,0,6.5,1,5.31,5.31,0,0,0,8.1,4.9,5.31,5.31,0,0,0,12,6.5,5.46,5.46,0,0,0,6.5,12Z\"/>\n",
              "  </svg>\n",
              "    </button>\n",
              "    <script>\n",
              "      (() => {\n",
              "      const buttonEl =\n",
              "        document.querySelector('#id_9d6952ff-fd9e-41c3-be59-af353a7ad551 button.colab-df-generate');\n",
              "      buttonEl.style.display =\n",
              "        google.colab.kernel.accessAllowed ? 'block' : 'none';\n",
              "\n",
              "      buttonEl.onclick = () => {\n",
              "        google.colab.notebook.generateWithVariable('results');\n",
              "      }\n",
              "      })();\n",
              "    </script>\n",
              "  </div>\n",
              "\n",
              "    </div>\n",
              "  </div>\n"
            ],
            "application/vnd.google.colaboratory.intrinsic+json": {
              "type": "dataframe",
              "variable_name": "results",
              "summary": "{\n  \"name\": \"results\",\n  \"rows\": 100,\n  \"fields\": [\n    {\n      \"column\": \"epoch\",\n      \"properties\": {\n        \"dtype\": \"number\",\n        \"std\": 29,\n        \"min\": 1,\n        \"max\": 100,\n        \"num_unique_values\": 100,\n        \"samples\": [\n          84,\n          54,\n          71\n        ],\n        \"semantic_type\": \"\",\n        \"description\": \"\"\n      }\n    },\n    {\n      \"column\": \"time\",\n      \"properties\": {\n        \"dtype\": \"number\",\n        \"std\": 137.59486075244493,\n        \"min\": 10.2218,\n        \"max\": 478.484,\n        \"num_unique_values\": 100,\n        \"samples\": [\n          399.715,\n          270.403,\n          343.343\n        ],\n        \"semantic_type\": \"\",\n        \"description\": \"\"\n      }\n    },\n    {\n      \"column\": \"train/box_loss\",\n      \"properties\": {\n        \"dtype\": \"number\",\n        \"std\": 0.22578989922196846,\n        \"min\": 0.73287,\n        \"max\": 1.75705,\n        \"num_unique_values\": 100,\n        \"samples\": [\n          0.78581,\n          0.94679,\n          0.8525\n        ],\n        \"semantic_type\": \"\",\n        \"description\": \"\"\n      }\n    },\n    {\n      \"column\": \"train/cls_loss\",\n      \"properties\": {\n        \"dtype\": \"number\",\n        \"std\": 0.32545355919592106,\n        \"min\": 0.43608,\n        \"max\": 3.01153,\n        \"num_unique_values\": 100,\n        \"samples\": [\n          0.46378,\n          0.55948,\n          0.51769\n        ],\n        \"semantic_type\": \"\",\n        \"description\": \"\"\n      }\n    },\n    {\n      \"column\": \"train/dfl_loss\",\n      \"properties\": {\n        \"dtype\": \"number\",\n        \"std\": 0.08652430304331442,\n        \"min\": 0.90889,\n        \"max\": 1.36535,\n        \"num_unique_values\": 100,\n        \"samples\": [\n          0.90934,\n          0.94861,\n          0.93817\n        ],\n        \"semantic_type\": \"\",\n        \"description\": \"\"\n      }\n    },\n    {\n      \"column\": \"metrics/precision(B)\",\n      \"properties\": {\n        \"dtype\": \"number\",\n        \"std\": 0.12515095484952352,\n        \"min\": 0.00394,\n        \"max\": 1.0,\n        \"num_unique_values\": 99,\n        \"samples\": [\n          0.84895,\n          0.92357,\n          0.93947\n        ],\n        \"semantic_type\": \"\",\n        \"description\": \"\"\n      }\n    },\n    {\n      \"column\": \"metrics/recall(B)\",\n      \"properties\": {\n        \"dtype\": \"number\",\n        \"std\": 0.13381613195996686,\n        \"min\": 0.15124,\n        \"max\": 0.95071,\n        \"num_unique_values\": 42,\n        \"samples\": [\n          0.83681,\n          0.86364,\n          0.45574\n        ],\n        \"semantic_type\": \"\",\n        \"description\": \"\"\n      }\n    },\n    {\n      \"column\": \"metrics/mAP50(B)\",\n      \"properties\": {\n        \"dtype\": \"number\",\n        \"std\": 0.12131760355231536,\n        \"min\": 0.22462,\n        \"max\": 0.94019,\n        \"num_unique_values\": 100,\n        \"samples\": [\n          0.89427,\n          0.85106,\n          0.92988\n        ],\n        \"semantic_type\": \"\",\n        \"description\": \"\"\n      }\n    },\n    {\n      \"column\": \"metrics/mAP50-95(B)\",\n      \"properties\": {\n        \"dtype\": \"number\",\n        \"std\": 0.08428061480530143,\n        \"min\": 0.11532,\n        \"max\": 0.56328,\n        \"num_unique_values\": 100,\n        \"samples\": [\n          0.53938,\n          0.51232,\n          0.52688\n        ],\n        \"semantic_type\": \"\",\n        \"description\": \"\"\n      }\n    },\n    {\n      \"column\": \"val/box_loss\",\n      \"properties\": {\n        \"dtype\": \"number\",\n        \"std\": 0.11975131281939959,\n        \"min\": 1.39863,\n        \"max\": 1.91537,\n        \"num_unique_values\": 100,\n        \"samples\": [\n          1.48154,\n          1.47379,\n          1.54972\n        ],\n        \"semantic_type\": \"\",\n        \"description\": \"\"\n      }\n    },\n    {\n      \"column\": \"val/cls_loss\",\n      \"properties\": {\n        \"dtype\": \"number\",\n        \"std\": 0.4396727838219892,\n        \"min\": 0.61737,\n        \"max\": 2.98659,\n        \"num_unique_values\": 99,\n        \"samples\": [\n          0.6744,\n          0.77199,\n          0.63597\n        ],\n        \"semantic_type\": \"\",\n        \"description\": \"\"\n      }\n    },\n    {\n      \"column\": \"val/dfl_loss\",\n      \"properties\": {\n        \"dtype\": \"number\",\n        \"std\": 0.06916079479390946,\n        \"min\": 1.08809,\n        \"max\": 1.64357,\n        \"num_unique_values\": 99,\n        \"samples\": [\n          1.30627,\n          1.2575,\n          1.25437\n        ],\n        \"semantic_type\": \"\",\n        \"description\": \"\"\n      }\n    },\n    {\n      \"column\": \"lr/pg0\",\n      \"properties\": {\n        \"dtype\": \"number\",\n        \"std\": 0.0005488136322118649,\n        \"min\": 3.98e-05,\n        \"max\": 0.0019208,\n        \"num_unique_values\": 100,\n        \"samples\": [\n          0.0003566,\n          0.0009506,\n          0.000614\n        ],\n        \"semantic_type\": \"\",\n        \"description\": \"\"\n      }\n    },\n    {\n      \"column\": \"lr/pg1\",\n      \"properties\": {\n        \"dtype\": \"number\",\n        \"std\": 0.0005488136322118649,\n        \"min\": 3.98e-05,\n        \"max\": 0.0019208,\n        \"num_unique_values\": 100,\n        \"samples\": [\n          0.0003566,\n          0.0009506,\n          0.000614\n        ],\n        \"semantic_type\": \"\",\n        \"description\": \"\"\n      }\n    },\n    {\n      \"column\": \"lr/pg2\",\n      \"properties\": {\n        \"dtype\": \"number\",\n        \"std\": 0.0005488136322118649,\n        \"min\": 3.98e-05,\n        \"max\": 0.0019208,\n        \"num_unique_values\": 100,\n        \"samples\": [\n          0.0003566,\n          0.0009506,\n          0.000614\n        ],\n        \"semantic_type\": \"\",\n        \"description\": \"\"\n      }\n    }\n  ]\n}"
            }
          },
          "metadata": {},
          "execution_count": 23
        }
      ]
    },
    {
      "cell_type": "code",
      "source": [
        "results.columns=results.columns.str.strip()\n",
        "results.columns"
      ],
      "metadata": {
        "trusted": true,
        "colab": {
          "base_uri": "https://localhost:8080/",
          "height": 163
        },
        "id": "IjUljodNlKAT",
        "outputId": "43c60316-44e6-47f6-be8e-4798dfa20239"
      },
      "outputs": [
        {
          "output_type": "error",
          "ename": "NameError",
          "evalue": "name 'results' is not defined",
          "traceback": [
            "\u001b[0;31m---------------------------------------------------------------------------\u001b[0m",
            "\u001b[0;31mNameError\u001b[0m                                 Traceback (most recent call last)",
            "\u001b[0;32m<ipython-input-19-f9555b1887c5>\u001b[0m in \u001b[0;36m<cell line: 0>\u001b[0;34m()\u001b[0m\n\u001b[0;32m----> 1\u001b[0;31m \u001b[0mresults\u001b[0m\u001b[0;34m.\u001b[0m\u001b[0mcolumns\u001b[0m\u001b[0;34m=\u001b[0m\u001b[0mresults\u001b[0m\u001b[0;34m.\u001b[0m\u001b[0mcolumns\u001b[0m\u001b[0;34m.\u001b[0m\u001b[0mstr\u001b[0m\u001b[0;34m.\u001b[0m\u001b[0mstrip\u001b[0m\u001b[0;34m(\u001b[0m\u001b[0;34m)\u001b[0m\u001b[0;34m\u001b[0m\u001b[0;34m\u001b[0m\u001b[0m\n\u001b[0m\u001b[1;32m      2\u001b[0m \u001b[0mresults\u001b[0m\u001b[0;34m.\u001b[0m\u001b[0mcolumns\u001b[0m\u001b[0;34m\u001b[0m\u001b[0;34m\u001b[0m\u001b[0m\n",
            "\u001b[0;31mNameError\u001b[0m: name 'results' is not defined"
          ]
        }
      ],
      "execution_count": null
    },
    {
      "cell_type": "code",
      "source": [
        "epochs=results.index+1\n",
        "print(epochs)"
      ],
      "metadata": {
        "trusted": true,
        "id": "aXEFI7jDlKAU"
      },
      "outputs": [],
      "execution_count": null
    },
    {
      "cell_type": "code",
      "source": [
        "map_05=results['metrics/mAP50(B)']\n",
        "map_05095=results['metrics/mAP50-95(B)']\n",
        "plt.figure(figsize=(10,7))\n",
        "plt.plot(epochs,map_05,label='mAP@0.5')\n",
        "plt.plot(epochs,map_05095,label='mAP@0.5:0.95')\n",
        "plt.xlabel('Epochs')\n",
        "plt.ylabel('mAP')\n",
        "plt.title('YOLOv8 Performance')\n",
        "plt.legend()\n",
        "plt.show()"
      ],
      "metadata": {
        "trusted": true,
        "execution": {
          "iopub.status.busy": "2025-02-09T07:08:44.270662Z",
          "iopub.execute_input": "2025-02-09T07:08:44.270962Z",
          "iopub.status.idle": "2025-02-09T07:08:44.276634Z",
          "shell.execute_reply.started": "2025-02-09T07:08:44.270939Z",
          "shell.execute_reply": "2025-02-09T07:08:44.275835Z"
        },
        "id": "FZnubE2LlKAU"
      },
      "outputs": [],
      "execution_count": null
    },
    {
      "cell_type": "code",
      "source": [
        "model.save('best_license_plate_model.pt')"
      ],
      "metadata": {
        "trusted": true,
        "execution": {
          "iopub.status.busy": "2025-02-09T07:09:28.968853Z",
          "iopub.execute_input": "2025-02-09T07:09:28.96917Z",
          "iopub.status.idle": "2025-02-09T07:09:28.974892Z",
          "shell.execute_reply.started": "2025-02-09T07:09:28.969146Z",
          "shell.execute_reply": "2025-02-09T07:09:28.973927Z"
        },
        "id": "eeDmBQjtlKAU"
      },
      "outputs": [],
      "execution_count": null
    },
    {
      "cell_type": "code",
      "source": [
        "results=model.predict('/content/car_plate_dataset/images/Cars100.png')"
      ],
      "metadata": {
        "id": "sX6Tp4n1VqQ4"
      },
      "execution_count": null,
      "outputs": []
    },
    {
      "cell_type": "code",
      "source": [
        "results"
      ],
      "metadata": {
        "id": "H84PTelsac0l"
      },
      "execution_count": null,
      "outputs": []
    },
    {
      "cell_type": "code",
      "source": [
        "os.litsdir('runs/detect/')"
      ],
      "metadata": {
        "id": "GOa26NFbapq5"
      },
      "execution_count": null,
      "outputs": []
    },
    {
      "cell_type": "code",
      "source": [
        "image=cv2.imread('/content/car_plate_dataset/images/Cars100.png')\n",
        "image=cv2.cvtColor(image,cv2.COLOR_BGR2RGB)\n",
        "plt.figure(figsize=(10,10))\n",
        "plt.imshow(image)\n",
        "plt.show()"
      ],
      "metadata": {
        "id": "EZgxF2T7bXuf"
      },
      "execution_count": null,
      "outputs": []
    },
    {
      "cell_type": "code",
      "source": [
        "for result in results:\n",
        "  for box in result.boxes:\n",
        "    print(box)\n",
        "    x1,y1,x2,y2=map(int,box,xyxy[0])\n",
        "    confidencej=box.conf[0]\n",
        "    cv2.rectangle(image,(x1,y1),(x2,y2),(0,255,0),2)\n",
        "    cv2.putText(image,F'{confidence:.2f}',(x1,y1-10),cv2.FONT_HERSHEY_SIMPLEX,0.5,(0,0,255),2)\n",
        "    break\n",
        "  break\n",
        "plt.imshow(image)\n",
        "plt.axis('off')\n",
        "plt.show()\n"
      ],
      "metadata": {
        "trusted": true,
        "id": "YM55EHYflKAU"
      },
      "outputs": [],
      "execution_count": null
    },
    {
      "cell_type": "code",
      "source": [],
      "metadata": {
        "trusted": true,
        "id": "bUwPbfPNlKAU"
      },
      "outputs": [],
      "execution_count": null
    },
    {
      "cell_type": "code",
      "source": [],
      "metadata": {
        "trusted": true,
        "id": "9GIF9MOYlKAU"
      },
      "outputs": [],
      "execution_count": null
    },
    {
      "cell_type": "code",
      "source": [],
      "metadata": {
        "trusted": true,
        "execution": {
          "iopub.status.busy": "2025-02-09T07:11:54.327788Z",
          "iopub.execute_input": "2025-02-09T07:11:54.328096Z",
          "iopub.status.idle": "2025-02-09T07:11:54.334971Z",
          "shell.execute_reply.started": "2025-02-09T07:11:54.328066Z",
          "shell.execute_reply": "2025-02-09T07:11:54.33405Z"
        },
        "id": "1U_Rdy-dlKAU"
      },
      "outputs": [],
      "execution_count": null
    },
    {
      "cell_type": "code",
      "source": [],
      "metadata": {
        "trusted": true,
        "execution": {
          "iopub.status.busy": "2025-02-09T07:12:48.606776Z",
          "iopub.execute_input": "2025-02-09T07:12:48.607083Z",
          "iopub.status.idle": "2025-02-09T07:12:48.613899Z",
          "shell.execute_reply.started": "2025-02-09T07:12:48.607062Z",
          "shell.execute_reply": "2025-02-09T07:12:48.612997Z"
        },
        "id": "_CmU1bxxlKAU"
      },
      "outputs": [],
      "execution_count": null
    },
    {
      "cell_type": "code",
      "source": [],
      "metadata": {
        "trusted": true,
        "execution": {
          "iopub.status.busy": "2025-02-09T07:16:14.299298Z",
          "iopub.execute_input": "2025-02-09T07:16:14.29969Z",
          "iopub.status.idle": "2025-02-09T07:16:14.305002Z",
          "shell.execute_reply.started": "2025-02-09T07:16:14.299664Z",
          "shell.execute_reply": "2025-02-09T07:16:14.304267Z"
        },
        "id": "N-aQnn-glKAV"
      },
      "outputs": [],
      "execution_count": null
    },
    {
      "cell_type": "code",
      "source": [],
      "metadata": {
        "trusted": true,
        "execution": {
          "iopub.status.busy": "2025-02-09T07:16:44.747891Z",
          "iopub.execute_input": "2025-02-09T07:16:44.748216Z",
          "iopub.status.idle": "2025-02-09T07:16:45.140487Z",
          "shell.execute_reply.started": "2025-02-09T07:16:44.74819Z",
          "shell.execute_reply": "2025-02-09T07:16:45.139095Z"
        },
        "id": "b26ejdNUlKAV"
      },
      "outputs": [],
      "execution_count": null
    },
    {
      "cell_type": "code",
      "source": [],
      "metadata": {
        "trusted": true,
        "execution": {
          "iopub.status.busy": "2025-02-09T07:19:46.060774Z",
          "iopub.execute_input": "2025-02-09T07:19:46.061087Z",
          "iopub.status.idle": "2025-02-09T07:19:46.087516Z",
          "shell.execute_reply.started": "2025-02-09T07:19:46.061064Z",
          "shell.execute_reply": "2025-02-09T07:19:46.08629Z"
        },
        "id": "_E-36Q9TlKAV"
      },
      "outputs": [],
      "execution_count": null
    },
    {
      "cell_type": "code",
      "source": [],
      "metadata": {
        "trusted": true,
        "id": "ko08hoBNlKAV"
      },
      "outputs": [],
      "execution_count": null
    }
  ]
}