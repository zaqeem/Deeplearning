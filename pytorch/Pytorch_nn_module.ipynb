{
  "nbformat": 4,
  "nbformat_minor": 0,
  "metadata": {
    "colab": {
      "provenance": []
    },
    "kernelspec": {
      "name": "python3",
      "display_name": "Python 3"
    },
    "language_info": {
      "name": "python"
    }
  },
  "cells": [
    {
      "cell_type": "code",
      "execution_count": null,
      "metadata": {
        "id": "jqVcapsQLYk-"
      },
      "outputs": [],
      "source": [
        "import torch\n",
        "import torch.nn as nn\n"
      ]
    },
    {
      "cell_type": "code",
      "source": [
        "class Model(nn.Module):\n",
        "    def __init__(self,num_features):\n",
        "        super(Model, self).__init__()\n",
        "        self.linear=nn.Linear(num_features,1)\n",
        "        self.sigmoid=nn.Sigmoid()\n",
        "\n",
        "    def forward(self,features):\n",
        "        return self.sigmoid(self.linear(features))\n"
      ],
      "metadata": {
        "id": "LM_1QSdxLZdG"
      },
      "execution_count": null,
      "outputs": []
    },
    {
      "cell_type": "code",
      "source": [
        "features=torch.randn(10,5)\n",
        "model=Model(features.shape[1])\n",
        "model(features)"
      ],
      "metadata": {
        "colab": {
          "base_uri": "https://localhost:8080/"
        },
        "id": "QLxFo4muLZft",
        "outputId": "423e3fb0-471e-489c-c5d0-8eea151baa76"
      },
      "execution_count": null,
      "outputs": [
        {
          "output_type": "execute_result",
          "data": {
            "text/plain": [
              "tensor([[0.5493],\n",
              "        [0.6380],\n",
              "        [0.3002],\n",
              "        [0.5375],\n",
              "        [0.4819],\n",
              "        [0.4069],\n",
              "        [0.5895],\n",
              "        [0.6636],\n",
              "        [0.5635],\n",
              "        [0.5744]], grad_fn=<SigmoidBackward0>)"
            ]
          },
          "metadata": {},
          "execution_count": 5
        }
      ]
    },
    {
      "cell_type": "code",
      "source": [
        "model.linear.weight"
      ],
      "metadata": {
        "colab": {
          "base_uri": "https://localhost:8080/"
        },
        "id": "jt1kjVF7LZiS",
        "outputId": "534ceea1-711f-44f8-a62d-f49cc26f75a3"
      },
      "execution_count": null,
      "outputs": [
        {
          "output_type": "execute_result",
          "data": {
            "text/plain": [
              "Parameter containing:\n",
              "tensor([[ 0.0275,  0.1180, -0.3743,  0.2833, -0.0362]], requires_grad=True)"
            ]
          },
          "metadata": {},
          "execution_count": 7
        }
      ]
    },
    {
      "cell_type": "code",
      "source": [
        "model.linear.bias"
      ],
      "metadata": {
        "colab": {
          "base_uri": "https://localhost:8080/"
        },
        "id": "Fs-sbBQjLZk4",
        "outputId": "2bf8e1ec-549f-41b1-b385-c8f4f42eb589"
      },
      "execution_count": null,
      "outputs": [
        {
          "output_type": "execute_result",
          "data": {
            "text/plain": [
              "Parameter containing:\n",
              "tensor([-0.1020], requires_grad=True)"
            ]
          },
          "metadata": {},
          "execution_count": 10
        }
      ]
    },
    {
      "cell_type": "code",
      "source": [
        "!pip install torchinfo"
      ],
      "metadata": {
        "colab": {
          "base_uri": "https://localhost:8080/"
        },
        "id": "1ih23iIzOhwM",
        "outputId": "d5219747-c0b5-43e0-b9e3-4f64815b0916"
      },
      "execution_count": null,
      "outputs": [
        {
          "output_type": "stream",
          "name": "stdout",
          "text": [
            "Collecting torchinfo\n",
            "  Downloading torchinfo-1.8.0-py3-none-any.whl.metadata (21 kB)\n",
            "Downloading torchinfo-1.8.0-py3-none-any.whl (23 kB)\n",
            "Installing collected packages: torchinfo\n",
            "Successfully installed torchinfo-1.8.0\n"
          ]
        }
      ]
    },
    {
      "cell_type": "code",
      "source": [
        "from torchinfo import summary\n",
        "summary(model)"
      ],
      "metadata": {
        "colab": {
          "base_uri": "https://localhost:8080/"
        },
        "id": "XAD3q2-2LZnO",
        "outputId": "71aa6ce4-411b-471f-eb4e-15a5b81786aa"
      },
      "execution_count": null,
      "outputs": [
        {
          "output_type": "execute_result",
          "data": {
            "text/plain": [
              "=================================================================\n",
              "Layer (type:depth-idx)                   Param #\n",
              "=================================================================\n",
              "Model                                    --\n",
              "├─Linear: 1-1                            6\n",
              "├─Sigmoid: 1-2                           --\n",
              "=================================================================\n",
              "Total params: 6\n",
              "Trainable params: 6\n",
              "Non-trainable params: 0\n",
              "================================================================="
            ]
          },
          "metadata": {},
          "execution_count": 15
        }
      ]
    },
    {
      "cell_type": "code",
      "source": [
        "# for 1 hidden layer with 3 node\n",
        "class Model1(nn.Module):\n",
        "    def __init__(self,num_features):\n",
        "        super(Model1, self).__init__()\n",
        "        self.network=nn.Sequential(\n",
        "            nn.Linear(num_features,3),\n",
        "            nn.ReLU(),\n",
        "            nn.Linear(3,1),\n",
        "            nn.Sigmoid()\n",
        "        )\n",
        "\n",
        "    def forward(self,features):\n",
        "        return self.sigmoid(self.linear2(self.relu(self.linear1(features))))"
      ],
      "metadata": {
        "id": "6BwcARP8LZpd"
      },
      "execution_count": null,
      "outputs": []
    },
    {
      "cell_type": "code",
      "source": [
        "model1=Model1(features.shape[1])\n",
        "model1(features)"
      ],
      "metadata": {
        "colab": {
          "base_uri": "https://localhost:8080/"
        },
        "id": "KpCphjqlLZru",
        "outputId": "7c1ff4bb-25e5-4613-d478-ae9047aa384b"
      },
      "execution_count": null,
      "outputs": [
        {
          "output_type": "execute_result",
          "data": {
            "text/plain": [
              "tensor([[0.6296],\n",
              "        [0.6428],\n",
              "        [0.7022],\n",
              "        [0.6050],\n",
              "        [0.6820],\n",
              "        [0.6012],\n",
              "        [0.5915],\n",
              "        [0.6100],\n",
              "        [0.6975],\n",
              "        [0.5595]], grad_fn=<SigmoidBackward0>)"
            ]
          },
          "metadata": {},
          "execution_count": 21
        }
      ]
    },
    {
      "cell_type": "code",
      "source": [
        "model1.linear1.weight"
      ],
      "metadata": {
        "colab": {
          "base_uri": "https://localhost:8080/"
        },
        "id": "MXHX_9k3LZuE",
        "outputId": "70f719b7-8255-4ecb-c98b-86b7bfeaa29d"
      },
      "execution_count": null,
      "outputs": [
        {
          "output_type": "execute_result",
          "data": {
            "text/plain": [
              "Parameter containing:\n",
              "tensor([[ 0.1245, -0.2669, -0.0677,  0.2571, -0.1365],\n",
              "        [-0.3157, -0.3222,  0.3951,  0.2610,  0.0552],\n",
              "        [-0.3250,  0.2701,  0.2869, -0.2923,  0.3601]], requires_grad=True)"
            ]
          },
          "metadata": {},
          "execution_count": 24
        }
      ]
    },
    {
      "cell_type": "code",
      "source": [
        "model1.linear1.bias"
      ],
      "metadata": {
        "colab": {
          "base_uri": "https://localhost:8080/"
        },
        "id": "9CXQnyZZQInJ",
        "outputId": "e750b04b-d390-4875-852e-5a374a94d036"
      },
      "execution_count": null,
      "outputs": [
        {
          "output_type": "execute_result",
          "data": {
            "text/plain": [
              "Parameter containing:\n",
              "tensor([-0.0948,  0.1078, -0.0229], requires_grad=True)"
            ]
          },
          "metadata": {},
          "execution_count": 25
        }
      ]
    },
    {
      "cell_type": "code",
      "source": [
        "model1.linear2.weight"
      ],
      "metadata": {
        "colab": {
          "base_uri": "https://localhost:8080/"
        },
        "id": "xFhRso3BQSD3",
        "outputId": "7dd2b698-2e15-404a-f395-29067d2900b3"
      },
      "execution_count": null,
      "outputs": [
        {
          "output_type": "execute_result",
          "data": {
            "text/plain": [
              "Parameter containing:\n",
              "tensor([[-0.3781, -0.2255,  0.2849]], requires_grad=True)"
            ]
          },
          "metadata": {},
          "execution_count": 26
        }
      ]
    },
    {
      "cell_type": "code",
      "source": [
        "model1.linear2.bias"
      ],
      "metadata": {
        "colab": {
          "base_uri": "https://localhost:8080/"
        },
        "id": "RJwG1vrWQUGp",
        "outputId": "3bf869c8-0747-4bdc-8989-ebcc9485d967"
      },
      "execution_count": null,
      "outputs": [
        {
          "output_type": "execute_result",
          "data": {
            "text/plain": [
              "Parameter containing:\n",
              "tensor([0.5304], requires_grad=True)"
            ]
          },
          "metadata": {},
          "execution_count": 27
        }
      ]
    },
    {
      "cell_type": "code",
      "source": [
        "from torchinfo import summary\n",
        "summary(model1)\n"
      ],
      "metadata": {
        "colab": {
          "base_uri": "https://localhost:8080/"
        },
        "id": "yAG9lv4wQW4B",
        "outputId": "ffe6c9b9-3d35-4a09-ef12-54e89051eb3f"
      },
      "execution_count": null,
      "outputs": [
        {
          "output_type": "execute_result",
          "data": {
            "text/plain": [
              "=================================================================\n",
              "Layer (type:depth-idx)                   Param #\n",
              "=================================================================\n",
              "Model1                                   --\n",
              "├─Linear: 1-1                            18\n",
              "├─ReLU: 1-2                              --\n",
              "├─Linear: 1-3                            4\n",
              "├─Sigmoid: 1-4                           --\n",
              "=================================================================\n",
              "Total params: 22\n",
              "Trainable params: 22\n",
              "Non-trainable params: 0\n",
              "================================================================="
            ]
          },
          "metadata": {},
          "execution_count": 28
        }
      ]
    },
    {
      "cell_type": "code",
      "source": [
        "import numpy as np\n",
        "import pandas as pd\n",
        "import torch\n",
        "from sklearn.model_selection import train_test_split\n",
        "from sklearn.preprocessing import StandardScaler\n",
        "from sklearn.preprocessing import LabelEncoder"
      ],
      "metadata": {
        "id": "ET-dyM7AQfFQ"
      },
      "execution_count": null,
      "outputs": []
    },
    {
      "cell_type": "code",
      "source": [
        "df=pd.read_csv('https://raw.githubusercontent.com/gscdit/Breast-Cancer-Detection/refs/heads/master/data.csv')"
      ],
      "metadata": {
        "id": "tlXXQvU2RnPJ"
      },
      "execution_count": null,
      "outputs": []
    },
    {
      "cell_type": "code",
      "source": [
        "df.drop(columns=['id','Unnamed: 32'],inplace=True)"
      ],
      "metadata": {
        "id": "nsVi2TY7RqbD"
      },
      "execution_count": null,
      "outputs": []
    },
    {
      "cell_type": "code",
      "source": [
        "X_train,X_test,y_train,y_test=train_test_split(df.iloc[:,1:],df.iloc[:,0],test_size=0.2,random_state=42)"
      ],
      "metadata": {
        "id": "8X0DyiO6Rtot"
      },
      "execution_count": null,
      "outputs": []
    },
    {
      "cell_type": "code",
      "source": [
        "scaler=StandardScaler()\n",
        "X_train=scaler.fit_transform(X_train)\n",
        "X_test=scaler.transform(X_test)"
      ],
      "metadata": {
        "id": "asaQasmORwMi"
      },
      "execution_count": null,
      "outputs": []
    },
    {
      "cell_type": "code",
      "source": [
        "encoder=LabelEncoder()\n",
        "y_train=encoder.fit_transform(y_train)\n",
        "y_test=encoder.transform(y_test)"
      ],
      "metadata": {
        "id": "nXrq6Q6TRyql"
      },
      "execution_count": null,
      "outputs": []
    },
    {
      "cell_type": "code",
      "source": [
        "X_train_tensor=torch.tensor(X_train,dtype=torch.float32)\n",
        "X_test_tensor=torch.tensor(X_test,dtype=torch.float32)\n",
        "y_train_tensor=torch.tensor(y_train,dtype=torch.long)\n",
        "y_test_tensor=torch.tensor(y_test,dtype=torch.long)"
      ],
      "metadata": {
        "id": "_GSXB1idR4TW"
      },
      "execution_count": null,
      "outputs": []
    },
    {
      "cell_type": "code",
      "source": [
        "class MySimpleNN(nn.Module):\n",
        "  def __init__(self,num_features):\n",
        "    super(MySimpleNN, self).__init__()\n",
        "    self.linear=nn.Linear(num_features,1)\n",
        "    self.sigmoid = nn.Sigmoid()\n",
        "  def forward(self, x):\n",
        "    return self.sigmoid(self.linear(x))"
      ],
      "metadata": {
        "id": "yIbiszZER5Fl"
      },
      "execution_count": null,
      "outputs": []
    },
    {
      "cell_type": "code",
      "source": [
        "learning_rate=0.1\n",
        "epochs=25"
      ],
      "metadata": {
        "id": "oiylS38RTmCr"
      },
      "execution_count": null,
      "outputs": []
    },
    {
      "cell_type": "code",
      "source": [],
      "metadata": {
        "id": "OpY7k4AgYZ_T"
      },
      "execution_count": null,
      "outputs": []
    },
    {
      "cell_type": "code",
      "source": [
        "model=MySimpleNN(X_train_tensor.shape[1])\n",
        "\n",
        "for epoch in range(epochs):\n",
        "  y_pred=model.forward(X_train_tensor)\n",
        "  loss=nn.BCELoss()(y_pred,y_train_tensor.unsqueeze(1).float())\n",
        "  optimizer=torch.optim.SGD(model.parameters(),lr=learning_rate)\n",
        "  optimizer.zero_grad()\n",
        "  loss.backward()\n",
        "  optimizer.step()\n",
        "  print(f'Epoch: {epoch+1}, Loss: {loss.item()}')\n"
      ],
      "metadata": {
        "colab": {
          "base_uri": "https://localhost:8080/"
        },
        "id": "2abuHlQ4TmFi",
        "outputId": "bd6a4dbb-f2d8-4a1e-9a7e-43543ae245ad"
      },
      "execution_count": null,
      "outputs": [
        {
          "output_type": "stream",
          "name": "stdout",
          "text": [
            "Epoch: 1, Loss: 0.7007759809494019\n",
            "Epoch: 2, Loss: 0.5440670251846313\n",
            "Epoch: 3, Loss: 0.4581906199455261\n",
            "Epoch: 4, Loss: 0.404609739780426\n",
            "Epoch: 5, Loss: 0.36724069714546204\n",
            "Epoch: 6, Loss: 0.3392362892627716\n",
            "Epoch: 7, Loss: 0.3172053396701813\n",
            "Epoch: 8, Loss: 0.29925885796546936\n",
            "Epoch: 9, Loss: 0.28425201773643494\n",
            "Epoch: 10, Loss: 0.2714459300041199\n",
            "Epoch: 11, Loss: 0.2603399157524109\n",
            "Epoch: 12, Loss: 0.25058141350746155\n",
            "Epoch: 13, Loss: 0.24191386997699738\n",
            "Epoch: 14, Loss: 0.23414567112922668\n",
            "Epoch: 15, Loss: 0.2271302491426468\n",
            "Epoch: 16, Loss: 0.22075343132019043\n",
            "Epoch: 17, Loss: 0.21492457389831543\n",
            "Epoch: 18, Loss: 0.2095707207918167\n",
            "Epoch: 19, Loss: 0.20463232696056366\n",
            "Epoch: 20, Loss: 0.20006023347377777\n",
            "Epoch: 21, Loss: 0.19581323862075806\n",
            "Epoch: 22, Loss: 0.19185666739940643\n",
            "Epoch: 23, Loss: 0.1881609410047531\n",
            "Epoch: 24, Loss: 0.1847006231546402\n",
            "Epoch: 25, Loss: 0.18145360052585602\n"
          ]
        }
      ]
    },
    {
      "cell_type": "code",
      "source": [
        "with torch.no_grad():\n",
        "  y_pred=model.forward(X_test_tensor)\n",
        "  y_pred_class=torch.where(y_pred>0.5,1,0)\n",
        "  accuracy=(y_pred_class==y_test_tensor).sum().item()/len(y_test_tensor)\n",
        "  print(f'Accuracy: {accuracy}')"
      ],
      "metadata": {
        "colab": {
          "base_uri": "https://localhost:8080/"
        },
        "id": "1GNMdPLPTmIQ",
        "outputId": "bdbf577b-b6a0-4368-b97a-01111af88aa5"
      },
      "execution_count": null,
      "outputs": [
        {
          "output_type": "stream",
          "name": "stdout",
          "text": [
            "Accuracy: 60.43859649122807\n"
          ]
        }
      ]
    },
    {
      "cell_type": "code",
      "source": [],
      "metadata": {
        "id": "FKyJOx8BUTkn"
      },
      "execution_count": null,
      "outputs": []
    }
  ]
}