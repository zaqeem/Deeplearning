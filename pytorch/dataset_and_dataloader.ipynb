{
  "nbformat": 4,
  "nbformat_minor": 0,
  "metadata": {
    "colab": {
      "provenance": []
    },
    "kernelspec": {
      "name": "python3",
      "display_name": "Python 3"
    },
    "language_info": {
      "name": "python"
    }
  },
  "cells": [
    {
      "cell_type": "code",
      "execution_count": null,
      "metadata": {
        "id": "aakAJEBU4Ni1"
      },
      "outputs": [],
      "source": [
        "import torch\n",
        "import torch.nn as nn\n",
        "import torch.optim as optim\n",
        "from torch.utils.data import Dataset, DataLoader\n",
        "import pandas as pd\n",
        "from sklearn.model_selection import train_test_split\n",
        "from sklearn.preprocessing import StandardScaler, LabelEncoder"
      ]
    },
    {
      "cell_type": "code",
      "source": [
        "# Load dataset\n",
        "df = pd.read_csv('https://raw.githubusercontent.com/gscdit/Breast-Cancer-Detection/refs/heads/master/data.csv')\n",
        "df.drop(columns=['id', 'Unnamed: 32'], inplace=True)\n"
      ],
      "metadata": {
        "id": "WL_WfoUG4Qew"
      },
      "execution_count": null,
      "outputs": []
    },
    {
      "cell_type": "code",
      "source": [
        "X = df.iloc[:, 1:].values\n",
        "y = df.iloc[:, 0].values"
      ],
      "metadata": {
        "id": "n_-i5Pzd4kVC"
      },
      "execution_count": null,
      "outputs": []
    },
    {
      "cell_type": "code",
      "source": [
        "\n",
        "encoder = LabelEncoder()\n",
        "y = encoder.fit_transform(y)\n"
      ],
      "metadata": {
        "id": "OEYieUey61lF"
      },
      "execution_count": null,
      "outputs": []
    },
    {
      "cell_type": "code",
      "source": [
        "# Splitting into training and testing sets\n",
        "X_train, X_test, y_train, y_test = train_test_split(X, y, test_size=0.2, random_state=42)\n"
      ],
      "metadata": {
        "id": "1o0oY-RU66fU"
      },
      "execution_count": null,
      "outputs": []
    },
    {
      "cell_type": "code",
      "source": [
        "# Standardizing features\n",
        "scaler = StandardScaler()\n",
        "X_train = scaler.fit_transform(X_train)\n",
        "X_test = scaler.transform(X_test)\n"
      ],
      "metadata": {
        "id": "cQirMycdUlxt"
      },
      "execution_count": null,
      "outputs": []
    },
    {
      "cell_type": "code",
      "source": [
        "# Creating a custom Dataset class\n",
        "class CancerDataset(Dataset):\n",
        "    def __init__(self, X, y):\n",
        "        self.X = torch.tensor(X, dtype=torch.float32)\n",
        "        self.y = torch.tensor(y, dtype=torch.float32).unsqueeze(1)  # Make y a column tensor\n",
        "\n",
        "    def __len__(self):\n",
        "        return len(self.y)\n",
        "\n",
        "    def __getitem__(self, idx):\n",
        "        return self.X[idx], self.y[idx]\n"
      ],
      "metadata": {
        "id": "8sM_zbGCUpSL"
      },
      "execution_count": null,
      "outputs": []
    },
    {
      "cell_type": "code",
      "source": [
        "# Creating Dataset objects\n",
        "train_dataset = CancerDataset(X_train, y_train)\n",
        "test_dataset = CancerDataset(X_test, y_test)"
      ],
      "metadata": {
        "id": "_eA_VWFkUsKl"
      },
      "execution_count": null,
      "outputs": []
    },
    {
      "cell_type": "code",
      "source": [
        "# Creating DataLoaders\n",
        "train_loader = DataLoader(train_dataset, batch_size=32, shuffle=True)\n",
        "test_loader = DataLoader(test_dataset, batch_size=32, shuffle=False)\n"
      ],
      "metadata": {
        "id": "_ncWlDZyUvQW"
      },
      "execution_count": null,
      "outputs": []
    },
    {
      "cell_type": "code",
      "source": [
        "# Defining the neural network class\n",
        "class MySimpleNN(nn.Module):\n",
        "    def __init__(self, num_features):\n",
        "        super(MySimpleNN, self).__init__()\n",
        "        self.linear = nn.Linear(num_features, 1)\n",
        "        self.sigmoid = nn.Sigmoid()\n",
        "\n",
        "    def forward(self, x):\n",
        "        return self.sigmoid(self.linear(x))\n"
      ],
      "metadata": {
        "id": "orvsBIpDU0PD"
      },
      "execution_count": null,
      "outputs": []
    },
    {
      "cell_type": "code",
      "source": [
        "# Model, loss function, and optimizer\n",
        "model = MySimpleNN(X_train.shape[1])\n",
        "criterion = nn.BCELoss()\n",
        "optimizer = optim.SGD(model.parameters(), lr=0.1)\n"
      ],
      "metadata": {
        "id": "uknhd0LcU2xq"
      },
      "execution_count": null,
      "outputs": []
    },
    {
      "cell_type": "code",
      "source": [
        "# Training loop\n",
        "epochs = 25\n",
        "for epoch in range(epochs):\n",
        "    for batch_X, batch_y in train_loader:\n",
        "        optimizer.zero_grad()\n",
        "        y_pred = model(batch_X)\n",
        "        loss = criterion(y_pred, batch_y)\n",
        "        loss.backward()\n",
        "        optimizer.step()\n",
        "    print(f'Epoch {epoch+1}, Loss: {loss.item()}')\n"
      ],
      "metadata": {
        "colab": {
          "base_uri": "https://localhost:8080/"
        },
        "id": "LXJHjhEhU5k-",
        "outputId": "e267a514-02fa-4fcb-9f3e-215617779796"
      },
      "execution_count": null,
      "outputs": [
        {
          "output_type": "stream",
          "name": "stdout",
          "text": [
            "Epoch 1, Loss: 0.43012887239456177\n",
            "Epoch 2, Loss: 0.4478466808795929\n",
            "Epoch 3, Loss: 0.15834148228168488\n",
            "Epoch 4, Loss: 0.08683162927627563\n",
            "Epoch 5, Loss: 0.18913865089416504\n",
            "Epoch 6, Loss: 0.14486488699913025\n",
            "Epoch 7, Loss: 0.045602671802043915\n",
            "Epoch 8, Loss: 0.09331979602575302\n",
            "Epoch 9, Loss: 0.053154390305280685\n",
            "Epoch 10, Loss: 0.18181012570858002\n",
            "Epoch 11, Loss: 0.04452797770500183\n",
            "Epoch 12, Loss: 0.015227101743221283\n",
            "Epoch 13, Loss: 0.14046086370944977\n",
            "Epoch 14, Loss: 0.1569983810186386\n",
            "Epoch 15, Loss: 0.008774095214903355\n",
            "Epoch 16, Loss: 0.12053973972797394\n",
            "Epoch 17, Loss: 0.09193510562181473\n",
            "Epoch 18, Loss: 0.06573557108640671\n",
            "Epoch 19, Loss: 0.11727438867092133\n",
            "Epoch 20, Loss: 0.0754910483956337\n",
            "Epoch 21, Loss: 0.10087122768163681\n",
            "Epoch 22, Loss: 0.092796191573143\n",
            "Epoch 23, Loss: 0.11075679212808609\n",
            "Epoch 24, Loss: 0.012923650443553925\n",
            "Epoch 25, Loss: 0.011564143002033234\n"
          ]
        }
      ]
    },
    {
      "cell_type": "code",
      "source": [
        "# Evaluation\n",
        "with torch.no_grad():\n",
        "    correct = 0\n",
        "    total = 0\n",
        "    for batch_X, batch_y in test_loader:\n",
        "        y_pred = model(batch_X)\n",
        "        y_pred_class = (y_pred > 0.5).float()\n",
        "        correct += (y_pred_class == batch_y).sum().item()\n",
        "        total += batch_y.size(0)\n",
        "    accuracy = correct / total\n",
        "    print(f'Accuracy: {accuracy}')\n"
      ],
      "metadata": {
        "colab": {
          "base_uri": "https://localhost:8080/"
        },
        "id": "eKuWaeZRU77c",
        "outputId": "336f7782-0b48-4d1d-d9e1-f9648c6b30ef"
      },
      "execution_count": null,
      "outputs": [
        {
          "output_type": "stream",
          "name": "stdout",
          "text": [
            "Accuracy: 0.9824561403508771\n"
          ]
        }
      ]
    },
    {
      "cell_type": "code",
      "source": [],
      "metadata": {
        "id": "wArgHQ8aU_PQ"
      },
      "execution_count": null,
      "outputs": []
    }
  ]
}