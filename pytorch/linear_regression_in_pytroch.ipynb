{
  "nbformat": 4,
  "nbformat_minor": 0,
  "metadata": {
    "colab": {
      "provenance": []
    },
    "kernelspec": {
      "name": "python3",
      "display_name": "Python 3"
    },
    "language_info": {
      "name": "python"
    }
  },
  "cells": [
    {
      "cell_type": "code",
      "execution_count": null,
      "metadata": {
        "id": "llOn4Y3VASOI"
      },
      "outputs": [],
      "source": [
        "import numpy as np\n",
        "import torch"
      ]
    },
    {
      "cell_type": "code",
      "source": [
        "# (temp,rainfall,humidity)\n",
        "inputs=np.array([[73,67,43],\n",
        "                 [91,88,64],\n",
        "                 [87,134,58],\n",
        "                 [102,43,37],\n",
        "                 [69,96,70]],dtype='float32')"
      ],
      "metadata": {
        "id": "8HzZv8xMBOIr"
      },
      "execution_count": null,
      "outputs": []
    },
    {
      "cell_type": "code",
      "source": [
        "# target (apples,oranges)\n",
        "targets=np.array([[56,70],\n",
        "                  [81,101],\n",
        "                  [119,133],\n",
        "                  [22,37],\n",
        "                  [103,119]],dtype='float32')"
      ],
      "metadata": {
        "id": "dYu8maCjCBVg"
      },
      "execution_count": null,
      "outputs": []
    },
    {
      "cell_type": "code",
      "source": [
        "# convert inputs and targets to tensor\n",
        "inputs=torch.from_numpy(inputs)\n",
        "targets=torch.from_numpy(targets)\n",
        "print(inputs)\n",
        "print(targets)"
      ],
      "metadata": {
        "colab": {
          "base_uri": "https://localhost:8080/"
        },
        "id": "UIlIpbHdCkUz",
        "outputId": "87d747c1-d3b0-4428-e47d-bcf6e9e2ea79"
      },
      "execution_count": null,
      "outputs": [
        {
          "output_type": "stream",
          "name": "stdout",
          "text": [
            "tensor([[ 73.,  67.,  43.],\n",
            "        [ 91.,  88.,  64.],\n",
            "        [ 87., 134.,  58.],\n",
            "        [102.,  43.,  37.],\n",
            "        [ 69.,  96.,  70.]])\n",
            "tensor([[ 56.,  70.],\n",
            "        [ 81., 101.],\n",
            "        [119., 133.],\n",
            "        [ 22.,  37.],\n",
            "        [103., 119.]])\n"
          ]
        }
      ]
    },
    {
      "cell_type": "code",
      "source": [
        "# weights and biases\n",
        "w=torch.randn(2,3,requires_grad=True)\n",
        "b=torch.randn(2,requires_grad=True)\n",
        "print(w)\n",
        "print(b)"
      ],
      "metadata": {
        "colab": {
          "base_uri": "https://localhost:8080/"
        },
        "id": "xixE25eSC51q",
        "outputId": "4811f87e-1030-4fa7-ca5e-1a80a1587c08"
      },
      "execution_count": null,
      "outputs": [
        {
          "output_type": "stream",
          "name": "stdout",
          "text": [
            "tensor([[-0.0459,  1.6990, -0.1741],\n",
            "        [ 0.1189,  1.1848,  2.2498]], requires_grad=True)\n",
            "tensor([-0.2375,  1.4656], requires_grad=True)\n"
          ]
        }
      ]
    },
    {
      "cell_type": "code",
      "source": [
        "# model\n",
        "def model(x):\n",
        "  return x @ w.t() + b"
      ],
      "metadata": {
        "id": "v7l3mE9FDMt0"
      },
      "execution_count": null,
      "outputs": []
    },
    {
      "cell_type": "code",
      "source": [
        "preds=model(inputs)\n",
        "print(preds)"
      ],
      "metadata": {
        "colab": {
          "base_uri": "https://localhost:8080/"
        },
        "id": "FEKH5D8jD0EL",
        "outputId": "3248f899-ae85-40ae-a9f9-bd2066a45a18"
      },
      "execution_count": null,
      "outputs": [
        {
          "output_type": "stream",
          "name": "stdout",
          "text": [
            "tensor([[102.7557, 186.2642],\n",
            "        [133.9516, 260.5296],\n",
            "        [213.3342, 301.0555],\n",
            "        [ 61.6919, 147.7780],\n",
            "        [147.5098, 280.8914]], grad_fn=<AddBackward0>)\n"
          ]
        }
      ]
    },
    {
      "cell_type": "code",
      "source": [
        "# Compare with targets\n",
        "print(targets)"
      ],
      "metadata": {
        "colab": {
          "base_uri": "https://localhost:8080/"
        },
        "id": "I5F4miyrEGRV",
        "outputId": "7ba38b3d-13f1-4fb7-9adb-55625200b7f6"
      },
      "execution_count": null,
      "outputs": [
        {
          "output_type": "stream",
          "name": "stdout",
          "text": [
            "tensor([[ 56.,  70.],\n",
            "        [ 81., 101.],\n",
            "        [119., 133.],\n",
            "        [ 22.,  37.],\n",
            "        [103., 119.]])\n"
          ]
        }
      ]
    },
    {
      "cell_type": "code",
      "source": [
        "# mse function\n",
        "def mse(t1,t2):\n",
        "  diff=t1-t2\n",
        "  return torch.sum(diff*diff)/diff.numel()"
      ],
      "metadata": {
        "id": "Ckd3kagpERLi"
      },
      "execution_count": null,
      "outputs": []
    },
    {
      "cell_type": "code",
      "source": [
        "mean_square_error=mse(preds,targets)\n",
        "print(mean_square_error)"
      ],
      "metadata": {
        "colab": {
          "base_uri": "https://localhost:8080/"
        },
        "id": "wb_CtMp4E3wk",
        "outputId": "a94ca2cd-519a-44d5-f56c-7e2be7cc731a"
      },
      "execution_count": null,
      "outputs": [
        {
          "output_type": "stream",
          "name": "stdout",
          "text": [
            "tensor(12313.5771, grad_fn=<DivBackward0>)\n"
          ]
        }
      ]
    },
    {
      "cell_type": "code",
      "source": [
        "# compute gradients\n",
        "mean_square_error.backward()"
      ],
      "metadata": {
        "id": "q085uKgPFMIb"
      },
      "execution_count": null,
      "outputs": []
    },
    {
      "cell_type": "code",
      "source": [
        "# gradient for weights and biases\n",
        "print(w)\n",
        "print(w.grad)\n",
        "print(b)\n",
        "print(b.grad)"
      ],
      "metadata": {
        "colab": {
          "base_uri": "https://localhost:8080/"
        },
        "id": "gNP5bn8zFpJa",
        "outputId": "377e93f1-9d38-4084-e50e-6c1546bdae59"
      },
      "execution_count": null,
      "outputs": [
        {
          "output_type": "stream",
          "name": "stdout",
          "text": [
            "tensor([[-0.0459,  1.6990, -0.1741],\n",
            "        [ 0.1189,  1.1848,  2.2498]], requires_grad=True)\n",
            "tensor([[ 4711.7168,  5282.5693,  3091.0134],\n",
            "        [12019.0352, 12930.5547,  8077.5317]])\n",
            "tensor([-0.2375,  1.4656], requires_grad=True)\n",
            "tensor([ 55.6486, 143.3038])\n"
          ]
        }
      ]
    },
    {
      "cell_type": "code",
      "source": [
        "w.grad.zero_()\n",
        "b.grad.zero_()\n",
        "print(w.grad)\n",
        "print(b.grad)"
      ],
      "metadata": {
        "colab": {
          "base_uri": "https://localhost:8080/"
        },
        "id": "4V_HYrFFFu7E",
        "outputId": "85fc224a-5ea6-40f9-aef7-b079d55f2970"
      },
      "execution_count": null,
      "outputs": [
        {
          "output_type": "stream",
          "name": "stdout",
          "text": [
            "tensor([[0., 0., 0.],\n",
            "        [0., 0., 0.]])\n",
            "tensor([0., 0.])\n"
          ]
        }
      ]
    },
    {
      "cell_type": "code",
      "source": [
        "preds=model(inputs)\n",
        "print(preds)"
      ],
      "metadata": {
        "colab": {
          "base_uri": "https://localhost:8080/"
        },
        "id": "OQMLG37XGxkG",
        "outputId": "7c3cfc03-4a67-4620-aa11-5d8cd1405eea"
      },
      "execution_count": null,
      "outputs": [
        {
          "output_type": "stream",
          "name": "stdout",
          "text": [
            "tensor([[102.7557, 186.2642],\n",
            "        [133.9516, 260.5296],\n",
            "        [213.3342, 301.0555],\n",
            "        [ 61.6919, 147.7780],\n",
            "        [147.5098, 280.8914]], grad_fn=<AddBackward0>)\n"
          ]
        }
      ]
    },
    {
      "cell_type": "code",
      "source": [
        "# compute loss\n",
        "loss=mse(preds,targets)\n",
        "print(loss)"
      ],
      "metadata": {
        "colab": {
          "base_uri": "https://localhost:8080/"
        },
        "id": "Oe2CEAkDGxoD",
        "outputId": "1ea8238e-805b-4500-ab65-2f7c7f7e1298"
      },
      "execution_count": null,
      "outputs": [
        {
          "output_type": "stream",
          "name": "stdout",
          "text": [
            "tensor(12313.5771, grad_fn=<DivBackward0>)\n"
          ]
        }
      ]
    },
    {
      "cell_type": "code",
      "source": [
        "# compute gradient\n",
        "loss.backward()\n",
        "print(w.grad)\n",
        "print(b.grad)"
      ],
      "metadata": {
        "colab": {
          "base_uri": "https://localhost:8080/"
        },
        "id": "VJ6MYj1_GtKi",
        "outputId": "e9d02e7a-d714-47d3-97c4-1d9125d1e111"
      },
      "execution_count": null,
      "outputs": [
        {
          "output_type": "stream",
          "name": "stdout",
          "text": [
            "tensor([[ 4711.7168,  5282.5693,  3091.0134],\n",
            "        [12019.0352, 12930.5547,  8077.5317]])\n",
            "tensor([ 55.6486, 143.3038])\n"
          ]
        }
      ]
    },
    {
      "cell_type": "code",
      "source": [
        "# adjust weights and reset gradients\n",
        "with torch.no_grad():\n",
        "  w-=w.grad*1e-5\n",
        "  b-=b.grad*1e-5\n",
        "  w.grad.zero_()\n",
        "  b.grad.zero_()"
      ],
      "metadata": {
        "id": "j73qa4iGHfvK"
      },
      "execution_count": null,
      "outputs": []
    },
    {
      "cell_type": "code",
      "source": [
        "print(w)\n",
        "print(b)"
      ],
      "metadata": {
        "colab": {
          "base_uri": "https://localhost:8080/"
        },
        "id": "7st7jOKUIMkq",
        "outputId": "408f4143-d302-4442-d212-b581ce3debbf"
      },
      "execution_count": null,
      "outputs": [
        {
          "output_type": "stream",
          "name": "stdout",
          "text": [
            "tensor([[-9.3058e-02,  1.6462e+00, -2.0501e-01],\n",
            "        [-1.3177e-03,  1.0555e+00,  2.1690e+00]], requires_grad=True)\n",
            "tensor([-0.2381,  1.4642], requires_grad=True)\n"
          ]
        }
      ]
    },
    {
      "cell_type": "code",
      "source": [
        "# calculate loss\n",
        "preds=model(inputs)\n",
        "loss=mse(preds,targets)\n",
        "print(loss)"
      ],
      "metadata": {
        "colab": {
          "base_uri": "https://localhost:8080/"
        },
        "id": "g2N5xljKIfdr",
        "outputId": "c215c912-7c08-4060-ead3-fe8c9f17ec35"
      },
      "execution_count": null,
      "outputs": [
        {
          "output_type": "stream",
          "name": "stdout",
          "text": [
            "tensor(8338.6270, grad_fn=<DivBackward0>)\n"
          ]
        }
      ]
    },
    {
      "cell_type": "code",
      "source": [
        "# Train for 100 epochs\n",
        "for i in range(100):\n",
        "  preds=model(inputs)\n",
        "  loss=mse(preds,targets)\n",
        "  loss.backward()\n",
        "  with torch.no_grad():\n",
        "    w-=w.grad*1e-5\n",
        "    b-=b.grad*1e-5\n",
        "    w.grad.zero_()\n",
        "    b.grad.zero_()"
      ],
      "metadata": {
        "id": "jHSZczq9IvqJ"
      },
      "execution_count": null,
      "outputs": []
    },
    {
      "cell_type": "code",
      "source": [
        "# compute loss\n",
        "preds=model(inputs)\n",
        "loss=mse(preds,targets)\n",
        "print(loss)"
      ],
      "metadata": {
        "colab": {
          "base_uri": "https://localhost:8080/"
        },
        "id": "Wq_NjdbhJKPi",
        "outputId": "5b6703a5-a589-456b-de5b-cc279a1d2e40"
      },
      "execution_count": null,
      "outputs": [
        {
          "output_type": "stream",
          "name": "stdout",
          "text": [
            "tensor(95.4740, grad_fn=<DivBackward0>)\n"
          ]
        }
      ]
    },
    {
      "cell_type": "code",
      "source": [
        "# predicition\n",
        "preds"
      ],
      "metadata": {
        "colab": {
          "base_uri": "https://localhost:8080/"
        },
        "id": "rdo9W4cRJOn0",
        "outputId": "0336a094-b37c-447d-d5e4-ab4689bc76be"
      },
      "execution_count": null,
      "outputs": [
        {
          "output_type": "execute_result",
          "data": {
            "text/plain": [
              "tensor([[ 57.0573,  69.6816],\n",
              "        [ 74.2781, 106.5660],\n",
              "        [136.8983, 120.5627],\n",
              "        [ 19.8969,  32.5887],\n",
              "        [ 88.7708, 132.2652]], grad_fn=<AddBackward0>)"
            ]
          },
          "metadata": {},
          "execution_count": 27
        }
      ]
    },
    {
      "cell_type": "code",
      "source": [
        "# target\n",
        "targets"
      ],
      "metadata": {
        "colab": {
          "base_uri": "https://localhost:8080/"
        },
        "id": "X9RdHS-LJXJy",
        "outputId": "cfd11361-77c8-4c65-b74f-1b4ae635f297"
      },
      "execution_count": null,
      "outputs": [
        {
          "output_type": "execute_result",
          "data": {
            "text/plain": [
              "tensor([[ 56.,  70.],\n",
              "        [ 81., 101.],\n",
              "        [119., 133.],\n",
              "        [ 22.,  37.],\n",
              "        [103., 119.]])"
            ]
          },
          "metadata": {},
          "execution_count": 28
        }
      ]
    },
    {
      "cell_type": "markdown",
      "source": [
        "# **Linear regression using pytorch built-ins**"
      ],
      "metadata": {
        "id": "E4Jfa08xJ1oc"
      }
    },
    {
      "cell_type": "code",
      "source": [
        "import torch.nn as nn"
      ],
      "metadata": {
        "id": "pPQFibOhKNSS"
      },
      "execution_count": null,
      "outputs": []
    },
    {
      "cell_type": "code",
      "source": [
        "# inputs (temps,rainfall,hum)\n",
        "inputs=np.array([[73,67,43],\n",
        "                 [91,88,64],\n",
        "                 [87,134,58],\n",
        "                 [102,43,37],\n",
        "                 [69,96,70],\n",
        "                 [74,66,43],\n",
        "                 [91,87,65],\n",
        "                 [88,134,59],\n",
        "                 [101,44,37],\n",
        "                 [68,96,71],\n",
        "                 [73,66,44],\n",
        "                 [92,87,64],\n",
        "                 [87,135,57],\n",
        "                 [103,43,36],\n",
        "                 [68,97,70]],dtype='float32')\n",
        "# targets(apples,oranges)\n",
        "targets=np.array([[56,70],\n",
        "                  [81,101],\n",
        "                  [119,133],\n",
        "                  [22,37],\n",
        "                  [103,119],\n",
        "                  [57,69],\n",
        "                  [80,102],\n",
        "                  [118,132],\n",
        "                  [21,38],\n",
        "                  [104,118],\n",
        "                  [57,69],\n",
        "                  [82,100],\n",
        "                  [118,134],\n",
        "                  [20,38],\n",
        "                  [102,120]],dtype='float32')"
      ],
      "metadata": {
        "id": "sJgfKzAXKQ2i"
      },
      "execution_count": null,
      "outputs": []
    },
    {
      "cell_type": "code",
      "source": [
        "inputs=torch.from_numpy(inputs)\n",
        "targets=torch.from_numpy(targets)"
      ],
      "metadata": {
        "id": "a5yu8-y2LZg-"
      },
      "execution_count": null,
      "outputs": []
    },
    {
      "cell_type": "code",
      "source": [
        "inputs"
      ],
      "metadata": {
        "colab": {
          "base_uri": "https://localhost:8080/"
        },
        "id": "6q-m0NtJNK6K",
        "outputId": "b9c7b7c8-22b2-4360-f402-d5fdb7d6de50"
      },
      "execution_count": null,
      "outputs": [
        {
          "output_type": "execute_result",
          "data": {
            "text/plain": [
              "tensor([[ 73.,  67.,  43.],\n",
              "        [ 91.,  88.,  64.],\n",
              "        [ 87., 134.,  58.],\n",
              "        [102.,  43.,  37.],\n",
              "        [ 69.,  96.,  70.],\n",
              "        [ 74.,  66.,  43.],\n",
              "        [ 91.,  87.,  65.],\n",
              "        [ 88., 134.,  59.],\n",
              "        [101.,  44.,  37.],\n",
              "        [ 68.,  96.,  71.],\n",
              "        [ 73.,  66.,  44.],\n",
              "        [ 92.,  87.,  64.],\n",
              "        [ 87., 135.,  57.],\n",
              "        [103.,  43.,  36.],\n",
              "        [ 68.,  97.,  70.]])"
            ]
          },
          "metadata": {},
          "execution_count": 34
        }
      ]
    },
    {
      "cell_type": "code",
      "source": [
        "targets"
      ],
      "metadata": {
        "colab": {
          "base_uri": "https://localhost:8080/"
        },
        "id": "8bEOQuAxNMva",
        "outputId": "5a0e7275-13c7-4e25-cf9e-4e2836c0086d"
      },
      "execution_count": null,
      "outputs": [
        {
          "output_type": "execute_result",
          "data": {
            "text/plain": [
              "tensor([[ 56.,  70.],\n",
              "        [ 81., 101.],\n",
              "        [119., 133.],\n",
              "        [ 22.,  37.],\n",
              "        [103., 119.],\n",
              "        [ 57.,  69.],\n",
              "        [ 80., 102.],\n",
              "        [118., 132.],\n",
              "        [ 21.,  38.],\n",
              "        [104., 118.],\n",
              "        [ 57.,  69.],\n",
              "        [ 82., 100.],\n",
              "        [118., 134.],\n",
              "        [ 20.,  38.],\n",
              "        [102., 120.]])"
            ]
          },
          "metadata": {},
          "execution_count": 35
        }
      ]
    },
    {
      "cell_type": "code",
      "source": [
        "# dataset and dataloader\n",
        "from torch.utils.data import TensorDataset\n"
      ],
      "metadata": {
        "id": "Ay1uglkoNO3q"
      },
      "execution_count": null,
      "outputs": []
    },
    {
      "cell_type": "code",
      "source": [
        "train_ds=TensorDataset(inputs,targets)\n",
        "train_ds[0:3]"
      ],
      "metadata": {
        "colab": {
          "base_uri": "https://localhost:8080/"
        },
        "id": "mti13Q6INmai",
        "outputId": "16c5b978-8f58-40aa-d990-99354ce2fb2e"
      },
      "execution_count": null,
      "outputs": [
        {
          "output_type": "execute_result",
          "data": {
            "text/plain": [
              "(tensor([[ 73.,  67.,  43.],\n",
              "         [ 91.,  88.,  64.],\n",
              "         [ 87., 134.,  58.]]),\n",
              " tensor([[ 56.,  70.],\n",
              "         [ 81., 101.],\n",
              "         [119., 133.]]))"
            ]
          },
          "metadata": {},
          "execution_count": 37
        }
      ]
    },
    {
      "cell_type": "code",
      "source": [
        "from torch.utils.data import DataLoader"
      ],
      "metadata": {
        "id": "pVLmSanqNwO6"
      },
      "execution_count": null,
      "outputs": []
    },
    {
      "cell_type": "code",
      "source": [
        "batch_size=5\n",
        "train_dl=DataLoader(train_ds,batch_size,shuffle=True)\n"
      ],
      "metadata": {
        "id": "7o-QK1m1OEUD"
      },
      "execution_count": null,
      "outputs": []
    },
    {
      "cell_type": "code",
      "source": [
        "for xb,yb,in train_dl:\n",
        "  print(xb)\n",
        "  print(yb)\n",
        "  break"
      ],
      "metadata": {
        "colab": {
          "base_uri": "https://localhost:8080/"
        },
        "id": "anjg8gJnOMYT",
        "outputId": "04f09643-b29f-4a4e-cba0-8540870bdc85"
      },
      "execution_count": null,
      "outputs": [
        {
          "output_type": "stream",
          "name": "stdout",
          "text": [
            "tensor([[103.,  43.,  36.],\n",
            "        [ 73.,  66.,  44.],\n",
            "        [ 74.,  66.,  43.],\n",
            "        [ 69.,  96.,  70.],\n",
            "        [101.,  44.,  37.]])\n",
            "tensor([[ 20.,  38.],\n",
            "        [ 57.,  69.],\n",
            "        [ 57.,  69.],\n",
            "        [103., 119.],\n",
            "        [ 21.,  38.]])\n"
          ]
        }
      ]
    },
    {
      "cell_type": "code",
      "source": [
        "# model\n",
        "model=nn.Linear(3,2)\n",
        "print(model.weight)\n",
        "print(model.bias)"
      ],
      "metadata": {
        "colab": {
          "base_uri": "https://localhost:8080/"
        },
        "id": "yeDhQGRDOSny",
        "outputId": "c11ed381-baba-4a13-8092-62595c8d6c77"
      },
      "execution_count": null,
      "outputs": [
        {
          "output_type": "stream",
          "name": "stdout",
          "text": [
            "Parameter containing:\n",
            "tensor([[-0.1953,  0.4658, -0.3480],\n",
            "        [ 0.3019,  0.1968,  0.2795]], requires_grad=True)\n",
            "Parameter containing:\n",
            "tensor([-0.5100,  0.0447], requires_grad=True)\n"
          ]
        }
      ]
    },
    {
      "cell_type": "code",
      "source": [
        "list(model.parameters())"
      ],
      "metadata": {
        "colab": {
          "base_uri": "https://localhost:8080/"
        },
        "id": "rhQ1mbZBO25_",
        "outputId": "37edcc24-7dce-41ba-97de-aba93995d77d"
      },
      "execution_count": null,
      "outputs": [
        {
          "output_type": "execute_result",
          "data": {
            "text/plain": [
              "[Parameter containing:\n",
              " tensor([[-0.1953,  0.4658, -0.3480],\n",
              "         [ 0.3019,  0.1968,  0.2795]], requires_grad=True),\n",
              " Parameter containing:\n",
              " tensor([-0.5100,  0.0447], requires_grad=True)]"
            ]
          },
          "metadata": {},
          "execution_count": 42
        }
      ]
    },
    {
      "cell_type": "code",
      "source": [
        "preds=model(inputs)\n",
        "preds"
      ],
      "metadata": {
        "colab": {
          "base_uri": "https://localhost:8080/"
        },
        "id": "SVSw9K0eO8Nj",
        "outputId": "5c1d232e-a47a-4d9a-fac5-a50dce8756d5"
      },
      "execution_count": null,
      "outputs": [
        {
          "output_type": "execute_result",
          "data": {
            "text/plain": [
              "tensor([[  1.4795,  47.2854],\n",
              "        [  0.4389,  62.7218],\n",
              "        [ 24.7372,  68.8897],\n",
              "        [-13.2780,  49.6389],\n",
              "        [  6.3754,  59.3325],\n",
              "        [  0.8183,  47.3905],\n",
              "        [ -0.3749,  62.8045],\n",
              "        [ 24.1939,  69.4711],\n",
              "        [-12.6168,  49.5339],\n",
              "        [  6.2228,  59.3102],\n",
              "        [  0.6657,  47.3682],\n",
              "        [ -0.2223,  62.8268],\n",
              "        [ 25.5510,  68.8069],\n",
              "        [-13.1253,  49.6612],\n",
              "        [  7.0366,  59.2275]], grad_fn=<AddmmBackward0>)"
            ]
          },
          "metadata": {},
          "execution_count": 43
        }
      ]
    },
    {
      "cell_type": "code",
      "source": [
        "targets"
      ],
      "metadata": {
        "colab": {
          "base_uri": "https://localhost:8080/"
        },
        "id": "ndnV__PBPQJK",
        "outputId": "3dda2f96-48b7-4e07-8264-70db4d6ec202"
      },
      "execution_count": null,
      "outputs": [
        {
          "output_type": "execute_result",
          "data": {
            "text/plain": [
              "tensor([[ 56.,  70.],\n",
              "        [ 81., 101.],\n",
              "        [119., 133.],\n",
              "        [ 22.,  37.],\n",
              "        [103., 119.],\n",
              "        [ 57.,  69.],\n",
              "        [ 80., 102.],\n",
              "        [118., 132.],\n",
              "        [ 21.,  38.],\n",
              "        [104., 118.],\n",
              "        [ 57.,  69.],\n",
              "        [ 82., 100.],\n",
              "        [118., 134.],\n",
              "        [ 20.,  38.],\n",
              "        [102., 120.]])"
            ]
          },
          "metadata": {},
          "execution_count": 44
        }
      ]
    },
    {
      "cell_type": "code",
      "source": [
        "# compute mse\n",
        "import torch.nn.functional as F"
      ],
      "metadata": {
        "id": "uUursrpfPatr"
      },
      "execution_count": null,
      "outputs": []
    },
    {
      "cell_type": "code",
      "source": [
        "loss_fn=F.mse_loss"
      ],
      "metadata": {
        "id": "EtSbo3Z7Pp6a"
      },
      "execution_count": null,
      "outputs": []
    },
    {
      "cell_type": "code",
      "source": [
        "loss=loss_fn(model(inputs),targets)\n",
        "print(loss)"
      ],
      "metadata": {
        "colab": {
          "base_uri": "https://localhost:8080/"
        },
        "id": "mcFOvuIePu5T",
        "outputId": "9a246115-8c3c-4a0a-9f3e-e5c082813f3f"
      },
      "execution_count": null,
      "outputs": [
        {
          "output_type": "stream",
          "name": "stdout",
          "text": [
            "tensor(3862.0938, grad_fn=<MseLossBackward0>)\n"
          ]
        }
      ]
    },
    {
      "cell_type": "code",
      "source": [
        "# define optimizer\n",
        "opt=torch.optim.SGD(model.parameters(),lr=1e-5)"
      ],
      "metadata": {
        "id": "CbGaWvcsQDFn"
      },
      "execution_count": null,
      "outputs": []
    },
    {
      "cell_type": "code",
      "source": [
        "# utility function to train the model\n",
        "def fit(num_epochs,model,loss_fn,opt,train_dl):\n",
        "  for epoch in range(num_epochs):\n",
        "    for xb,yb in train_dl:\n",
        "      pred=model(xb)\n",
        "      loss=loss_fn(pred,yb)\n",
        "      loss.backward()\n",
        "      opt.step()\n",
        "      opt.zero_grad()\n",
        "  if (epoch+1)%10==0:\n",
        "    print('Epoch [{}/{}],Loss:{:.4f}'.format(epoch+1,num_epochs,loss.item()))"
      ],
      "metadata": {
        "id": "ZKHrizKUQNHr"
      },
      "execution_count": null,
      "outputs": []
    },
    {
      "cell_type": "code",
      "source": [
        "fit(100,model,loss_fn,opt,train_dl)"
      ],
      "metadata": {
        "colab": {
          "base_uri": "https://localhost:8080/"
        },
        "id": "I1-0ewt_RXOb",
        "outputId": "41d7f389-ce0f-457c-aea3-0ab4422fe143"
      },
      "execution_count": null,
      "outputs": [
        {
          "output_type": "stream",
          "name": "stdout",
          "text": [
            "Epoch [100/100],Loss:34.6640\n"
          ]
        }
      ]
    },
    {
      "cell_type": "code",
      "source": [
        "preds=model(inputs)\n",
        "preds"
      ],
      "metadata": {
        "colab": {
          "base_uri": "https://localhost:8080/"
        },
        "id": "JGlVmnA_RsZD",
        "outputId": "db1cbcd3-30ce-4dd6-cc16-24d3fd596250"
      },
      "execution_count": null,
      "outputs": [
        {
          "output_type": "execute_result",
          "data": {
            "text/plain": [
              "tensor([[ 57.8439,  71.6599],\n",
              "        [ 78.0601,  98.9510],\n",
              "        [125.3973, 134.3574],\n",
              "        [ 26.3531,  44.8291],\n",
              "        [ 91.6483, 111.6203],\n",
              "        [ 56.6056,  70.7083],\n",
              "        [ 77.1525,  98.6849],\n",
              "        [125.3036, 134.8066],\n",
              "        [ 27.5914,  45.7806],\n",
              "        [ 91.9790, 112.3057],\n",
              "        [ 56.9363,  71.3938],\n",
              "        [ 76.8218,  97.9995],\n",
              "        [126.3048, 134.6234],\n",
              "        [ 26.0224,  44.1436],\n",
              "        [ 92.8866, 112.5718]], grad_fn=<AddmmBackward0>)"
            ]
          },
          "metadata": {},
          "execution_count": 52
        }
      ]
    },
    {
      "cell_type": "code",
      "source": [
        "targets"
      ],
      "metadata": {
        "colab": {
          "base_uri": "https://localhost:8080/"
        },
        "id": "E4DgzgXcSMuT",
        "outputId": "b320da17-2a2e-4ae1-ccd5-de1695320058"
      },
      "execution_count": null,
      "outputs": [
        {
          "output_type": "execute_result",
          "data": {
            "text/plain": [
              "tensor([[ 56.,  70.],\n",
              "        [ 81., 101.],\n",
              "        [119., 133.],\n",
              "        [ 22.,  37.],\n",
              "        [103., 119.],\n",
              "        [ 57.,  69.],\n",
              "        [ 80., 102.],\n",
              "        [118., 132.],\n",
              "        [ 21.,  38.],\n",
              "        [104., 118.],\n",
              "        [ 57.,  69.],\n",
              "        [ 82., 100.],\n",
              "        [118., 134.],\n",
              "        [ 20.,  38.],\n",
              "        [102., 120.]])"
            ]
          },
          "metadata": {},
          "execution_count": 53
        }
      ]
    },
    {
      "cell_type": "code",
      "source": [
        "model(torch.tensor([[75,63,44.]]))"
      ],
      "metadata": {
        "colab": {
          "base_uri": "https://localhost:8080/"
        },
        "id": "NybBd8-RSSWT",
        "outputId": "f3357505-d04c-40fb-8ddf-1023cfcc93ce"
      },
      "execution_count": null,
      "outputs": [
        {
          "output_type": "execute_result",
          "data": {
            "text/plain": [
              "tensor([[53.4337, 68.6573]], grad_fn=<AddmmBackward0>)"
            ]
          },
          "metadata": {},
          "execution_count": 54
        }
      ]
    },
    {
      "cell_type": "code",
      "source": [],
      "metadata": {
        "id": "DUHX9UwSSpQK"
      },
      "execution_count": null,
      "outputs": []
    }
  ]
}