{
  "nbformat": 4,
  "nbformat_minor": 0,
  "metadata": {
    "colab": {
      "provenance": [],
      "gpuType": "T4",
      "private_outputs": true,
      "cell_execution_strategy": "setup"
    },
    "kernelspec": {
      "name": "python3",
      "display_name": "Python 3"
    },
    "language_info": {
      "name": "python"
    },
    "accelerator": "GPU"
  },
  "cells": [
    {
      "cell_type": "code",
      "execution_count": null,
      "metadata": {
        "id": "doItOKSFYWjA"
      },
      "outputs": [],
      "source": [
        "!kaggle datasets download -d nimapourmoradi/car-plate-detection-yolov8\n"
      ]
    },
    {
      "cell_type": "code",
      "source": [
        "import zipfile\n",
        "\n",
        "# Unzip dataset\n",
        "dataset_path = \"/content/car-plate-detection-yolov8.zip\"\n",
        "with zipfile.ZipFile(dataset_path, 'r') as zip_ref:\n",
        "    zip_ref.extractall(\"/content/car_plate_dataset\")\n",
        "\n",
        "print(\"Dataset extracted successfully!\")\n"
      ],
      "metadata": {
        "id": "rhxq6AhKbS40"
      },
      "execution_count": null,
      "outputs": []
    },
    {
      "cell_type": "code",
      "source": [
        "import os\n",
        "\n",
        "# List files in the dataset folder\n",
        "dataset_dir = \"/content/car_plate_dataset\"\n",
        "print(os.listdir(dataset_dir))\n"
      ],
      "metadata": {
        "id": "t76pP6oLb7fQ"
      },
      "execution_count": null,
      "outputs": []
    },
    {
      "cell_type": "code",
      "source": [
        "import cv2\n",
        "import matplotlib.pyplot as plt\n",
        "import os\n",
        "# Load and display an image\n",
        "image_path = os.path.join(dataset_dir, \"/content/car_plate_dataset/train/images/191_png.rf.c0897bdf9fe8fec625372151bb55f304.jpg\")  # Change to a real image name\n",
        "image = cv2.imread(image_path)\n",
        "image = cv2.cvtColor(image, cv2.COLOR_BGR2RGB)\n",
        "\n",
        "plt.imshow(image)\n",
        "plt.axis(\"off\")\n",
        "plt.show()\n"
      ],
      "metadata": {
        "id": "jAcniSh7Yghw"
      },
      "execution_count": null,
      "outputs": []
    },
    {
      "cell_type": "code",
      "source": [
        "!pip install ultralytics\n"
      ],
      "metadata": {
        "id": "04S1sz8NfeiX"
      },
      "execution_count": null,
      "outputs": []
    },
    {
      "cell_type": "code",
      "source": [
        "from ultralytics import YOLO\n",
        "\n",
        "# Load the YOLOv8 model\n",
        "model = YOLO(\"yolov8n.pt\")\n",
        "\n",
        "# Train the model\n",
        "model.train(\n",
        "    data=\"/content/car_plate_dataset/data.yaml\",  # Path to dataset config file\n",
        "    epochs=10,\n",
        "    imgsz=640\n",
        ")\n",
        "\n"
      ],
      "metadata": {
        "id": "kwsINNKwYoyR"
      },
      "execution_count": null,
      "outputs": []
    },
    {
      "cell_type": "code",
      "source": [
        "metrics = model.val()\n"
      ],
      "metadata": {
        "id": "E2XUgb1oYo7p"
      },
      "execution_count": null,
      "outputs": []
    },
    {
      "cell_type": "code",
      "source": [
        "import glob\n",
        "import cv2\n",
        "import matplotlib.pyplot as plt\n",
        "\n",
        "# Get a test image\n",
        "test_images = glob.glob(\"/content/car_plate_dataset/test/images/*.jpg\")\n",
        "image_path = test_images[0]\n",
        "\n",
        "\n"
      ],
      "metadata": {
        "id": "zxc1Rnq2kUCE"
      },
      "execution_count": null,
      "outputs": []
    },
    {
      "cell_type": "code",
      "source": [
        "\n",
        "import random\n",
        "\n",
        "# Pick a random image from the test dataset\n",
        "random_image = random.choice(test_images)\n",
        "\n",
        "# Run inference\n",
        "results = model(random_image)\n",
        "\n",
        "# Show results correctly\n",
        "results[0].show()"
      ],
      "metadata": {
        "id": "cnt4PDTzkfRf"
      },
      "execution_count": null,
      "outputs": []
    },
    {
      "cell_type": "code",
      "source": [],
      "metadata": {
        "id": "2TFnqiY1lqM_"
      },
      "execution_count": null,
      "outputs": []
    }
  ]
}